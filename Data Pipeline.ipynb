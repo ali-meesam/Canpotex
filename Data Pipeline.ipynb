{
 "cells": [
  {
   "cell_type": "code",
   "execution_count": 1,
   "id": "27a8e962",
   "metadata": {},
   "outputs": [],
   "source": [
    "from datapipeline import DataFeed\n",
    "import os\n",
    "import pandas as pd\n",
    "from datetime import datetime"
   ]
  },
  {
   "cell_type": "code",
   "execution_count": 2,
   "id": "bde2dcde",
   "metadata": {},
   "outputs": [],
   "source": [
    "self = DataFeed()"
   ]
  },
  {
   "cell_type": "code",
   "execution_count": 18,
   "id": "82bb7692",
   "metadata": {},
   "outputs": [],
   "source": []
  },
  {
   "cell_type": "code",
   "execution_count": null,
   "id": "90296860",
   "metadata": {},
   "outputs": [],
   "source": []
  },
  {
   "cell_type": "code",
   "execution_count": null,
   "id": "3a6ee913",
   "metadata": {
    "scrolled": true
   },
   "outputs": [],
   "source": [
    "self.get_ethanol.head(15)"
   ]
  },
  {
   "cell_type": "code",
   "execution_count": null,
   "id": "ac8b4c6a",
   "metadata": {},
   "outputs": [],
   "source": [
    "@property\n",
    "def get_ethanol(self):\n",
    "    # Ethanol >> Quarterly Data to Monthly\n",
    "\n",
    "\n",
    "    eth_std_window = 12\n",
    "    file_name = 'E85.xlsx'\n",
    "    src_file = os.path.join(self.src,file_name)\n",
    "    f = pd.read_excel(src_file,index_col=0, parse_dates=True)\n",
    "    f[f'std_{eth_std_window}'] = f.E85.rolling(window=eth_std_window).std()\n",
    "    d = f.resample('M').last()\n",
    "    d.ffill(inplace=True)\n",
    "\n",
    "    x = d.iloc[-1]\n",
    "\n",
    "    addition = []\n",
    "    if x.name.year==self.year and x.name.month <self.month:\n",
    "        m_delta = self.month - x.name.month\n",
    "        month = x.name.month\n",
    "        eth_price = x.E85\n",
    "        eth_std = x.std_12\n",
    "        for _i in range(m_delta):\n",
    "            month += 1    \n",
    "            addition.append([datetime(year=self.year,month=month,day=1), eth_price, eth_std])\n",
    "    addition\n",
    "\n",
    "    new_df = pd.DataFrame(addition,columns = ['Survey Start Date','E85'\t,f'std_{eth_std_window}'])\n",
    "\n",
    "    new_df.set_index('Survey Start Date',inplace=True)\n",
    "\n",
    "    df = pd.concat([d,new_df])\n",
    "\n",
    "    return df"
   ]
  },
  {
   "cell_type": "code",
   "execution_count": null,
   "id": "d82c001d",
   "metadata": {},
   "outputs": [],
   "source": [
    "def get_freightCost(self):\n",
    "    std_total = 8\n",
    "    file_name = 'FreightCost.xlsx'\n",
    "    src_file = os.path.join(self.src,file_name)\n",
    "    f = pd.read_excel(src_file,index_col=0, parse_dates=True)\n",
    "    f['TotalCost'] = f.sum(axis=1)\n",
    "    \n",
    "    f[f'std_{std_total}'] = f.TotalCost.ewm(span=std_total,min_periods=std_total).std()\n",
    "    return f"
   ]
  }
 ],
 "metadata": {
  "kernelspec": {
   "display_name": "Python 3 (ipykernel)",
   "language": "python",
   "name": "python3"
  },
  "language_info": {
   "codemirror_mode": {
    "name": "ipython",
    "version": 3
   },
   "file_extension": ".py",
   "mimetype": "text/x-python",
   "name": "python",
   "nbconvert_exporter": "python",
   "pygments_lexer": "ipython3",
   "version": "3.7.13"
  }
 },
 "nbformat": 4,
 "nbformat_minor": 5
}
