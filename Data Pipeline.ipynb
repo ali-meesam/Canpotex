{
 "cells": [
  {
   "cell_type": "code",
   "execution_count": 1,
   "id": "27a8e962",
   "metadata": {},
   "outputs": [],
   "source": [
    "from datapipeline import DataFeed\n",
    "import os\n",
    "import pandas as pd\n",
    "from datetime import datetime"
   ]
  },
  {
   "cell_type": "code",
   "execution_count": 2,
   "id": "91eee09f",
   "metadata": {},
   "outputs": [],
   "source": [
    "ben_comp = pd.read_excel(\"DataFeeds/Ben_Predictions.xlsx\",index_col=0,parse_dates=True)"
   ]
  },
  {
   "cell_type": "code",
   "execution_count": 4,
   "id": "bde2dcde",
   "metadata": {},
   "outputs": [],
   "source": [
    "self = DataFeed()"
   ]
  },
  {
   "cell_type": "code",
   "execution_count": 5,
   "id": "777786c2",
   "metadata": {},
   "outputs": [],
   "source": [
    "brazil = self.get_BrazilCFR\n",
    "brazil.dropna(inplace=True)"
   ]
  },
  {
   "cell_type": "code",
   "execution_count": 6,
   "id": "2a884bbd",
   "metadata": {},
   "outputs": [],
   "source": [
    "seasia = self.get_SEAsiaCFR\n",
    "seasia.dropna(inplace=True)"
   ]
  },
  {
   "cell_type": "code",
   "execution_count": 7,
   "id": "58b28a5f",
   "metadata": {},
   "outputs": [],
   "source": [
    "foodpriceindex = self.get_food_price_index\n",
    "foodpriceindex.dropna(inplace=True)"
   ]
  },
  {
   "cell_type": "code",
   "execution_count": 8,
   "id": "da60f76d",
   "metadata": {},
   "outputs": [],
   "source": [
    "eurusd = self.get_eurusd\n",
    "eurusd.dropna(inplace=True)"
   ]
  },
  {
   "cell_type": "code",
   "execution_count": 9,
   "id": "cffcb1e9",
   "metadata": {},
   "outputs": [],
   "source": [
    "cpi = self.get_g20_cpi\n",
    "cpi.dropna(inplace=True)"
   ]
  },
  {
   "cell_type": "code",
   "execution_count": 10,
   "id": "997f4f11",
   "metadata": {},
   "outputs": [],
   "source": [
    "gdp = self.get_gdp\n",
    "gdp.dropna(inplace=True)"
   ]
  },
  {
   "cell_type": "code",
   "execution_count": 11,
   "id": "1cc87894",
   "metadata": {},
   "outputs": [],
   "source": [
    "netback = self.get_historical_netback\n",
    "netback.dropna(inplace=True)"
   ]
  },
  {
   "cell_type": "code",
   "execution_count": 12,
   "id": "da059c89",
   "metadata": {},
   "outputs": [],
   "source": [
    "minenetback = self.get_historical_mineNetback\n",
    "minenetback.dropna(inplace=True)"
   ]
  },
  {
   "cell_type": "code",
   "execution_count": 13,
   "id": "275a221b",
   "metadata": {},
   "outputs": [],
   "source": [
    "naturalgas = self.get_natural_gas\n",
    "naturalgas.dropna(inplace=True)"
   ]
  },
  {
   "cell_type": "code",
   "execution_count": 14,
   "id": "d2efd797",
   "metadata": {},
   "outputs": [],
   "source": [
    "ethanol = self.get_ethanol\n",
    "ethanol.dropna(inplace=True)"
   ]
  },
  {
   "cell_type": "code",
   "execution_count": 15,
   "id": "c9644c3a",
   "metadata": {},
   "outputs": [],
   "source": [
    "fertilizerprod = self.get_total_fertilizer_production\n",
    "# fertilizerprod.dropna(inplace=True)"
   ]
  },
  {
   "cell_type": "code",
   "execution_count": 16,
   "id": "4b6d98e2",
   "metadata": {},
   "outputs": [],
   "source": [
    "freightcost = self.get_freightCost\n",
    "freightcost.dropna(inplace=True)"
   ]
  },
  {
   "cell_type": "code",
   "execution_count": 17,
   "id": "97fe32fe",
   "metadata": {},
   "outputs": [],
   "source": [
    "interim = self.get_interimPricing\n",
    "interim.dropna(inplace=True)"
   ]
  },
  {
   "cell_type": "code",
   "execution_count": 18,
   "id": "f677e569",
   "metadata": {},
   "outputs": [],
   "source": [
    "_vars = [brazil,seasia,foodpriceindex,eurusd,cpi,gdp,netback,minenetback,naturalgas,ethanol,fertilizerprod,freightcost,interim]"
   ]
  },
  {
   "cell_type": "code",
   "execution_count": 19,
   "id": "24549641",
   "metadata": {},
   "outputs": [],
   "source": [
    "counts = [v.iloc[0].name for v in _vars]"
   ]
  },
  {
   "cell_type": "code",
   "execution_count": 20,
   "id": "15e8d35b",
   "metadata": {},
   "outputs": [],
   "source": [
    "# GET THE SMALLEST DATA SET\n",
    "times = _vars[counts.index(max(counts))].index.tolist()"
   ]
  },
  {
   "cell_type": "code",
   "execution_count": 21,
   "id": "641b78dc",
   "metadata": {},
   "outputs": [],
   "source": [
    "from models import ActualNetback, BrazilCFR"
   ]
  },
  {
   "cell_type": "code",
   "execution_count": 22,
   "id": "8951a3af",
   "metadata": {},
   "outputs": [],
   "source": [
    "curr_month = 7\n",
    "curr_year = 2022"
   ]
  },
  {
   "cell_type": "code",
   "execution_count": 23,
   "id": "e0ba59ec",
   "metadata": {},
   "outputs": [],
   "source": [
    "m = ActualNetback()"
   ]
  },
  {
   "cell_type": "code",
   "execution_count": 24,
   "id": "e925885d",
   "metadata": {},
   "outputs": [
    {
     "name": "stdout",
     "output_type": "stream",
     "text": [
      "Predicting Actual Netback >> 12 / 2021...\n",
      "Predicting MineNetback >> 12 / 2021...\n",
      "Predicting SE Asia >> 12 / 2021...\n"
     ]
    },
    {
     "name": "stderr",
     "output_type": "stream",
     "text": [
      "100%|█████████████████████████████████████| 20000/20000 [00:01<00:00, 10600.44it/s]\n"
     ]
    },
    {
     "name": "stdout",
     "output_type": "stream",
     "text": [
      "**************************************************\n",
      "        Predictions\n",
      "count  20000.000000\n",
      "mean     472.695178\n",
      "std       56.141146\n",
      "min      329.636544\n",
      "25%      432.378002\n",
      "50%      472.798998\n",
      "75%      512.381538\n",
      "max      612.229521\n",
      "**************************************************\n",
      "Max Density -->>> $472.91\n",
      "Predicting Brazil >> 12 / 2021...\n"
     ]
    },
    {
     "name": "stderr",
     "output_type": "stream",
     "text": [
      "100%|██████████████████████████████████████| 20000/20000 [00:03<00:00, 6201.06it/s]\n"
     ]
    },
    {
     "name": "stdout",
     "output_type": "stream",
     "text": [
      "**************************************************\n",
      "        Predictions\n",
      "count  20000.000000\n",
      "mean     871.816029\n",
      "std       81.799184\n",
      "min      651.234532\n",
      "25%      812.427685\n",
      "50%      873.611509\n",
      "75%      929.419712\n",
      "max     1076.290298\n",
      "**************************************************\n",
      "Max Density -->>> $882.06\n"
     ]
    },
    {
     "name": "stderr",
     "output_type": "stream",
     "text": [
      "100%|█████████████████████████████████████| 20000/20000 [00:00<00:00, 21742.00it/s]\n"
     ]
    },
    {
     "name": "stdout",
     "output_type": "stream",
     "text": [
      "**************************************************\n",
      "        Predictions\n",
      "count  20000.000000\n",
      "mean     508.606205\n",
      "std       43.969120\n",
      "min      370.912078\n",
      "25%      477.943182\n",
      "50%      508.295793\n",
      "75%      539.243375\n",
      "max      648.666020\n",
      "**************************************************\n",
      "Max Density -->>> $505.06\n"
     ]
    },
    {
     "name": "stderr",
     "output_type": "stream",
     "text": [
      "100%|█████████████████████████████████████| 20000/20000 [00:01<00:00, 13871.51it/s]\n"
     ]
    },
    {
     "name": "stdout",
     "output_type": "stream",
     "text": [
      "**************************************************\n",
      "        Predictions\n",
      "count  20000.000000\n",
      "mean     408.298596\n",
      "std       39.811789\n",
      "min      279.018598\n",
      "25%      380.311250\n",
      "50%      408.089901\n",
      "75%      435.921730\n",
      "max      540.212561\n",
      "**************************************************\n",
      "Max Density -->>> $403.08\n",
      "Predicting Actual Netback >> 1 / 2022...\n",
      "Predicting MineNetback >> 1 / 2022...\n",
      "Predicting SE Asia >> 1 / 2022...\n"
     ]
    },
    {
     "name": "stderr",
     "output_type": "stream",
     "text": [
      "100%|█████████████████████████████████████| 20000/20000 [00:01<00:00, 11027.05it/s]\n"
     ]
    },
    {
     "name": "stdout",
     "output_type": "stream",
     "text": [
      "**************************************************\n",
      "        Predictions\n",
      "count  20000.000000\n",
      "mean     479.583441\n",
      "std       57.578768\n",
      "min      336.273733\n",
      "25%      438.174068\n",
      "50%      479.673794\n",
      "75%      520.681112\n",
      "max      625.880912\n",
      "**************************************************\n",
      "Max Density -->>> $479.63\n",
      "Predicting Brazil >> 1 / 2022...\n"
     ]
    },
    {
     "name": "stderr",
     "output_type": "stream",
     "text": [
      "100%|██████████████████████████████████████| 20000/20000 [00:03<00:00, 6399.44it/s]\n"
     ]
    },
    {
     "name": "stdout",
     "output_type": "stream",
     "text": [
      "**************************************************\n",
      "        Predictions\n",
      "count  20000.000000\n",
      "mean     870.447371\n",
      "std       78.871986\n",
      "min      669.324196\n",
      "25%      813.752575\n",
      "50%      870.169732\n",
      "75%      927.227805\n",
      "max     1069.465437\n",
      "**************************************************\n",
      "Max Density -->>> $872.2\n"
     ]
    },
    {
     "name": "stderr",
     "output_type": "stream",
     "text": [
      "100%|█████████████████████████████████████| 20000/20000 [00:00<00:00, 21753.48it/s]\n"
     ]
    },
    {
     "name": "stdout",
     "output_type": "stream",
     "text": [
      "**************************************************\n",
      "        Predictions\n",
      "count  20000.000000\n",
      "mean     501.791557\n",
      "std       43.726159\n",
      "min      359.063975\n",
      "25%      471.362506\n",
      "50%      502.312861\n",
      "75%      532.549704\n",
      "max      643.793726\n",
      "**************************************************\n",
      "Max Density -->>> $505.7\n"
     ]
    },
    {
     "name": "stderr",
     "output_type": "stream",
     "text": [
      "100%|█████████████████████████████████████| 20000/20000 [00:01<00:00, 13490.45it/s]\n"
     ]
    },
    {
     "name": "stdout",
     "output_type": "stream",
     "text": [
      "**************************************************\n",
      "        Predictions\n",
      "count  20000.000000\n",
      "mean     522.404988\n",
      "std       45.683649\n",
      "min      371.938576\n",
      "25%      490.573298\n",
      "50%      522.313600\n",
      "75%      554.718498\n",
      "max      677.804488\n",
      "**************************************************\n",
      "Max Density -->>> $514.77\n",
      "Predicting Actual Netback >> 2 / 2022...\n",
      "Predicting MineNetback >> 2 / 2022...\n",
      "Predicting SE Asia >> 2 / 2022...\n"
     ]
    },
    {
     "name": "stderr",
     "output_type": "stream",
     "text": [
      "100%|█████████████████████████████████████| 20000/20000 [00:01<00:00, 11024.35it/s]\n"
     ]
    },
    {
     "name": "stdout",
     "output_type": "stream",
     "text": [
      "**************************************************\n",
      "        Predictions\n",
      "count  20000.000000\n",
      "mean     494.809200\n",
      "std       57.126057\n",
      "min      352.731969\n",
      "25%      453.833378\n",
      "50%      494.988005\n",
      "75%      535.907264\n",
      "max      633.402337\n",
      "**************************************************\n",
      "Max Density -->>> $491.66\n",
      "Predicting Brazil >> 2 / 2022...\n"
     ]
    },
    {
     "name": "stderr",
     "output_type": "stream",
     "text": [
      "100%|██████████████████████████████████████| 20000/20000 [00:03<00:00, 6466.03it/s]\n"
     ]
    },
    {
     "name": "stdout",
     "output_type": "stream",
     "text": [
      "**************************************************\n",
      "        Predictions\n",
      "count  20000.000000\n",
      "mean     854.806623\n",
      "std       73.771848\n",
      "min      666.514806\n",
      "25%      802.170421\n",
      "50%      854.924707\n",
      "75%      906.895873\n",
      "max     1042.650096\n",
      "**************************************************\n",
      "Max Density -->>> $852.7\n"
     ]
    },
    {
     "name": "stderr",
     "output_type": "stream",
     "text": [
      "100%|█████████████████████████████████████| 20000/20000 [00:00<00:00, 21385.70it/s]\n"
     ]
    },
    {
     "name": "stdout",
     "output_type": "stream",
     "text": [
      "**************************************************\n",
      "        Predictions\n",
      "count  20000.000000\n",
      "mean     493.621436\n",
      "std       41.709405\n",
      "min      360.186261\n",
      "25%      464.451772\n",
      "50%      493.551353\n",
      "75%      523.158740\n",
      "max      629.648113\n",
      "**************************************************\n",
      "Max Density -->>> $489.79\n"
     ]
    },
    {
     "name": "stderr",
     "output_type": "stream",
     "text": [
      "100%|█████████████████████████████████████| 20000/20000 [00:01<00:00, 14070.46it/s]\n"
     ]
    },
    {
     "name": "stdout",
     "output_type": "stream",
     "text": [
      "**************************************************\n",
      "        Predictions\n",
      "count  20000.000000\n",
      "mean     543.505593\n",
      "std       51.025543\n",
      "min      372.329933\n",
      "25%      508.136711\n",
      "50%      543.145966\n",
      "75%      580.043615\n",
      "max      700.191460\n",
      "**************************************************\n",
      "Max Density -->>> $541.84\n",
      "Predicting Actual Netback >> 3 / 2022...\n",
      "Predicting MineNetback >> 3 / 2022...\n",
      "Predicting SE Asia >> 3 / 2022...\n"
     ]
    },
    {
     "name": "stderr",
     "output_type": "stream",
     "text": [
      "100%|█████████████████████████████████████| 20000/20000 [00:01<00:00, 11012.87it/s]\n"
     ]
    },
    {
     "name": "stdout",
     "output_type": "stream",
     "text": [
      "**************************************************\n",
      "        Predictions\n",
      "count  20000.000000\n",
      "mean     634.378210\n",
      "std       60.184738\n",
      "min      484.310475\n",
      "25%      591.480340\n",
      "50%      634.833184\n",
      "75%      677.136717\n",
      "max      784.288697\n",
      "**************************************************\n",
      "Max Density -->>> $639.4\n",
      "Predicting Brazil >> 3 / 2022...\n"
     ]
    },
    {
     "name": "stderr",
     "output_type": "stream",
     "text": [
      "100%|██████████████████████████████████████| 20000/20000 [00:03<00:00, 6524.38it/s]\n"
     ]
    },
    {
     "name": "stdout",
     "output_type": "stream",
     "text": [
      "**************************************************\n",
      "        Predictions\n",
      "count  20000.000000\n",
      "mean    1094.026179\n",
      "std       75.550352\n",
      "min      897.284078\n",
      "25%     1039.443994\n",
      "50%     1094.114319\n",
      "75%     1148.534783\n",
      "max     1293.214972\n",
      "**************************************************\n",
      "Max Density -->>> $1093.27\n"
     ]
    },
    {
     "name": "stderr",
     "output_type": "stream",
     "text": [
      "100%|█████████████████████████████████████| 20000/20000 [00:00<00:00, 21935.91it/s]\n"
     ]
    },
    {
     "name": "stdout",
     "output_type": "stream",
     "text": [
      "**************************************************\n",
      "        Predictions\n",
      "count  20000.000000\n",
      "mean     640.863351\n",
      "std       43.209486\n",
      "min      504.459591\n",
      "25%      610.482355\n",
      "50%      641.118003\n",
      "75%      670.735723\n",
      "max      784.911486\n",
      "**************************************************\n",
      "Max Density -->>> $642.16\n"
     ]
    },
    {
     "name": "stderr",
     "output_type": "stream",
     "text": [
      "100%|█████████████████████████████████████| 20000/20000 [00:01<00:00, 13802.92it/s]\n"
     ]
    },
    {
     "name": "stdout",
     "output_type": "stream",
     "text": [
      "**************************************************\n",
      "        Predictions\n",
      "count  20000.000000\n",
      "mean     612.841021\n",
      "std       54.894543\n",
      "min      444.897358\n",
      "25%      574.232531\n",
      "50%      612.554794\n",
      "75%      651.801927\n",
      "max      783.415052\n",
      "**************************************************\n",
      "Max Density -->>> $608.4\n",
      "Predicting Actual Netback >> 4 / 2022...\n",
      "Predicting MineNetback >> 4 / 2022...\n",
      "Predicting SE Asia >> 4 / 2022...\n"
     ]
    },
    {
     "name": "stderr",
     "output_type": "stream",
     "text": [
      "100%|█████████████████████████████████████| 20000/20000 [00:01<00:00, 10916.90it/s]\n"
     ]
    },
    {
     "name": "stdout",
     "output_type": "stream",
     "text": [
      "**************************************************\n",
      "        Predictions\n",
      "count  20000.000000\n",
      "mean     830.594061\n",
      "std       71.615253\n",
      "min      650.722010\n",
      "25%      779.426754\n",
      "50%      829.769011\n",
      "75%      882.148370\n",
      "max     1012.837390\n",
      "**************************************************\n",
      "Max Density -->>> $827.07\n",
      "Predicting Brazil >> 4 / 2022...\n"
     ]
    },
    {
     "name": "stderr",
     "output_type": "stream",
     "text": [
      "100%|██████████████████████████████████████| 20000/20000 [00:03<00:00, 6414.15it/s]\n"
     ]
    },
    {
     "name": "stdout",
     "output_type": "stream",
     "text": [
      "**************************************************\n",
      "        Predictions\n",
      "count  20000.000000\n",
      "mean    1273.363584\n",
      "std       81.491614\n",
      "min     1063.652016\n",
      "25%     1215.253697\n",
      "50%     1272.757804\n",
      "75%     1332.137328\n",
      "max     1481.448509\n",
      "**************************************************\n",
      "Max Density -->>> $1271.3\n"
     ]
    },
    {
     "name": "stderr",
     "output_type": "stream",
     "text": [
      "100%|█████████████████████████████████████| 20000/20000 [00:00<00:00, 22433.94it/s]\n"
     ]
    },
    {
     "name": "stdout",
     "output_type": "stream",
     "text": [
      "**************************************************\n",
      "        Predictions\n",
      "count  20000.000000\n",
      "mean     820.700061\n",
      "std       49.254312\n",
      "min      666.938230\n",
      "25%      786.433616\n",
      "50%      821.010852\n",
      "75%      855.161307\n",
      "max      978.907908\n",
      "**************************************************\n",
      "Max Density -->>> $823.24\n"
     ]
    },
    {
     "name": "stderr",
     "output_type": "stream",
     "text": [
      "100%|█████████████████████████████████████| 20000/20000 [00:01<00:00, 13991.20it/s]\n"
     ]
    },
    {
     "name": "stdout",
     "output_type": "stream",
     "text": [
      "**************************************************\n",
      "        Predictions\n",
      "count  20000.000000\n",
      "mean     661.023175\n",
      "std       58.699689\n",
      "min      477.273850\n",
      "25%      619.791679\n",
      "50%      661.686027\n",
      "75%      702.631079\n",
      "max      854.649235\n",
      "**************************************************\n",
      "Max Density -->>> $667.09\n",
      "Predicting Actual Netback >> 5 / 2022...\n",
      "Predicting MineNetback >> 5 / 2022...\n",
      "Predicting SE Asia >> 5 / 2022...\n"
     ]
    },
    {
     "name": "stderr",
     "output_type": "stream",
     "text": [
      "100%|█████████████████████████████████████| 20000/20000 [00:01<00:00, 11050.84it/s]\n"
     ]
    },
    {
     "name": "stdout",
     "output_type": "stream",
     "text": [
      "**************************************************\n",
      "        Predictions\n",
      "count  20000.000000\n",
      "mean     854.643244\n",
      "std       75.248612\n",
      "min      660.494033\n",
      "25%      801.333479\n",
      "50%      854.335743\n",
      "75%      908.446004\n",
      "max     1043.661831\n",
      "**************************************************\n",
      "Max Density -->>> $854.0\n",
      "Predicting Brazil >> 5 / 2022...\n"
     ]
    },
    {
     "name": "stderr",
     "output_type": "stream",
     "text": [
      "100%|██████████████████████████████████████| 20000/20000 [00:03<00:00, 6514.94it/s]\n"
     ]
    },
    {
     "name": "stdout",
     "output_type": "stream",
     "text": [
      "**************************************************\n",
      "        Predictions\n",
      "count  20000.000000\n",
      "mean    1273.055608\n",
      "std       79.072183\n",
      "min     1063.561440\n",
      "25%     1216.631214\n",
      "50%     1273.170871\n",
      "75%     1329.560355\n",
      "max     1497.441713\n",
      "**************************************************\n",
      "Max Density -->>> $1273.99\n"
     ]
    },
    {
     "name": "stderr",
     "output_type": "stream",
     "text": [
      "100%|█████████████████████████████████████| 20000/20000 [00:00<00:00, 22417.95it/s]\n"
     ]
    },
    {
     "name": "stdout",
     "output_type": "stream",
     "text": [
      "**************************************************\n",
      "        Predictions\n",
      "count  20000.000000\n",
      "mean     828.473472\n",
      "std       49.216001\n",
      "min      667.760922\n",
      "25%      793.884194\n",
      "50%      828.540087\n",
      "75%      862.725526\n",
      "max      979.454738\n",
      "**************************************************\n",
      "Max Density -->>> $833.28\n"
     ]
    },
    {
     "name": "stderr",
     "output_type": "stream",
     "text": [
      "100%|█████████████████████████████████████| 20000/20000 [00:01<00:00, 13994.22it/s]\n"
     ]
    },
    {
     "name": "stdout",
     "output_type": "stream",
     "text": [
      "**************************************************\n",
      "        Predictions\n",
      "count  20000.000000\n",
      "mean     696.035350\n",
      "std       60.661439\n",
      "min      505.984238\n",
      "25%      653.852719\n",
      "50%      696.073034\n",
      "75%      738.204193\n",
      "max      890.330557\n",
      "**************************************************\n",
      "Max Density -->>> $703.93\n",
      "Predicting Actual Netback >> 6 / 2022...\n",
      "Predicting MineNetback >> 6 / 2022...\n",
      "Predicting SE Asia >> 6 / 2022...\n"
     ]
    },
    {
     "name": "stderr",
     "output_type": "stream",
     "text": [
      "100%|█████████████████████████████████████| 20000/20000 [00:01<00:00, 10264.32it/s]\n"
     ]
    },
    {
     "name": "stdout",
     "output_type": "stream",
     "text": [
      "**************************************************\n",
      "        Predictions\n",
      "count  20000.000000\n",
      "mean     851.340630\n",
      "std       74.775885\n",
      "min      657.833084\n",
      "25%      797.767252\n",
      "50%      851.354568\n",
      "75%      905.337040\n",
      "max     1045.370780\n",
      "**************************************************\n",
      "Max Density -->>> $854.32\n",
      "Predicting Brazil >> 6 / 2022...\n"
     ]
    },
    {
     "name": "stderr",
     "output_type": "stream",
     "text": [
      "100%|██████████████████████████████████████| 20000/20000 [00:03<00:00, 6527.35it/s]\n"
     ]
    },
    {
     "name": "stdout",
     "output_type": "stream",
     "text": [
      "**************************************************\n",
      "        Predictions\n",
      "count  20000.000000\n",
      "mean    1170.430834\n",
      "std       72.046095\n",
      "min      958.763083\n",
      "25%     1119.182065\n",
      "50%     1169.874457\n",
      "75%     1222.110286\n",
      "max     1374.299930\n",
      "**************************************************\n",
      "Max Density -->>> $1166.12\n"
     ]
    },
    {
     "name": "stderr",
     "output_type": "stream",
     "text": [
      "100%|█████████████████████████████████████| 20000/20000 [00:00<00:00, 22535.04it/s]\n"
     ]
    },
    {
     "name": "stdout",
     "output_type": "stream",
     "text": [
      "**************************************************\n",
      "        Predictions\n",
      "count  20000.000000\n",
      "mean     788.364753\n",
      "std       47.063707\n",
      "min      638.931949\n",
      "25%      755.430633\n",
      "50%      788.556418\n",
      "75%      821.188054\n",
      "max      936.363862\n",
      "**************************************************\n",
      "Max Density -->>> $786.16\n"
     ]
    },
    {
     "name": "stderr",
     "output_type": "stream",
     "text": [
      "100%|█████████████████████████████████████| 20000/20000 [00:01<00:00, 13908.80it/s]\n"
     ]
    },
    {
     "name": "stdout",
     "output_type": "stream",
     "text": [
      "**************************************************\n",
      "        Predictions\n",
      "count  20000.000000\n",
      "mean     729.903889\n",
      "std       62.031616\n",
      "min      537.642007\n",
      "25%      685.597351\n",
      "50%      729.866143\n",
      "75%      773.941692\n",
      "max      930.277987\n",
      "**************************************************\n",
      "Max Density -->>> $728.85\n",
      "Predicting Actual Netback >> 7 / 2022...\n",
      "Predicting MineNetback >> 7 / 2022...\n",
      "Predicting SE Asia >> 7 / 2022...\n"
     ]
    },
    {
     "name": "stderr",
     "output_type": "stream",
     "text": [
      "100%|█████████████████████████████████████| 20000/20000 [00:01<00:00, 10752.50it/s]\n"
     ]
    },
    {
     "name": "stdout",
     "output_type": "stream",
     "text": [
      "**************************************************\n",
      "        Predictions\n",
      "count  20000.000000\n",
      "mean     833.134157\n",
      "std       70.878176\n",
      "min      651.694894\n",
      "25%      782.406970\n",
      "50%      833.126735\n",
      "75%      883.184638\n",
      "max     1016.614838\n",
      "**************************************************\n",
      "Max Density -->>> $836.71\n",
      "Predicting Brazil >> 7 / 2022...\n"
     ]
    },
    {
     "name": "stderr",
     "output_type": "stream",
     "text": [
      "100%|██████████████████████████████████████| 20000/20000 [00:03<00:00, 6509.30it/s]\n"
     ]
    },
    {
     "name": "stdout",
     "output_type": "stream",
     "text": [
      "**************************************************\n",
      "        Predictions\n",
      "count  20000.000000\n",
      "mean    1093.494558\n",
      "std       67.014634\n",
      "min      893.907523\n",
      "25%     1045.324757\n",
      "50%     1093.303508\n",
      "75%     1141.166644\n",
      "max     1283.362196\n",
      "**************************************************\n",
      "Max Density -->>> $1088.25\n"
     ]
    },
    {
     "name": "stderr",
     "output_type": "stream",
     "text": [
      "100%|█████████████████████████████████████| 20000/20000 [00:00<00:00, 22371.51it/s]\n"
     ]
    },
    {
     "name": "stdout",
     "output_type": "stream",
     "text": [
      "**************************************************\n",
      "        Predictions\n",
      "count  20000.000000\n",
      "mean     771.293811\n",
      "std       43.968550\n",
      "min      627.230586\n",
      "25%      740.301552\n",
      "50%      771.068956\n",
      "75%      802.480794\n",
      "max      909.123853\n",
      "**************************************************\n",
      "Max Density -->>> $765.64\n"
     ]
    },
    {
     "name": "stderr",
     "output_type": "stream",
     "text": [
      "100%|█████████████████████████████████████| 20000/20000 [00:01<00:00, 13828.11it/s]\n"
     ]
    },
    {
     "name": "stdout",
     "output_type": "stream",
     "text": [
      "**************************************************\n",
      "        Predictions\n",
      "count  20000.000000\n",
      "mean     696.354826\n",
      "std       60.561287\n",
      "min      508.030672\n",
      "25%      653.494703\n",
      "50%      696.795749\n",
      "75%      739.268322\n",
      "max      888.821050\n",
      "**************************************************\n",
      "Max Density -->>> $703.38\n",
      "Predicting Actual Netback >> 1 / 2023...\n",
      "Predicting MineNetback >> 1 / 2023...\n",
      "Predicting SE Asia >> 1 / 2023...\n"
     ]
    },
    {
     "ename": "IndexError",
     "evalue": "single positional indexer is out-of-bounds",
     "output_type": "error",
     "traceback": [
      "\u001b[1;31m---------------------------------------------------------------------------\u001b[0m",
      "\u001b[1;31mIndexError\u001b[0m                                Traceback (most recent call last)",
      "Input \u001b[1;32mIn [24]\u001b[0m, in \u001b[0;36m<cell line: 2>\u001b[1;34m()\u001b[0m\n\u001b[0;32m      7\u001b[0m         predictions\u001b[38;5;241m.\u001b[39mappend([year,month,m\u001b[38;5;241m.\u001b[39mpredict(month,year)])\n\u001b[0;32m      8\u001b[0m \u001b[38;5;28;01melse\u001b[39;00m:\n\u001b[1;32m----> 9\u001b[0m     predictions\u001b[38;5;241m.\u001b[39mappend([year,month,\u001b[43mm\u001b[49m\u001b[38;5;241;43m.\u001b[39;49m\u001b[43mpredict\u001b[49m\u001b[43m(\u001b[49m\u001b[43mmonth\u001b[49m\u001b[43m,\u001b[49m\u001b[43myear\u001b[49m\u001b[43m)\u001b[49m])\n",
      "File \u001b[1;32m~\\Dev\\Canpotex\\models.py:341\u001b[0m, in \u001b[0;36mActualNetback.predict\u001b[1;34m(self, month, year)\u001b[0m\n\u001b[0;32m    339\u001b[0m qDummy \u001b[38;5;241m=\u001b[39m \u001b[38;5;28mself\u001b[39m\u001b[38;5;241m.\u001b[39mquarterly_dummy(month\u001b[38;5;241m=\u001b[39mmonth)\n\u001b[0;32m    340\u001b[0m \u001b[38;5;66;03m# MINE NETBACK\u001b[39;00m\n\u001b[1;32m--> 341\u001b[0m mineNetback_predict \u001b[38;5;241m=\u001b[39m \u001b[43mMineNetBack\u001b[49m\u001b[43m(\u001b[49m\u001b[43m)\u001b[49m\u001b[38;5;241;43m.\u001b[39;49m\u001b[43mpredict\u001b[49m\u001b[43m(\u001b[49m\u001b[43mmonth\u001b[49m\u001b[38;5;241;43m=\u001b[39;49m\u001b[43mmonth\u001b[49m\u001b[43m,\u001b[49m\u001b[43myear\u001b[49m\u001b[38;5;241;43m=\u001b[39;49m\u001b[43myear\u001b[49m\u001b[43m)\u001b[49m\n\u001b[0;32m    342\u001b[0m mine_netbacks \u001b[38;5;241m=\u001b[39m \u001b[38;5;28mself\u001b[39m\u001b[38;5;241m.\u001b[39mget_historical_mineNetback\n\u001b[0;32m    343\u001b[0m mine_netbacks \u001b[38;5;241m=\u001b[39m mine_netbacks[(mine_netbacks\u001b[38;5;241m.\u001b[39mindex\u001b[38;5;241m.\u001b[39mmonth\u001b[38;5;241m==\u001b[39m\u001b[38;5;28mself\u001b[39m\u001b[38;5;241m.\u001b[39mmonth) \u001b[38;5;241m&\u001b[39m (mine_netbacks\u001b[38;5;241m.\u001b[39mindex\u001b[38;5;241m.\u001b[39myear\u001b[38;5;241m==\u001b[39m\u001b[38;5;28mself\u001b[39m\u001b[38;5;241m.\u001b[39myear)]\u001b[38;5;241m.\u001b[39miloc[\u001b[38;5;241m-\u001b[39m\u001b[38;5;241m1\u001b[39m]\n",
      "File \u001b[1;32m~\\Dev\\Canpotex\\models.py:277\u001b[0m, in \u001b[0;36mMineNetBack.predict\u001b[1;34m(self, month, year)\u001b[0m\n\u001b[0;32m    275\u001b[0m \u001b[38;5;28mprint\u001b[39m(\u001b[38;5;124mf\u001b[39m\u001b[38;5;124m\"\u001b[39m\u001b[38;5;124mPredicting MineNetback >> \u001b[39m\u001b[38;5;132;01m{\u001b[39;00m\u001b[38;5;28mself\u001b[39m\u001b[38;5;241m.\u001b[39mmonth\u001b[38;5;132;01m}\u001b[39;00m\u001b[38;5;124m / \u001b[39m\u001b[38;5;132;01m{\u001b[39;00m\u001b[38;5;28mself\u001b[39m\u001b[38;5;241m.\u001b[39myear\u001b[38;5;132;01m}\u001b[39;00m\u001b[38;5;124m...\u001b[39m\u001b[38;5;124m\"\u001b[39m)\n\u001b[0;32m    276\u001b[0m \u001b[38;5;66;03m# SE ASIA\u001b[39;00m\n\u001b[1;32m--> 277\u001b[0m seasia_predict \u001b[38;5;241m=\u001b[39m \u001b[43mSEAsiaCFR\u001b[49m\u001b[43m(\u001b[49m\u001b[43m)\u001b[49m\u001b[38;5;241;43m.\u001b[39;49m\u001b[43mpredict\u001b[49m\u001b[43m(\u001b[49m\u001b[43mmonth\u001b[49m\u001b[38;5;241;43m=\u001b[39;49m\u001b[43mmonth\u001b[49m\u001b[43m,\u001b[49m\u001b[43myear\u001b[49m\u001b[38;5;241;43m=\u001b[39;49m\u001b[43myear\u001b[49m\u001b[43m)\u001b[49m\n\u001b[0;32m    278\u001b[0m seasia_cfr \u001b[38;5;241m=\u001b[39m \u001b[38;5;28mself\u001b[39m\u001b[38;5;241m.\u001b[39mget_SEAsiaCFR\n\u001b[0;32m    279\u001b[0m seasia_std \u001b[38;5;241m=\u001b[39m seasia_cfr[(seasia_cfr\u001b[38;5;241m.\u001b[39mindex\u001b[38;5;241m.\u001b[39mmonth\u001b[38;5;241m==\u001b[39m\u001b[38;5;28mself\u001b[39m\u001b[38;5;241m.\u001b[39mmonth) \u001b[38;5;241m&\u001b[39m (seasia_cfr\u001b[38;5;241m.\u001b[39mindex\u001b[38;5;241m.\u001b[39myear\u001b[38;5;241m==\u001b[39m\u001b[38;5;28mself\u001b[39m\u001b[38;5;241m.\u001b[39myear)]\u001b[38;5;241m.\u001b[39mstd_1\u001b[38;5;241m.\u001b[39miloc[\u001b[38;5;241m-\u001b[39m\u001b[38;5;241m1\u001b[39m]\n",
      "File \u001b[1;32m~\\Dev\\Canpotex\\models.py:228\u001b[0m, in \u001b[0;36mSEAsiaCFR.predict\u001b[1;34m(self, month, year)\u001b[0m\n\u001b[0;32m    226\u001b[0m g \u001b[38;5;241m=\u001b[39m gdp[(gdp\u001b[38;5;241m.\u001b[39mindex\u001b[38;5;241m.\u001b[39mmonth\u001b[38;5;241m==\u001b[39m\u001b[38;5;28mself\u001b[39m\u001b[38;5;241m.\u001b[39mmonth) \u001b[38;5;241m&\u001b[39m (gdp\u001b[38;5;241m.\u001b[39mindex\u001b[38;5;241m.\u001b[39myear\u001b[38;5;241m==\u001b[39m\u001b[38;5;28mself\u001b[39m\u001b[38;5;241m.\u001b[39myear)]\u001b[38;5;241m.\u001b[39miloc[\u001b[38;5;241m-\u001b[39m\u001b[38;5;241m1\u001b[39m]\n\u001b[0;32m    227\u001b[0m \u001b[38;5;66;03m# EURUSD\u001b[39;00m\n\u001b[1;32m--> 228\u001b[0m e \u001b[38;5;241m=\u001b[39m \u001b[43meurusd\u001b[49m\u001b[43m[\u001b[49m\u001b[43m(\u001b[49m\u001b[43meurusd\u001b[49m\u001b[38;5;241;43m.\u001b[39;49m\u001b[43mindex\u001b[49m\u001b[38;5;241;43m.\u001b[39;49m\u001b[43mmonth\u001b[49m\u001b[38;5;241;43m==\u001b[39;49m\u001b[38;5;28;43mself\u001b[39;49m\u001b[38;5;241;43m.\u001b[39;49m\u001b[43mmonth\u001b[49m\u001b[43m)\u001b[49m\u001b[43m \u001b[49m\u001b[38;5;241;43m&\u001b[39;49m\u001b[43m \u001b[49m\u001b[43m(\u001b[49m\u001b[43meurusd\u001b[49m\u001b[38;5;241;43m.\u001b[39;49m\u001b[43mindex\u001b[49m\u001b[38;5;241;43m.\u001b[39;49m\u001b[43myear\u001b[49m\u001b[38;5;241;43m==\u001b[39;49m\u001b[38;5;28;43mself\u001b[39;49m\u001b[38;5;241;43m.\u001b[39;49m\u001b[43myear\u001b[49m\u001b[43m)\u001b[49m\u001b[43m]\u001b[49m\u001b[38;5;241;43m.\u001b[39;49m\u001b[43miloc\u001b[49m\u001b[43m[\u001b[49m\u001b[38;5;241;43m-\u001b[39;49m\u001b[38;5;241;43m1\u001b[39;49m\u001b[43m]\u001b[49m\n\u001b[0;32m    229\u001b[0m \u001b[38;5;66;03m# FERTILIZER PRODUCTION\u001b[39;00m\n\u001b[0;32m    230\u001b[0m fert \u001b[38;5;241m=\u001b[39m fertprod[(fertprod\u001b[38;5;241m.\u001b[39mindex\u001b[38;5;241m.\u001b[39mmonth\u001b[38;5;241m==\u001b[39m\u001b[38;5;28mself\u001b[39m\u001b[38;5;241m.\u001b[39mmonth) \u001b[38;5;241m&\u001b[39m (fertprod\u001b[38;5;241m.\u001b[39mindex\u001b[38;5;241m.\u001b[39myear\u001b[38;5;241m==\u001b[39m\u001b[38;5;28mself\u001b[39m\u001b[38;5;241m.\u001b[39myear)]\u001b[38;5;241m.\u001b[39miloc[\u001b[38;5;241m-\u001b[39m\u001b[38;5;241m1\u001b[39m]\n",
      "File \u001b[1;32m~\\AppData\\Roaming\\Python\\Python310\\site-packages\\pandas\\core\\indexing.py:967\u001b[0m, in \u001b[0;36m_LocationIndexer.__getitem__\u001b[1;34m(self, key)\u001b[0m\n\u001b[0;32m    964\u001b[0m axis \u001b[38;5;241m=\u001b[39m \u001b[38;5;28mself\u001b[39m\u001b[38;5;241m.\u001b[39maxis \u001b[38;5;129;01mor\u001b[39;00m \u001b[38;5;241m0\u001b[39m\n\u001b[0;32m    966\u001b[0m maybe_callable \u001b[38;5;241m=\u001b[39m com\u001b[38;5;241m.\u001b[39mapply_if_callable(key, \u001b[38;5;28mself\u001b[39m\u001b[38;5;241m.\u001b[39mobj)\n\u001b[1;32m--> 967\u001b[0m \u001b[38;5;28;01mreturn\u001b[39;00m \u001b[38;5;28;43mself\u001b[39;49m\u001b[38;5;241;43m.\u001b[39;49m\u001b[43m_getitem_axis\u001b[49m\u001b[43m(\u001b[49m\u001b[43mmaybe_callable\u001b[49m\u001b[43m,\u001b[49m\u001b[43m \u001b[49m\u001b[43maxis\u001b[49m\u001b[38;5;241;43m=\u001b[39;49m\u001b[43maxis\u001b[49m\u001b[43m)\u001b[49m\n",
      "File \u001b[1;32m~\\AppData\\Roaming\\Python\\Python310\\site-packages\\pandas\\core\\indexing.py:1520\u001b[0m, in \u001b[0;36m_iLocIndexer._getitem_axis\u001b[1;34m(self, key, axis)\u001b[0m\n\u001b[0;32m   1517\u001b[0m     \u001b[38;5;28;01mraise\u001b[39;00m \u001b[38;5;167;01mTypeError\u001b[39;00m(\u001b[38;5;124m\"\u001b[39m\u001b[38;5;124mCannot index by location index with a non-integer key\u001b[39m\u001b[38;5;124m\"\u001b[39m)\n\u001b[0;32m   1519\u001b[0m \u001b[38;5;66;03m# validate the location\u001b[39;00m\n\u001b[1;32m-> 1520\u001b[0m \u001b[38;5;28;43mself\u001b[39;49m\u001b[38;5;241;43m.\u001b[39;49m\u001b[43m_validate_integer\u001b[49m\u001b[43m(\u001b[49m\u001b[43mkey\u001b[49m\u001b[43m,\u001b[49m\u001b[43m \u001b[49m\u001b[43maxis\u001b[49m\u001b[43m)\u001b[49m\n\u001b[0;32m   1522\u001b[0m \u001b[38;5;28;01mreturn\u001b[39;00m \u001b[38;5;28mself\u001b[39m\u001b[38;5;241m.\u001b[39mobj\u001b[38;5;241m.\u001b[39m_ixs(key, axis\u001b[38;5;241m=\u001b[39maxis)\n",
      "File \u001b[1;32m~\\AppData\\Roaming\\Python\\Python310\\site-packages\\pandas\\core\\indexing.py:1452\u001b[0m, in \u001b[0;36m_iLocIndexer._validate_integer\u001b[1;34m(self, key, axis)\u001b[0m\n\u001b[0;32m   1450\u001b[0m len_axis \u001b[38;5;241m=\u001b[39m \u001b[38;5;28mlen\u001b[39m(\u001b[38;5;28mself\u001b[39m\u001b[38;5;241m.\u001b[39mobj\u001b[38;5;241m.\u001b[39m_get_axis(axis))\n\u001b[0;32m   1451\u001b[0m \u001b[38;5;28;01mif\u001b[39;00m key \u001b[38;5;241m>\u001b[39m\u001b[38;5;241m=\u001b[39m len_axis \u001b[38;5;129;01mor\u001b[39;00m key \u001b[38;5;241m<\u001b[39m \u001b[38;5;241m-\u001b[39mlen_axis:\n\u001b[1;32m-> 1452\u001b[0m     \u001b[38;5;28;01mraise\u001b[39;00m \u001b[38;5;167;01mIndexError\u001b[39;00m(\u001b[38;5;124m\"\u001b[39m\u001b[38;5;124msingle positional indexer is out-of-bounds\u001b[39m\u001b[38;5;124m\"\u001b[39m)\n",
      "\u001b[1;31mIndexError\u001b[0m: single positional indexer is out-of-bounds"
     ]
    }
   ],
   "source": [
    "predictions = []\n",
    "for t in times:\n",
    "    month = t.month\n",
    "    year = t.year\n",
    "    if year==curr_year:\n",
    "        if month<=curr_month:\n",
    "            predictions.append([year,month,m.predict(month,year)])\n",
    "    else:\n",
    "        predictions.append([year,month,m.predict(month,year)])"
   ]
  },
  {
   "cell_type": "code",
   "execution_count": 25,
   "id": "d2708345",
   "metadata": {},
   "outputs": [],
   "source": [
    "netback_comparison = pd.DataFrame(predictions,columns=['Year','Month','Prediction'])\n",
    "netback_comparison['Interim']= interim[-len(netback_comparison):].InterimPricing.values\n",
    "\n",
    "# No need to shift since actual is realized by month end\n",
    "# netback_comparison['Prediction'] = netback_comparison.Prediction.shift(1)\n",
    "\n",
    "netback_comparison['Actual'] = netback[-len(netback_comparison):]['Netback ($/tonne)'].values"
   ]
  },
  {
   "cell_type": "code",
   "execution_count": 32,
   "id": "2ea463d5",
   "metadata": {},
   "outputs": [],
   "source": [
    "netback_comparison['BenPrediction'] = ben_comp.iloc[-len(netback_comparison):].values"
   ]
  },
  {
   "cell_type": "code",
   "execution_count": 33,
   "id": "9b8abe3e",
   "metadata": {},
   "outputs": [
    {
     "data": {
      "text/html": [
       "<div>\n",
       "<style scoped>\n",
       "    .dataframe tbody tr th:only-of-type {\n",
       "        vertical-align: middle;\n",
       "    }\n",
       "\n",
       "    .dataframe tbody tr th {\n",
       "        vertical-align: top;\n",
       "    }\n",
       "\n",
       "    .dataframe thead th {\n",
       "        text-align: right;\n",
       "    }\n",
       "</style>\n",
       "<table border=\"1\" class=\"dataframe\">\n",
       "  <thead>\n",
       "    <tr style=\"text-align: right;\">\n",
       "      <th></th>\n",
       "      <th>Year</th>\n",
       "      <th>Month</th>\n",
       "      <th>Prediction</th>\n",
       "      <th>Interim</th>\n",
       "      <th>Actual</th>\n",
       "      <th>BenPrediction</th>\n",
       "    </tr>\n",
       "  </thead>\n",
       "  <tbody>\n",
       "    <tr>\n",
       "      <th>0</th>\n",
       "      <td>2021</td>\n",
       "      <td>12</td>\n",
       "      <td>403.08</td>\n",
       "      <td>364.613524</td>\n",
       "      <td>424.224873</td>\n",
       "      <td>474.00</td>\n",
       "    </tr>\n",
       "    <tr>\n",
       "      <th>1</th>\n",
       "      <td>2022</td>\n",
       "      <td>1</td>\n",
       "      <td>514.77</td>\n",
       "      <td>485.979484</td>\n",
       "      <td>522.000000</td>\n",
       "      <td>527.00</td>\n",
       "    </tr>\n",
       "    <tr>\n",
       "      <th>2</th>\n",
       "      <td>2022</td>\n",
       "      <td>2</td>\n",
       "      <td>541.84</td>\n",
       "      <td>528.819883</td>\n",
       "      <td>555.469715</td>\n",
       "      <td>557.00</td>\n",
       "    </tr>\n",
       "    <tr>\n",
       "      <th>3</th>\n",
       "      <td>2022</td>\n",
       "      <td>3</td>\n",
       "      <td>608.40</td>\n",
       "      <td>542.513635</td>\n",
       "      <td>580.475858</td>\n",
       "      <td>600.00</td>\n",
       "    </tr>\n",
       "    <tr>\n",
       "      <th>4</th>\n",
       "      <td>2022</td>\n",
       "      <td>4</td>\n",
       "      <td>667.09</td>\n",
       "      <td>580.571322</td>\n",
       "      <td>714.881002</td>\n",
       "      <td>717.00</td>\n",
       "    </tr>\n",
       "    <tr>\n",
       "      <th>5</th>\n",
       "      <td>2022</td>\n",
       "      <td>5</td>\n",
       "      <td>703.93</td>\n",
       "      <td>642.309268</td>\n",
       "      <td>720.468911</td>\n",
       "      <td>763.52</td>\n",
       "    </tr>\n",
       "    <tr>\n",
       "      <th>6</th>\n",
       "      <td>2022</td>\n",
       "      <td>6</td>\n",
       "      <td>728.85</td>\n",
       "      <td>700.956338</td>\n",
       "      <td>712.663293</td>\n",
       "      <td>733.58</td>\n",
       "    </tr>\n",
       "    <tr>\n",
       "      <th>7</th>\n",
       "      <td>2022</td>\n",
       "      <td>7</td>\n",
       "      <td>703.38</td>\n",
       "      <td>696.350225</td>\n",
       "      <td>622.874274</td>\n",
       "      <td>724.87</td>\n",
       "    </tr>\n",
       "  </tbody>\n",
       "</table>\n",
       "</div>"
      ],
      "text/plain": [
       "   Year  Month  Prediction     Interim      Actual  BenPrediction\n",
       "0  2021     12      403.08  364.613524  424.224873         474.00\n",
       "1  2022      1      514.77  485.979484  522.000000         527.00\n",
       "2  2022      2      541.84  528.819883  555.469715         557.00\n",
       "3  2022      3      608.40  542.513635  580.475858         600.00\n",
       "4  2022      4      667.09  580.571322  714.881002         717.00\n",
       "5  2022      5      703.93  642.309268  720.468911         763.52\n",
       "6  2022      6      728.85  700.956338  712.663293         733.58\n",
       "7  2022      7      703.38  696.350225  622.874274         724.87"
      ]
     },
     "execution_count": 33,
     "metadata": {},
     "output_type": "execute_result"
    }
   ],
   "source": [
    "netback_comparison"
   ]
  },
  {
   "cell_type": "code",
   "execution_count": 35,
   "id": "b2164ae2",
   "metadata": {},
   "outputs": [
    {
     "data": {
      "text/plain": [
       "<AxesSubplot:>"
      ]
     },
     "execution_count": 35,
     "metadata": {},
     "output_type": "execute_result"
    },
    {
     "data": {
      "image/png": "[encoded data removed]",
      "text/plain": [
       "<Figure size 432x288 with 1 Axes>"
      ]
     },
     "metadata": {
      "needs_background": "dark"
     },
     "output_type": "display_data"
    }
   ],
   "source": [
    "netback_comparison[['Prediction','Actual','Interim','BenPrediction']].plot()"
   ]
  },
  {
   "cell_type": "code",
   "execution_count": 36,
   "id": "e2f2ee29",
   "metadata": {},
   "outputs": [],
   "source": [
    "netback_comparison['Err-Prediction-Actual'] = (netback_comparison['Actual']/netback_comparison['Prediction']-1)*100\n",
    "netback_comparison['Err-Interim-Actual'] = (netback_comparison['Actual']/netback_comparison['Interim']-1)*100\n",
    "netback_comparison['Err-Ben-Actual'] = (netback_comparison['Actual']/netback_comparison['BenPrediction']-1)*100"
   ]
  },
  {
   "cell_type": "code",
   "execution_count": 37,
   "id": "4c0a54c0",
   "metadata": {},
   "outputs": [
    {
     "data": {
      "text/html": [
       "<div>\n",
       "<style scoped>\n",
       "    .dataframe tbody tr th:only-of-type {\n",
       "        vertical-align: middle;\n",
       "    }\n",
       "\n",
       "    .dataframe tbody tr th {\n",
       "        vertical-align: top;\n",
       "    }\n",
       "\n",
       "    .dataframe thead th {\n",
       "        text-align: right;\n",
       "    }\n",
       "</style>\n",
       "<table border=\"1\" class=\"dataframe\">\n",
       "  <thead>\n",
       "    <tr style=\"text-align: right;\">\n",
       "      <th></th>\n",
       "      <th>Year</th>\n",
       "      <th>Month</th>\n",
       "      <th>Prediction</th>\n",
       "      <th>Interim</th>\n",
       "      <th>Actual</th>\n",
       "      <th>BenPrediction</th>\n",
       "      <th>Err-Prediction-Actual</th>\n",
       "      <th>Err-Interim-Actual</th>\n",
       "      <th>Err-Ben-Actual</th>\n",
       "    </tr>\n",
       "  </thead>\n",
       "  <tbody>\n",
       "    <tr>\n",
       "      <th>0</th>\n",
       "      <td>2021</td>\n",
       "      <td>12</td>\n",
       "      <td>403.08</td>\n",
       "      <td>364.613524</td>\n",
       "      <td>424.224873</td>\n",
       "      <td>474.00</td>\n",
       "      <td>5.245825</td>\n",
       "      <td>16.349188</td>\n",
       "      <td>-10.501082</td>\n",
       "    </tr>\n",
       "    <tr>\n",
       "      <th>1</th>\n",
       "      <td>2022</td>\n",
       "      <td>1</td>\n",
       "      <td>514.77</td>\n",
       "      <td>485.979484</td>\n",
       "      <td>522.000000</td>\n",
       "      <td>527.00</td>\n",
       "      <td>1.404511</td>\n",
       "      <td>7.411942</td>\n",
       "      <td>-0.948767</td>\n",
       "    </tr>\n",
       "    <tr>\n",
       "      <th>2</th>\n",
       "      <td>2022</td>\n",
       "      <td>2</td>\n",
       "      <td>541.84</td>\n",
       "      <td>528.819883</td>\n",
       "      <td>555.469715</td>\n",
       "      <td>557.00</td>\n",
       "      <td>2.515450</td>\n",
       "      <td>5.039491</td>\n",
       "      <td>-0.274737</td>\n",
       "    </tr>\n",
       "    <tr>\n",
       "      <th>3</th>\n",
       "      <td>2022</td>\n",
       "      <td>3</td>\n",
       "      <td>608.40</td>\n",
       "      <td>542.513635</td>\n",
       "      <td>580.475858</td>\n",
       "      <td>600.00</td>\n",
       "      <td>-4.589767</td>\n",
       "      <td>6.997469</td>\n",
       "      <td>-3.254024</td>\n",
       "    </tr>\n",
       "    <tr>\n",
       "      <th>4</th>\n",
       "      <td>2022</td>\n",
       "      <td>4</td>\n",
       "      <td>667.09</td>\n",
       "      <td>580.571322</td>\n",
       "      <td>714.881002</td>\n",
       "      <td>717.00</td>\n",
       "      <td>7.164101</td>\n",
       "      <td>23.134054</td>\n",
       "      <td>-0.295537</td>\n",
       "    </tr>\n",
       "    <tr>\n",
       "      <th>5</th>\n",
       "      <td>2022</td>\n",
       "      <td>5</td>\n",
       "      <td>703.93</td>\n",
       "      <td>642.309268</td>\n",
       "      <td>720.468911</td>\n",
       "      <td>763.52</td>\n",
       "      <td>2.349511</td>\n",
       "      <td>12.168537</td>\n",
       "      <td>-5.638502</td>\n",
       "    </tr>\n",
       "    <tr>\n",
       "      <th>6</th>\n",
       "      <td>2022</td>\n",
       "      <td>6</td>\n",
       "      <td>728.85</td>\n",
       "      <td>700.956338</td>\n",
       "      <td>712.663293</td>\n",
       "      <td>733.58</td>\n",
       "      <td>-2.220856</td>\n",
       "      <td>1.670140</td>\n",
       "      <td>-2.851319</td>\n",
       "    </tr>\n",
       "    <tr>\n",
       "      <th>7</th>\n",
       "      <td>2022</td>\n",
       "      <td>7</td>\n",
       "      <td>703.38</td>\n",
       "      <td>696.350225</td>\n",
       "      <td>622.874274</td>\n",
       "      <td>724.87</td>\n",
       "      <td>-11.445552</td>\n",
       "      <td>-10.551580</td>\n",
       "      <td>-14.070899</td>\n",
       "    </tr>\n",
       "  </tbody>\n",
       "</table>\n",
       "</div>"
      ],
      "text/plain": [
       "   Year  Month  Prediction     Interim      Actual  BenPrediction  \\\n",
       "0  2021     12      403.08  364.613524  424.224873         474.00   \n",
       "1  2022      1      514.77  485.979484  522.000000         527.00   \n",
       "2  2022      2      541.84  528.819883  555.469715         557.00   \n",
       "3  2022      3      608.40  542.513635  580.475858         600.00   \n",
       "4  2022      4      667.09  580.571322  714.881002         717.00   \n",
       "5  2022      5      703.93  642.309268  720.468911         763.52   \n",
       "6  2022      6      728.85  700.956338  712.663293         733.58   \n",
       "7  2022      7      703.38  696.350225  622.874274         724.87   \n",
       "\n",
       "   Err-Prediction-Actual  Err-Interim-Actual  Err-Ben-Actual  \n",
       "0               5.245825           16.349188      -10.501082  \n",
       "1               1.404511            7.411942       -0.948767  \n",
       "2               2.515450            5.039491       -0.274737  \n",
       "3              -4.589767            6.997469       -3.254024  \n",
       "4               7.164101           23.134054       -0.295537  \n",
       "5               2.349511           12.168537       -5.638502  \n",
       "6              -2.220856            1.670140       -2.851319  \n",
       "7             -11.445552          -10.551580      -14.070899  "
      ]
     },
     "execution_count": 37,
     "metadata": {},
     "output_type": "execute_result"
    }
   ],
   "source": [
    "netback_comparison"
   ]
  },
  {
   "cell_type": "code",
   "execution_count": 40,
   "id": "3caa16f1",
   "metadata": {},
   "outputs": [
    {
     "data": {
      "text/plain": [
       "<AxesSubplot:title={'center':'Error Comparison'}>"
      ]
     },
     "execution_count": 40,
     "metadata": {},
     "output_type": "execute_result"
    },
    {
     "data": {
      "image/png": "[encoded data removed]",
      "text/plain": [
       "<Figure size 432x288 with 1 Axes>"
      ]
     },
     "metadata": {
      "needs_background": "dark"
     },
     "output_type": "display_data"
    }
   ],
   "source": [
    "abs(netback_comparison[['Err-Prediction-Actual','Err-Interim-Actual','Err-Ben-Actual']]).plot(kind='bar',title='Error Comparison')"
   ]
  },
  {
   "cell_type": "code",
   "execution_count": 41,
   "id": "05712f80",
   "metadata": {},
   "outputs": [
    {
     "data": {
      "text/plain": [
       "<AxesSubplot:title={'center':'Error Comparison'}, ylabel='Density'>"
      ]
     },
     "execution_count": 41,
     "metadata": {},
     "output_type": "execute_result"
    },
    {
     "data": {
      "image/png": "[encoded data removed]",
      "text/plain": [
       "<Figure size 432x288 with 1 Axes>"
      ]
     },
     "metadata": {
      "needs_background": "dark"
     },
     "output_type": "display_data"
    }
   ],
   "source": [
    "abs(netback_comparison[['Err-Prediction-Actual','Err-Interim-Actual','Err-Ben-Actual']]).plot(kind='kde',title='Error Comparison')"
   ]
  },
  {
   "cell_type": "code",
   "execution_count": null,
   "id": "b3a83772",
   "metadata": {},
   "outputs": [],
   "source": []
  }
 ],
 "metadata": {
  "kernelspec": {
   "display_name": "Python 3 (ipykernel)",
   "language": "python",
   "name": "python3"
  },
  "language_info": {
   "codemirror_mode": {
    "name": "ipython",
    "version": 3
   },
   "file_extension": ".py",
   "mimetype": "text/x-python",
   "name": "python",
   "nbconvert_exporter": "python",
   "pygments_lexer": "ipython3",
   "version": "3.10.5"
  }
 },
 "nbformat": 4,
 "nbformat_minor": 5
}
