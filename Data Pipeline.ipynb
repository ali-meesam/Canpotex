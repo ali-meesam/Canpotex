{
 "cells": [
  {
   "cell_type": "code",
   "execution_count": 1,
   "id": "27a8e962",
   "metadata": {},
   "outputs": [],
   "source": [
    "from datapipeline import DataFeed\n",
    "import os\n",
    "import pandas as pd\n",
    "from datetime import datetime"
   ]
  },
  {
   "cell_type": "code",
   "execution_count": 2,
   "id": "bde2dcde",
   "metadata": {},
   "outputs": [],
   "source": [
    "self = DataFeed()"
   ]
  },
  {
   "cell_type": "code",
   "execution_count": 3,
   "id": "777786c2",
   "metadata": {},
   "outputs": [],
   "source": [
    "brazil = self.get_BrazilCFR\n",
    "brazil.dropna(inplace=True)"
   ]
  },
  {
   "cell_type": "code",
   "execution_count": 4,
   "id": "2a884bbd",
   "metadata": {},
   "outputs": [],
   "source": [
    "seasia = self.get_SEAsiaCFR\n",
    "seasia.dropna(inplace=True)"
   ]
  },
  {
   "cell_type": "code",
   "execution_count": 5,
   "id": "58b28a5f",
   "metadata": {},
   "outputs": [],
   "source": [
    "foodpriceindex = self.get_food_price_index\n",
    "foodpriceindex.dropna(inplace=True)"
   ]
  },
  {
   "cell_type": "code",
   "execution_count": 6,
   "id": "da60f76d",
   "metadata": {},
   "outputs": [],
   "source": [
    "eurusd = self.get_eurusd\n",
    "eurusd.dropna(inplace=True)"
   ]
  },
  {
   "cell_type": "code",
   "execution_count": 7,
   "id": "cffcb1e9",
   "metadata": {},
   "outputs": [],
   "source": [
    "cpi = self.get_g20_cpi\n",
    "cpi.dropna(inplace=True)"
   ]
  },
  {
   "cell_type": "code",
   "execution_count": 8,
   "id": "997f4f11",
   "metadata": {},
   "outputs": [],
   "source": [
    "gdp = self.get_gdp\n",
    "gdp.dropna(inplace=True)"
   ]
  },
  {
   "cell_type": "code",
   "execution_count": 9,
   "id": "1cc87894",
   "metadata": {},
   "outputs": [],
   "source": [
    "netback = self.get_historical_netback\n",
    "netback.dropna(inplace=True)"
   ]
  },
  {
   "cell_type": "code",
   "execution_count": 10,
   "id": "da059c89",
   "metadata": {},
   "outputs": [],
   "source": [
    "minenetback = self.get_historical_mineNetback\n",
    "minenetback.dropna(inplace=True)"
   ]
  },
  {
   "cell_type": "code",
   "execution_count": 11,
   "id": "275a221b",
   "metadata": {},
   "outputs": [],
   "source": [
    "naturalgas = self.get_natural_gas\n",
    "naturalgas.dropna(inplace=True)"
   ]
  },
  {
   "cell_type": "code",
   "execution_count": 12,
   "id": "d2efd797",
   "metadata": {},
   "outputs": [],
   "source": [
    "ethanol = self.get_ethanol\n",
    "ethanol.dropna(inplace=True)"
   ]
  },
  {
   "cell_type": "code",
   "execution_count": 13,
   "id": "c9644c3a",
   "metadata": {},
   "outputs": [],
   "source": [
    "fertilizerprod = self.get_total_fertilizer_production\n",
    "fertilizerprod.dropna(inplace=True)"
   ]
  },
  {
   "cell_type": "code",
   "execution_count": 14,
   "id": "4b6d98e2",
   "metadata": {},
   "outputs": [],
   "source": [
    "freightcost = self.get_freightCost\n",
    "freightcost.dropna(inplace=True)"
   ]
  },
  {
   "cell_type": "code",
   "execution_count": 15,
   "id": "97fe32fe",
   "metadata": {},
   "outputs": [],
   "source": [
    "interim = self.get_interimPricing\n",
    "interim.dropna(inplace=True)"
   ]
  },
  {
   "cell_type": "code",
   "execution_count": 16,
   "id": "f677e569",
   "metadata": {},
   "outputs": [],
   "source": [
    "_vars = [brazil,seasia,foodpriceindex,eurusd,cpi,gdp,netback,minenetback,naturalgas,ethanol,fertilizerprod,freightcost,interim]"
   ]
  },
  {
   "cell_type": "code",
   "execution_count": null,
   "id": "e4b73d8b",
   "metadata": {},
   "outputs": [],
   "source": []
  },
  {
   "cell_type": "code",
   "execution_count": 78,
   "id": "24549641",
   "metadata": {},
   "outputs": [],
   "source": [
    "counts = [v.iloc[0].name for v in _vars]"
   ]
  },
  {
   "cell_type": "code",
   "execution_count": 80,
   "id": "77ae7239",
   "metadata": {},
   "outputs": [
    {
     "data": {
      "text/plain": [
       "Timestamp('2021-12-01 00:00:00')"
      ]
     },
     "execution_count": 80,
     "metadata": {},
     "output_type": "execute_result"
    }
   ],
   "source": []
  },
  {
   "cell_type": "code",
   "execution_count": 81,
   "id": "15e8d35b",
   "metadata": {},
   "outputs": [],
   "source": [
    "# GET THE SMALLEST DATA SET\n",
    "times = _vars[counts.index(max(counts))].index.tolist()"
   ]
  },
  {
   "cell_type": "code",
   "execution_count": 82,
   "id": "430fac0a",
   "metadata": {},
   "outputs": [
    {
     "data": {
      "text/plain": [
       "[Timestamp('2021-12-01 00:00:00'),\n",
       " Timestamp('2022-01-01 00:00:00'),\n",
       " Timestamp('2022-02-01 00:00:00'),\n",
       " Timestamp('2022-03-01 00:00:00'),\n",
       " Timestamp('2022-04-01 00:00:00'),\n",
       " Timestamp('2022-05-01 00:00:00'),\n",
       " Timestamp('2022-06-01 00:00:00'),\n",
       " Timestamp('2022-07-01 00:00:00'),\n",
       " Timestamp('2022-08-01 00:00:00'),\n",
       " Timestamp('2022-09-01 00:00:00'),\n",
       " Timestamp('2022-10-01 00:00:00'),\n",
       " Timestamp('2022-11-01 00:00:00'),\n",
       " Timestamp('2022-12-01 00:00:00'),\n",
       " Timestamp('2023-01-01 00:00:00'),\n",
       " Timestamp('2023-02-01 00:00:00'),\n",
       " Timestamp('2023-03-01 00:00:00'),\n",
       " Timestamp('2023-04-01 00:00:00'),\n",
       " Timestamp('2023-05-01 00:00:00'),\n",
       " Timestamp('2023-06-01 00:00:00'),\n",
       " Timestamp('2023-07-01 00:00:00'),\n",
       " Timestamp('2023-08-01 00:00:00'),\n",
       " Timestamp('2023-09-01 00:00:00'),\n",
       " Timestamp('2023-10-01 00:00:00'),\n",
       " Timestamp('2023-11-01 00:00:00'),\n",
       " Timestamp('2023-12-01 00:00:00')]"
      ]
     },
     "execution_count": 82,
     "metadata": {},
     "output_type": "execute_result"
    }
   ],
   "source": [
    "times"
   ]
  },
  {
   "cell_type": "code",
   "execution_count": 19,
   "id": "641b78dc",
   "metadata": {},
   "outputs": [],
   "source": [
    "from models import ActualNetback, BrazilCFR"
   ]
  },
  {
   "cell_type": "code",
   "execution_count": 83,
   "id": "8951a3af",
   "metadata": {},
   "outputs": [],
   "source": [
    "curr_month = 7\n",
    "curr_year = 2022"
   ]
  },
  {
   "cell_type": "code",
   "execution_count": 84,
   "id": "e0ba59ec",
   "metadata": {},
   "outputs": [],
   "source": [
    "m = ActualNetback()"
   ]
  },
  {
   "cell_type": "code",
   "execution_count": 85,
   "id": "e925885d",
   "metadata": {},
   "outputs": [
    {
     "name": "stdout",
     "output_type": "stream",
     "text": [
      "Predicting Actual Netback >> 12 / 2021...\n",
      "Predicting MineNetback >> 12 / 2021...\n",
      "Predicting SE Asia >> 12 / 2021...\n"
     ]
    },
    {
     "name": "stderr",
     "output_type": "stream",
     "text": [
      "100%|████████████████████████████████████████████████████████████████████████████████████████████████████████████████| 20000/20000 [00:01<00:00, 10825.79it/s]\n"
     ]
    },
    {
     "name": "stdout",
     "output_type": "stream",
     "text": [
      "**************************************************\n",
      "        Predictions\n",
      "count  20000.000000\n",
      "mean     471.856820\n",
      "std       56.100462\n",
      "min      330.981579\n",
      "25%      431.653920\n",
      "50%      471.569166\n",
      "75%      512.104141\n",
      "max      611.341740\n",
      "**************************************************\n",
      "Max Density -->>> $472.56\n",
      "Predicting Brazil >> 12 / 2021...\n"
     ]
    },
    {
     "name": "stderr",
     "output_type": "stream",
     "text": [
      "100%|█████████████████████████████████████████████████████████████████████████████████████████████████████████████████| 20000/20000 [00:02<00:00, 6762.39it/s]\n"
     ]
    },
    {
     "name": "stdout",
     "output_type": "stream",
     "text": [
      "**************************************************\n",
      "        Predictions\n",
      "count  20000.000000\n",
      "mean     872.473186\n",
      "std       82.090563\n",
      "min      664.596553\n",
      "25%      813.893145\n",
      "50%      871.510924\n",
      "75%      931.890018\n",
      "max     1082.452485\n",
      "**************************************************\n",
      "Max Density -->>> $866.41\n"
     ]
    },
    {
     "name": "stderr",
     "output_type": "stream",
     "text": [
      "100%|████████████████████████████████████████████████████████████████████████████████████████████████████████████████| 20000/20000 [00:00<00:00, 22298.75it/s]\n"
     ]
    },
    {
     "name": "stdout",
     "output_type": "stream",
     "text": [
      "**************************************************\n",
      "        Predictions\n",
      "count  20000.000000\n",
      "mean     502.530893\n",
      "std       43.849112\n",
      "min      366.476809\n",
      "25%      471.997419\n",
      "50%      502.482266\n",
      "75%      532.828904\n",
      "max      646.158986\n",
      "**************************************************\n",
      "Max Density -->>> $503.8\n"
     ]
    },
    {
     "name": "stderr",
     "output_type": "stream",
     "text": [
      "100%|████████████████████████████████████████████████████████████████████████████████████████████████████████████████| 20000/20000 [00:01<00:00, 13603.30it/s]\n"
     ]
    },
    {
     "name": "stdout",
     "output_type": "stream",
     "text": [
      "**************************************************\n",
      "        Predictions\n",
      "count  20000.000000\n",
      "mean     408.048837\n",
      "std       39.912216\n",
      "min      283.475022\n",
      "25%      380.213182\n",
      "50%      408.314479\n",
      "75%      435.410171\n",
      "max      540.137148\n",
      "**************************************************\n",
      "Max Density -->>> $410.01\n",
      "Predicting Actual Netback >> 1 / 2022...\n",
      "Predicting MineNetback >> 1 / 2022...\n",
      "Predicting SE Asia >> 1 / 2022...\n"
     ]
    },
    {
     "name": "stderr",
     "output_type": "stream",
     "text": [
      "100%|█████████████████████████████████████████████████████████████████████████████████████████████████████████████████| 20000/20000 [00:03<00:00, 6492.62it/s]\n"
     ]
    },
    {
     "name": "stdout",
     "output_type": "stream",
     "text": [
      "**************************************************\n",
      "        Predictions\n",
      "count  20000.000000\n",
      "mean     479.901308\n",
      "std       57.867710\n",
      "min      336.741392\n",
      "25%      438.509756\n",
      "50%      480.294730\n",
      "75%      521.501307\n",
      "max      625.544258\n",
      "**************************************************\n",
      "Max Density -->>> $482.01\n",
      "Predicting Brazil >> 1 / 2022...\n"
     ]
    },
    {
     "name": "stderr",
     "output_type": "stream",
     "text": [
      "100%|█████████████████████████████████████████████████████████████████████████████████████████████████████████████████| 20000/20000 [00:03<00:00, 6014.93it/s]\n"
     ]
    },
    {
     "name": "stdout",
     "output_type": "stream",
     "text": [
      "**************************************************\n",
      "        Predictions\n",
      "count  20000.000000\n",
      "mean     869.750692\n",
      "std       79.554867\n",
      "min      666.443748\n",
      "25%      812.746885\n",
      "50%      869.994053\n",
      "75%      926.498910\n",
      "max     1075.879284\n",
      "**************************************************\n",
      "Max Density -->>> $871.57\n"
     ]
    },
    {
     "name": "stderr",
     "output_type": "stream",
     "text": [
      "100%|████████████████████████████████████████████████████████████████████████████████████████████████████████████████| 20000/20000 [00:01<00:00, 17408.35it/s]\n"
     ]
    },
    {
     "name": "stdout",
     "output_type": "stream",
     "text": [
      "**************************************************\n",
      "        Predictions\n",
      "count  20000.000000\n",
      "mean     502.833731\n",
      "std       43.332217\n",
      "min      362.161345\n",
      "25%      472.670707\n",
      "50%      502.962271\n",
      "75%      533.018360\n",
      "max      636.758987\n",
      "**************************************************\n",
      "Max Density -->>> $507.43\n"
     ]
    },
    {
     "name": "stderr",
     "output_type": "stream",
     "text": [
      "100%|████████████████████████████████████████████████████████████████████████████████████████████████████████████████| 20000/20000 [00:01<00:00, 14516.08it/s]\n"
     ]
    },
    {
     "name": "stdout",
     "output_type": "stream",
     "text": [
      "**************************************************\n",
      "        Predictions\n",
      "count  20000.000000\n",
      "mean     522.636252\n",
      "std       45.962662\n",
      "min      372.186372\n",
      "25%      490.435609\n",
      "50%      522.739101\n",
      "75%      554.905036\n",
      "max      674.455330\n",
      "**************************************************\n",
      "Max Density -->>> $529.07\n",
      "Predicting Actual Netback >> 2 / 2022...\n",
      "Predicting MineNetback >> 2 / 2022...\n",
      "Predicting SE Asia >> 2 / 2022...\n"
     ]
    },
    {
     "name": "stderr",
     "output_type": "stream",
     "text": [
      "100%|████████████████████████████████████████████████████████████████████████████████████████████████████████████████| 20000/20000 [00:01<00:00, 11500.35it/s]\n"
     ]
    },
    {
     "name": "stdout",
     "output_type": "stream",
     "text": [
      "**************************************************\n",
      "        Predictions\n",
      "count  20000.000000\n",
      "mean     493.577487\n",
      "std       56.442317\n",
      "min      352.305680\n",
      "25%      453.449537\n",
      "50%      493.744039\n",
      "75%      533.516860\n",
      "max      637.623647\n",
      "**************************************************\n",
      "Max Density -->>> $495.25\n",
      "Predicting Brazil >> 2 / 2022...\n"
     ]
    },
    {
     "name": "stderr",
     "output_type": "stream",
     "text": [
      "100%|█████████████████████████████████████████████████████████████████████████████████████████████████████████████████| 20000/20000 [00:04<00:00, 4586.80it/s]\n"
     ]
    },
    {
     "name": "stdout",
     "output_type": "stream",
     "text": [
      "**************************************************\n",
      "        Predictions\n",
      "count  20000.000000\n",
      "mean     856.117853\n",
      "std       73.613644\n",
      "min      667.015693\n",
      "25%      804.168134\n",
      "50%      855.768382\n",
      "75%      908.827802\n",
      "max     1046.107735\n",
      "**************************************************\n",
      "Max Density -->>> $853.91\n"
     ]
    },
    {
     "name": "stderr",
     "output_type": "stream",
     "text": [
      "100%|████████████████████████████████████████████████████████████████████████████████████████████████████████████████| 20000/20000 [00:01<00:00, 12555.59it/s]\n"
     ]
    },
    {
     "name": "stdout",
     "output_type": "stream",
     "text": [
      "**************************************************\n",
      "        Predictions\n",
      "count  20000.000000\n",
      "mean     495.399949\n",
      "std       41.333265\n",
      "min      358.369571\n",
      "25%      466.896368\n",
      "50%      495.275914\n",
      "75%      524.459707\n",
      "max      638.870195\n",
      "**************************************************\n",
      "Max Density -->>> $486.55\n"
     ]
    },
    {
     "name": "stderr",
     "output_type": "stream",
     "text": [
      "100%|█████████████████████████████████████████████████████████████████████████████████████████████████████████████████| 20000/20000 [00:02<00:00, 8054.78it/s]\n"
     ]
    },
    {
     "name": "stdout",
     "output_type": "stream",
     "text": [
      "**************************************************\n",
      "        Predictions\n",
      "count  20000.000000\n",
      "mean     541.891946\n",
      "std       50.749705\n",
      "min      380.112088\n",
      "25%      506.664847\n",
      "50%      541.953262\n",
      "75%      577.317121\n",
      "max      700.538898\n",
      "**************************************************\n",
      "Max Density -->>> $547.7\n",
      "Predicting Actual Netback >> 3 / 2022...\n",
      "Predicting MineNetback >> 3 / 2022...\n",
      "Predicting SE Asia >> 3 / 2022...\n"
     ]
    },
    {
     "name": "stderr",
     "output_type": "stream",
     "text": [
      "100%|█████████████████████████████████████████████████████████████████████████████████████████████████████████████████| 20000/20000 [00:03<00:00, 5627.67it/s]\n"
     ]
    },
    {
     "name": "stdout",
     "output_type": "stream",
     "text": [
      "**************************************************\n",
      "        Predictions\n",
      "count  20000.000000\n",
      "mean     635.239020\n",
      "std       59.659121\n",
      "min      482.155409\n",
      "25%      593.004562\n",
      "50%      635.809915\n",
      "75%      677.253270\n",
      "max      780.792275\n",
      "**************************************************\n",
      "Max Density -->>> $637.75\n",
      "Predicting Brazil >> 3 / 2022...\n"
     ]
    },
    {
     "name": "stderr",
     "output_type": "stream",
     "text": [
      "100%|█████████████████████████████████████████████████████████████████████████████████████████████████████████████████| 20000/20000 [00:04<00:00, 4549.53it/s]\n"
     ]
    },
    {
     "name": "stdout",
     "output_type": "stream",
     "text": [
      "**************************************************\n",
      "        Predictions\n",
      "count  20000.000000\n",
      "mean    1094.716852\n",
      "std       75.949929\n",
      "min      891.186829\n",
      "25%     1040.371497\n",
      "50%     1095.431553\n",
      "75%     1148.947814\n",
      "max     1286.170858\n",
      "**************************************************\n",
      "Max Density -->>> $1096.19\n"
     ]
    },
    {
     "name": "stderr",
     "output_type": "stream",
     "text": [
      "100%|████████████████████████████████████████████████████████████████████████████████████████████████████████████████| 20000/20000 [00:00<00:00, 20618.49it/s]\n"
     ]
    },
    {
     "name": "stdout",
     "output_type": "stream",
     "text": [
      "**************************************************\n",
      "        Predictions\n",
      "count  20000.000000\n",
      "mean     640.110881\n",
      "std       43.615678\n",
      "min      496.925642\n",
      "25%      609.598803\n",
      "50%      639.836651\n",
      "75%      670.606450\n",
      "max      782.074934\n",
      "**************************************************\n",
      "Max Density -->>> $639.21\n"
     ]
    },
    {
     "name": "stderr",
     "output_type": "stream",
     "text": [
      "100%|████████████████████████████████████████████████████████████████████████████████████████████████████████████████| 20000/20000 [00:01<00:00, 14056.95it/s]\n"
     ]
    },
    {
     "name": "stdout",
     "output_type": "stream",
     "text": [
      "**************************************************\n",
      "        Predictions\n",
      "count  20000.000000\n",
      "mean     611.704757\n",
      "std       54.888471\n",
      "min      425.677787\n",
      "25%      572.928241\n",
      "50%      611.328647\n",
      "75%      650.040132\n",
      "max      785.364566\n",
      "**************************************************\n",
      "Max Density -->>> $608.76\n",
      "Predicting Actual Netback >> 4 / 2022...\n",
      "Predicting MineNetback >> 4 / 2022...\n",
      "Predicting SE Asia >> 4 / 2022...\n"
     ]
    },
    {
     "name": "stderr",
     "output_type": "stream",
     "text": [
      "100%|█████████████████████████████████████████████████████████████████████████████████████████████████████████████████| 20000/20000 [00:02<00:00, 8435.57it/s]\n"
     ]
    },
    {
     "name": "stdout",
     "output_type": "stream",
     "text": [
      "**************************************************\n",
      "        Predictions\n",
      "count  20000.000000\n",
      "mean     829.920351\n",
      "std       70.944085\n",
      "min      652.122770\n",
      "25%      779.352611\n",
      "50%      830.173071\n",
      "75%      881.133221\n",
      "max     1008.877792\n",
      "**************************************************\n",
      "Max Density -->>> $832.29\n",
      "Predicting Brazil >> 4 / 2022...\n"
     ]
    },
    {
     "name": "stderr",
     "output_type": "stream",
     "text": [
      "100%|█████████████████████████████████████████████████████████████████████████████████████████████████████████████████| 20000/20000 [00:03<00:00, 5701.84it/s]\n"
     ]
    },
    {
     "name": "stdout",
     "output_type": "stream",
     "text": [
      "**************************************************\n",
      "        Predictions\n",
      "count  20000.000000\n",
      "mean    1272.952287\n",
      "std       81.991159\n",
      "min     1058.815629\n",
      "25%     1214.291735\n",
      "50%     1272.278363\n",
      "75%     1331.592212\n",
      "max     1487.536417\n",
      "**************************************************\n",
      "Max Density -->>> $1272.75\n"
     ]
    },
    {
     "name": "stderr",
     "output_type": "stream",
     "text": [
      "100%|████████████████████████████████████████████████████████████████████████████████████████████████████████████████| 20000/20000 [00:00<00:00, 22109.90it/s]\n"
     ]
    },
    {
     "name": "stdout",
     "output_type": "stream",
     "text": [
      "**************************************************\n",
      "        Predictions\n",
      "count  20000.000000\n",
      "mean     823.310561\n",
      "std       49.023796\n",
      "min      661.067005\n",
      "25%      788.798875\n",
      "50%      823.510327\n",
      "75%      857.353418\n",
      "max      980.686113\n",
      "**************************************************\n",
      "Max Density -->>> $824.4\n"
     ]
    },
    {
     "name": "stderr",
     "output_type": "stream",
     "text": [
      "100%|████████████████████████████████████████████████████████████████████████████████████████████████████████████████| 20000/20000 [00:01<00:00, 12974.97it/s]\n"
     ]
    },
    {
     "name": "stdout",
     "output_type": "stream",
     "text": [
      "**************************************************\n",
      "        Predictions\n",
      "count  20000.000000\n",
      "mean     661.661709\n",
      "std       59.126076\n",
      "min      480.517322\n",
      "25%      619.739137\n",
      "50%      661.151279\n",
      "75%      703.292590\n",
      "max      853.947503\n",
      "**************************************************\n",
      "Max Density -->>> $657.14\n",
      "Predicting Actual Netback >> 5 / 2022...\n",
      "Predicting MineNetback >> 5 / 2022...\n",
      "Predicting SE Asia >> 5 / 2022...\n"
     ]
    },
    {
     "name": "stderr",
     "output_type": "stream",
     "text": [
      "100%|████████████████████████████████████████████████████████████████████████████████████████████████████████████████| 20000/20000 [00:01<00:00, 10618.97it/s]\n"
     ]
    },
    {
     "name": "stdout",
     "output_type": "stream",
     "text": [
      "**************************************************\n",
      "        Predictions\n",
      "count  20000.000000\n",
      "mean     854.977429\n",
      "std       75.694681\n",
      "min      667.224994\n",
      "25%      800.574704\n",
      "50%      853.981405\n",
      "75%      909.729152\n",
      "max     1045.069226\n",
      "**************************************************\n",
      "Max Density -->>> $850.47\n",
      "Predicting Brazil >> 5 / 2022...\n"
     ]
    },
    {
     "name": "stderr",
     "output_type": "stream",
     "text": [
      "100%|█████████████████████████████████████████████████████████████████████████████████████████████████████████████████| 20000/20000 [00:03<00:00, 6299.51it/s]\n"
     ]
    },
    {
     "name": "stdout",
     "output_type": "stream",
     "text": [
      "**************************************************\n",
      "        Predictions\n",
      "count  20000.000000\n",
      "mean    1273.507759\n",
      "std       78.930414\n",
      "min     1060.974120\n",
      "25%     1217.033889\n",
      "50%     1273.636710\n",
      "75%     1329.681551\n",
      "max     1481.388970\n",
      "**************************************************\n",
      "Max Density -->>> $1273.29\n"
     ]
    },
    {
     "name": "stderr",
     "output_type": "stream",
     "text": [
      "100%|████████████████████████████████████████████████████████████████████████████████████████████████████████████████| 20000/20000 [00:00<00:00, 22493.29it/s]\n"
     ]
    },
    {
     "name": "stdout",
     "output_type": "stream",
     "text": [
      "**************************************************\n",
      "        Predictions\n",
      "count  20000.000000\n",
      "mean     826.951228\n",
      "std       49.484855\n",
      "min      667.636030\n",
      "25%      792.143659\n",
      "50%      826.821253\n",
      "75%      861.071247\n",
      "max      985.356892\n",
      "**************************************************\n",
      "Max Density -->>> $824.27\n"
     ]
    },
    {
     "name": "stderr",
     "output_type": "stream",
     "text": [
      "100%|████████████████████████████████████████████████████████████████████████████████████████████████████████████████| 20000/20000 [00:01<00:00, 11930.35it/s]\n"
     ]
    },
    {
     "name": "stdout",
     "output_type": "stream",
     "text": [
      "**************************************************\n",
      "        Predictions\n",
      "count  20000.000000\n",
      "mean     692.197901\n",
      "std       60.715032\n",
      "min      485.973696\n",
      "25%      648.561413\n",
      "50%      692.453306\n",
      "75%      734.718616\n",
      "max      892.175281\n",
      "**************************************************\n",
      "Max Density -->>> $698.43\n",
      "Predicting Actual Netback >> 6 / 2022...\n",
      "Predicting MineNetback >> 6 / 2022...\n",
      "Predicting SE Asia >> 6 / 2022...\n"
     ]
    },
    {
     "name": "stderr",
     "output_type": "stream",
     "text": [
      "100%|█████████████████████████████████████████████████████████████████████████████████████████████████████████████████| 20000/20000 [00:02<00:00, 9718.23it/s]\n"
     ]
    },
    {
     "name": "stdout",
     "output_type": "stream",
     "text": [
      "**************************************************\n",
      "        Predictions\n",
      "count  20000.000000\n",
      "mean     852.141417\n",
      "std       74.999622\n",
      "min      662.441664\n",
      "25%      798.269535\n",
      "50%      852.559383\n",
      "75%      905.851020\n",
      "max     1042.243972\n",
      "**************************************************\n",
      "Max Density -->>> $851.96\n",
      "Predicting Brazil >> 6 / 2022...\n"
     ]
    },
    {
     "name": "stderr",
     "output_type": "stream",
     "text": [
      "100%|█████████████████████████████████████████████████████████████████████████████████████████████████████████████████| 20000/20000 [00:03<00:00, 5360.73it/s]\n"
     ]
    },
    {
     "name": "stdout",
     "output_type": "stream",
     "text": [
      "**************************************************\n",
      "        Predictions\n",
      "count  20000.000000\n",
      "mean    1169.969099\n",
      "std       72.967399\n",
      "min      962.369373\n",
      "25%     1117.808843\n",
      "50%     1170.113660\n",
      "75%     1222.630685\n",
      "max     1374.197921\n",
      "**************************************************\n",
      "Max Density -->>> $1170.34\n"
     ]
    },
    {
     "name": "stderr",
     "output_type": "stream",
     "text": [
      "100%|████████████████████████████████████████████████████████████████████████████████████████████████████████████████| 20000/20000 [00:01<00:00, 12872.71it/s]\n"
     ]
    },
    {
     "name": "stdout",
     "output_type": "stream",
     "text": [
      "**************************************************\n",
      "        Predictions\n",
      "count  20000.000000\n",
      "mean     788.416468\n",
      "std       47.315723\n",
      "min      640.261965\n",
      "25%      755.597318\n",
      "50%      789.001533\n",
      "75%      821.385431\n",
      "max      940.309185\n",
      "**************************************************\n",
      "Max Density -->>> $797.19\n"
     ]
    },
    {
     "name": "stderr",
     "output_type": "stream",
     "text": [
      "100%|█████████████████████████████████████████████████████████████████████████████████████████████████████████████████| 20000/20000 [00:02<00:00, 8033.41it/s]\n"
     ]
    },
    {
     "name": "stdout",
     "output_type": "stream",
     "text": [
      "**************************************************\n",
      "        Predictions\n",
      "count  20000.000000\n",
      "mean     734.039124\n",
      "std       62.402089\n",
      "min      522.466864\n",
      "25%      690.019642\n",
      "50%      734.223603\n",
      "75%      778.163455\n",
      "max      920.471727\n",
      "**************************************************\n",
      "Max Density -->>> $725.85\n",
      "Predicting Actual Netback >> 7 / 2022...\n",
      "Predicting MineNetback >> 7 / 2022...\n",
      "Predicting SE Asia >> 7 / 2022...\n"
     ]
    },
    {
     "name": "stderr",
     "output_type": "stream",
     "text": [
      "100%|█████████████████████████████████████████████████████████████████████████████████████████████████████████████████| 20000/20000 [00:03<00:00, 6569.46it/s]\n"
     ]
    },
    {
     "name": "stdout",
     "output_type": "stream",
     "text": [
      "**************************************************\n",
      "        Predictions\n",
      "count  20000.000000\n",
      "mean     833.928895\n",
      "std       71.251947\n",
      "min      646.954210\n",
      "25%      782.728990\n",
      "50%      833.665963\n",
      "75%      885.098493\n",
      "max     1015.449382\n",
      "**************************************************\n",
      "Max Density -->>> $833.78\n",
      "Predicting Brazil >> 7 / 2022...\n"
     ]
    },
    {
     "name": "stderr",
     "output_type": "stream",
     "text": [
      "100%|█████████████████████████████████████████████████████████████████████████████████████████████████████████████████| 20000/20000 [00:04<00:00, 4277.26it/s]\n"
     ]
    },
    {
     "name": "stdout",
     "output_type": "stream",
     "text": [
      "**************************************************\n",
      "        Predictions\n",
      "count  20000.000000\n",
      "mean    1093.948384\n",
      "std       67.329797\n",
      "min      896.209140\n",
      "25%     1046.391459\n",
      "50%     1093.795113\n",
      "75%     1140.947388\n",
      "max     1300.750596\n",
      "**************************************************\n",
      "Max Density -->>> $1092.41\n"
     ]
    },
    {
     "name": "stderr",
     "output_type": "stream",
     "text": [
      "100%|████████████████████████████████████████████████████████████████████████████████████████████████████████████████| 20000/20000 [00:01<00:00, 13706.94it/s]\n"
     ]
    },
    {
     "name": "stdout",
     "output_type": "stream",
     "text": [
      "**************************************************\n",
      "        Predictions\n",
      "count  20000.000000\n",
      "mean     770.899799\n",
      "std       44.527329\n",
      "min      624.964365\n",
      "25%      739.456189\n",
      "50%      770.639923\n",
      "75%      801.490298\n",
      "max      907.663414\n",
      "**************************************************\n",
      "Max Density -->>> $769.43\n"
     ]
    },
    {
     "name": "stderr",
     "output_type": "stream",
     "text": [
      "100%|█████████████████████████████████████████████████████████████████████████████████████████████████████████████████| 20000/20000 [00:02<00:00, 7316.97it/s]\n"
     ]
    },
    {
     "name": "stdout",
     "output_type": "stream",
     "text": [
      "**************************************************\n",
      "        Predictions\n",
      "count  20000.000000\n",
      "mean     696.677561\n",
      "std       60.500573\n",
      "min      505.743538\n",
      "25%      654.209853\n",
      "50%      697.325598\n",
      "75%      739.353759\n",
      "max      894.290376\n",
      "**************************************************\n",
      "Max Density -->>> $699.63\n",
      "Predicting Actual Netback >> 1 / 2023...\n",
      "Predicting MineNetback >> 1 / 2023...\n",
      "Predicting SE Asia >> 1 / 2023...\n"
     ]
    },
    {
     "ename": "IndexError",
     "evalue": "single positional indexer is out-of-bounds",
     "output_type": "error",
     "traceback": [
      "\u001b[0;31m---------------------------------------------------------------------------\u001b[0m",
      "\u001b[0;31mIndexError\u001b[0m                                Traceback (most recent call last)",
      "\u001b[0;32m/var/folders/2l/r1vvv5cd6g11x9df2fpmx56w0000gn/T/ipykernel_8640/2242579940.py\u001b[0m in \u001b[0;36m<module>\u001b[0;34m\u001b[0m\n\u001b[1;32m      7\u001b[0m             \u001b[0mpredictions\u001b[0m\u001b[0;34m.\u001b[0m\u001b[0mappend\u001b[0m\u001b[0;34m(\u001b[0m\u001b[0;34m[\u001b[0m\u001b[0myear\u001b[0m\u001b[0;34m,\u001b[0m\u001b[0mmonth\u001b[0m\u001b[0;34m,\u001b[0m\u001b[0mm\u001b[0m\u001b[0;34m.\u001b[0m\u001b[0mpredict\u001b[0m\u001b[0;34m(\u001b[0m\u001b[0mmonth\u001b[0m\u001b[0;34m,\u001b[0m\u001b[0myear\u001b[0m\u001b[0;34m)\u001b[0m\u001b[0;34m]\u001b[0m\u001b[0;34m)\u001b[0m\u001b[0;34m\u001b[0m\u001b[0;34m\u001b[0m\u001b[0m\n\u001b[1;32m      8\u001b[0m     \u001b[0;32melse\u001b[0m\u001b[0;34m:\u001b[0m\u001b[0;34m\u001b[0m\u001b[0;34m\u001b[0m\u001b[0m\n\u001b[0;32m----> 9\u001b[0;31m         \u001b[0mpredictions\u001b[0m\u001b[0;34m.\u001b[0m\u001b[0mappend\u001b[0m\u001b[0;34m(\u001b[0m\u001b[0;34m[\u001b[0m\u001b[0myear\u001b[0m\u001b[0;34m,\u001b[0m\u001b[0mmonth\u001b[0m\u001b[0;34m,\u001b[0m\u001b[0mm\u001b[0m\u001b[0;34m.\u001b[0m\u001b[0mpredict\u001b[0m\u001b[0;34m(\u001b[0m\u001b[0mmonth\u001b[0m\u001b[0;34m,\u001b[0m\u001b[0myear\u001b[0m\u001b[0;34m)\u001b[0m\u001b[0;34m]\u001b[0m\u001b[0;34m)\u001b[0m\u001b[0;34m\u001b[0m\u001b[0;34m\u001b[0m\u001b[0m\n\u001b[0m",
      "\u001b[0;32m~/Sandbox/Canpotex/models.py\u001b[0m in \u001b[0;36mpredict\u001b[0;34m(self, month, year)\u001b[0m\n\u001b[1;32m    338\u001b[0m         \u001b[0mqDummy\u001b[0m \u001b[0;34m=\u001b[0m \u001b[0mself\u001b[0m\u001b[0;34m.\u001b[0m\u001b[0mquarterly_dummy\u001b[0m\u001b[0;34m(\u001b[0m\u001b[0mmonth\u001b[0m\u001b[0;34m=\u001b[0m\u001b[0mmonth\u001b[0m\u001b[0;34m)\u001b[0m\u001b[0;34m\u001b[0m\u001b[0;34m\u001b[0m\u001b[0m\n\u001b[1;32m    339\u001b[0m         \u001b[0;31m# MINE NETBACK\u001b[0m\u001b[0;34m\u001b[0m\u001b[0;34m\u001b[0m\u001b[0;34m\u001b[0m\u001b[0m\n\u001b[0;32m--> 340\u001b[0;31m         \u001b[0mmineNetback_predict\u001b[0m \u001b[0;34m=\u001b[0m \u001b[0mMineNetBack\u001b[0m\u001b[0;34m(\u001b[0m\u001b[0;34m)\u001b[0m\u001b[0;34m.\u001b[0m\u001b[0mpredict\u001b[0m\u001b[0;34m(\u001b[0m\u001b[0mmonth\u001b[0m\u001b[0;34m=\u001b[0m\u001b[0mmonth\u001b[0m\u001b[0;34m,\u001b[0m\u001b[0myear\u001b[0m\u001b[0;34m=\u001b[0m\u001b[0myear\u001b[0m\u001b[0;34m)\u001b[0m\u001b[0;34m\u001b[0m\u001b[0;34m\u001b[0m\u001b[0m\n\u001b[0m\u001b[1;32m    341\u001b[0m         \u001b[0mmine_netbacks\u001b[0m \u001b[0;34m=\u001b[0m \u001b[0mself\u001b[0m\u001b[0;34m.\u001b[0m\u001b[0mget_historical_mineNetback\u001b[0m\u001b[0;34m\u001b[0m\u001b[0;34m\u001b[0m\u001b[0m\n\u001b[1;32m    342\u001b[0m         \u001b[0mmine_netbacks\u001b[0m \u001b[0;34m=\u001b[0m \u001b[0mmine_netbacks\u001b[0m\u001b[0;34m[\u001b[0m\u001b[0;34m(\u001b[0m\u001b[0mmine_netbacks\u001b[0m\u001b[0;34m.\u001b[0m\u001b[0mindex\u001b[0m\u001b[0;34m.\u001b[0m\u001b[0mmonth\u001b[0m\u001b[0;34m==\u001b[0m\u001b[0mself\u001b[0m\u001b[0;34m.\u001b[0m\u001b[0mmonth\u001b[0m\u001b[0;34m)\u001b[0m \u001b[0;34m&\u001b[0m \u001b[0;34m(\u001b[0m\u001b[0mmine_netbacks\u001b[0m\u001b[0;34m.\u001b[0m\u001b[0mindex\u001b[0m\u001b[0;34m.\u001b[0m\u001b[0myear\u001b[0m\u001b[0;34m==\u001b[0m\u001b[0mself\u001b[0m\u001b[0;34m.\u001b[0m\u001b[0myear\u001b[0m\u001b[0;34m)\u001b[0m\u001b[0;34m]\u001b[0m\u001b[0;34m.\u001b[0m\u001b[0miloc\u001b[0m\u001b[0;34m[\u001b[0m\u001b[0;34m-\u001b[0m\u001b[0;36m1\u001b[0m\u001b[0;34m]\u001b[0m\u001b[0;34m\u001b[0m\u001b[0;34m\u001b[0m\u001b[0m\n",
      "\u001b[0;32m~/Sandbox/Canpotex/models.py\u001b[0m in \u001b[0;36mpredict\u001b[0;34m(self, month, year)\u001b[0m\n\u001b[1;32m    274\u001b[0m         \u001b[0mprint\u001b[0m\u001b[0;34m(\u001b[0m\u001b[0;34mf\"Predicting MineNetback >> {self.month} / {self.year}...\"\u001b[0m\u001b[0;34m)\u001b[0m\u001b[0;34m\u001b[0m\u001b[0;34m\u001b[0m\u001b[0m\n\u001b[1;32m    275\u001b[0m         \u001b[0;31m# SE ASIA\u001b[0m\u001b[0;34m\u001b[0m\u001b[0;34m\u001b[0m\u001b[0;34m\u001b[0m\u001b[0m\n\u001b[0;32m--> 276\u001b[0;31m         \u001b[0mseasia_predict\u001b[0m \u001b[0;34m=\u001b[0m \u001b[0mSEAsiaCFR\u001b[0m\u001b[0;34m(\u001b[0m\u001b[0;34m)\u001b[0m\u001b[0;34m.\u001b[0m\u001b[0mpredict\u001b[0m\u001b[0;34m(\u001b[0m\u001b[0mmonth\u001b[0m\u001b[0;34m=\u001b[0m\u001b[0mmonth\u001b[0m\u001b[0;34m,\u001b[0m\u001b[0myear\u001b[0m\u001b[0;34m=\u001b[0m\u001b[0myear\u001b[0m\u001b[0;34m)\u001b[0m\u001b[0;34m\u001b[0m\u001b[0;34m\u001b[0m\u001b[0m\n\u001b[0m\u001b[1;32m    277\u001b[0m         \u001b[0mseasia_cfr\u001b[0m \u001b[0;34m=\u001b[0m \u001b[0mself\u001b[0m\u001b[0;34m.\u001b[0m\u001b[0mget_SEAsiaCFR\u001b[0m\u001b[0;34m\u001b[0m\u001b[0;34m\u001b[0m\u001b[0m\n\u001b[1;32m    278\u001b[0m         \u001b[0mseasia_std\u001b[0m \u001b[0;34m=\u001b[0m \u001b[0mseasia_cfr\u001b[0m\u001b[0;34m[\u001b[0m\u001b[0;34m(\u001b[0m\u001b[0mseasia_cfr\u001b[0m\u001b[0;34m.\u001b[0m\u001b[0mindex\u001b[0m\u001b[0;34m.\u001b[0m\u001b[0mmonth\u001b[0m\u001b[0;34m==\u001b[0m\u001b[0mself\u001b[0m\u001b[0;34m.\u001b[0m\u001b[0mmonth\u001b[0m\u001b[0;34m)\u001b[0m \u001b[0;34m&\u001b[0m \u001b[0;34m(\u001b[0m\u001b[0mseasia_cfr\u001b[0m\u001b[0;34m.\u001b[0m\u001b[0mindex\u001b[0m\u001b[0;34m.\u001b[0m\u001b[0myear\u001b[0m\u001b[0;34m==\u001b[0m\u001b[0mself\u001b[0m\u001b[0;34m.\u001b[0m\u001b[0myear\u001b[0m\u001b[0;34m)\u001b[0m\u001b[0;34m]\u001b[0m\u001b[0;34m.\u001b[0m\u001b[0mstd_1\u001b[0m\u001b[0;34m.\u001b[0m\u001b[0miloc\u001b[0m\u001b[0;34m[\u001b[0m\u001b[0;34m-\u001b[0m\u001b[0;36m1\u001b[0m\u001b[0;34m]\u001b[0m\u001b[0;34m\u001b[0m\u001b[0;34m\u001b[0m\u001b[0m\n",
      "\u001b[0;32m~/Sandbox/Canpotex/models.py\u001b[0m in \u001b[0;36mpredict\u001b[0;34m(self, month, year)\u001b[0m\n\u001b[1;32m    225\u001b[0m         \u001b[0mg\u001b[0m \u001b[0;34m=\u001b[0m \u001b[0mgdp\u001b[0m\u001b[0;34m[\u001b[0m\u001b[0;34m(\u001b[0m\u001b[0mgdp\u001b[0m\u001b[0;34m.\u001b[0m\u001b[0mindex\u001b[0m\u001b[0;34m.\u001b[0m\u001b[0mmonth\u001b[0m\u001b[0;34m==\u001b[0m\u001b[0mself\u001b[0m\u001b[0;34m.\u001b[0m\u001b[0mmonth\u001b[0m\u001b[0;34m)\u001b[0m \u001b[0;34m&\u001b[0m \u001b[0;34m(\u001b[0m\u001b[0mgdp\u001b[0m\u001b[0;34m.\u001b[0m\u001b[0mindex\u001b[0m\u001b[0;34m.\u001b[0m\u001b[0myear\u001b[0m\u001b[0;34m==\u001b[0m\u001b[0mself\u001b[0m\u001b[0;34m.\u001b[0m\u001b[0myear\u001b[0m\u001b[0;34m)\u001b[0m\u001b[0;34m]\u001b[0m\u001b[0;34m.\u001b[0m\u001b[0miloc\u001b[0m\u001b[0;34m[\u001b[0m\u001b[0;34m-\u001b[0m\u001b[0;36m1\u001b[0m\u001b[0;34m]\u001b[0m\u001b[0;34m\u001b[0m\u001b[0;34m\u001b[0m\u001b[0m\n\u001b[1;32m    226\u001b[0m         \u001b[0;31m# EURUSD\u001b[0m\u001b[0;34m\u001b[0m\u001b[0;34m\u001b[0m\u001b[0;34m\u001b[0m\u001b[0m\n\u001b[0;32m--> 227\u001b[0;31m         \u001b[0me\u001b[0m \u001b[0;34m=\u001b[0m \u001b[0meurusd\u001b[0m\u001b[0;34m[\u001b[0m\u001b[0;34m(\u001b[0m\u001b[0meurusd\u001b[0m\u001b[0;34m.\u001b[0m\u001b[0mindex\u001b[0m\u001b[0;34m.\u001b[0m\u001b[0mmonth\u001b[0m\u001b[0;34m==\u001b[0m\u001b[0mself\u001b[0m\u001b[0;34m.\u001b[0m\u001b[0mmonth\u001b[0m\u001b[0;34m)\u001b[0m \u001b[0;34m&\u001b[0m \u001b[0;34m(\u001b[0m\u001b[0meurusd\u001b[0m\u001b[0;34m.\u001b[0m\u001b[0mindex\u001b[0m\u001b[0;34m.\u001b[0m\u001b[0myear\u001b[0m\u001b[0;34m==\u001b[0m\u001b[0mself\u001b[0m\u001b[0;34m.\u001b[0m\u001b[0myear\u001b[0m\u001b[0;34m)\u001b[0m\u001b[0;34m]\u001b[0m\u001b[0;34m.\u001b[0m\u001b[0miloc\u001b[0m\u001b[0;34m[\u001b[0m\u001b[0;34m-\u001b[0m\u001b[0;36m1\u001b[0m\u001b[0;34m]\u001b[0m\u001b[0;34m\u001b[0m\u001b[0;34m\u001b[0m\u001b[0m\n\u001b[0m\u001b[1;32m    228\u001b[0m         \u001b[0;31m# FERTILIZER PRODUCTION\u001b[0m\u001b[0;34m\u001b[0m\u001b[0;34m\u001b[0m\u001b[0;34m\u001b[0m\u001b[0m\n\u001b[1;32m    229\u001b[0m         \u001b[0mfert\u001b[0m \u001b[0;34m=\u001b[0m \u001b[0mfertprod\u001b[0m\u001b[0;34m[\u001b[0m\u001b[0;34m(\u001b[0m\u001b[0mfertprod\u001b[0m\u001b[0;34m.\u001b[0m\u001b[0mindex\u001b[0m\u001b[0;34m.\u001b[0m\u001b[0mmonth\u001b[0m\u001b[0;34m==\u001b[0m\u001b[0mself\u001b[0m\u001b[0;34m.\u001b[0m\u001b[0mmonth\u001b[0m\u001b[0;34m)\u001b[0m \u001b[0;34m&\u001b[0m \u001b[0;34m(\u001b[0m\u001b[0mfertprod\u001b[0m\u001b[0;34m.\u001b[0m\u001b[0mindex\u001b[0m\u001b[0;34m.\u001b[0m\u001b[0myear\u001b[0m\u001b[0;34m==\u001b[0m\u001b[0mself\u001b[0m\u001b[0;34m.\u001b[0m\u001b[0myear\u001b[0m\u001b[0;34m)\u001b[0m\u001b[0;34m]\u001b[0m\u001b[0;34m.\u001b[0m\u001b[0miloc\u001b[0m\u001b[0;34m[\u001b[0m\u001b[0;34m-\u001b[0m\u001b[0;36m1\u001b[0m\u001b[0;34m]\u001b[0m\u001b[0;34m\u001b[0m\u001b[0;34m\u001b[0m\u001b[0m\n",
      "\u001b[0;32m~/opt/anaconda3/envs/BT/lib/python3.7/site-packages/pandas/core/indexing.py\u001b[0m in \u001b[0;36m__getitem__\u001b[0;34m(self, key)\u001b[0m\n\u001b[1;32m    929\u001b[0m \u001b[0;34m\u001b[0m\u001b[0m\n\u001b[1;32m    930\u001b[0m             \u001b[0mmaybe_callable\u001b[0m \u001b[0;34m=\u001b[0m \u001b[0mcom\u001b[0m\u001b[0;34m.\u001b[0m\u001b[0mapply_if_callable\u001b[0m\u001b[0;34m(\u001b[0m\u001b[0mkey\u001b[0m\u001b[0;34m,\u001b[0m \u001b[0mself\u001b[0m\u001b[0;34m.\u001b[0m\u001b[0mobj\u001b[0m\u001b[0;34m)\u001b[0m\u001b[0;34m\u001b[0m\u001b[0;34m\u001b[0m\u001b[0m\n\u001b[0;32m--> 931\u001b[0;31m             \u001b[0;32mreturn\u001b[0m \u001b[0mself\u001b[0m\u001b[0;34m.\u001b[0m\u001b[0m_getitem_axis\u001b[0m\u001b[0;34m(\u001b[0m\u001b[0mmaybe_callable\u001b[0m\u001b[0;34m,\u001b[0m \u001b[0maxis\u001b[0m\u001b[0;34m=\u001b[0m\u001b[0maxis\u001b[0m\u001b[0;34m)\u001b[0m\u001b[0;34m\u001b[0m\u001b[0;34m\u001b[0m\u001b[0m\n\u001b[0m\u001b[1;32m    932\u001b[0m \u001b[0;34m\u001b[0m\u001b[0m\n\u001b[1;32m    933\u001b[0m     \u001b[0;32mdef\u001b[0m \u001b[0m_is_scalar_access\u001b[0m\u001b[0;34m(\u001b[0m\u001b[0mself\u001b[0m\u001b[0;34m,\u001b[0m \u001b[0mkey\u001b[0m\u001b[0;34m:\u001b[0m \u001b[0mtuple\u001b[0m\u001b[0;34m)\u001b[0m\u001b[0;34m:\u001b[0m\u001b[0;34m\u001b[0m\u001b[0;34m\u001b[0m\u001b[0m\n",
      "\u001b[0;32m~/opt/anaconda3/envs/BT/lib/python3.7/site-packages/pandas/core/indexing.py\u001b[0m in \u001b[0;36m_getitem_axis\u001b[0;34m(self, key, axis)\u001b[0m\n\u001b[1;32m   1564\u001b[0m \u001b[0;34m\u001b[0m\u001b[0m\n\u001b[1;32m   1565\u001b[0m             \u001b[0;31m# validate the location\u001b[0m\u001b[0;34m\u001b[0m\u001b[0;34m\u001b[0m\u001b[0;34m\u001b[0m\u001b[0m\n\u001b[0;32m-> 1566\u001b[0;31m             \u001b[0mself\u001b[0m\u001b[0;34m.\u001b[0m\u001b[0m_validate_integer\u001b[0m\u001b[0;34m(\u001b[0m\u001b[0mkey\u001b[0m\u001b[0;34m,\u001b[0m \u001b[0maxis\u001b[0m\u001b[0;34m)\u001b[0m\u001b[0;34m\u001b[0m\u001b[0;34m\u001b[0m\u001b[0m\n\u001b[0m\u001b[1;32m   1567\u001b[0m \u001b[0;34m\u001b[0m\u001b[0m\n\u001b[1;32m   1568\u001b[0m             \u001b[0;32mreturn\u001b[0m \u001b[0mself\u001b[0m\u001b[0;34m.\u001b[0m\u001b[0mobj\u001b[0m\u001b[0;34m.\u001b[0m\u001b[0m_ixs\u001b[0m\u001b[0;34m(\u001b[0m\u001b[0mkey\u001b[0m\u001b[0;34m,\u001b[0m \u001b[0maxis\u001b[0m\u001b[0;34m=\u001b[0m\u001b[0maxis\u001b[0m\u001b[0;34m)\u001b[0m\u001b[0;34m\u001b[0m\u001b[0;34m\u001b[0m\u001b[0m\n",
      "\u001b[0;32m~/opt/anaconda3/envs/BT/lib/python3.7/site-packages/pandas/core/indexing.py\u001b[0m in \u001b[0;36m_validate_integer\u001b[0;34m(self, key, axis)\u001b[0m\n\u001b[1;32m   1498\u001b[0m         \u001b[0mlen_axis\u001b[0m \u001b[0;34m=\u001b[0m \u001b[0mlen\u001b[0m\u001b[0;34m(\u001b[0m\u001b[0mself\u001b[0m\u001b[0;34m.\u001b[0m\u001b[0mobj\u001b[0m\u001b[0;34m.\u001b[0m\u001b[0m_get_axis\u001b[0m\u001b[0;34m(\u001b[0m\u001b[0maxis\u001b[0m\u001b[0;34m)\u001b[0m\u001b[0;34m)\u001b[0m\u001b[0;34m\u001b[0m\u001b[0;34m\u001b[0m\u001b[0m\n\u001b[1;32m   1499\u001b[0m         \u001b[0;32mif\u001b[0m \u001b[0mkey\u001b[0m \u001b[0;34m>=\u001b[0m \u001b[0mlen_axis\u001b[0m \u001b[0;32mor\u001b[0m \u001b[0mkey\u001b[0m \u001b[0;34m<\u001b[0m \u001b[0;34m-\u001b[0m\u001b[0mlen_axis\u001b[0m\u001b[0;34m:\u001b[0m\u001b[0;34m\u001b[0m\u001b[0;34m\u001b[0m\u001b[0m\n\u001b[0;32m-> 1500\u001b[0;31m             \u001b[0;32mraise\u001b[0m \u001b[0mIndexError\u001b[0m\u001b[0;34m(\u001b[0m\u001b[0;34m\"single positional indexer is out-of-bounds\"\u001b[0m\u001b[0;34m)\u001b[0m\u001b[0;34m\u001b[0m\u001b[0;34m\u001b[0m\u001b[0m\n\u001b[0m\u001b[1;32m   1501\u001b[0m \u001b[0;34m\u001b[0m\u001b[0m\n\u001b[1;32m   1502\u001b[0m     \u001b[0;31m# -------------------------------------------------------------------\u001b[0m\u001b[0;34m\u001b[0m\u001b[0;34m\u001b[0m\u001b[0;34m\u001b[0m\u001b[0m\n",
      "\u001b[0;31mIndexError\u001b[0m: single positional indexer is out-of-bounds"
     ]
    }
   ],
   "source": [
    "predictions = []\n",
    "for t in times:\n",
    "    month = t.month\n",
    "    year = t.year\n",
    "    if year==curr_year:\n",
    "        if month<=curr_month:\n",
    "            predictions.append([year,month,m.predict(month,year)])\n",
    "    else:\n",
    "        predictions.append([year,month,m.predict(month,year)])"
   ]
  },
  {
   "cell_type": "code",
   "execution_count": 86,
   "id": "d2708345",
   "metadata": {},
   "outputs": [],
   "source": [
    "netback_comparison = pd.DataFrame(predictions,columns=['Year','Month','Prediction'])\n",
    "netback_comparison['Interim']= interim[-len(netback_comparison):].InterimPricing.values\n",
    "\n",
    "# No need to shift since actual is realized by month end\n",
    "# netback_comparison['Prediction'] = netback_comparison.Prediction.shift(1)\n",
    "\n",
    "netback_comparison['Actual'] = netback[-len(netback_comparison):]['Netback ($/tonne)'].values"
   ]
  },
  {
   "cell_type": "code",
   "execution_count": 87,
   "id": "b2164ae2",
   "metadata": {},
   "outputs": [
    {
     "data": {
      "text/plain": [
       "<matplotlib.axes._subplots.AxesSubplot at 0x7f8ca8634810>"
      ]
     },
     "execution_count": 87,
     "metadata": {},
     "output_type": "execute_result"
    },
    {
     "data": {
      "image/png": "[encoded data removed]",
      "text/plain": [
       "<Figure size 432x288 with 1 Axes>"
      ]
     },
     "metadata": {},
     "output_type": "display_data"
    }
   ],
   "source": [
    "netback_comparison[['Prediction','Actual','Interim']].plot()"
   ]
  },
  {
   "cell_type": "code",
   "execution_count": 88,
   "id": "e2f2ee29",
   "metadata": {},
   "outputs": [],
   "source": [
    "netback_comparison['Err-Prediction-Actual'] = (netback_comparison['Actual']/netback_comparison['Prediction']-1)*100\n",
    "netback_comparison['Err-Interim-Actual'] = (netback_comparison['Actual']/netback_comparison['Interim']-1)*100"
   ]
  },
  {
   "cell_type": "code",
   "execution_count": 89,
   "id": "4c0a54c0",
   "metadata": {},
   "outputs": [
    {
     "data": {
      "text/html": [
       "<div>\n",
       "<style scoped>\n",
       "    .dataframe tbody tr th:only-of-type {\n",
       "        vertical-align: middle;\n",
       "    }\n",
       "\n",
       "    .dataframe tbody tr th {\n",
       "        vertical-align: top;\n",
       "    }\n",
       "\n",
       "    .dataframe thead th {\n",
       "        text-align: right;\n",
       "    }\n",
       "</style>\n",
       "<table border=\"1\" class=\"dataframe\">\n",
       "  <thead>\n",
       "    <tr style=\"text-align: right;\">\n",
       "      <th></th>\n",
       "      <th>Year</th>\n",
       "      <th>Month</th>\n",
       "      <th>Prediction</th>\n",
       "      <th>Interim</th>\n",
       "      <th>Actual</th>\n",
       "      <th>Err-Prediction-Actual</th>\n",
       "      <th>Err-Interim-Actual</th>\n",
       "    </tr>\n",
       "  </thead>\n",
       "  <tbody>\n",
       "    <tr>\n",
       "      <th>0</th>\n",
       "      <td>2021</td>\n",
       "      <td>12</td>\n",
       "      <td>410.01</td>\n",
       "      <td>364.613524</td>\n",
       "      <td>424.224873</td>\n",
       "      <td>3.466958</td>\n",
       "      <td>16.349188</td>\n",
       "    </tr>\n",
       "    <tr>\n",
       "      <th>1</th>\n",
       "      <td>2022</td>\n",
       "      <td>1</td>\n",
       "      <td>529.07</td>\n",
       "      <td>485.979484</td>\n",
       "      <td>522.000000</td>\n",
       "      <td>-1.336307</td>\n",
       "      <td>7.411942</td>\n",
       "    </tr>\n",
       "    <tr>\n",
       "      <th>2</th>\n",
       "      <td>2022</td>\n",
       "      <td>2</td>\n",
       "      <td>547.70</td>\n",
       "      <td>528.819883</td>\n",
       "      <td>555.469715</td>\n",
       "      <td>1.418608</td>\n",
       "      <td>5.039491</td>\n",
       "    </tr>\n",
       "    <tr>\n",
       "      <th>3</th>\n",
       "      <td>2022</td>\n",
       "      <td>3</td>\n",
       "      <td>608.76</td>\n",
       "      <td>542.513635</td>\n",
       "      <td>580.475858</td>\n",
       "      <td>-4.646189</td>\n",
       "      <td>6.997469</td>\n",
       "    </tr>\n",
       "    <tr>\n",
       "      <th>4</th>\n",
       "      <td>2022</td>\n",
       "      <td>4</td>\n",
       "      <td>657.14</td>\n",
       "      <td>580.571322</td>\n",
       "      <td>714.881002</td>\n",
       "      <td>8.786712</td>\n",
       "      <td>23.134054</td>\n",
       "    </tr>\n",
       "    <tr>\n",
       "      <th>5</th>\n",
       "      <td>2022</td>\n",
       "      <td>5</td>\n",
       "      <td>698.43</td>\n",
       "      <td>642.309268</td>\n",
       "      <td>720.468911</td>\n",
       "      <td>3.155493</td>\n",
       "      <td>12.168537</td>\n",
       "    </tr>\n",
       "    <tr>\n",
       "      <th>6</th>\n",
       "      <td>2022</td>\n",
       "      <td>6</td>\n",
       "      <td>725.85</td>\n",
       "      <td>700.956338</td>\n",
       "      <td>712.663293</td>\n",
       "      <td>-1.816726</td>\n",
       "      <td>1.670140</td>\n",
       "    </tr>\n",
       "    <tr>\n",
       "      <th>7</th>\n",
       "      <td>2022</td>\n",
       "      <td>7</td>\n",
       "      <td>699.63</td>\n",
       "      <td>696.350225</td>\n",
       "      <td>622.874274</td>\n",
       "      <td>-10.970903</td>\n",
       "      <td>-10.551580</td>\n",
       "    </tr>\n",
       "  </tbody>\n",
       "</table>\n",
       "</div>"
      ],
      "text/plain": [
       "   Year  Month  Prediction     Interim      Actual  Err-Prediction-Actual  \\\n",
       "0  2021     12      410.01  364.613524  424.224873               3.466958   \n",
       "1  2022      1      529.07  485.979484  522.000000              -1.336307   \n",
       "2  2022      2      547.70  528.819883  555.469715               1.418608   \n",
       "3  2022      3      608.76  542.513635  580.475858              -4.646189   \n",
       "4  2022      4      657.14  580.571322  714.881002               8.786712   \n",
       "5  2022      5      698.43  642.309268  720.468911               3.155493   \n",
       "6  2022      6      725.85  700.956338  712.663293              -1.816726   \n",
       "7  2022      7      699.63  696.350225  622.874274             -10.970903   \n",
       "\n",
       "   Err-Interim-Actual  \n",
       "0           16.349188  \n",
       "1            7.411942  \n",
       "2            5.039491  \n",
       "3            6.997469  \n",
       "4           23.134054  \n",
       "5           12.168537  \n",
       "6            1.670140  \n",
       "7          -10.551580  "
      ]
     },
     "execution_count": 89,
     "metadata": {},
     "output_type": "execute_result"
    }
   ],
   "source": [
    "netback_comparison"
   ]
  },
  {
   "cell_type": "code",
   "execution_count": 92,
   "id": "3caa16f1",
   "metadata": {},
   "outputs": [
    {
     "data": {
      "text/plain": [
       "<matplotlib.axes._subplots.AxesSubplot at 0x7f8ca8432b10>"
      ]
     },
     "execution_count": 92,
     "metadata": {},
     "output_type": "execute_result"
    },
    {
     "data": {
      "image/png": "[encoded data removed]",
      "text/plain": [
       "<Figure size 432x288 with 1 Axes>"
      ]
     },
     "metadata": {},
     "output_type": "display_data"
    }
   ],
   "source": [
    "abs(netback_comparison[['Err-Prediction-Actual','Err-Interim-Actual']]).plot(kind='bar',title='Error Comparison')"
   ]
  },
  {
   "cell_type": "code",
   "execution_count": null,
   "id": "05712f80",
   "metadata": {},
   "outputs": [],
   "source": []
  }
 ],
 "metadata": {
  "kernelspec": {
   "display_name": "Python 3 (ipykernel)",
   "language": "python",
   "name": "python3"
  },
  "language_info": {
   "codemirror_mode": {
    "name": "ipython",
    "version": 3
   },
   "file_extension": ".py",
   "mimetype": "text/x-python",
   "name": "python",
   "nbconvert_exporter": "python",
   "pygments_lexer": "ipython3",
   "version": "3.7.13"
  }
 },
 "nbformat": 4,
 "nbformat_minor": 5
}
