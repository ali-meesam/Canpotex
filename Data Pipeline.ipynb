{
 "cells": [
  {
   "cell_type": "code",
   "execution_count": 1,
   "id": "27a8e962",
   "metadata": {},
   "outputs": [],
   "source": [
    "from datapipeline import DataFeed\n",
    "import os\n",
    "import pandas as pd\n",
    "from datetime import datetime"
   ]
  },
  {
   "cell_type": "code",
   "execution_count": 2,
   "id": "bde2dcde",
   "metadata": {},
   "outputs": [],
   "source": [
    "self = DataFeed()"
   ]
  },
  {
   "cell_type": "code",
   "execution_count": 3,
   "id": "1af34c46",
   "metadata": {},
   "outputs": [],
   "source": [
    "brazil = self.get_BrazilCFR\n",
    "brazil.dropna(inplace=True)"
   ]
  },
  {
   "cell_type": "code",
   "execution_count": 4,
   "id": "3903b3d9",
   "metadata": {},
   "outputs": [],
   "source": [
    "seasia = self.get_SEAsiaCFR\n",
    "seasia.dropna(inplace=True)"
   ]
  },
  {
   "cell_type": "code",
   "execution_count": 5,
   "id": "453c09d2",
   "metadata": {},
   "outputs": [],
   "source": [
    "foodpriceindex = self.get_food_price_index\n",
    "foodpriceindex.dropna(inplace=True)"
   ]
  },
  {
   "cell_type": "code",
   "execution_count": 6,
   "id": "995052ff",
   "metadata": {},
   "outputs": [],
   "source": [
    "eurusd = self.get_eurusd\n",
    "eurusd.dropna(inplace=True)"
   ]
  },
  {
   "cell_type": "code",
   "execution_count": 7,
   "id": "687915c1",
   "metadata": {},
   "outputs": [],
   "source": [
    "cpi = self.get_g20_cpi\n",
    "cpi.dropna(inplace=True)"
   ]
  },
  {
   "cell_type": "code",
   "execution_count": 8,
   "id": "021ec403",
   "metadata": {},
   "outputs": [],
   "source": [
    "gdp = self.get_gdp\n",
    "gdp.dropna(inplace=True)"
   ]
  },
  {
   "cell_type": "code",
   "execution_count": 9,
   "id": "daf18859",
   "metadata": {},
   "outputs": [],
   "source": [
    "netback = self.get_historical_netback\n",
    "netback.dropna(inplace=True)"
   ]
  },
  {
   "cell_type": "code",
   "execution_count": 10,
   "id": "27e17f51",
   "metadata": {},
   "outputs": [],
   "source": [
    "minenetback = self.get_historical_mineNetback\n",
    "minenetback.dropna(inplace=True)"
   ]
  },
  {
   "cell_type": "code",
   "execution_count": 11,
   "id": "09bc1154",
   "metadata": {},
   "outputs": [],
   "source": [
    "naturalgas = self.get_natural_gas\n",
    "naturalgas.dropna(inplace=True)"
   ]
  },
  {
   "cell_type": "code",
   "execution_count": 12,
   "id": "c67098f5",
   "metadata": {},
   "outputs": [],
   "source": [
    "ethanol = self.get_ethanol\n",
    "ethanol.dropna(inplace=True)"
   ]
  },
  {
   "cell_type": "code",
   "execution_count": 13,
   "id": "5e4ed6b9",
   "metadata": {},
   "outputs": [],
   "source": [
    "fertilizerprod = self.get_total_fertilizer_production\n",
    "fertilizerprod.dropna(inplace=True)"
   ]
  },
  {
   "cell_type": "code",
   "execution_count": 14,
   "id": "8e788e11",
   "metadata": {},
   "outputs": [],
   "source": [
    "freightcost = self.get_freightCost\n",
    "freightcost.dropna(inplace=True)"
   ]
  },
  {
   "cell_type": "code",
   "execution_count": 15,
   "id": "d66886cd",
   "metadata": {},
   "outputs": [],
   "source": [
    "interim = self.get_interimPricing\n",
    "interim.dropna(inplace=True)"
   ]
  },
  {
   "cell_type": "code",
   "execution_count": 16,
   "id": "e235c0c5",
   "metadata": {},
   "outputs": [],
   "source": [
    "_vars = [brazil,seasia,foodpriceindex,eurusd,cpi,gdp,netback,minenetback,naturalgas,ethanol,fertilizerprod,freightcost,interim]"
   ]
  },
  {
   "cell_type": "code",
   "execution_count": null,
   "id": "1d33a35f",
   "metadata": {},
   "outputs": [],
   "source": []
  },
  {
   "cell_type": "code",
   "execution_count": 78,
   "id": "d419f377",
   "metadata": {},
   "outputs": [],
   "source": [
    "counts = [v.iloc[0].name for v in _vars]"
   ]
  },
  {
   "cell_type": "code",
   "execution_count": 80,
   "id": "eeaee586",
   "metadata": {},
   "outputs": [
    {
     "data": {
      "text/plain": [
       "Timestamp('2021-12-01 00:00:00')"
      ]
     },
     "execution_count": 80,
     "metadata": {},
     "output_type": "execute_result"
    }
   ],
   "source": []
  },
  {
   "cell_type": "code",
   "execution_count": 81,
   "id": "8d59af87",
   "metadata": {},
   "outputs": [],
   "source": [
    "# GET THE SMALLEST DATA SET\n",
    "times = _vars[counts.index(max(counts))].index.tolist()"
   ]
  },
  {
   "cell_type": "code",
   "execution_count": 82,
   "id": "1f274ea1",
   "metadata": {},
   "outputs": [
    {
     "data": {
      "text/plain": [
       "[Timestamp('2021-12-01 00:00:00'),\n",
       " Timestamp('2022-01-01 00:00:00'),\n",
       " Timestamp('2022-02-01 00:00:00'),\n",
       " Timestamp('2022-03-01 00:00:00'),\n",
       " Timestamp('2022-04-01 00:00:00'),\n",
       " Timestamp('2022-05-01 00:00:00'),\n",
       " Timestamp('2022-06-01 00:00:00'),\n",
       " Timestamp('2022-07-01 00:00:00'),\n",
       " Timestamp('2022-08-01 00:00:00'),\n",
       " Timestamp('2022-09-01 00:00:00'),\n",
       " Timestamp('2022-10-01 00:00:00'),\n",
       " Timestamp('2022-11-01 00:00:00'),\n",
       " Timestamp('2022-12-01 00:00:00'),\n",
       " Timestamp('2023-01-01 00:00:00'),\n",
       " Timestamp('2023-02-01 00:00:00'),\n",
       " Timestamp('2023-03-01 00:00:00'),\n",
       " Timestamp('2023-04-01 00:00:00'),\n",
       " Timestamp('2023-05-01 00:00:00'),\n",
       " Timestamp('2023-06-01 00:00:00'),\n",
       " Timestamp('2023-07-01 00:00:00'),\n",
       " Timestamp('2023-08-01 00:00:00'),\n",
       " Timestamp('2023-09-01 00:00:00'),\n",
       " Timestamp('2023-10-01 00:00:00'),\n",
       " Timestamp('2023-11-01 00:00:00'),\n",
       " Timestamp('2023-12-01 00:00:00')]"
      ]
     },
     "execution_count": 82,
     "metadata": {},
     "output_type": "execute_result"
    }
   ],
   "source": [
    "times"
   ]
  },
  {
   "cell_type": "code",
   "execution_count": 19,
   "id": "3f84adbb",
   "metadata": {},
   "outputs": [],
   "source": [
    "from models import ActualNetback, BrazilCFR"
   ]
  },
  {
   "cell_type": "code",
   "execution_count": 83,
   "id": "00240de4",
   "metadata": {},
   "outputs": [],
   "source": [
    "curr_month = 7\n",
    "curr_year = 2022"
   ]
  },
  {
   "cell_type": "code",
   "execution_count": 84,
   "id": "494db49d",
   "metadata": {},
   "outputs": [],
   "source": [
    "m = ActualNetback()"
   ]
  },
  {
   "cell_type": "code",
   "execution_count": null,
   "id": "86af91bc",
   "metadata": {},
   "outputs": [
    {
     "name": "stdout",
     "output_type": "stream",
     "text": [
      "Predicting Actual Netback >> 12 / 2021...\n",
      "Predicting MineNetback >> 12 / 2021...\n",
      "Predicting SE Asia >> 12 / 2021...\n"
     ]
    },
    {
     "name": "stderr",
     "output_type": "stream",
     "text": [
      "100%|████████████████████████████████████████████████████████████████████████████████████████████████████████████████| 20000/20000 [00:01<00:00, 10825.79it/s]\n"
     ]
    },
    {
     "name": "stdout",
     "output_type": "stream",
     "text": [
      "**************************************************\n",
      "        Predictions\n",
      "count  20000.000000\n",
      "mean     471.856820\n",
      "std       56.100462\n",
      "min      330.981579\n",
      "25%      431.653920\n",
      "50%      471.569166\n",
      "75%      512.104141\n",
      "max      611.341740\n",
      "**************************************************\n",
      "Max Density -->>> $472.56\n",
      "Predicting Brazil >> 12 / 2021...\n"
     ]
    },
    {
     "name": "stderr",
     "output_type": "stream",
     "text": [
      "100%|█████████████████████████████████████████████████████████████████████████████████████████████████████████████████| 20000/20000 [00:02<00:00, 6762.39it/s]\n"
     ]
    },
    {
     "name": "stdout",
     "output_type": "stream",
     "text": [
      "**************************************************\n",
      "        Predictions\n",
      "count  20000.000000\n",
      "mean     872.473186\n",
      "std       82.090563\n",
      "min      664.596553\n",
      "25%      813.893145\n",
      "50%      871.510924\n",
      "75%      931.890018\n",
      "max     1082.452485\n",
      "**************************************************\n",
      "Max Density -->>> $866.41\n"
     ]
    },
    {
     "name": "stderr",
     "output_type": "stream",
     "text": [
      "100%|████████████████████████████████████████████████████████████████████████████████████████████████████████████████| 20000/20000 [00:00<00:00, 22298.75it/s]\n"
     ]
    },
    {
     "name": "stdout",
     "output_type": "stream",
     "text": [
      "**************************************************\n",
      "        Predictions\n",
      "count  20000.000000\n",
      "mean     502.530893\n",
      "std       43.849112\n",
      "min      366.476809\n",
      "25%      471.997419\n",
      "50%      502.482266\n",
      "75%      532.828904\n",
      "max      646.158986\n",
      "**************************************************\n",
      "Max Density -->>> $503.8\n"
     ]
    },
    {
     "name": "stderr",
     "output_type": "stream",
     "text": [
      "100%|████████████████████████████████████████████████████████████████████████████████████████████████████████████████| 20000/20000 [00:01<00:00, 13603.30it/s]\n"
     ]
    },
    {
     "name": "stdout",
     "output_type": "stream",
     "text": [
      "**************************************************\n",
      "        Predictions\n",
      "count  20000.000000\n",
      "mean     408.048837\n",
      "std       39.912216\n",
      "min      283.475022\n",
      "25%      380.213182\n",
      "50%      408.314479\n",
      "75%      435.410171\n",
      "max      540.137148\n",
      "**************************************************\n",
      "Max Density -->>> $410.01\n",
      "Predicting Actual Netback >> 1 / 2022...\n",
      "Predicting MineNetback >> 1 / 2022...\n",
      "Predicting SE Asia >> 1 / 2022...\n"
     ]
    },
    {
     "name": "stderr",
     "output_type": "stream",
     "text": [
      "100%|█████████████████████████████████████████████████████████████████████████████████████████████████████████████████| 20000/20000 [00:03<00:00, 6492.62it/s]\n"
     ]
    },
    {
     "name": "stdout",
     "output_type": "stream",
     "text": [
      "**************************************************\n",
      "        Predictions\n",
      "count  20000.000000\n",
      "mean     479.901308\n",
      "std       57.867710\n",
      "min      336.741392\n",
      "25%      438.509756\n",
      "50%      480.294730\n",
      "75%      521.501307\n",
      "max      625.544258\n",
      "**************************************************\n",
      "Max Density -->>> $482.01\n",
      "Predicting Brazil >> 1 / 2022...\n"
     ]
    },
    {
     "name": "stderr",
     "output_type": "stream",
     "text": [
      "100%|█████████████████████████████████████████████████████████████████████████████████████████████████████████████████| 20000/20000 [00:03<00:00, 6014.93it/s]\n"
     ]
    },
    {
     "name": "stdout",
     "output_type": "stream",
     "text": [
      "**************************************************\n",
      "        Predictions\n",
      "count  20000.000000\n",
      "mean     869.750692\n",
      "std       79.554867\n",
      "min      666.443748\n",
      "25%      812.746885\n",
      "50%      869.994053\n",
      "75%      926.498910\n",
      "max     1075.879284\n",
      "**************************************************\n",
      "Max Density -->>> $871.57\n"
     ]
    },
    {
     "name": "stderr",
     "output_type": "stream",
     "text": [
      "100%|████████████████████████████████████████████████████████████████████████████████████████████████████████████████| 20000/20000 [00:01<00:00, 17408.35it/s]\n"
     ]
    },
    {
     "name": "stdout",
     "output_type": "stream",
     "text": [
      "**************************************************\n",
      "        Predictions\n",
      "count  20000.000000\n",
      "mean     502.833731\n",
      "std       43.332217\n",
      "min      362.161345\n",
      "25%      472.670707\n",
      "50%      502.962271\n",
      "75%      533.018360\n",
      "max      636.758987\n",
      "**************************************************\n",
      "Max Density -->>> $507.43\n"
     ]
    },
    {
     "name": "stderr",
     "output_type": "stream",
     "text": [
      "100%|████████████████████████████████████████████████████████████████████████████████████████████████████████████████| 20000/20000 [00:01<00:00, 14516.08it/s]\n"
     ]
    },
    {
     "name": "stdout",
     "output_type": "stream",
     "text": [
      "**************************************************\n",
      "        Predictions\n",
      "count  20000.000000\n",
      "mean     522.636252\n",
      "std       45.962662\n",
      "min      372.186372\n",
      "25%      490.435609\n",
      "50%      522.739101\n",
      "75%      554.905036\n",
      "max      674.455330\n",
      "**************************************************\n",
      "Max Density -->>> $529.07\n",
      "Predicting Actual Netback >> 2 / 2022...\n",
      "Predicting MineNetback >> 2 / 2022...\n",
      "Predicting SE Asia >> 2 / 2022...\n"
     ]
    },
    {
     "name": "stderr",
     "output_type": "stream",
     "text": [
      "100%|████████████████████████████████████████████████████████████████████████████████████████████████████████████████| 20000/20000 [00:01<00:00, 11500.35it/s]\n"
     ]
    },
    {
     "name": "stdout",
     "output_type": "stream",
     "text": [
      "**************************************************\n",
      "        Predictions\n",
      "count  20000.000000\n",
      "mean     493.577487\n",
      "std       56.442317\n",
      "min      352.305680\n",
      "25%      453.449537\n",
      "50%      493.744039\n",
      "75%      533.516860\n",
      "max      637.623647\n",
      "**************************************************\n",
      "Max Density -->>> $495.25\n",
      "Predicting Brazil >> 2 / 2022...\n"
     ]
    },
    {
     "name": "stderr",
     "output_type": "stream",
     "text": [
      "100%|█████████████████████████████████████████████████████████████████████████████████████████████████████████████████| 20000/20000 [00:04<00:00, 4586.80it/s]\n"
     ]
    },
    {
     "name": "stdout",
     "output_type": "stream",
     "text": [
      "**************************************************\n",
      "        Predictions\n",
      "count  20000.000000\n",
      "mean     856.117853\n",
      "std       73.613644\n",
      "min      667.015693\n",
      "25%      804.168134\n",
      "50%      855.768382\n",
      "75%      908.827802\n",
      "max     1046.107735\n",
      "**************************************************\n",
      "Max Density -->>> $853.91\n"
     ]
    },
    {
     "name": "stderr",
     "output_type": "stream",
     "text": [
      "100%|████████████████████████████████████████████████████████████████████████████████████████████████████████████████| 20000/20000 [00:01<00:00, 12555.59it/s]\n"
     ]
    },
    {
     "name": "stdout",
     "output_type": "stream",
     "text": [
      "**************************************************\n",
      "        Predictions\n",
      "count  20000.000000\n",
      "mean     495.399949\n",
      "std       41.333265\n",
      "min      358.369571\n",
      "25%      466.896368\n",
      "50%      495.275914\n",
      "75%      524.459707\n",
      "max      638.870195\n",
      "**************************************************\n",
      "Max Density -->>> $486.55\n"
     ]
    },
    {
     "name": "stderr",
     "output_type": "stream",
     "text": [
      "100%|█████████████████████████████████████████████████████████████████████████████████████████████████████████████████| 20000/20000 [00:02<00:00, 8054.78it/s]\n"
     ]
    },
    {
     "name": "stdout",
     "output_type": "stream",
     "text": [
      "**************************************************\n",
      "        Predictions\n",
      "count  20000.000000\n",
      "mean     541.891946\n",
      "std       50.749705\n",
      "min      380.112088\n",
      "25%      506.664847\n",
      "50%      541.953262\n",
      "75%      577.317121\n",
      "max      700.538898\n",
      "**************************************************\n",
      "Max Density -->>> $547.7\n",
      "Predicting Actual Netback >> 3 / 2022...\n",
      "Predicting MineNetback >> 3 / 2022...\n",
      "Predicting SE Asia >> 3 / 2022...\n"
     ]
    },
    {
     "name": "stderr",
     "output_type": "stream",
     "text": [
      "100%|█████████████████████████████████████████████████████████████████████████████████████████████████████████████████| 20000/20000 [00:03<00:00, 5627.67it/s]\n"
     ]
    },
    {
     "name": "stdout",
     "output_type": "stream",
     "text": [
      "**************************************************\n",
      "        Predictions\n",
      "count  20000.000000\n",
      "mean     635.239020\n",
      "std       59.659121\n",
      "min      482.155409\n",
      "25%      593.004562\n",
      "50%      635.809915\n",
      "75%      677.253270\n",
      "max      780.792275\n",
      "**************************************************\n",
      "Max Density -->>> $637.75\n",
      "Predicting Brazil >> 3 / 2022...\n"
     ]
    },
    {
     "name": "stderr",
     "output_type": "stream",
     "text": [
      "100%|█████████████████████████████████████████████████████████████████████████████████████████████████████████████████| 20000/20000 [00:04<00:00, 4549.53it/s]\n"
     ]
    },
    {
     "name": "stdout",
     "output_type": "stream",
     "text": [
      "**************************************************\n",
      "        Predictions\n",
      "count  20000.000000\n",
      "mean    1094.716852\n",
      "std       75.949929\n",
      "min      891.186829\n",
      "25%     1040.371497\n",
      "50%     1095.431553\n",
      "75%     1148.947814\n",
      "max     1286.170858\n",
      "**************************************************\n",
      "Max Density -->>> $1096.19\n"
     ]
    },
    {
     "name": "stderr",
     "output_type": "stream",
     "text": [
      "100%|████████████████████████████████████████████████████████████████████████████████████████████████████████████████| 20000/20000 [00:00<00:00, 20618.49it/s]\n"
     ]
    },
    {
     "name": "stdout",
     "output_type": "stream",
     "text": [
      "**************************************************\n",
      "        Predictions\n",
      "count  20000.000000\n",
      "mean     640.110881\n",
      "std       43.615678\n",
      "min      496.925642\n",
      "25%      609.598803\n",
      "50%      639.836651\n",
      "75%      670.606450\n",
      "max      782.074934\n",
      "**************************************************\n",
      "Max Density -->>> $639.21\n"
     ]
    },
    {
     "name": "stderr",
     "output_type": "stream",
     "text": [
      "100%|████████████████████████████████████████████████████████████████████████████████████████████████████████████████| 20000/20000 [00:01<00:00, 14056.95it/s]\n"
     ]
    },
    {
     "name": "stdout",
     "output_type": "stream",
     "text": [
      "**************************************************\n",
      "        Predictions\n",
      "count  20000.000000\n",
      "mean     611.704757\n",
      "std       54.888471\n",
      "min      425.677787\n",
      "25%      572.928241\n",
      "50%      611.328647\n",
      "75%      650.040132\n",
      "max      785.364566\n",
      "**************************************************\n",
      "Max Density -->>> $608.76\n",
      "Predicting Actual Netback >> 4 / 2022...\n",
      "Predicting MineNetback >> 4 / 2022...\n",
      "Predicting SE Asia >> 4 / 2022...\n"
     ]
    },
    {
     "name": "stderr",
     "output_type": "stream",
     "text": [
      " 29%|████████████████████████████████▉                                                                                 | 5786/20000 [00:00<00:01, 7864.27it/s]"
     ]
    }
   ],
   "source": [
    "predictions = []\n",
    "for t in times:\n",
    "    month = t.month\n",
    "    year = t.year\n",
    "    if year==curr_year:\n",
    "        if month<=curr_month:\n",
    "            predictions.append([year,month,m.predict(month,year)])\n",
    "    else:\n",
    "        predictions.append([year,month,m.predict(month,year)])"
   ]
  },
  {
   "cell_type": "code",
   "execution_count": 73,
   "id": "a441b874",
   "metadata": {},
   "outputs": [],
   "source": [
    "netback_comparison = pd.DataFrame(predictions,columns=['Year','Month','Prediction'])\n",
    "netback_comparison['Interim']= interim[-len(netback_comparison):].InterimPricing.values\n",
    "\n",
    "# No need to shift since actual is realized by month end\n",
    "# netback_comparison['Prediction'] = netback_comparison.Prediction.shift(1)\n",
    "\n",
    "netback_comparison['Actual'] = netback[-len(netback_comparison):]['Netback ($/tonne)'].values"
   ]
  },
  {
   "cell_type": "code",
   "execution_count": 74,
   "id": "8888e3dd",
   "metadata": {},
   "outputs": [
    {
     "data": {
      "text/plain": [
       "<matplotlib.axes._subplots.AxesSubplot at 0x7f8cc40aff90>"
      ]
     },
     "execution_count": 74,
     "metadata": {},
     "output_type": "execute_result"
    },
    {
     "data": {
      "image/png": "[encoded data removed]",
      "text/plain": [
       "<Figure size 432x288 with 1 Axes>"
      ]
     },
     "metadata": {},
     "output_type": "display_data"
    }
   ],
   "source": [
    "netback_comparison[['Prediction','Actual','Interim']].plot()"
   ]
  },
  {
   "cell_type": "code",
   "execution_count": 75,
   "id": "e36cb807",
   "metadata": {},
   "outputs": [],
   "source": [
    "netback_comparison['Err-Prediction-Actual'] = (netback_comparison['Actual']/netback_comparison['Prediction']-1)*100\n",
    "netback_comparison['Err-Interim-Actual'] = (netback_comparison['Actual']/netback_comparison['Interim']-1)*100"
   ]
  },
  {
   "cell_type": "code",
   "execution_count": 76,
   "id": "bfb22c74",
   "metadata": {},
   "outputs": [
    {
     "data": {
      "text/html": [
       "<div>\n",
       "<style scoped>\n",
       "    .dataframe tbody tr th:only-of-type {\n",
       "        vertical-align: middle;\n",
       "    }\n",
       "\n",
       "    .dataframe tbody tr th {\n",
       "        vertical-align: top;\n",
       "    }\n",
       "\n",
       "    .dataframe thead th {\n",
       "        text-align: right;\n",
       "    }\n",
       "</style>\n",
       "<table border=\"1\" class=\"dataframe\">\n",
       "  <thead>\n",
       "    <tr style=\"text-align: right;\">\n",
       "      <th></th>\n",
       "      <th>Year</th>\n",
       "      <th>Month</th>\n",
       "      <th>Prediction</th>\n",
       "      <th>Interim</th>\n",
       "      <th>Actual</th>\n",
       "      <th>Err-Prediction-Actual</th>\n",
       "      <th>Err-Interim-Actual</th>\n",
       "    </tr>\n",
       "  </thead>\n",
       "  <tbody>\n",
       "    <tr>\n",
       "      <th>0</th>\n",
       "      <td>2021</td>\n",
       "      <td>12</td>\n",
       "      <td>411.02</td>\n",
       "      <td>364.613524</td>\n",
       "      <td>424.224873</td>\n",
       "      <td>3.212708</td>\n",
       "      <td>16.349188</td>\n",
       "    </tr>\n",
       "    <tr>\n",
       "      <th>1</th>\n",
       "      <td>2022</td>\n",
       "      <td>1</td>\n",
       "      <td>524.05</td>\n",
       "      <td>485.979484</td>\n",
       "      <td>522.000000</td>\n",
       "      <td>-0.391184</td>\n",
       "      <td>7.411942</td>\n",
       "    </tr>\n",
       "    <tr>\n",
       "      <th>2</th>\n",
       "      <td>2022</td>\n",
       "      <td>2</td>\n",
       "      <td>539.36</td>\n",
       "      <td>528.819883</td>\n",
       "      <td>555.469715</td>\n",
       "      <td>2.986821</td>\n",
       "      <td>5.039491</td>\n",
       "    </tr>\n",
       "    <tr>\n",
       "      <th>3</th>\n",
       "      <td>2022</td>\n",
       "      <td>3</td>\n",
       "      <td>614.20</td>\n",
       "      <td>542.513635</td>\n",
       "      <td>580.475858</td>\n",
       "      <td>-5.490743</td>\n",
       "      <td>6.997469</td>\n",
       "    </tr>\n",
       "    <tr>\n",
       "      <th>4</th>\n",
       "      <td>2022</td>\n",
       "      <td>4</td>\n",
       "      <td>654.64</td>\n",
       "      <td>580.571322</td>\n",
       "      <td>714.881002</td>\n",
       "      <td>9.202157</td>\n",
       "      <td>23.134054</td>\n",
       "    </tr>\n",
       "    <tr>\n",
       "      <th>5</th>\n",
       "      <td>2022</td>\n",
       "      <td>5</td>\n",
       "      <td>690.35</td>\n",
       "      <td>642.309268</td>\n",
       "      <td>720.468911</td>\n",
       "      <td>4.362846</td>\n",
       "      <td>12.168537</td>\n",
       "    </tr>\n",
       "    <tr>\n",
       "      <th>6</th>\n",
       "      <td>2022</td>\n",
       "      <td>6</td>\n",
       "      <td>734.33</td>\n",
       "      <td>700.956338</td>\n",
       "      <td>712.663293</td>\n",
       "      <td>-2.950541</td>\n",
       "      <td>1.670140</td>\n",
       "    </tr>\n",
       "    <tr>\n",
       "      <th>7</th>\n",
       "      <td>2022</td>\n",
       "      <td>7</td>\n",
       "      <td>710.31</td>\n",
       "      <td>696.350225</td>\n",
       "      <td>622.874274</td>\n",
       "      <td>-12.309516</td>\n",
       "      <td>-10.551580</td>\n",
       "    </tr>\n",
       "  </tbody>\n",
       "</table>\n",
       "</div>"
      ],
      "text/plain": [
       "   Year  Month  Prediction     Interim      Actual  Err-Prediction-Actual  \\\n",
       "0  2021     12      411.02  364.613524  424.224873               3.212708   \n",
       "1  2022      1      524.05  485.979484  522.000000              -0.391184   \n",
       "2  2022      2      539.36  528.819883  555.469715               2.986821   \n",
       "3  2022      3      614.20  542.513635  580.475858              -5.490743   \n",
       "4  2022      4      654.64  580.571322  714.881002               9.202157   \n",
       "5  2022      5      690.35  642.309268  720.468911               4.362846   \n",
       "6  2022      6      734.33  700.956338  712.663293              -2.950541   \n",
       "7  2022      7      710.31  696.350225  622.874274             -12.309516   \n",
       "\n",
       "   Err-Interim-Actual  \n",
       "0           16.349188  \n",
       "1            7.411942  \n",
       "2            5.039491  \n",
       "3            6.997469  \n",
       "4           23.134054  \n",
       "5           12.168537  \n",
       "6            1.670140  \n",
       "7          -10.551580  "
      ]
     },
     "execution_count": 76,
     "metadata": {},
     "output_type": "execute_result"
    }
   ],
   "source": [
    "netback_comparison"
   ]
  },
  {
   "cell_type": "code",
   "execution_count": 59,
   "id": "05294c65",
   "metadata": {},
   "outputs": [],
   "source": []
  },
  {
   "cell_type": "code",
   "execution_count": null,
   "id": "cce860e4",
   "metadata": {},
   "outputs": [],
   "source": []
  }
 ],
 "metadata": {
  "kernelspec": {
   "display_name": "Python 3 (ipykernel)",
   "language": "python",
   "name": "python3"
  },
  "language_info": {
   "codemirror_mode": {
    "name": "ipython",
    "version": 3
   },
   "file_extension": ".py",
   "mimetype": "text/x-python",
   "name": "python",
   "nbconvert_exporter": "python",
   "pygments_lexer": "ipython3",
   "version": "3.7.13"
  }
 },
 "nbformat": 4,
 "nbformat_minor": 5
}
