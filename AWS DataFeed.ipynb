{
 "cells": [
  {
   "cell_type": "code",
   "execution_count": 6,
   "id": "10aeb769",
   "metadata": {},
   "outputs": [],
   "source": [
    "import matplotlib.pyplot as plt\n",
    "\n",
    "%matplotlib inline"
   ]
  },
  {
   "cell_type": "code",
   "execution_count": 7,
   "id": "ea448c59",
   "metadata": {},
   "outputs": [],
   "source": [
    "plt.style.use('dark_background')"
   ]
  },
  {
   "cell_type": "code",
   "execution_count": 1,
   "id": "24c172f3",
   "metadata": {},
   "outputs": [],
   "source": [
    "from datetime import datetime\n",
    "import pandas as pd\n",
    "from datapipelineAWS import DataFeed"
   ]
  },
  {
   "cell_type": "code",
   "execution_count": 2,
   "id": "a77ec2c9",
   "metadata": {},
   "outputs": [],
   "source": [
    "self = DataFeed()"
   ]
  },
  {
   "cell_type": "code",
   "execution_count": 3,
   "id": "38e42d6d",
   "metadata": {},
   "outputs": [
    {
     "data": {
      "text/plain": [
       "['GDP', 'FERT', 'USDEUR', 'FPI', 'NG']"
      ]
     },
     "execution_count": 3,
     "metadata": {},
     "output_type": "execute_result"
    }
   ],
   "source": [
    "self.sources"
   ]
  },
  {
   "cell_type": "code",
   "execution_count": null,
   "id": "a52af7d2",
   "metadata": {},
   "outputs": [],
   "source": [
    "self.get_gdp.tail(2)"
   ]
  },
  {
   "cell_type": "code",
   "execution_count": null,
   "id": "1bf883fe",
   "metadata": {},
   "outputs": [],
   "source": [
    "self.get_fertilizer_production.tail(2)"
   ]
  },
  {
   "cell_type": "code",
   "execution_count": null,
   "id": "9a90a8f9",
   "metadata": {},
   "outputs": [],
   "source": [
    "self.get_naturalgas.tail(2)"
   ]
  },
  {
   "cell_type": "code",
   "execution_count": null,
   "id": "8daae7f6",
   "metadata": {},
   "outputs": [],
   "source": [
    "self.get_usdeur.tail(2)"
   ]
  },
  {
   "cell_type": "code",
   "execution_count": null,
   "id": "c1b98243",
   "metadata": {},
   "outputs": [],
   "source": [
    "source = \"FPI\"\n",
    "COMMON_COL_NAME = 'FoodPriceIndex'\n",
    "\n",
    "a = self.src_table[self.src_table.SRC==source]\n",
    "\n",
    "# S3 LINKS\n",
    "actual_s3_link = self.get_s3_link(source,'A')\n",
    "forecast_s3_link = self.get_s3_link(source,'F')\n",
    "\n",
    "# READ DATA\n",
    "actual = pd.read_parquet(actual_s3_link)\n",
    "forecast = pd.read_parquet(forecast_s3_link)\n",
    "\n",
    "# REMOVING ADDITIONAL COLUMNS\n",
    "actual.dropna(inplace=True)\n",
    "\n",
    "forecast.dropna(inplace=True)\n",
    "\n",
    "forecast.rename(columns={'year':'Date'},inplace=True)\n",
    "\n",
    "averages = {int(i[0]):i[1] for i in forecast[forecast.Date>=self.year].values}\n",
    "\n",
    "actual.date = pd.to_datetime(actual.Date)\n",
    "actual.set_index('Date',inplace=True)\n",
    "\n",
    "if not 'timestamp' in str(type(actual.index[0])).lower():\n",
    "    actual.index = pd.to_datetime(actual.index)\n",
    "\n",
    "seasonality = self.get_seasonality(actual[COMMON_COL_NAME],frequency_type='m')\n",
    "\n",
    "# INTERPOLATED SERIES WITH ACTUAL AND AVG YEARLY FORECAST DATA\n",
    "f_series = self.yearly_average_interpolator(actual[COMMON_COL_NAME],seasonal=seasonality,averages=averages)\n",
    "\n",
    "consolidated = pd.DataFrame()\n",
    "\n",
    "consolidated[COMMON_COL_NAME] = f_series\n",
    "consolidated.index.name = 'Date'"
   ]
  },
  {
   "cell_type": "code",
   "execution_count": null,
   "id": "35868cfa",
   "metadata": {},
   "outputs": [],
   "source": [
    "consolidated"
   ]
  },
  {
   "cell_type": "code",
   "execution_count": 4,
   "id": "f90bef18",
   "metadata": {},
   "outputs": [],
   "source": [
    "f = self.get_fertilizer_production"
   ]
  },
  {
   "cell_type": "code",
   "execution_count": null,
   "id": "b499756f",
   "metadata": {},
   "outputs": [],
   "source": []
  },
  {
   "cell_type": "code",
   "execution_count": null,
   "id": "e85313d7",
   "metadata": {},
   "outputs": [],
   "source": []
  },
  {
   "cell_type": "code",
   "execution_count": null,
   "id": "9bb1daab",
   "metadata": {},
   "outputs": [],
   "source": []
  },
  {
   "cell_type": "code",
   "execution_count": null,
   "id": "3e5ea846",
   "metadata": {},
   "outputs": [],
   "source": []
  },
  {
   "cell_type": "code",
   "execution_count": null,
   "id": "da08637a",
   "metadata": {},
   "outputs": [],
   "source": []
  },
  {
   "cell_type": "markdown",
   "id": "5ec108e2",
   "metadata": {},
   "source": [
    "# EURUSD"
   ]
  },
  {
   "cell_type": "code",
   "execution_count": null,
   "id": "c79885ba",
   "metadata": {},
   "outputs": [],
   "source": [
    "url = self.get_s3_link(\"USDEUR\",'A')\n",
    "df = pd.read_parquet(url)\n",
    "df # REQUIRES UPDATE!!!!!"
   ]
  },
  {
   "cell_type": "markdown",
   "id": "c2eed07b",
   "metadata": {},
   "source": [
    "# EURUSD - Forecast"
   ]
  },
  {
   "cell_type": "code",
   "execution_count": null,
   "id": "4506f13a",
   "metadata": {},
   "outputs": [],
   "source": [
    "url = self.get_s3_link(\"USDEUR\",'F')\n",
    "df = pd.read_parquet(url)\n",
    "df # REQUIRES UPDATE!!!!!"
   ]
  },
  {
   "cell_type": "markdown",
   "id": "9ee02d5d",
   "metadata": {},
   "source": [
    "#  US GDP"
   ]
  },
  {
   "cell_type": "code",
   "execution_count": null,
   "id": "5705aa8a",
   "metadata": {},
   "outputs": [],
   "source": [
    "url = self.get_s3_link(\"GDP\",'A')\n",
    "df = pd.read_parquet(url)\n",
    "df"
   ]
  },
  {
   "cell_type": "markdown",
   "id": "c75abb8c",
   "metadata": {},
   "source": [
    "# US GDP - forecast"
   ]
  },
  {
   "cell_type": "code",
   "execution_count": null,
   "id": "da79fb27",
   "metadata": {},
   "outputs": [],
   "source": [
    "url = self.get_s3_link(\"GDP\",'F')\n",
    "df = pd.read_parquet(url)\n",
    "df"
   ]
  },
  {
   "cell_type": "markdown",
   "id": "708243c9",
   "metadata": {},
   "source": [
    "# NATURAL GAS PRICES"
   ]
  },
  {
   "cell_type": "code",
   "execution_count": null,
   "id": "02d8140f",
   "metadata": {},
   "outputs": [],
   "source": [
    "url = self.get_s3_link(\"NG\",'A')\n",
    "df = pd.read_parquet(url)\n",
    "df"
   ]
  },
  {
   "cell_type": "markdown",
   "id": "d4c055b4",
   "metadata": {},
   "source": [
    "# NATURAL GAS FORECAST"
   ]
  },
  {
   "cell_type": "code",
   "execution_count": null,
   "id": "ac776820",
   "metadata": {},
   "outputs": [],
   "source": [
    "url = self.get_s3_link(\"NG\",'F')\n",
    "df = pd.read_parquet(url)\n",
    "df"
   ]
  },
  {
   "cell_type": "markdown",
   "id": "9fb7397b",
   "metadata": {},
   "source": [
    "# TOTAL FERTILIZER PRODUCTION"
   ]
  },
  {
   "cell_type": "code",
   "execution_count": null,
   "id": "78dae6ef",
   "metadata": {},
   "outputs": [],
   "source": [
    "url = self.get_s3_link(\"FERT\",'A')\n",
    "df = pd.read_parquet(url)\n",
    "df"
   ]
  },
  {
   "cell_type": "markdown",
   "id": "33e20848",
   "metadata": {},
   "source": [
    "# TOTAL FERTILIZER PRODUCTION FORECAST"
   ]
  },
  {
   "cell_type": "code",
   "execution_count": null,
   "id": "63f17768",
   "metadata": {},
   "outputs": [],
   "source": [
    "url = self.get_s3_link(\"FERT\",'F')\n",
    "_df = pd.read_parquet(url)\n",
    "_df"
   ]
  },
  {
   "cell_type": "code",
   "execution_count": null,
   "id": "cbc9f1c7",
   "metadata": {},
   "outputs": [],
   "source": [
    "_df['TotalFertilizerForecast_Tons'] = _df['TotalFertilizerForecast'].apply(lambda x:float(x)*1000)"
   ]
  },
  {
   "cell_type": "code",
   "execution_count": null,
   "id": "7d65fd01",
   "metadata": {},
   "outputs": [],
   "source": [
    "_df[_df.year=='2019 ']['TotalFertilizerForecast_Tons'].iloc[0]"
   ]
  },
  {
   "cell_type": "code",
   "execution_count": null,
   "id": "94e6b4cc",
   "metadata": {},
   "outputs": [],
   "source": [
    "df.loc['2019'].iloc[0]"
   ]
  },
  {
   "cell_type": "code",
   "execution_count": null,
   "id": "7deb4e22",
   "metadata": {},
   "outputs": [],
   "source": [
    "210546562.19-262387000.0"
   ]
  },
  {
   "cell_type": "code",
   "execution_count": null,
   "id": "40a4a782",
   "metadata": {},
   "outputs": [],
   "source": [
    "df.iloc[-4]['Production']/float(_df.iloc[-6]['TotalFertilizerForecast'])"
   ]
  },
  {
   "cell_type": "code",
   "execution_count": null,
   "id": "fb463a2f",
   "metadata": {},
   "outputs": [],
   "source": []
  },
  {
   "cell_type": "markdown",
   "id": "77371013",
   "metadata": {},
   "source": [
    "# FOOD PRICE INDEX"
   ]
  },
  {
   "cell_type": "code",
   "execution_count": null,
   "id": "2bb42867",
   "metadata": {},
   "outputs": [],
   "source": [
    "url = self.get_s3_link(\"FPI\",'A')\n",
    "df = pd.read_parquet(url)\n",
    "df"
   ]
  },
  {
   "cell_type": "markdown",
   "id": "cfac9a6a",
   "metadata": {},
   "source": [
    "# FOOD PRIE INDEX FORECAST"
   ]
  },
  {
   "cell_type": "code",
   "execution_count": null,
   "id": "9cb5d406",
   "metadata": {},
   "outputs": [],
   "source": [
    "url = self.get_s3_link(\"FPI\",'F')\n",
    "df = pd.read_parquet(url)\n",
    "df"
   ]
  },
  {
   "cell_type": "code",
   "execution_count": null,
   "id": "3f935a5d",
   "metadata": {},
   "outputs": [],
   "source": []
  }
 ],
 "metadata": {
  "kernelspec": {
   "display_name": "Python 3 (ipykernel)",
   "language": "python",
   "name": "python3"
  },
  "language_info": {
   "codemirror_mode": {
    "name": "ipython",
    "version": 3
   },
   "file_extension": ".py",
   "mimetype": "text/x-python",
   "name": "python",
   "nbconvert_exporter": "python",
   "pygments_lexer": "ipython3",
   "version": "3.10.5"
  }
 },
 "nbformat": 4,
 "nbformat_minor": 5
}
