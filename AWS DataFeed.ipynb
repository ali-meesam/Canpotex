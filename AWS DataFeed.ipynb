{
 "cells": [
  {
   "cell_type": "code",
   "execution_count": 53,
   "id": "24c172f3",
   "metadata": {},
   "outputs": [],
   "source": [
    "from datetime import datetime\n",
    "import pandas as pd"
   ]
  },
  {
   "cell_type": "markdown",
   "id": "24a548ef",
   "metadata": {},
   "source": [
    "# HELPER FUNCTIONS"
   ]
  },
  {
   "cell_type": "code",
   "execution_count": 54,
   "id": "d33d2a4e",
   "metadata": {},
   "outputs": [],
   "source": [
    "def quarter_dates(x:str):\n",
    "    \"\"\"\n",
    "    x: Format 'YYYY Q1'\n",
    "    return: 'YYYY-mm-01'\n",
    "    \"\"\"\n",
    "    year, qtr = x.rstrip().lstrip().split(' ')\n",
    "    month = 1 if qtr=='Q1' else 4 if qtr=='Q2' else 7 if qtr=='Q3' else 10\n",
    "    return datetime(int(year),month,1).strftime(\"%Y-%m-%d\")"
   ]
  },
  {
   "cell_type": "code",
   "execution_count": 55,
   "id": "26fc4a7d",
   "metadata": {},
   "outputs": [],
   "source": [
    "src_table = pd.read_excel(\"DataSources.xlsx\",index_col=0)\n",
    "sources = list(set(src_table.SRC.to_list()))"
   ]
  },
  {
   "cell_type": "code",
   "execution_count": 56,
   "id": "468d60d3",
   "metadata": {},
   "outputs": [
    {
     "data": {
      "text/plain": [
       "['usdeur_actual',\n",
       " 'gdp_forecast',\n",
       " 'fert_forecast',\n",
       " 'usdeur_forecast',\n",
       " 'fpi_actual',\n",
       " 'ng_actual',\n",
       " 'ng_forecast',\n",
       " 'fpi_forecast',\n",
       " 'fert_actual',\n",
       " 'gdp_actual']"
      ]
     },
     "execution_count": 56,
     "metadata": {},
     "output_type": "execute_result"
    }
   ],
   "source": [
    "sources"
   ]
  },
  {
   "cell_type": "code",
   "execution_count": 57,
   "id": "653db3b0",
   "metadata": {},
   "outputs": [
    {
     "data": {
      "text/html": [
       "<div>\n",
       "<style scoped>\n",
       "    .dataframe tbody tr th:only-of-type {\n",
       "        vertical-align: middle;\n",
       "    }\n",
       "\n",
       "    .dataframe tbody tr th {\n",
       "        vertical-align: top;\n",
       "    }\n",
       "\n",
       "    .dataframe thead th {\n",
       "        text-align: right;\n",
       "    }\n",
       "</style>\n",
       "<table border=\"1\" class=\"dataframe\">\n",
       "  <thead>\n",
       "    <tr style=\"text-align: right;\">\n",
       "      <th></th>\n",
       "      <th>API</th>\n",
       "      <th>SRC</th>\n",
       "      <th>TYPE</th>\n",
       "      <th>Download type</th>\n",
       "      <th>STATUS</th>\n",
       "      <th>S3 Location</th>\n",
       "      <th>Frequency of Run</th>\n",
       "    </tr>\n",
       "    <tr>\n",
       "      <th>#</th>\n",
       "      <th></th>\n",
       "      <th></th>\n",
       "      <th></th>\n",
       "      <th></th>\n",
       "      <th></th>\n",
       "      <th></th>\n",
       "      <th></th>\n",
       "    </tr>\n",
       "  </thead>\n",
       "  <tbody>\n",
       "    <tr>\n",
       "      <th>7.</th>\n",
       "      <td>FAO</td>\n",
       "      <td>fert_actual</td>\n",
       "      <td>A</td>\n",
       "      <td>Total Fertilizer Production</td>\n",
       "      <td>Complete</td>\n",
       "      <td>s3://insights-shared-prod-data-lake-non-hr/CLE...</td>\n",
       "      <td>Annual</td>\n",
       "    </tr>\n",
       "    <tr>\n",
       "      <th>9.</th>\n",
       "      <td>FAO</td>\n",
       "      <td>fert_forecast</td>\n",
       "      <td>F</td>\n",
       "      <td>Total Fertilizer Production - Forecast</td>\n",
       "      <td>Complete</td>\n",
       "      <td>s3://insights-shared-prod-data-lake-non-hr/CLE...</td>\n",
       "      <td>Annual</td>\n",
       "    </tr>\n",
       "    <tr>\n",
       "      <th>8.</th>\n",
       "      <td>FAO</td>\n",
       "      <td>fpi_actual</td>\n",
       "      <td>A</td>\n",
       "      <td>Food Price Index</td>\n",
       "      <td>Complete</td>\n",
       "      <td>s3://insights-shared-prod-data-lake-non-hr/CLE...</td>\n",
       "      <td>Monthly</td>\n",
       "    </tr>\n",
       "    <tr>\n",
       "      <th>10.</th>\n",
       "      <td>FAO</td>\n",
       "      <td>fpi_forecast</td>\n",
       "      <td>F</td>\n",
       "      <td>Food Price Index - Forecast</td>\n",
       "      <td>Complete</td>\n",
       "      <td>s3://insights-shared-prod-data-lake-non-hr/CLE...</td>\n",
       "      <td>Annual</td>\n",
       "    </tr>\n",
       "    <tr>\n",
       "      <th>2.</th>\n",
       "      <td>FRED</td>\n",
       "      <td>gdp_actual</td>\n",
       "      <td>A</td>\n",
       "      <td>US GDP - Historical</td>\n",
       "      <td>Complete</td>\n",
       "      <td>s3://insights-shared-prod-data-lake-non-hr/CLE...</td>\n",
       "      <td>Quarterly</td>\n",
       "    </tr>\n",
       "    <tr>\n",
       "      <th>5.</th>\n",
       "      <td>EIA</td>\n",
       "      <td>gdp_forecast</td>\n",
       "      <td>F</td>\n",
       "      <td>US GDP - Forecast STEO</td>\n",
       "      <td>Complete</td>\n",
       "      <td>s3://insights-shared-prod-data-lake-non-hr/CLE...</td>\n",
       "      <td>Monthly</td>\n",
       "    </tr>\n",
       "    <tr>\n",
       "      <th>3.</th>\n",
       "      <td>EIA</td>\n",
       "      <td>ng_actual</td>\n",
       "      <td>A</td>\n",
       "      <td>Henry Hub Gas Price Historical</td>\n",
       "      <td>Complete</td>\n",
       "      <td>s3://insights-shared-prod-data-lake-non-hr/CLE...</td>\n",
       "      <td>Monthly</td>\n",
       "    </tr>\n",
       "    <tr>\n",
       "      <th>4.</th>\n",
       "      <td>EIA</td>\n",
       "      <td>ng_forecast</td>\n",
       "      <td>F</td>\n",
       "      <td>Henry Hub Gas Price - Forecast STEO</td>\n",
       "      <td>Complete</td>\n",
       "      <td>s3://insights-shared-prod-data-lake-non-hr/CLE...</td>\n",
       "      <td>Monthly</td>\n",
       "    </tr>\n",
       "    <tr>\n",
       "      <th>1.</th>\n",
       "      <td>FRED</td>\n",
       "      <td>usdeur_actual</td>\n",
       "      <td>A</td>\n",
       "      <td>USD/EURO exchange rate - Historical</td>\n",
       "      <td>Complete</td>\n",
       "      <td>s3://insights-shared-prod-data-lake-non-hr/CLE...</td>\n",
       "      <td>Monthly</td>\n",
       "    </tr>\n",
       "    <tr>\n",
       "      <th>6.</th>\n",
       "      <td>OECD</td>\n",
       "      <td>usdeur_forecast</td>\n",
       "      <td>F</td>\n",
       "      <td>USD/EURO exchange rate - Forecast</td>\n",
       "      <td>Complete</td>\n",
       "      <td>s3://insights-shared-prod-data-lake-non-hr/CLE...</td>\n",
       "      <td>Annual</td>\n",
       "    </tr>\n",
       "  </tbody>\n",
       "</table>\n",
       "</div>"
      ],
      "text/plain": [
       "        API              SRC TYPE                           Download type  \\\n",
       "#                                                                           \n",
       "7.      FAO      fert_actual    A             Total Fertilizer Production   \n",
       "9.      FAO    fert_forecast    F  Total Fertilizer Production - Forecast   \n",
       "8.      FAO       fpi_actual    A                        Food Price Index   \n",
       "10.    FAO      fpi_forecast    F             Food Price Index - Forecast   \n",
       "2.     FRED       gdp_actual    A                     US GDP - Historical   \n",
       "5.      EIA     gdp_forecast    F                  US GDP - Forecast STEO   \n",
       "3.      EIA        ng_actual    A          Henry Hub Gas Price Historical   \n",
       "4.      EIA      ng_forecast    F     Henry Hub Gas Price - Forecast STEO   \n",
       "1.     FRED    usdeur_actual    A    USD/EURO exchange rate - Historical    \n",
       "6.     OECD  usdeur_forecast    F       USD/EURO exchange rate - Forecast   \n",
       "\n",
       "         STATUS                                        S3 Location  \\\n",
       "#                                                                    \n",
       "7.     Complete  s3://insights-shared-prod-data-lake-non-hr/CLE...   \n",
       "9.     Complete  s3://insights-shared-prod-data-lake-non-hr/CLE...   \n",
       "8.     Complete  s3://insights-shared-prod-data-lake-non-hr/CLE...   \n",
       "10.    Complete  s3://insights-shared-prod-data-lake-non-hr/CLE...   \n",
       "2.     Complete  s3://insights-shared-prod-data-lake-non-hr/CLE...   \n",
       "5.     Complete  s3://insights-shared-prod-data-lake-non-hr/CLE...   \n",
       "3.     Complete  s3://insights-shared-prod-data-lake-non-hr/CLE...   \n",
       "4.     Complete  s3://insights-shared-prod-data-lake-non-hr/CLE...   \n",
       "1.     Complete  s3://insights-shared-prod-data-lake-non-hr/CLE...   \n",
       "6.     Complete  s3://insights-shared-prod-data-lake-non-hr/CLE...   \n",
       "\n",
       "      Frequency of Run  \n",
       "#                       \n",
       "7.              Annual  \n",
       "9.              Annual  \n",
       "8.             Monthly  \n",
       "10.             Annual  \n",
       "2.           Quarterly  \n",
       "5.             Monthly  \n",
       "3.             Monthly  \n",
       "4.             Monthly  \n",
       "1.             Monthly  \n",
       "6.              Annual  "
      ]
     },
     "execution_count": 57,
     "metadata": {},
     "output_type": "execute_result"
    }
   ],
   "source": [
    "src_table"
   ]
  },
  {
   "cell_type": "code",
   "execution_count": 58,
   "id": "1269b43c",
   "metadata": {},
   "outputs": [
    {
     "data": {
      "text/plain": [
       "'s3://insights-shared-prod-data-lake-non-hr/CLEANED/EXTERNAL/system=fred/usecase=US_GDP/US_GDP.parquet'"
      ]
     },
     "execution_count": 58,
     "metadata": {},
     "output_type": "execute_result"
    }
   ],
   "source": [
    "src_table[src_table.SRC=='gdp_actual']['S3 Location'].iloc[0]"
   ]
  },
  {
   "cell_type": "markdown",
   "id": "1ed7affc",
   "metadata": {},
   "source": [
    "#### ITERATE THROUGH EACH SOURCE"
   ]
  },
  {
   "cell_type": "code",
   "execution_count": 11,
   "id": "5c293cf1",
   "metadata": {},
   "outputs": [
    {
     "data": {
      "text/plain": [
       "'GDP'"
      ]
     },
     "execution_count": 11,
     "metadata": {},
     "output_type": "execute_result"
    }
   ],
   "source": [
    "source = sources[0]\n",
    "source"
   ]
  },
  {
   "cell_type": "markdown",
   "id": "a459e3c2",
   "metadata": {},
   "source": [
    "### GDP"
   ]
  },
  {
   "cell_type": "code",
   "execution_count": 50,
   "id": "b9832901",
   "metadata": {},
   "outputs": [],
   "source": [
    "source='GDP'\n",
    "a_src = src_table[src_table.SRC==source]\n",
    "\n",
    "actual_s3_link = a_src[a_src.TYPE=='A']['S3 Location'].iloc[0]\n",
    "forecast_s3_link = a_src[a_src.TYPE=='F']['S3 Location'].iloc[0]\n",
    "\n",
    "\n",
    "actual = pd.read_parquet(actual_s3_link)\n",
    "\n",
    "forecast = pd.read_parquet(forecast_s3_link)\n",
    "forecast['date'] = forecast['date'].apply(quarter_to_month)\n",
    "\n",
    "# SAME COLUMN NAME AS THE ACTUAL SERIES\n",
    "forecast['US_GDP'] = forecast.nominalGDP\n",
    "\n",
    "# DROP USELESS COLUMNS\n",
    "forecast.drop(['realGDP', 'deflator', 'nominalGDP'],axis=1,inplace=True)\n",
    "\n",
    "# COMBINE BOTH DATAFRAMES\n",
    "gdp_consolidated = pd.concat([actual,forecast],ignore_index=True)\n",
    "\n",
    "# REMOVING DUPLICATES AND KEEPING THE ACTUAL FOR OLD FORECAST SERIES\n",
    "gdp_consolidated = gdp_consolidated[~gdp_consolidated['date'].duplicated(keep='first')]"
   ]
  },
  {
   "cell_type": "code",
   "execution_count": 52,
   "id": "567953e8",
   "metadata": {},
   "outputs": [
    {
     "data": {
      "text/html": [
       "<div>\n",
       "<style scoped>\n",
       "    .dataframe tbody tr th:only-of-type {\n",
       "        vertical-align: middle;\n",
       "    }\n",
       "\n",
       "    .dataframe tbody tr th {\n",
       "        vertical-align: top;\n",
       "    }\n",
       "\n",
       "    .dataframe thead th {\n",
       "        text-align: right;\n",
       "    }\n",
       "</style>\n",
       "<table border=\"1\" class=\"dataframe\">\n",
       "  <thead>\n",
       "    <tr style=\"text-align: right;\">\n",
       "      <th></th>\n",
       "      <th>date</th>\n",
       "      <th>US_GDP</th>\n",
       "    </tr>\n",
       "  </thead>\n",
       "  <tbody>\n",
       "    <tr>\n",
       "      <th>0</th>\n",
       "      <td>2014-01-01</td>\n",
       "      <td>17144.281</td>\n",
       "    </tr>\n",
       "    <tr>\n",
       "      <th>1</th>\n",
       "      <td>2014-04-01</td>\n",
       "      <td>17462.703</td>\n",
       "    </tr>\n",
       "    <tr>\n",
       "      <th>2</th>\n",
       "      <td>2014-07-01</td>\n",
       "      <td>17743.227</td>\n",
       "    </tr>\n",
       "    <tr>\n",
       "      <th>3</th>\n",
       "      <td>2014-10-01</td>\n",
       "      <td>17852.540</td>\n",
       "    </tr>\n",
       "    <tr>\n",
       "      <th>4</th>\n",
       "      <td>2015-01-01</td>\n",
       "      <td>17991.348</td>\n",
       "    </tr>\n",
       "    <tr>\n",
       "      <th>5</th>\n",
       "      <td>2015-04-01</td>\n",
       "      <td>18193.707</td>\n",
       "    </tr>\n",
       "    <tr>\n",
       "      <th>6</th>\n",
       "      <td>2015-07-01</td>\n",
       "      <td>18306.960</td>\n",
       "    </tr>\n",
       "    <tr>\n",
       "      <th>7</th>\n",
       "      <td>2015-10-01</td>\n",
       "      <td>18332.079</td>\n",
       "    </tr>\n",
       "    <tr>\n",
       "      <th>8</th>\n",
       "      <td>2016-01-01</td>\n",
       "      <td>18425.306</td>\n",
       "    </tr>\n",
       "    <tr>\n",
       "      <th>9</th>\n",
       "      <td>2016-04-01</td>\n",
       "      <td>18611.617</td>\n",
       "    </tr>\n",
       "    <tr>\n",
       "      <th>10</th>\n",
       "      <td>2016-07-01</td>\n",
       "      <td>18775.459</td>\n",
       "    </tr>\n",
       "    <tr>\n",
       "      <th>11</th>\n",
       "      <td>2016-10-01</td>\n",
       "      <td>18968.041</td>\n",
       "    </tr>\n",
       "    <tr>\n",
       "      <th>12</th>\n",
       "      <td>2017-01-01</td>\n",
       "      <td>19148.194</td>\n",
       "    </tr>\n",
       "    <tr>\n",
       "      <th>13</th>\n",
       "      <td>2017-04-01</td>\n",
       "      <td>19304.506</td>\n",
       "    </tr>\n",
       "    <tr>\n",
       "      <th>14</th>\n",
       "      <td>2017-07-01</td>\n",
       "      <td>19561.896</td>\n",
       "    </tr>\n",
       "    <tr>\n",
       "      <th>15</th>\n",
       "      <td>2017-10-01</td>\n",
       "      <td>19894.750</td>\n",
       "    </tr>\n",
       "    <tr>\n",
       "      <th>16</th>\n",
       "      <td>2018-01-01</td>\n",
       "      <td>20155.486</td>\n",
       "    </tr>\n",
       "    <tr>\n",
       "      <th>17</th>\n",
       "      <td>2018-04-01</td>\n",
       "      <td>20470.197</td>\n",
       "    </tr>\n",
       "    <tr>\n",
       "      <th>18</th>\n",
       "      <td>2018-07-01</td>\n",
       "      <td>20687.278</td>\n",
       "    </tr>\n",
       "    <tr>\n",
       "      <th>19</th>\n",
       "      <td>2018-10-01</td>\n",
       "      <td>20819.269</td>\n",
       "    </tr>\n",
       "    <tr>\n",
       "      <th>20</th>\n",
       "      <td>2019-01-01</td>\n",
       "      <td>21013.085</td>\n",
       "    </tr>\n",
       "    <tr>\n",
       "      <th>21</th>\n",
       "      <td>2019-04-01</td>\n",
       "      <td>21272.448</td>\n",
       "    </tr>\n",
       "    <tr>\n",
       "      <th>22</th>\n",
       "      <td>2019-07-01</td>\n",
       "      <td>21531.839</td>\n",
       "    </tr>\n",
       "    <tr>\n",
       "      <th>23</th>\n",
       "      <td>2019-10-01</td>\n",
       "      <td>21706.532</td>\n",
       "    </tr>\n",
       "    <tr>\n",
       "      <th>24</th>\n",
       "      <td>2020-01-01</td>\n",
       "      <td>21538.032</td>\n",
       "    </tr>\n",
       "    <tr>\n",
       "      <th>25</th>\n",
       "      <td>2020-04-01</td>\n",
       "      <td>19636.731</td>\n",
       "    </tr>\n",
       "    <tr>\n",
       "      <th>26</th>\n",
       "      <td>2020-07-01</td>\n",
       "      <td>21362.428</td>\n",
       "    </tr>\n",
       "    <tr>\n",
       "      <th>27</th>\n",
       "      <td>2020-10-01</td>\n",
       "      <td>21704.706</td>\n",
       "    </tr>\n",
       "    <tr>\n",
       "      <th>28</th>\n",
       "      <td>2021-01-01</td>\n",
       "      <td>22313.850</td>\n",
       "    </tr>\n",
       "    <tr>\n",
       "      <th>29</th>\n",
       "      <td>2021-04-01</td>\n",
       "      <td>23046.934</td>\n",
       "    </tr>\n",
       "    <tr>\n",
       "      <th>30</th>\n",
       "      <td>2021-07-01</td>\n",
       "      <td>23550.420</td>\n",
       "    </tr>\n",
       "    <tr>\n",
       "      <th>31</th>\n",
       "      <td>2021-10-01</td>\n",
       "      <td>24349.121</td>\n",
       "    </tr>\n",
       "    <tr>\n",
       "      <th>32</th>\n",
       "      <td>2022-01-01</td>\n",
       "      <td>24740.480</td>\n",
       "    </tr>\n",
       "    <tr>\n",
       "      <th>33</th>\n",
       "      <td>2022-04-01</td>\n",
       "      <td>25248.476</td>\n",
       "    </tr>\n",
       "    <tr>\n",
       "      <th>34</th>\n",
       "      <td>2022-07-01</td>\n",
       "      <td>25663.289</td>\n",
       "    </tr>\n",
       "    <tr>\n",
       "      <th>70</th>\n",
       "      <td>2022-10-01</td>\n",
       "      <td>25899.401</td>\n",
       "    </tr>\n",
       "    <tr>\n",
       "      <th>71</th>\n",
       "      <td>2023-01-01</td>\n",
       "      <td>26034.100</td>\n",
       "    </tr>\n",
       "    <tr>\n",
       "      <th>72</th>\n",
       "      <td>2023-04-01</td>\n",
       "      <td>26207.860</td>\n",
       "    </tr>\n",
       "    <tr>\n",
       "      <th>73</th>\n",
       "      <td>2023-07-01</td>\n",
       "      <td>26497.636</td>\n",
       "    </tr>\n",
       "    <tr>\n",
       "      <th>74</th>\n",
       "      <td>2023-10-01</td>\n",
       "      <td>26799.558</td>\n",
       "    </tr>\n",
       "  </tbody>\n",
       "</table>\n",
       "</div>"
      ],
      "text/plain": [
       "          date     US_GDP\n",
       "0   2014-01-01  17144.281\n",
       "1   2014-04-01  17462.703\n",
       "2   2014-07-01  17743.227\n",
       "3   2014-10-01  17852.540\n",
       "4   2015-01-01  17991.348\n",
       "5   2015-04-01  18193.707\n",
       "6   2015-07-01  18306.960\n",
       "7   2015-10-01  18332.079\n",
       "8   2016-01-01  18425.306\n",
       "9   2016-04-01  18611.617\n",
       "10  2016-07-01  18775.459\n",
       "11  2016-10-01  18968.041\n",
       "12  2017-01-01  19148.194\n",
       "13  2017-04-01  19304.506\n",
       "14  2017-07-01  19561.896\n",
       "15  2017-10-01  19894.750\n",
       "16  2018-01-01  20155.486\n",
       "17  2018-04-01  20470.197\n",
       "18  2018-07-01  20687.278\n",
       "19  2018-10-01  20819.269\n",
       "20  2019-01-01  21013.085\n",
       "21  2019-04-01  21272.448\n",
       "22  2019-07-01  21531.839\n",
       "23  2019-10-01  21706.532\n",
       "24  2020-01-01  21538.032\n",
       "25  2020-04-01  19636.731\n",
       "26  2020-07-01  21362.428\n",
       "27  2020-10-01  21704.706\n",
       "28  2021-01-01  22313.850\n",
       "29  2021-04-01  23046.934\n",
       "30  2021-07-01  23550.420\n",
       "31  2021-10-01  24349.121\n",
       "32  2022-01-01  24740.480\n",
       "33  2022-04-01  25248.476\n",
       "34  2022-07-01  25663.289\n",
       "70  2022-10-01  25899.401\n",
       "71  2023-01-01  26034.100\n",
       "72  2023-04-01  26207.860\n",
       "73  2023-07-01  26497.636\n",
       "74  2023-10-01  26799.558"
      ]
     },
     "execution_count": 52,
     "metadata": {},
     "output_type": "execute_result"
    }
   ],
   "source": [
    "gdp_consolidated"
   ]
  },
  {
   "cell_type": "code",
   "execution_count": null,
   "id": "16709bff",
   "metadata": {},
   "outputs": [],
   "source": []
  },
  {
   "cell_type": "code",
   "execution_count": 17,
   "id": "b70c02e3",
   "metadata": {},
   "outputs": [
    {
     "data": {
      "text/plain": [
       "'2014 Q1 '"
      ]
     },
     "execution_count": 17,
     "metadata": {},
     "output_type": "execute_result"
    }
   ],
   "source": [
    "forecast.date.apply(lambda x:x.rstrip())"
   ]
  },
  {
   "cell_type": "code",
   "execution_count": 28,
   "id": "d9ee1ff9",
   "metadata": {},
   "outputs": [
    {
     "data": {
      "text/plain": [
       "'2014-10-01'"
      ]
     },
     "execution_count": 28,
     "metadata": {},
     "output_type": "execute_result"
    }
   ],
   "source": [
    "quarter_to_month('2014 Q4 ')"
   ]
  },
  {
   "cell_type": "code",
   "execution_count": null,
   "id": "5d7b5225",
   "metadata": {},
   "outputs": [],
   "source": [
    "# READING PARQUET FILES\n"
   ]
  },
  {
   "cell_type": "code",
   "execution_count": null,
   "id": "e81b5365",
   "metadata": {},
   "outputs": [],
   "source": [
    "src_table[src_table.SRC==sources[0]]\n"
   ]
  },
  {
   "cell_type": "code",
   "execution_count": null,
   "id": "e10ef7be",
   "metadata": {},
   "outputs": [],
   "source": [
    "# LATEST VALUE\n",
    "src_actuals = src_table[src_table.TYPE=='A'] \n",
    "# raw_data = src_table[src_table.TYPE=='A'].apply(lambda x:[x.SRC,pd.read_csv(x['S3 Location'])],axis=1)"
   ]
  },
  {
   "cell_type": "code",
   "execution_count": null,
   "id": "adfd6848",
   "metadata": {},
   "outputs": [],
   "source": [
    "src_actuals"
   ]
  },
  {
   "cell_type": "code",
   "execution_count": null,
   "id": "90b337dc",
   "metadata": {},
   "outputs": [],
   "source": [
    "x = src_actuals.iloc[0]"
   ]
  },
  {
   "cell_type": "code",
   "execution_count": null,
   "id": "aab720de",
   "metadata": {},
   "outputs": [],
   "source": [
    "x['S3 Location']"
   ]
  },
  {
   "cell_type": "code",
   "execution_count": null,
   "id": "2203160b",
   "metadata": {},
   "outputs": [],
   "source": [
    "df = pd.read_csv(x['S3 Location'])"
   ]
  },
  {
   "cell_type": "code",
   "execution_count": null,
   "id": "bafb8388",
   "metadata": {},
   "outputs": [],
   "source": [
    "df.dropna(inplace=True)"
   ]
  },
  {
   "cell_type": "code",
   "execution_count": null,
   "id": "625f6482",
   "metadata": {},
   "outputs": [],
   "source": [
    "pd.read_csv('s3://insights-shared-non-prod-data-lake/CLEANED/EXTERNAL/system=fao/usecase=totalFertilizationProductionHist/')"
   ]
  },
  {
   "cell_type": "markdown",
   "id": "5ec108e2",
   "metadata": {},
   "source": [
    "# EURUSD"
   ]
  },
  {
   "cell_type": "code",
   "execution_count": null,
   "id": "c79885ba",
   "metadata": {},
   "outputs": [],
   "source": [
    "url = 's3://insights-canpotex-downloads-sandboxlz/Fred-downloads/EXUSEU/EXUSEU.csv'\n",
    "df = pd.read_csv(url,index_col=0,parse_dates=True)\n",
    "df # REQUIRES UPDATE!!!!!"
   ]
  },
  {
   "cell_type": "markdown",
   "id": "c2eed07b",
   "metadata": {},
   "source": [
    "# EURUSD - Forecast"
   ]
  },
  {
   "cell_type": "code",
   "execution_count": null,
   "id": "4506f13a",
   "metadata": {},
   "outputs": [],
   "source": [
    "url = 's3://insights-canpotex-downloads-sandboxlz/OECD-downloads/EXCHUD/EXCHUD.csv'\n",
    "df = pd.read_csv(url,index_col=0,parse_dates=True)\n",
    "df # Time update and resampling required "
   ]
  },
  {
   "cell_type": "markdown",
   "id": "9ee02d5d",
   "metadata": {},
   "source": [
    "#  US GDP"
   ]
  },
  {
   "cell_type": "code",
   "execution_count": null,
   "id": "5705aa8a",
   "metadata": {},
   "outputs": [],
   "source": [
    "url = 's3://insights-canpotex-downloads-sandboxlz/Fred-downloads/US_GDP/US_GDP.csv'\n",
    "df = pd.read_csv(url,index_col=0,parse_dates=True)\n",
    "df #Requires update | Resample to monthly | Index as datetime"
   ]
  },
  {
   "cell_type": "code",
   "execution_count": null,
   "id": "4ddf3a33",
   "metadata": {},
   "outputs": [],
   "source": [
    "actual | forecast | consolidated"
   ]
  },
  {
   "cell_type": "markdown",
   "id": "c75abb8c",
   "metadata": {},
   "source": [
    "# US GDP - forecast"
   ]
  },
  {
   "cell_type": "code",
   "execution_count": null,
   "id": "da79fb27",
   "metadata": {},
   "outputs": [],
   "source": [
    "url = 's3://insights-canpotex-downloads-sandboxlz/EIA-downloads/HenryHubGasPrice/nominalGDP.csv'\n",
    "df = pd.read_csv(url,index_col=0,parse_dates=True)\n",
    "df # Resample to monthly | Index as Datetime | Why do we have Qtr pricing (historical)"
   ]
  },
  {
   "cell_type": "markdown",
   "id": "708243c9",
   "metadata": {},
   "source": [
    "# NATURAL GAS PRICES"
   ]
  },
  {
   "cell_type": "code",
   "execution_count": null,
   "id": "02d8140f",
   "metadata": {},
   "outputs": [],
   "source": [
    "url = 's3://insights-canpotex-downloads-sandboxlz/EIA-downloads/HenryHubGasPrice/gasprice.csv'\n",
    "df = pd.read_csv(url,index_col=0,parse_dates=True)\n",
    "df #Requires update | Resample to monthly | Index as datetime"
   ]
  },
  {
   "cell_type": "markdown",
   "id": "d4c055b4",
   "metadata": {},
   "source": [
    "# NATURAL GAS FORECAST"
   ]
  },
  {
   "cell_type": "code",
   "execution_count": null,
   "id": "ac776820",
   "metadata": {},
   "outputs": [],
   "source": [
    "url = 's3://insights-canpotex-downloads-sandboxlz/EIA-downloads/HenryHubGasPrice/gaspricesteo.csv'\n",
    "df = pd.read_csv(url,index_col=0,parse_dates=True)\n",
    "df # (need a tag for last updated) | Why do we have quarterly pricing above?"
   ]
  },
  {
   "cell_type": "markdown",
   "id": "9fb7397b",
   "metadata": {},
   "source": [
    "# TOTAL FERTILIZER PRODUCTION"
   ]
  },
  {
   "cell_type": "code",
   "execution_count": null,
   "id": "78dae6ef",
   "metadata": {},
   "outputs": [],
   "source": [
    "url = 's3://insights-canpotex-downloads-sandboxlz/FAO-downloads/totalFertilizationProductionHist/totalFertilizerProduction.csv'\n",
    "df = pd.read_csv(url,index_col=0,parse_dates=True)\n",
    "df # No dates..."
   ]
  },
  {
   "cell_type": "markdown",
   "id": "33e20848",
   "metadata": {},
   "source": [
    "# TOTAL FERTILIZER PRODUCTION FORECAST"
   ]
  },
  {
   "cell_type": "code",
   "execution_count": null,
   "id": "63f17768",
   "metadata": {},
   "outputs": [],
   "source": [
    "url = None\n",
    "df = pd.read_csv(url,index_col=0,parse_dates=True)\n",
    "df # (need a tag for last updated) | Why do we have quarterly pricing above?"
   ]
  },
  {
   "cell_type": "markdown",
   "id": "77371013",
   "metadata": {},
   "source": [
    "# FOOD PRICE INDEX"
   ]
  },
  {
   "cell_type": "code",
   "execution_count": null,
   "id": "2bb42867",
   "metadata": {},
   "outputs": [],
   "source": [
    "url = 's3://insights-canpotex-downloads-sandboxlz/FAO-downloads/FoodPriceIndex/FoodPriceIndex-hist.csv'\n",
    "df = pd.read_csv(url,index_col=0,parse_dates=True)\n",
    "df #Requires cleanup NaN values and index as datetime"
   ]
  },
  {
   "cell_type": "markdown",
   "id": "cfac9a6a",
   "metadata": {},
   "source": [
    "# FOOD PRIE INDEX FORECAST"
   ]
  },
  {
   "cell_type": "code",
   "execution_count": null,
   "id": "9cb5d406",
   "metadata": {},
   "outputs": [],
   "source": [
    "url = 's3://insights-canpotex-downloads-sandboxlz/FAO-downloads/FoodPriceIndex/FoodPriceIndex-forecast.csv'\n",
    "df = pd.read_csv(url,index_col=0,parse_dates=True)\n",
    "df #Requires cleanup NaN values and index as datetime"
   ]
  },
  {
   "cell_type": "code",
   "execution_count": null,
   "id": "3f935a5d",
   "metadata": {},
   "outputs": [],
   "source": []
  }
 ],
 "metadata": {
  "kernelspec": {
   "display_name": "Python 3 (ipykernel)",
   "language": "python",
   "name": "python3"
  },
  "language_info": {
   "codemirror_mode": {
    "name": "ipython",
    "version": 3
   },
   "file_extension": ".py",
   "mimetype": "text/x-python",
   "name": "python",
   "nbconvert_exporter": "python",
   "pygments_lexer": "ipython3",
   "version": "3.10.5"
  }
 },
 "nbformat": 4,
 "nbformat_minor": 5
}
