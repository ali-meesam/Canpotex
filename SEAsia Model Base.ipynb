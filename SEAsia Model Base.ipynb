{
 "cells": [
  {
   "cell_type": "code",
   "execution_count": 1,
   "id": "1fa9ab8e",
   "metadata": {},
   "outputs": [],
   "source": [
    "from models import SEAsiaCFR\n",
    "from tqdm import tqdm\n",
    "import numpy as np\n",
    "import pandas as pd\n",
    "import matplotlib.pyplot as plt\n",
    "%matplotlib inline\n",
    "plt.style.use(\"dark_background\")"
   ]
  },
  {
   "cell_type": "code",
   "execution_count": 2,
   "id": "78ab3adc",
   "metadata": {},
   "outputs": [],
   "source": [
    "simulations = 20000"
   ]
  },
  {
   "cell_type": "code",
   "execution_count": 3,
   "id": "347ef279",
   "metadata": {},
   "outputs": [],
   "source": [
    "self = SEAsiaCFR()"
   ]
  },
  {
   "cell_type": "code",
   "execution_count": 4,
   "id": "8e404522",
   "metadata": {},
   "outputs": [],
   "source": [
    "# get DATA\n",
    "naturalgas = self.get_natural_gas\n",
    "gdp = self.get_gdp\n",
    "eurusd = self.get_eurusd\n",
    "fertprod = self.get_total_fertilizer_production\n",
    "seasia_cfr = self.get_SEAsiaCFR\n",
    "\n",
    "dm = self.monthly_dummy()\n",
    "const = self.const"
   ]
  },
  {
   "cell_type": "code",
   "execution_count": 5,
   "id": "868794a0",
   "metadata": {},
   "outputs": [],
   "source": [
    "# len(fao.dropna())\n",
    "# len(eurusd.dropna())\n",
    "# len(fertprod.dropna())\n",
    "# len(inflation.dropna())\n",
    "# len(gdp.dropna())\n",
    "# len(brazil_cfr.dropna())"
   ]
  },
  {
   "cell_type": "markdown",
   "id": "f573b732",
   "metadata": {},
   "source": [
    "# LATEST ENTRY ONLY"
   ]
  },
  {
   "cell_type": "code",
   "execution_count": 6,
   "id": "0a974f6b",
   "metadata": {},
   "outputs": [
    {
     "data": {
      "text/plain": [
       "SEAsia    922.000000\n",
       "std_12    181.473493\n",
       "Name: 2022-07-01 00:00:00, dtype: float64"
      ]
     },
     "execution_count": 6,
     "metadata": {},
     "output_type": "execute_result"
    }
   ],
   "source": [
    "x = seasia_cfr\n",
    "x[(x.index.month==self.month) & (x.index.year==self.year)].iloc[-1]"
   ]
  },
  {
   "cell_type": "code",
   "execution_count": 7,
   "id": "d9709f62",
   "metadata": {},
   "outputs": [],
   "source": [
    "# Natural Gas\n",
    "n = naturalgas[(naturalgas.index.month==self.month) & (naturalgas.index.year==self.year)].iloc[-1]\n",
    "# GDP (based on current month)\n",
    "g = gdp[(gdp.index.month==self.month) & (gdp.index.year==self.year)].iloc[-1]\n",
    "# EURUSD\n",
    "e = eurusd[(eurusd.index.month==self.month) & (eurusd.index.year==self.year)].iloc[-1]\n",
    "# FERTILIZER PRODUCTION\n",
    "fert = fertprod[(fertprod.index.month==self.month) & (fertprod.index.year==self.year)].iloc[-1]\n",
    "# BRAZIL CFR\n",
    "s = seasia_cfr.iloc[-1]"
   ]
  },
  {
   "cell_type": "code",
   "execution_count": 8,
   "id": "a31a4edb",
   "metadata": {},
   "outputs": [
    {
     "name": "stderr",
     "output_type": "stream",
     "text": [
      "100%|██████████████████████████████████████████████████████████████████████████| 20000/20000 [00:04<00:00, 4865.23it/s]\n"
     ]
    }
   ],
   "source": [
    "seasia_latest_cfr = []\n",
    "for i in tqdm(range(simulations)):\n",
    "    ng0m = np.random.triangular(n.NGHHUUS-n.std_6,n.NGHHUUS,n.NGHHUUS+n.std_6)\n",
    "    g0m = np.random.triangular(g.GDPQXUS-g.std_48,g.GDPQXUS,g.GDPQXUS+g.std_48)\n",
    "    e0m = np.random.triangular(e['Adj Close']-e.std_3,e['Adj Close'],e['Adj Close']+e.std_3)\n",
    "    fert0m = np.random.triangular(fert['Total Fertilizer Production']-fert.std_60,fert['Total Fertilizer Production'],fert['Total Fertilizer Production']+fert.std_60)\n",
    "    s0m = np.random.triangular(s.SEAsia-s.std_12,s.SEAsia,s.SEAsia+s.std_12)\n",
    "    result =dm + const + self.HHNaturalGasPrice* ng0m + self.USGDP*g0m + self.USDEURO*e0m + self.TotalFertilizerProduction*fert0m + self.SEAsia_1 *s0m\n",
    "    seasia_latest_cfr.append(result)"
   ]
  },
  {
   "cell_type": "code",
   "execution_count": 9,
   "id": "51e71b61",
   "metadata": {},
   "outputs": [],
   "source": [
    "pred_df = pd.DataFrame(seasia_latest_cfr,columns=['Predictions'])"
   ]
  },
  {
   "cell_type": "code",
   "execution_count": 10,
   "id": "84b8a8db",
   "metadata": {},
   "outputs": [
    {
     "data": {
      "text/html": [
       "<div>\n",
       "<style scoped>\n",
       "    .dataframe tbody tr th:only-of-type {\n",
       "        vertical-align: middle;\n",
       "    }\n",
       "\n",
       "    .dataframe tbody tr th {\n",
       "        vertical-align: top;\n",
       "    }\n",
       "\n",
       "    .dataframe thead th {\n",
       "        text-align: right;\n",
       "    }\n",
       "</style>\n",
       "<table border=\"1\" class=\"dataframe\">\n",
       "  <thead>\n",
       "    <tr style=\"text-align: right;\">\n",
       "      <th></th>\n",
       "      <th>Predictions</th>\n",
       "    </tr>\n",
       "  </thead>\n",
       "  <tbody>\n",
       "    <tr>\n",
       "      <th>count</th>\n",
       "      <td>20000.000000</td>\n",
       "    </tr>\n",
       "    <tr>\n",
       "      <th>mean</th>\n",
       "      <td>833.591751</td>\n",
       "    </tr>\n",
       "    <tr>\n",
       "      <th>std</th>\n",
       "      <td>70.999811</td>\n",
       "    </tr>\n",
       "    <tr>\n",
       "      <th>min</th>\n",
       "      <td>649.582107</td>\n",
       "    </tr>\n",
       "    <tr>\n",
       "      <th>25%</th>\n",
       "      <td>782.389794</td>\n",
       "    </tr>\n",
       "    <tr>\n",
       "      <th>50%</th>\n",
       "      <td>833.741690</td>\n",
       "    </tr>\n",
       "    <tr>\n",
       "      <th>75%</th>\n",
       "      <td>884.011552</td>\n",
       "    </tr>\n",
       "    <tr>\n",
       "      <th>max</th>\n",
       "      <td>1018.246155</td>\n",
       "    </tr>\n",
       "  </tbody>\n",
       "</table>\n",
       "</div>"
      ],
      "text/plain": [
       "        Predictions\n",
       "count  20000.000000\n",
       "mean     833.591751\n",
       "std       70.999811\n",
       "min      649.582107\n",
       "25%      782.389794\n",
       "50%      833.741690\n",
       "75%      884.011552\n",
       "max     1018.246155"
      ]
     },
     "execution_count": 10,
     "metadata": {},
     "output_type": "execute_result"
    }
   ],
   "source": [
    "pred_df.describe()"
   ]
  },
  {
   "cell_type": "code",
   "execution_count": 11,
   "id": "53067177",
   "metadata": {},
   "outputs": [
    {
     "data": {
      "image/png": "[encoded data removed]",
      "text/plain": [
       "<Figure size 432x288 with 1 Axes>"
      ]
     },
     "metadata": {},
     "output_type": "display_data"
    }
   ],
   "source": [
    "pred_df.plot(kind='hist',bins=100,title=f'SEAsia CFR - {simulations} Iterations');"
   ]
  },
  {
   "cell_type": "code",
   "execution_count": 12,
   "id": "b5078458",
   "metadata": {},
   "outputs": [
    {
     "data": {
      "text/plain": [
       "{'Predictions': 834.2831642363556}"
      ]
     },
     "execution_count": 12,
     "metadata": {},
     "output_type": "execute_result"
    }
   ],
   "source": [
    "self.kde_max_density(pred_df)"
   ]
  },
  {
   "cell_type": "code",
   "execution_count": null,
   "id": "6c5fc407",
   "metadata": {},
   "outputs": [],
   "source": []
  }
 ],
 "metadata": {
  "kernelspec": {
   "display_name": "Python 3 (ipykernel)",
   "language": "python",
   "name": "python3"
  },
  "language_info": {
   "codemirror_mode": {
    "name": "ipython",
    "version": 3
   },
   "file_extension": ".py",
   "mimetype": "text/x-python",
   "name": "python",
   "nbconvert_exporter": "python",
   "pygments_lexer": "ipython3",
   "version": "3.10.5"
  }
 },
 "nbformat": 4,
 "nbformat_minor": 5
}
