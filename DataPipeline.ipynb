{
 "cells": [
  {
   "cell_type": "code",
   "execution_count": null,
   "id": "39124920",
   "metadata": {},
   "outputs": [],
   "source": [
    "import pandas as pd"
   ]
  },
  {
   "cell_type": "code",
   "execution_count": null,
   "id": "3973d6d9",
   "metadata": {},
   "outputs": [],
   "source": [
    "from models import BrazilCFR"
   ]
  },
  {
   "cell_type": "code",
   "execution_count": 1,
   "id": "7e3dee7e",
   "metadata": {},
   "outputs": [],
   "source": [
    "from datapipeline import DataFeed"
   ]
  },
  {
   "cell_type": "code",
   "execution_count": 2,
   "id": "d2f73b2a",
   "metadata": {},
   "outputs": [],
   "source": [
    "self = DataFeed()"
   ]
  },
  {
   "cell_type": "code",
   "execution_count": 3,
   "id": "b735500c",
   "metadata": {},
   "outputs": [],
   "source": [
    "f = self.get_food_price_index"
   ]
  },
  {
   "cell_type": "code",
   "execution_count": null,
   "id": "8097f5ae",
   "metadata": {},
   "outputs": [],
   "source": [
    "\n",
    "\n",
    "# LAGS\n",
    "foa_lag1 = 2 #months\n",
    "fao_lag2 = 3 #months\n",
    "fao_lag3 = 6 #months\n",
    "# Volatility Window\n",
    "fao_std_window1 = 8 #corresponds to lag # 1\n",
    "fao_std_window2 = 6 #corresponds to lag # 2\n",
    "fao_std_window3 = 3 #corresponds to lag # 3\n",
    "\n",
    "\n",
    "# Adding lag\n",
    "f[f'fao_{foa_lag1}m'] = f['Food Price Index'].shift(foa_lag1).values\n",
    "f[f'fao_{fao_lag2}m'] = f['Food Price Index'].shift(fao_lag2).values\n",
    "f[f'fao_{fao_lag3}m'] = f['Food Price Index'].shift(fao_lag3).values\n",
    "\n",
    "# Adding volatility\n",
    "f[f'std_{foa_lag1}m_{fao_std_window1}'] = f[f'fao_{foa_lag1}m'].rolling(window=fao_std_window1).std()\n",
    "f[f'std_{fao_lag2}m_{fao_std_window2}'] = f[f'fao_{fao_lag2}m'].rolling(window=fao_std_window2).std()\n",
    "f[f'std_{fao_lag3}m_{fao_std_window3}'] = f[f'fao_{fao_lag3}m'].rolling(window=fao_std_window3).std()\n",
    "f"
   ]
  },
  {
   "cell_type": "code",
   "execution_count": null,
   "id": "7057fc52",
   "metadata": {},
   "outputs": [],
   "source": [
    "f"
   ]
  },
  {
   "cell_type": "code",
   "execution_count": null,
   "id": "df780001",
   "metadata": {},
   "outputs": [],
   "source": []
  },
  {
   "cell_type": "code",
   "execution_count": null,
   "id": "adf6c1ef",
   "metadata": {},
   "outputs": [],
   "source": [
    "b['std_12'] = b['BrazilCFR'].rolling(window=12).std()"
   ]
  },
  {
   "cell_type": "code",
   "execution_count": null,
   "id": "9c17e4fb",
   "metadata": {},
   "outputs": [],
   "source": [
    "b"
   ]
  },
  {
   "cell_type": "code",
   "execution_count": null,
   "id": "03016b75",
   "metadata": {},
   "outputs": [],
   "source": []
  }
 ],
 "metadata": {
  "kernelspec": {
   "display_name": "Python 3 (ipykernel)",
   "language": "python",
   "name": "python3"
  },
  "language_info": {
   "codemirror_mode": {
    "name": "ipython",
    "version": 3
   },
   "file_extension": ".py",
   "mimetype": "text/x-python",
   "name": "python",
   "nbconvert_exporter": "python",
   "pygments_lexer": "ipython3",
   "version": "3.10.5"
  }
 },
 "nbformat": 4,
 "nbformat_minor": 5
}
