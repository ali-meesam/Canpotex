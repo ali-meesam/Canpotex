{
 "cells": [
  {
   "cell_type": "code",
   "execution_count": 20,
   "id": "a08b6a23",
   "metadata": {},
   "outputs": [],
   "source": [
    "from models import ActualNetback, MineNetBack\n",
    "import os\n",
    "import pandas as pd\n",
    "from tqdm import tqdm\n",
    "import matplotlib.pyplot as plt\n",
    "%matplotlib inline\n",
    "\n",
    "plt.style.use('dark_background')"
   ]
  },
  {
   "cell_type": "code",
   "execution_count": 2,
   "id": "9860e63a",
   "metadata": {},
   "outputs": [],
   "source": [
    "self = ActualNetback()"
   ]
  },
  {
   "cell_type": "code",
   "execution_count": null,
   "id": "602f1418",
   "metadata": {},
   "outputs": [],
   "source": [
    "def predict(self):\n",
    "    mineNetback_predict = MineNetBack().predict()\n",
    "    warDummy = self.war_dummy()\n",
    "    qDummy = self.quarterly_dummy()\n",
    "    mine_netbacks = self.get_historical_mineNetback.iloc[-1]\n",
    "    interim = self.get_interimPricing.iloc[-1]\n",
    "\n",
    "    actuals = []\n",
    "    for i in tqdm(range(self.simulations)):\n",
    "        interim0m = self.tri_distribute(interim.InterimPricing,interim.std_12)\n",
    "        mine0m = self.tri_distribute(mineNetback_predict,mine_netbacks.std1)\n",
    "        mine1m = self.tri_distribute(mine_netbacks.lag2,mine_netbacks.std2)\n",
    "        mine6m = self.tri_distribute(mine_netbacks.lag3,mine_netbacks.std3)\n",
    "        actuals.append(interim0m*self.Interim + mine0m*self.MineNetback + mine1m*self.MineNetback_1 + mine6m*self.MineNetback_6 + warDummy *  qDummy)\n",
    "    pred_df = pd.DataFrame(actuals,columns=['Predictions'])\n",
    "    print(\"*\"*50)\n",
    "    print(pred_df.describe())\n",
    "    print(\"*\"*50)\n",
    "    pred_df.plot(kind='hist',bins=100,title=f'Mine Netback - {self.simulations} Iterations');\n",
    "    plt.show()\n",
    "    prediction = round(self.kde_max_density(pred_df)['Predictions'],2)\n",
    "    print(f\"Max Density -->>> ${prediction}\")\n",
    "    return predictdef predict(self):\n",
    "    mineNetback_predict = MineNetBack().predict()\n",
    "    warDummy = self.war_dummy()\n",
    "    qDummy = self.quarterly_dummy()\n",
    "    mine_netbacks = self.get_historical_mineNetback.iloc[-1]\n",
    "    interim = self.get_interimPricing.iloc[-1]\n",
    "\n",
    "    actuals = []\n",
    "    for i in tqdm(range(self.simulations)):\n",
    "        interim0m = self.tri_distribute(interim.InterimPricing,interim.std_12)\n",
    "        mine0m = self.tri_distribute(mineNetback_predict,mine_netbacks.std1)\n",
    "        mine1m = self.tri_distribute(mine_netbacks.lag2,mine_netbacks.std2)\n",
    "        mine6m = self.tri_distribute(mine_netbacks.lag3,mine_netbacks.std3)\n",
    "        actuals.append(interim0m*self.Interim + mine0m*self.MineNetback + mine1m*self.MineNetback_1 + mine6m*self.MineNetback_6 + warDummy *  qDummy)\n",
    "    pred_df = pd.DataFrame(actuals,columns=['Predictions'])\n",
    "    print(\"*\"*50)\n",
    "    print(pred_df.describe())\n",
    "    print(\"*\"*50)\n",
    "    pred_df.plot(kind='hist',bins=100,title=f'Mine Netback - {self.simulations} Iterations');\n",
    "    plt.show()\n",
    "    prediction = round(self.kde_max_density(pred_df)['Predictions'],2)\n",
    "    print(f\"Max Density -->>> ${prediction}\")\n",
    "    return predict"
   ]
  },
  {
   "cell_type": "code",
   "execution_count": 16,
   "id": "1718c7fe",
   "metadata": {},
   "outputs": [
    {
     "data": {
      "text/plain": [
       "679.730004161519"
      ]
     },
     "execution_count": 16,
     "metadata": {},
     "output_type": "execute_result"
    }
   ],
   "source": []
  },
  {
   "cell_type": "code",
   "execution_count": null,
   "id": "00f57117",
   "metadata": {},
   "outputs": [],
   "source": []
  }
 ],
 "metadata": {
  "kernelspec": {
   "display_name": "Python 3 (ipykernel)",
   "language": "python",
   "name": "python3"
  },
  "language_info": {
   "codemirror_mode": {
    "name": "ipython",
    "version": 3
   },
   "file_extension": ".py",
   "mimetype": "text/x-python",
   "name": "python",
   "nbconvert_exporter": "python",
   "pygments_lexer": "ipython3",
   "version": "3.9.12"
  }
 },
 "nbformat": 4,
 "nbformat_minor": 5
}
