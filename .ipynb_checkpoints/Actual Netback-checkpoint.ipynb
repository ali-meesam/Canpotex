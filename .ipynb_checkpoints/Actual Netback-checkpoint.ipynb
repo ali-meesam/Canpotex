{
 "cells": [
  {
   "cell_type": "code",
   "execution_count": 4,
   "id": "445dff33",
   "metadata": {},
   "outputs": [],
   "source": [
    "from models import ActualNetback, MineNetBack\n",
    "import os\n",
    "import pandas as pd"
   ]
  },
  {
   "cell_type": "code",
   "execution_count": null,
   "id": "2a85fad7",
   "metadata": {},
   "outputs": [],
   "source": [
    "self = ActualNetback()"
   ]
  },
  {
   "cell_type": "code",
   "execution_count": 6,
   "id": "74d7aaaa",
   "metadata": {},
   "outputs": [],
   "source": [
    "file_name = 'Historical_MineNetback.xlsx'\n",
    "src_file = os.path.join(self.src,file_name)\n",
    "df = pd.read_excel(src_file,index_col=0,parse_dates=True)"
   ]
  },
  {
   "cell_type": "code",
   "execution_count": 8,
   "id": "ce190832",
   "metadata": {},
   "outputs": [],
   "source": [
    "lag1 = 0\n",
    "lag2 = 1\n",
    "lag3 = 6"
   ]
  },
  {
   "cell_type": "code",
   "execution_count": 9,
   "id": "f0d63168",
   "metadata": {},
   "outputs": [],
   "source": [
    "std_window1 = 12\n",
    "mine_std_window2 = 12\n",
    "mine_std_window3 = 12"
   ]
  },
  {
   "cell_type": "code",
   "execution_count": null,
   "id": "5234e5f3",
   "metadata": {},
   "outputs": [],
   "source": [
    "df['lag1']"
   ]
  },
  {
   "cell_type": "code",
   "execution_count": 2,
   "id": "09ff24a5",
   "metadata": {},
   "outputs": [],
   "source": []
  },
  {
   "cell_type": "code",
   "execution_count": null,
   "id": "b77dba6d",
   "metadata": {},
   "outputs": [],
   "source": [
    "mineNetback_predict = MineNetBack().predict()\n",
    "mainNetback_std = self.get_mi"
   ]
  },
  {
   "cell_type": "code",
   "execution_count": 3,
   "id": "7e32521b",
   "metadata": {},
   "outputs": [
    {
     "data": {
      "text/html": [
       "<div>\n",
       "<style scoped>\n",
       "    .dataframe tbody tr th:only-of-type {\n",
       "        vertical-align: middle;\n",
       "    }\n",
       "\n",
       "    .dataframe tbody tr th {\n",
       "        vertical-align: top;\n",
       "    }\n",
       "\n",
       "    .dataframe thead th {\n",
       "        text-align: right;\n",
       "    }\n",
       "</style>\n",
       "<table border=\"1\" class=\"dataframe\">\n",
       "  <thead>\n",
       "    <tr style=\"text-align: right;\">\n",
       "      <th></th>\n",
       "      <th>InterimPricing</th>\n",
       "      <th>std_12</th>\n",
       "    </tr>\n",
       "    <tr>\n",
       "      <th>Date</th>\n",
       "      <th></th>\n",
       "      <th></th>\n",
       "    </tr>\n",
       "  </thead>\n",
       "  <tbody>\n",
       "    <tr>\n",
       "      <th>2014-01-01</th>\n",
       "      <td>205.195738</td>\n",
       "      <td>NaN</td>\n",
       "    </tr>\n",
       "    <tr>\n",
       "      <th>2014-02-01</th>\n",
       "      <td>210.529497</td>\n",
       "      <td>NaN</td>\n",
       "    </tr>\n",
       "    <tr>\n",
       "      <th>2014-03-01</th>\n",
       "      <td>221.211879</td>\n",
       "      <td>NaN</td>\n",
       "    </tr>\n",
       "    <tr>\n",
       "      <th>2014-04-01</th>\n",
       "      <td>224.690004</td>\n",
       "      <td>NaN</td>\n",
       "    </tr>\n",
       "    <tr>\n",
       "      <th>2014-05-01</th>\n",
       "      <td>223.694383</td>\n",
       "      <td>NaN</td>\n",
       "    </tr>\n",
       "    <tr>\n",
       "      <th>...</th>\n",
       "      <td>...</td>\n",
       "      <td>...</td>\n",
       "    </tr>\n",
       "    <tr>\n",
       "      <th>2022-03-01</th>\n",
       "      <td>542.513635</td>\n",
       "      <td>136.676991</td>\n",
       "    </tr>\n",
       "    <tr>\n",
       "      <th>2022-04-01</th>\n",
       "      <td>580.571322</td>\n",
       "      <td>144.223494</td>\n",
       "    </tr>\n",
       "    <tr>\n",
       "      <th>2022-05-01</th>\n",
       "      <td>642.309268</td>\n",
       "      <td>152.425991</td>\n",
       "    </tr>\n",
       "    <tr>\n",
       "      <th>2022-06-01</th>\n",
       "      <td>700.956338</td>\n",
       "      <td>159.077032</td>\n",
       "    </tr>\n",
       "    <tr>\n",
       "      <th>2022-07-01</th>\n",
       "      <td>696.350225</td>\n",
       "      <td>157.364381</td>\n",
       "    </tr>\n",
       "  </tbody>\n",
       "</table>\n",
       "<p>103 rows × 2 columns</p>\n",
       "</div>"
      ],
      "text/plain": [
       "            InterimPricing      std_12\n",
       "Date                                  \n",
       "2014-01-01      205.195738         NaN\n",
       "2014-02-01      210.529497         NaN\n",
       "2014-03-01      221.211879         NaN\n",
       "2014-04-01      224.690004         NaN\n",
       "2014-05-01      223.694383         NaN\n",
       "...                    ...         ...\n",
       "2022-03-01      542.513635  136.676991\n",
       "2022-04-01      580.571322  144.223494\n",
       "2022-05-01      642.309268  152.425991\n",
       "2022-06-01      700.956338  159.077032\n",
       "2022-07-01      696.350225  157.364381\n",
       "\n",
       "[103 rows x 2 columns]"
      ]
     },
     "execution_count": 3,
     "metadata": {},
     "output_type": "execute_result"
    }
   ],
   "source": [
    "iterim = self.get_interimPricing\n"
   ]
  },
  {
   "cell_type": "code",
   "execution_count": null,
   "id": "fade88a7",
   "metadata": {},
   "outputs": [],
   "source": []
  }
 ],
 "metadata": {
  "kernelspec": {
   "display_name": "Python 3 (ipykernel)",
   "language": "python",
   "name": "python3"
  },
  "language_info": {
   "codemirror_mode": {
    "name": "ipython",
    "version": 3
   },
   "file_extension": ".py",
   "mimetype": "text/x-python",
   "name": "python",
   "nbconvert_exporter": "python",
   "pygments_lexer": "ipython3",
   "version": "3.9.12"
  }
 },
 "nbformat": 4,
 "nbformat_minor": 5
}
