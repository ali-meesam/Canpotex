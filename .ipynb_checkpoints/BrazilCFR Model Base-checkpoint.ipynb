{
 "cells": [
  {
   "cell_type": "code",
   "execution_count": 1,
   "id": "1fa9ab8e",
   "metadata": {},
   "outputs": [],
   "source": [
    "from models import BrazilCFR\n",
    "from tqdm import tqdm\n",
    "import numpy as np\n",
    "import pandas as pd\n",
    "import matplotlib.pyplot as plt\n",
    "%matplotlib inline\n",
    "plt.style.use(\"dark_background\")"
   ]
  },
  {
   "cell_type": "code",
   "execution_count": 2,
   "id": "282b8989",
   "metadata": {},
   "outputs": [],
   "source": [
    "# @property\n",
    "# def base_prediction(self):\n",
    "#     \"\"\"\n",
    "#     Predicts next months CFR pricing for brazil\n",
    "#     \"\"\"\n",
    "#     # Food Price Index with lags\n",
    "#     fao_2 = self.FAOPriceIndex_2 * self.get_food_price_index['Food Price Index'].iloc[-1-2]\n",
    "#     fao_3 = self.FAOPriceIndex_3 * self.get_food_price_index['Food Price Index'].iloc[-1-3]\n",
    "#     fao_6 = self.FAOPriceIndex_6 * self.get_food_price_index['Food Price Index'].iloc[-1-6]\n",
    "#     # Exchange rates\n",
    "#     eurusd = self.USDEURO * (self.get_eurusd['Adj Close']).iloc[-1]\n",
    "#     # Fertilizer production quadratic\n",
    "#     fertprodquad = self.FertProdQuad * (self.get_total_fertilizer_production['Total Fertilizer Production']**2).iloc[-1]\n",
    "#     # G20Inflation\n",
    "#     g20inflation = self.G20Inflation * self.get_g20_cpi['G20CPI'].dropna().iloc[-1]\n",
    "#     # DUMMY\n",
    "#     monthly_dummy = self.monthly_dummy()\n",
    "#     # GDP\n",
    "#     g = self.get_gdp\n",
    "#     gdp = self.USGDP * g[(g.index.month==self.month) & (g.index.year==self.year)]['GDPQXUS'].iloc[-1]\n",
    "#     # Brazil CFR _Fertilizer Weeek\n",
    "#     brazil_cfr_1 = self.BrazilCFR_1 * self.get_BrazilCFR['BrazilCFR'].iloc[-1]\n",
    "#     # Poly. Eq.\n",
    "#     brazil_cfr = fao_2+fao_3+fao_6+eurusd+fertprodquad+g20inflation+monthly_dummy+gdp+brazil_cfr_1+self.const\n",
    "#     print(f\"Brazil: ${round(brazil_cfr_1,2)} ->> ${round(brazil_cfr,2)} | {round((brazil_cfr/brazil_cfr_1-1)*100,1)}% {'up' if brazil_cfr >= brazil_cfr_1 else 'down' }\")\n",
    "#     return brazil_cfr"
   ]
  },
  {
   "cell_type": "code",
   "execution_count": 3,
   "id": "78ab3adc",
   "metadata": {},
   "outputs": [],
   "source": [
    "simulations = 20000"
   ]
  },
  {
   "cell_type": "code",
   "execution_count": 4,
   "id": "347ef279",
   "metadata": {},
   "outputs": [],
   "source": [
    "self = BrazilCFR()"
   ]
  },
  {
   "cell_type": "code",
   "execution_count": 5,
   "id": "8e404522",
   "metadata": {},
   "outputs": [],
   "source": [
    "# get DATA\n",
    "fao = self.get_food_price_index\n",
    "eurusd = self.get_eurusd\n",
    "fertprod = self.get_total_fertilizer_production\n",
    "inflation = self.get_g20_cpi\n",
    "gdp = self.get_gdp\n",
    "brazil_cfr = self.get_BrazilCFR\n",
    "\n",
    "dm = self.monthly_dummy()\n",
    "const = self.const"
   ]
  },
  {
   "cell_type": "code",
   "execution_count": 11,
   "id": "8605170e",
   "metadata": {},
   "outputs": [
    {
     "data": {
      "text/html": [
       "<div>\n",
       "<style scoped>\n",
       "    .dataframe tbody tr th:only-of-type {\n",
       "        vertical-align: middle;\n",
       "    }\n",
       "\n",
       "    .dataframe tbody tr th {\n",
       "        vertical-align: top;\n",
       "    }\n",
       "\n",
       "    .dataframe thead th {\n",
       "        text-align: right;\n",
       "    }\n",
       "</style>\n",
       "<table border=\"1\" class=\"dataframe\">\n",
       "  <thead>\n",
       "    <tr style=\"text-align: right;\">\n",
       "      <th></th>\n",
       "      <th>GDPQXUS</th>\n",
       "      <th>std_48</th>\n",
       "    </tr>\n",
       "    <tr>\n",
       "      <th>Date</th>\n",
       "      <th></th>\n",
       "      <th></th>\n",
       "    </tr>\n",
       "  </thead>\n",
       "  <tbody>\n",
       "    <tr>\n",
       "      <th>2023-08-01</th>\n",
       "      <td>20129.33</td>\n",
       "      <td>692.250641</td>\n",
       "    </tr>\n",
       "    <tr>\n",
       "      <th>2023-09-01</th>\n",
       "      <td>20167.56</td>\n",
       "      <td>702.455415</td>\n",
       "    </tr>\n",
       "    <tr>\n",
       "      <th>2023-10-01</th>\n",
       "      <td>20207.45</td>\n",
       "      <td>713.342464</td>\n",
       "    </tr>\n",
       "    <tr>\n",
       "      <th>2023-11-01</th>\n",
       "      <td>20244.71</td>\n",
       "      <td>724.377675</td>\n",
       "    </tr>\n",
       "    <tr>\n",
       "      <th>2023-12-01</th>\n",
       "      <td>20280.90</td>\n",
       "      <td>735.497010</td>\n",
       "    </tr>\n",
       "  </tbody>\n",
       "</table>\n",
       "</div>"
      ],
      "text/plain": [
       "             GDPQXUS      std_48\n",
       "Date                            \n",
       "2023-08-01  20129.33  692.250641\n",
       "2023-09-01  20167.56  702.455415\n",
       "2023-10-01  20207.45  713.342464\n",
       "2023-11-01  20244.71  724.377675\n",
       "2023-12-01  20280.90  735.497010"
      ]
     },
     "execution_count": 11,
     "metadata": {},
     "output_type": "execute_result"
    }
   ],
   "source": [
    "gdp.tail()"
   ]
  },
  {
   "cell_type": "code",
   "execution_count": 7,
   "id": "868794a0",
   "metadata": {},
   "outputs": [],
   "source": [
    "# len(fao.dropna())\n",
    "# len(eurusd.dropna())\n",
    "# len(fertprod.dropna())\n",
    "# len(inflation.dropna())\n",
    "# len(gdp.dropna())\n",
    "# len(brazil_cfr.dropna())"
   ]
  },
  {
   "cell_type": "markdown",
   "id": "f573b732",
   "metadata": {},
   "source": [
    "# LATEST ENTRY ONLY"
   ]
  },
  {
   "cell_type": "code",
   "execution_count": 12,
   "id": "d9709f62",
   "metadata": {},
   "outputs": [],
   "source": [
    "# FAO\n",
    "f = fao[(fao.index.month==self.month) & (fao.index.year==self.year)].iloc[-1]\n",
    "# EURUSD\n",
    "e = eurusd[(eurusd.index.month==self.month) & (eurusd.index.year==self.year)].iloc[-1]\n",
    "# FERTILIZER PRODUCTION\n",
    "fert = fertprod[(fertprod.index.month==self.month) & (fertprod.index.year==self.year)].iloc[-1]\n",
    "# INFLATION\n",
    "ig20 = inflation[(inflation.index.month==self.month) & (inflation.index.year==self.year)].iloc[-1]\n",
    "# GDP\n",
    "g = gdp[(gdp.index.month==self.month) & (gdp.index.year==self.year)].iloc[-1]\n",
    "# BRAZIL CFR\n",
    "b = brazil_cfr[(brazil_cfr.index.month==self.month) & (brazil_cfr.index.year==self.year)].iloc[-1]"
   ]
  },
  {
   "cell_type": "code",
   "execution_count": 13,
   "id": "a31a4edb",
   "metadata": {},
   "outputs": [
    {
     "name": "stderr",
     "output_type": "stream",
     "text": [
      "100%|██████████████████████████████████████████████████████████████████████████| 20000/20000 [00:07<00:00, 2569.16it/s]\n"
     ]
    }
   ],
   "source": [
    "brazil_latest_cfr = []\n",
    "for i in tqdm(range(simulations)):\n",
    "    fao2m = np.random.triangular(f.fao_2m-f.std_2m_8,f.fao_2m,f.fao_2m+f.std_2m_8)\n",
    "    fao3m = np.random.triangular(f.fao_3m-f.std_3m_6,f.fao_3m,f.fao_3m+f.std_3m_6)\n",
    "    fao6m = np.random.triangular(f.fao_6m-f.std_6m_3,f.fao_6m,f.fao_6m+f.std_6m_3)\n",
    "    e0m = np.random.triangular(e['Adj Close']-e.std_3,e['Adj Close'],e['Adj Close']+e.std_3)\n",
    "    fert0m = np.random.triangular(fert.FertProdQuad-fert.std_quad_60,fert.FertProdQuad,fert.FertProdQuad+fert.std_quad_60)\n",
    "    ig200m = np.random.triangular(ig20.G20CPI-ig20.std_6,ig20.G20CPI,ig20.G20CPI+ig20.std_6)\n",
    "    g0m = np.random.triangular(g.GDPQXUS-g.std_48,g.GDPQXUS,g.GDPQXUS+g.std_48)\n",
    "    b0m = np.random.triangular(b.BrazilCFR-b.std_12,b.BrazilCFR,b.BrazilCFR+b.std_12)\n",
    "\n",
    "    brazil_latest_cfr.append(dm + const + self.FAOPriceIndex_2*fao2m + self.FAOPriceIndex_3*fao3m + self.FAOPriceIndex_6*fao6m + self.USDEURO*e0m + self.FertProdQuad*fert0m + self.G20Inflation*ig200m + self.USGDP*g0m + self.BrazilCFR_1*b0m)"
   ]
  },
  {
   "cell_type": "code",
   "execution_count": 14,
   "id": "51e71b61",
   "metadata": {},
   "outputs": [],
   "source": [
    "pred_df = pd.DataFrame(brazil_latest_cfr,columns=['Predictions'])"
   ]
  },
  {
   "cell_type": "code",
   "execution_count": 15,
   "id": "84b8a8db",
   "metadata": {},
   "outputs": [
    {
     "data": {
      "text/html": [
       "<div>\n",
       "<style scoped>\n",
       "    .dataframe tbody tr th:only-of-type {\n",
       "        vertical-align: middle;\n",
       "    }\n",
       "\n",
       "    .dataframe tbody tr th {\n",
       "        vertical-align: top;\n",
       "    }\n",
       "\n",
       "    .dataframe thead th {\n",
       "        text-align: right;\n",
       "    }\n",
       "</style>\n",
       "<table border=\"1\" class=\"dataframe\">\n",
       "  <thead>\n",
       "    <tr style=\"text-align: right;\">\n",
       "      <th></th>\n",
       "      <th>Predictions</th>\n",
       "    </tr>\n",
       "  </thead>\n",
       "  <tbody>\n",
       "    <tr>\n",
       "      <th>count</th>\n",
       "      <td>20000.000000</td>\n",
       "    </tr>\n",
       "    <tr>\n",
       "      <th>mean</th>\n",
       "      <td>1093.661609</td>\n",
       "    </tr>\n",
       "    <tr>\n",
       "      <th>std</th>\n",
       "      <td>67.144690</td>\n",
       "    </tr>\n",
       "    <tr>\n",
       "      <th>min</th>\n",
       "      <td>888.538524</td>\n",
       "    </tr>\n",
       "    <tr>\n",
       "      <th>25%</th>\n",
       "      <td>1045.944107</td>\n",
       "    </tr>\n",
       "    <tr>\n",
       "      <th>50%</th>\n",
       "      <td>1093.423945</td>\n",
       "    </tr>\n",
       "    <tr>\n",
       "      <th>75%</th>\n",
       "      <td>1141.318044</td>\n",
       "    </tr>\n",
       "    <tr>\n",
       "      <th>max</th>\n",
       "      <td>1295.671415</td>\n",
       "    </tr>\n",
       "  </tbody>\n",
       "</table>\n",
       "</div>"
      ],
      "text/plain": [
       "        Predictions\n",
       "count  20000.000000\n",
       "mean    1093.661609\n",
       "std       67.144690\n",
       "min      888.538524\n",
       "25%     1045.944107\n",
       "50%     1093.423945\n",
       "75%     1141.318044\n",
       "max     1295.671415"
      ]
     },
     "execution_count": 15,
     "metadata": {},
     "output_type": "execute_result"
    }
   ],
   "source": [
    "pred_df.describe()"
   ]
  },
  {
   "cell_type": "code",
   "execution_count": 16,
   "id": "53067177",
   "metadata": {},
   "outputs": [
    {
     "data": {
      "image/png": "[encoded data removed]",
      "text/plain": [
       "<Figure size 432x288 with 1 Axes>"
      ]
     },
     "metadata": {},
     "output_type": "display_data"
    }
   ],
   "source": [
    "pred_df.plot(kind='hist',bins=100,title=f'Brazil CFR - {simulations} Iterations');"
   ]
  },
  {
   "cell_type": "code",
   "execution_count": 17,
   "id": "b5078458",
   "metadata": {},
   "outputs": [
    {
     "data": {
      "text/plain": [
       "{'Predictions': 1090.882347857743}"
      ]
     },
     "execution_count": 17,
     "metadata": {},
     "output_type": "execute_result"
    }
   ],
   "source": [
    "self.kde_max_density(pred_df)"
   ]
  },
  {
   "cell_type": "code",
   "execution_count": null,
   "id": "6c5fc407",
   "metadata": {},
   "outputs": [],
   "source": []
  }
 ],
 "metadata": {
  "kernelspec": {
   "display_name": "Python 3 (ipykernel)",
   "language": "python",
   "name": "python3"
  },
  "language_info": {
   "codemirror_mode": {
    "name": "ipython",
    "version": 3
   },
   "file_extension": ".py",
   "mimetype": "text/x-python",
   "name": "python",
   "nbconvert_exporter": "python",
   "pygments_lexer": "ipython3",
   "version": "3.10.5"
  }
 },
 "nbformat": 4,
 "nbformat_minor": 5
}
