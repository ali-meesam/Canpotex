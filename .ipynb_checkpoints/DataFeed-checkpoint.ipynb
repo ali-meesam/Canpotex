{
 "cells": [
  {
   "cell_type": "code",
   "execution_count": 1,
   "id": "30446445",
   "metadata": {},
   "outputs": [],
   "source": [
    "from datapipeline import DataFeed"
   ]
  },
  {
   "cell_type": "code",
   "execution_count": 2,
   "id": "3068fd1c",
   "metadata": {},
   "outputs": [],
   "source": [
    "d = DataFeed()"
   ]
  },
  {
   "cell_type": "code",
   "execution_count": 3,
   "id": "1e5f38af",
   "metadata": {},
   "outputs": [
    {
     "data": {
      "text/html": [
       "<div>\n",
       "<style scoped>\n",
       "    .dataframe tbody tr th:only-of-type {\n",
       "        vertical-align: middle;\n",
       "    }\n",
       "\n",
       "    .dataframe tbody tr th {\n",
       "        vertical-align: top;\n",
       "    }\n",
       "\n",
       "    .dataframe thead th {\n",
       "        text-align: right;\n",
       "    }\n",
       "</style>\n",
       "<table border=\"1\" class=\"dataframe\">\n",
       "  <thead>\n",
       "    <tr style=\"text-align: right;\">\n",
       "      <th></th>\n",
       "      <th>Food Price Index</th>\n",
       "    </tr>\n",
       "    <tr>\n",
       "      <th>Date</th>\n",
       "      <th></th>\n",
       "    </tr>\n",
       "  </thead>\n",
       "  <tbody>\n",
       "    <tr>\n",
       "      <th>NaT</th>\n",
       "      <td>NaN</td>\n",
       "    </tr>\n",
       "    <tr>\n",
       "      <th>1990-01-01</th>\n",
       "      <td>64.145081</td>\n",
       "    </tr>\n",
       "    <tr>\n",
       "      <th>1990-02-01</th>\n",
       "      <td>64.453560</td>\n",
       "    </tr>\n",
       "    <tr>\n",
       "      <th>1990-03-01</th>\n",
       "      <td>63.787064</td>\n",
       "    </tr>\n",
       "    <tr>\n",
       "      <th>1990-04-01</th>\n",
       "      <td>65.766754</td>\n",
       "    </tr>\n",
       "    <tr>\n",
       "      <th>...</th>\n",
       "      <td>...</td>\n",
       "    </tr>\n",
       "    <tr>\n",
       "      <th>2022-03-01</th>\n",
       "      <td>159.713180</td>\n",
       "    </tr>\n",
       "    <tr>\n",
       "      <th>2022-04-01</th>\n",
       "      <td>158.435720</td>\n",
       "    </tr>\n",
       "    <tr>\n",
       "      <th>2022-05-01</th>\n",
       "      <td>157.885279</td>\n",
       "    </tr>\n",
       "    <tr>\n",
       "      <th>2022-06-01</th>\n",
       "      <td>154.255871</td>\n",
       "    </tr>\n",
       "    <tr>\n",
       "      <th>2022-07-01</th>\n",
       "      <td>140.935537</td>\n",
       "    </tr>\n",
       "  </tbody>\n",
       "</table>\n",
       "<p>392 rows × 1 columns</p>\n",
       "</div>"
      ],
      "text/plain": [
       "            Food Price Index\n",
       "Date                        \n",
       "NaT                      NaN\n",
       "1990-01-01         64.145081\n",
       "1990-02-01         64.453560\n",
       "1990-03-01         63.787064\n",
       "1990-04-01         65.766754\n",
       "...                      ...\n",
       "2022-03-01        159.713180\n",
       "2022-04-01        158.435720\n",
       "2022-05-01        157.885279\n",
       "2022-06-01        154.255871\n",
       "2022-07-01        140.935537\n",
       "\n",
       "[392 rows x 1 columns]"
      ]
     },
     "execution_count": 3,
     "metadata": {},
     "output_type": "execute_result"
    }
   ],
   "source": [
    "d.get_food_price_index"
   ]
  },
  {
   "cell_type": "code",
   "execution_count": null,
   "id": "234fdca9",
   "metadata": {},
   "outputs": [],
   "source": [
    "def excel_to_python(excel_data_string):\n",
    "    "
   ]
  },
  {
   "cell_type": "code",
   "execution_count": 11,
   "id": "96471bb3",
   "metadata": {},
   "outputs": [
    {
     "name": "stdout",
     "output_type": "stream",
     "text": [
      "self.MineNetback = 0.41\n",
      "self.MineNetback_1 = -0.14\n",
      "self.MineNetback_6 = -0.13\n",
      "self.WarDummy = 11.50\n",
      "self.Q1Dummy = 2.84\n",
      "self.Q2Dummy = 0.00\n",
      "self.Q3Dummy = -1.30\n",
      "self.Interim = 0.84\n",
      "self.\n",
      "self.\n"
     ]
    }
   ],
   "source": [
    "excel_data_string = \"\"\"MineNetback\t0.41\n",
    "MineNetback_1\t-0.14\n",
    "MineNetback_6\t-0.13\n",
    "WarDummy\t11.50\n",
    "Q1Dummy\t2.84\n",
    "Q2Dummy\t0.00\n",
    "Q3Dummy\t-1.30\n",
    "Interim\t0.84\n",
    "\"\"\"\n",
    "print(*[\"self.\"+i for i in f\"\"\"{excel_data_string}\n",
    "\"\"\".replace(\"\\t\",\" = \").split(\"\\n\")],sep='\\n')"
   ]
  },
  {
   "cell_type": "code",
   "execution_count": null,
   "id": "d5644358",
   "metadata": {},
   "outputs": [],
   "source": []
  },
  {
   "cell_type": "code",
   "execution_count": null,
   "id": "44a2370e",
   "metadata": {},
   "outputs": [],
   "source": [
    "import pandas as pd"
   ]
  },
  {
   "cell_type": "code",
   "execution_count": null,
   "id": "58fdf710",
   "metadata": {},
   "outputs": [],
   "source": [
    "pd.read_excel('https://www.eia.gov/outlooks/steo/xls/STEO_m.xlsx')"
   ]
  },
  {
   "cell_type": "code",
   "execution_count": null,
   "id": "d71e0f27",
   "metadata": {},
   "outputs": [],
   "source": [
    "'https://www.eia.gov/outlooks/steo/xls/STEO_m.xlsx'"
   ]
  }
 ],
 "metadata": {
  "kernelspec": {
   "display_name": "Python 3 (ipykernel)",
   "language": "python",
   "name": "python3"
  },
  "language_info": {
   "codemirror_mode": {
    "name": "ipython",
    "version": 3
   },
   "file_extension": ".py",
   "mimetype": "text/x-python",
   "name": "python",
   "nbconvert_exporter": "python",
   "pygments_lexer": "ipython3",
   "version": "3.10.5"
  }
 },
 "nbformat": 4,
 "nbformat_minor": 5
}
