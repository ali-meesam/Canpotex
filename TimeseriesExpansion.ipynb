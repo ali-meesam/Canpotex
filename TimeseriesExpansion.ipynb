{
 "cells": [
  {
   "cell_type": "code",
   "execution_count": 1,
   "id": "8e8dac64",
   "metadata": {},
   "outputs": [],
   "source": [
    "import matplotlib.pyplot as plt\n",
    "\n",
    "plt.style.use('dark_background')\n",
    "\n",
    "from statsmodels.tsa.seasonal import seasonal_decompose\n",
    "import matplotlib as plt\n",
    "import pandas as pd\n",
    "from datetime import datetime, timedelta\n",
    "from datapipeline import DataFeed\n",
    "from dateutil.relativedelta import relativedelta\n",
    "from datetime import timedelta, datetime\n",
    "\n",
    "%matplotlib inline"
   ]
  },
  {
   "cell_type": "code",
   "execution_count": 2,
   "id": "d58d4649",
   "metadata": {},
   "outputs": [],
   "source": [
    "from datapipelineAWS import DataFeed"
   ]
  },
  {
   "cell_type": "code",
   "execution_count": 3,
   "id": "a26745f9",
   "metadata": {},
   "outputs": [],
   "source": [
    "self = DataFeed()"
   ]
  },
  {
   "cell_type": "code",
   "execution_count": 4,
   "id": "b1eac966",
   "metadata": {},
   "outputs": [],
   "source": [
    "gdp_df = self.get_gdp_actual"
   ]
  },
  {
   "cell_type": "code",
   "execution_count": 5,
   "id": "701d83dc",
   "metadata": {},
   "outputs": [],
   "source": [
    "gdp_df.set_index('date',inplace=True)"
   ]
  },
  {
   "cell_type": "code",
   "execution_count": 6,
   "id": "ea202b78",
   "metadata": {},
   "outputs": [],
   "source": [
    "gdp_df.index = pd.to_datetime(gdp_df.index)"
   ]
  },
  {
   "cell_type": "code",
   "execution_count": 7,
   "id": "6c6b09d6",
   "metadata": {},
   "outputs": [],
   "source": [
    "ser = gdp_df['US_GDP']"
   ]
  },
  {
   "cell_type": "code",
   "execution_count": 8,
   "id": "c8ef917a",
   "metadata": {},
   "outputs": [
    {
     "data": {
      "text/plain": [
       "{1: 101.66599437500008,\n",
       " 2: -8.443475897735865,\n",
       " 3: -177.4955345747954,\n",
       " 4: -254.31919812500018,\n",
       " 5: -217.14643760974047,\n",
       " 6: -87.49264894848872,\n",
       " 7: 22.12548437499973,\n",
       " 8: 86.90863273752035,\n",
       " 9: 111.91662345443146,\n",
       " 10: 130.52771937500037,\n",
       " 11: 146.54470342744526,\n",
       " 12: 153.40429486651348}"
      ]
     },
     "execution_count": 8,
     "metadata": {},
     "output_type": "execute_result"
    }
   ],
   "source": [
    "self.get_seasonality(ser,frequency_type='q')"
   ]
  },
  {
   "cell_type": "code",
   "execution_count": null,
   "id": "b38cf7ff",
   "metadata": {},
   "outputs": [],
   "source": [
    "periods_back = 20 # going 5 years back\n",
    "period = 4\n",
    "ser = ser[-periods_back:]\n",
    "        \n",
    "model = seasonal_decompose(x=ser,extrapolate_trend='freq',period=period)\n",
    "seasonal = model.seasonal"
   ]
  },
  {
   "cell_type": "code",
   "execution_count": null,
   "id": "ac317ca7",
   "metadata": {},
   "outputs": [],
   "source": [
    "seasonal = seasonal.resample(\"M\").first()"
   ]
  },
  {
   "cell_type": "code",
   "execution_count": null,
   "id": "812585ae",
   "metadata": {},
   "outputs": [],
   "source": [
    "# QUADRATIC SMOOTHING OVER INCREASED SAMPLED DATA\n",
    "seasonal = seasonal.interpolate(method='polynomial',order=2)"
   ]
  },
  {
   "cell_type": "code",
   "execution_count": null,
   "id": "b674f0c3",
   "metadata": {},
   "outputs": [],
   "source": [
    "seasonal.loc[f'{self.year-1}']"
   ]
  },
  {
   "cell_type": "code",
   "execution_count": null,
   "id": "564616d8",
   "metadata": {},
   "outputs": [],
   "source": [
    "seasonal.loc[f'{self.year-1}']"
   ]
  },
  {
   "cell_type": "code",
   "execution_count": null,
   "id": "8b7abdb2",
   "metadata": {},
   "outputs": [],
   "source": [
    "seasonal.loc[seasonal.loc[f'{self.year-1}'].index]"
   ]
  },
  {
   "cell_type": "code",
   "execution_count": null,
   "id": "2baae1be",
   "metadata": {},
   "outputs": [],
   "source": [
    "seasonal = seasonal.loc[ser.loc[f'{self.year-1}'].index]\n",
    "{i.month:seasonal.loc[i] for i in seasonal.index}"
   ]
  },
  {
   "cell_type": "code",
   "execution_count": null,
   "id": "c392d2ac",
   "metadata": {},
   "outputs": [],
   "source": [
    "ser.index"
   ]
  },
  {
   "cell_type": "code",
   "execution_count": null,
   "id": "958b8a2a",
   "metadata": {},
   "outputs": [],
   "source": [
    "gdp_df.index = pd.to_datetime(gdp_df.index)"
   ]
  },
  {
   "cell_type": "code",
   "execution_count": null,
   "id": "7537ead5",
   "metadata": {},
   "outputs": [],
   "source": []
  },
  {
   "cell_type": "code",
   "execution_count": null,
   "id": "acba4292",
   "metadata": {},
   "outputs": [],
   "source": [
    "ser.loc[:f'{self.year-1}']"
   ]
  },
  {
   "cell_type": "code",
   "execution_count": null,
   "id": "ac2604e4",
   "metadata": {},
   "outputs": [],
   "source": [
    "model = seasonal_decompose(x=ser,extrapolate_trend='freq',period=4)"
   ]
  },
  {
   "cell_type": "code",
   "execution_count": null,
   "id": "34ab5930",
   "metadata": {},
   "outputs": [],
   "source": [
    "model.plot();"
   ]
  },
  {
   "cell_type": "code",
   "execution_count": null,
   "id": "933c0167",
   "metadata": {},
   "outputs": [],
   "source": [
    "model.seasonal"
   ]
  },
  {
   "cell_type": "code",
   "execution_count": null,
   "id": "0e873b47",
   "metadata": {},
   "outputs": [],
   "source": []
  },
  {
   "cell_type": "code",
   "execution_count": null,
   "id": "94ea6eb6",
   "metadata": {},
   "outputs": [],
   "source": []
  },
  {
   "cell_type": "code",
   "execution_count": null,
   "id": "1635b85d",
   "metadata": {},
   "outputs": [],
   "source": []
  },
  {
   "cell_type": "code",
   "execution_count": null,
   "id": "0841012a",
   "metadata": {},
   "outputs": [],
   "source": []
  }
 ],
 "metadata": {
  "kernelspec": {
   "display_name": "Python 3 (ipykernel)",
   "language": "python",
   "name": "python3"
  },
  "language_info": {
   "codemirror_mode": {
    "name": "ipython",
    "version": 3
   },
   "file_extension": ".py",
   "mimetype": "text/x-python",
   "name": "python",
   "nbconvert_exporter": "python",
   "pygments_lexer": "ipython3",
   "version": "3.10.5"
  }
 },
 "nbformat": 4,
 "nbformat_minor": 5
}
