{
 "cells": [
  {
   "cell_type": "code",
   "execution_count": 17,
   "id": "1fa9ab8e",
   "metadata": {},
   "outputs": [],
   "source": [
    "from models import SEAsiaCFR, BrazilCFR, MineNetBack, ActualNetback\n",
    "from tqdm import tqdm\n",
    "import numpy as np\n",
    "import pandas as pd\n",
    "import matplotlib.pyplot as plt\n",
    "%matplotlib inline\n",
    "plt.style.use(\"dark_background\")"
   ]
  },
  {
   "cell_type": "code",
   "execution_count": 2,
   "id": "78ab3adc",
   "metadata": {},
   "outputs": [],
   "source": [
    "simulations = 20000"
   ]
  },
  {
   "cell_type": "markdown",
   "id": "13afa75a",
   "metadata": {},
   "source": [
    "# BRAZIL"
   ]
  },
  {
   "cell_type": "code",
   "execution_count": 7,
   "id": "347ef279",
   "metadata": {},
   "outputs": [],
   "source": [
    "self = BrazilCFR()"
   ]
  },
  {
   "cell_type": "code",
   "execution_count": 8,
   "id": "cdcd5edd",
   "metadata": {},
   "outputs": [],
   "source": [
    "month = 8\n",
    "year = 2022"
   ]
  },
  {
   "cell_type": "code",
   "execution_count": 13,
   "id": "cee93f33",
   "metadata": {},
   "outputs": [
    {
     "name": "stdout",
     "output_type": "stream",
     "text": [
      "Predicting Brazil >> 8 / 2022...\n"
     ]
    },
    {
     "name": "stderr",
     "output_type": "stream",
     "text": [
      "100%|███████████████████████████████████████████████████| 20000/20000 [00:03<00:00, 5477.54it/s]\n"
     ]
    },
    {
     "name": "stdout",
     "output_type": "stream",
     "text": [
      "**************************************************\n",
      "        Predictions\n",
      "count  20000.000000\n",
      "mean     897.709395\n",
      "std       62.459763\n",
      "min      700.278014\n",
      "25%      852.922910\n",
      "50%      897.679735\n",
      "75%      942.386660\n",
      "max     1085.127525\n",
      "**************************************************\n",
      "Max Density -->>> $898.48\n"
     ]
    },
    {
     "data": {
      "text/plain": [
       "898.48"
      ]
     },
     "execution_count": 13,
     "metadata": {},
     "output_type": "execute_result"
    }
   ],
   "source": [
    "self.predict(month, year)"
   ]
  },
  {
   "cell_type": "markdown",
   "id": "aed2956c",
   "metadata": {},
   "source": [
    "# SEASIA"
   ]
  },
  {
   "cell_type": "code",
   "execution_count": 14,
   "id": "3e63d687",
   "metadata": {},
   "outputs": [],
   "source": [
    "self = SEAsiaCFR()"
   ]
  },
  {
   "cell_type": "code",
   "execution_count": 16,
   "id": "36c92db0",
   "metadata": {},
   "outputs": [
    {
     "name": "stdout",
     "output_type": "stream",
     "text": [
      "Predicting SE Asia >> 8 / 2022...\n"
     ]
    },
    {
     "name": "stderr",
     "output_type": "stream",
     "text": [
      "100%|██████████████████████████████████████████████████| 20000/20000 [00:01<00:00, 10323.26it/s]\n"
     ]
    },
    {
     "name": "stdout",
     "output_type": "stream",
     "text": [
      "**************************************************\n",
      "        Predictions\n",
      "count  20000.000000\n",
      "mean     947.036814\n",
      "std       67.319772\n",
      "min      772.056112\n",
      "25%      898.068982\n",
      "50%      947.303002\n",
      "75%      994.684851\n",
      "max     1115.589014\n",
      "**************************************************\n",
      "Max Density -->>> $952.42\n"
     ]
    },
    {
     "data": {
      "text/plain": [
       "952.42"
      ]
     },
     "execution_count": 16,
     "metadata": {},
     "output_type": "execute_result"
    }
   ],
   "source": [
    "self.predict(month,year)"
   ]
  },
  {
   "cell_type": "markdown",
   "id": "ad61601d",
   "metadata": {},
   "source": [
    "# MINE NETBACK"
   ]
  },
  {
   "cell_type": "code",
   "execution_count": 19,
   "id": "19f0a0c9",
   "metadata": {},
   "outputs": [],
   "source": [
    "self = MineNetBack()"
   ]
  },
  {
   "cell_type": "code",
   "execution_count": 20,
   "id": "11b0762c",
   "metadata": {},
   "outputs": [
    {
     "name": "stdout",
     "output_type": "stream",
     "text": [
      "Predicting MineNetback >> 8 / 2022...\n",
      "Predicting SE Asia >> 8 / 2022...\n"
     ]
    },
    {
     "name": "stderr",
     "output_type": "stream",
     "text": [
      "100%|██████████████████████████████████████████████████| 20000/20000 [00:01<00:00, 10124.12it/s]\n"
     ]
    },
    {
     "name": "stdout",
     "output_type": "stream",
     "text": [
      "**************************************************\n",
      "        Predictions\n",
      "count  20000.000000\n",
      "mean     946.415243\n",
      "std       67.184073\n",
      "min      775.222766\n",
      "25%      898.261013\n",
      "50%      946.077124\n",
      "75%      994.455621\n",
      "max     1115.702276\n",
      "**************************************************\n",
      "Max Density -->>> $946.48\n",
      "Predicting Brazil >> 8 / 2022...\n"
     ]
    },
    {
     "name": "stderr",
     "output_type": "stream",
     "text": [
      "100%|███████████████████████████████████████████████████| 20000/20000 [00:03<00:00, 5771.82it/s]\n"
     ]
    },
    {
     "name": "stdout",
     "output_type": "stream",
     "text": [
      "**************************************************\n",
      "        Predictions\n",
      "count  20000.000000\n",
      "mean     898.450886\n",
      "std       62.649756\n",
      "min      694.246891\n",
      "25%      853.565642\n",
      "50%      898.441779\n",
      "75%      943.505402\n",
      "max     1087.146558\n",
      "**************************************************\n",
      "Max Density -->>> $897.38\n"
     ]
    },
    {
     "name": "stderr",
     "output_type": "stream",
     "text": [
      "100%|██████████████████████████████████████████████████| 20000/20000 [00:00<00:00, 20043.30it/s]\n"
     ]
    },
    {
     "name": "stdout",
     "output_type": "stream",
     "text": [
      "**************************************************\n",
      "        Predictions\n",
      "count  20000.000000\n",
      "mean     750.182831\n",
      "std       41.664550\n",
      "min      612.128390\n",
      "25%      720.930090\n",
      "50%      750.011298\n",
      "75%      779.422525\n",
      "max      877.399295\n",
      "**************************************************\n",
      "Max Density -->>> $747.15\n"
     ]
    },
    {
     "data": {
      "text/plain": [
       "747.15"
      ]
     },
     "execution_count": 20,
     "metadata": {},
     "output_type": "execute_result"
    }
   ],
   "source": [
    "self.predict(month, year)"
   ]
  },
  {
   "cell_type": "code",
   "execution_count": null,
   "id": "568b3311",
   "metadata": {},
   "outputs": [],
   "source": []
  },
  {
   "cell_type": "code",
   "execution_count": null,
   "id": "8e404522",
   "metadata": {},
   "outputs": [],
   "source": [
    "# get DATA\n",
    "naturalgas = self.get_natural_gas\n",
    "gdp = self.get_gdp\n",
    "eurusd = self.get_eurusd\n",
    "fertprod = self.get_total_fertilizer_production\n",
    "seasia_cfr = self.get_SEAsiaCFR\n",
    "\n",
    "dm = self.monthly_dummy()\n",
    "const = self.const"
   ]
  },
  {
   "cell_type": "code",
   "execution_count": null,
   "id": "868794a0",
   "metadata": {},
   "outputs": [],
   "source": [
    "# len(fao.dropna())\n",
    "# len(eurusd.dropna())\n",
    "# len(fertprod.dropna())\n",
    "# len(inflation.dropna())\n",
    "# len(gdp.dropna())\n",
    "# len(brazil_cfr.dropna())"
   ]
  },
  {
   "cell_type": "markdown",
   "id": "f573b732",
   "metadata": {},
   "source": [
    "# LATEST ENTRY ONLY"
   ]
  },
  {
   "cell_type": "code",
   "execution_count": null,
   "id": "0a974f6b",
   "metadata": {},
   "outputs": [],
   "source": [
    "x = seasia_cfr\n",
    "x[(x.index.month==self.month) & (x.index.year==self.year)].iloc[-1]"
   ]
  },
  {
   "cell_type": "code",
   "execution_count": null,
   "id": "d9709f62",
   "metadata": {},
   "outputs": [],
   "source": [
    "# Natural Gas\n",
    "n = naturalgas[(naturalgas.index.month==self.month) & (naturalgas.index.year==self.year)].iloc[-1]\n",
    "# GDP (based on current month)\n",
    "g = gdp[(gdp.index.month==self.month) & (gdp.index.year==self.year)].iloc[-1]\n",
    "# EURUSD\n",
    "e = eurusd[(eurusd.index.month==self.month) & (eurusd.index.year==self.year)].iloc[-1]\n",
    "# FERTILIZER PRODUCTION\n",
    "fert = fertprod[(fertprod.index.month==self.month) & (fertprod.index.year==self.year)].iloc[-1]\n",
    "# BRAZIL CFR\n",
    "s = seasia_cfr.iloc[-1]"
   ]
  },
  {
   "cell_type": "code",
   "execution_count": null,
   "id": "a31a4edb",
   "metadata": {},
   "outputs": [],
   "source": [
    "seasia_latest_cfr = []\n",
    "for i in tqdm(range(simulations)):\n",
    "    ng0m = np.random.triangular(n.NGHHUUS-n.std_6,n.NGHHUUS,n.NGHHUUS+n.std_6)\n",
    "    g0m = np.random.triangular(g.GDPQXUS-g.std_48,g.GDPQXUS,g.GDPQXUS+g.std_48)\n",
    "    e0m = np.random.triangular(e['Adj Close']-e.std_3,e['Adj Close'],e['Adj Close']+e.std_3)\n",
    "    fert0m = np.random.triangular(fert['Total Fertilizer Production']-fert.std_60,fert['Total Fertilizer Production'],fert['Total Fertilizer Production']+fert.std_60)\n",
    "    s0m = np.random.triangular(s.SEAsia-s.std_12,s.SEAsia,s.SEAsia+s.std_12)\n",
    "    result =dm + const + self.HHNaturalGasPrice* ng0m + self.USGDP*g0m + self.USDEURO*e0m + self.TotalFertilizerProduction*fert0m + self.SEAsia_1 *s0m\n",
    "    seasia_latest_cfr.append(result)"
   ]
  },
  {
   "cell_type": "code",
   "execution_count": null,
   "id": "51e71b61",
   "metadata": {},
   "outputs": [],
   "source": [
    "pred_df = pd.DataFrame(seasia_latest_cfr,columns=['Predictions'])"
   ]
  },
  {
   "cell_type": "code",
   "execution_count": null,
   "id": "7a5711fa",
   "metadata": {},
   "outputs": [],
   "source": [
    "pred_df"
   ]
  },
  {
   "cell_type": "code",
   "execution_count": null,
   "id": "84b8a8db",
   "metadata": {},
   "outputs": [],
   "source": [
    "pred_df.describe()"
   ]
  },
  {
   "cell_type": "code",
   "execution_count": null,
   "id": "53067177",
   "metadata": {},
   "outputs": [],
   "source": [
    "pred_df.plot(kind='hist',bins=100,title=f'SEAsia CFR - {simulations} Iterations');"
   ]
  },
  {
   "cell_type": "code",
   "execution_count": null,
   "id": "b5078458",
   "metadata": {},
   "outputs": [],
   "source": [
    "self.kde_max_density(pred_df)"
   ]
  },
  {
   "cell_type": "code",
   "execution_count": null,
   "id": "6c5fc407",
   "metadata": {},
   "outputs": [],
   "source": []
  }
 ],
 "metadata": {
  "kernelspec": {
   "display_name": "Python 3 (ipykernel)",
   "language": "python",
   "name": "python3"
  },
  "language_info": {
   "codemirror_mode": {
    "name": "ipython",
    "version": 3
   },
   "file_extension": ".py",
   "mimetype": "text/x-python",
   "name": "python",
   "nbconvert_exporter": "python",
   "pygments_lexer": "ipython3",
   "version": "3.10.5"
  }
 },
 "nbformat": 4,
 "nbformat_minor": 5
}
