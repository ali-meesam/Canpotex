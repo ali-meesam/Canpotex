{
 "cells": [
  {
   "cell_type": "code",
   "execution_count": null,
   "id": "4adfd06e",
   "metadata": {},
   "outputs": [],
   "source": [
    "\n",
    "from models import MineNetBack, BrazilCFR, SEAsiaCFR\n",
    "from tqdm import tqdm\n",
    "import numpy as np\n",
    "import pandas as pd\n",
    "import matplotlib.pyplot as plt\n",
    "%matplotlib inline\n",
    "plt.style.use(\"dark_background\")"
   ]
  },
  {
   "cell_type": "code",
   "execution_count": null,
   "id": "fca9c061",
   "metadata": {},
   "outputs": [],
   "source": [
    "simulations = 20000"
   ]
  },
  {
   "cell_type": "code",
   "execution_count": null,
   "id": "e188e077",
   "metadata": {},
   "outputs": [],
   "source": [
    "seasia_predict = SEAsiaCFR().predict()\n",
    "seasia_std = self.get_SEAsiaCFR.std_12.iloc[-1]"
   ]
  },
  {
   "cell_type": "code",
   "execution_count": null,
   "id": "85971169",
   "metadata": {
    "scrolled": true
   },
   "outputs": [],
   "source": [
    "brazil_predict = BrazilCFR().predict()\n",
    "brazil_std = self.get_BrazilCFR.std_12.iloc[-1]"
   ]
  },
  {
   "cell_type": "code",
   "execution_count": null,
   "id": "a08987ce",
   "metadata": {},
   "outputs": [],
   "source": [
    "self = MineNetBack()"
   ]
  },
  {
   "cell_type": "code",
   "execution_count": null,
   "id": "63105aee",
   "metadata": {},
   "outputs": [],
   "source": [
    "const = self.const\n",
    "quarterdummy = self.quarterly_dummy()"
   ]
  },
  {
   "cell_type": "code",
   "execution_count": null,
   "id": "541a8e16",
   "metadata": {},
   "outputs": [],
   "source": [
    "ethanol = self.get_ethanol.iloc[-1]"
   ]
  },
  {
   "cell_type": "code",
   "execution_count": null,
   "id": "f24565c6",
   "metadata": {},
   "outputs": [],
   "source": [
    "freightCost = self.get_freightCost.iloc[-1]"
   ]
  },
  {
   "cell_type": "code",
   "execution_count": null,
   "id": "e4cc6a59",
   "metadata": {},
   "outputs": [],
   "source": [
    "mine_netbacks = []\n",
    "for i in tqdm(range(self.simulations)):\n",
    "    seasia0m = self.tri_distribute(seasia_predict,seasia_std)\n",
    "    brazil0m = self.tri_distribute(brazil_predict,brazil_std)\n",
    "    ethanol0m = self.tri_distribute(ethanol.E85,ethanol.std_12)\n",
    "    freightCost0m = self.tri_distribute(freightCost.TotalCost,freightCost.std_8)\n",
    "    mine_netbacks.append(const + quarterdummy + ethanol0m*self.EIAE85 + freightCost0m*self.FreightCost + seasia0m*self.SEAsia + brazil0m*self.BrazilCFR)"
   ]
  },
  {
   "cell_type": "code",
   "execution_count": null,
   "id": "c7f5a80c",
   "metadata": {},
   "outputs": [],
   "source": [
    "pred_df = pd.DataFrame(mine_netbacks,columns=['Predictions'])\n",
    "print(\"*\"*50)\n",
    "print(pred_df.describe())\n",
    "print(\"*\"*50)\n",
    "pred_df.plot(kind='hist',bins=100,title=f'Mine Netback - {self.simulations} Iterations');\n",
    "plt.show()\n",
    "prediction = round(self.kde_max_density(pred_df)['Predictions'],2)\n",
    "print(f\"Max Density -->>> ${prediction}\")\n",
    "prediction"
   ]
  },
  {
   "cell_type": "code",
   "execution_count": null,
   "id": "1f56d56f",
   "metadata": {},
   "outputs": [],
   "source": [
    "freightCost.std_8"
   ]
  },
  {
   "cell_type": "code",
   "execution_count": 1,
   "id": "9ad49333",
   "metadata": {},
   "outputs": [],
   "source": [
    "from models import MineNetBack"
   ]
  },
  {
   "cell_type": "code",
   "execution_count": 2,
   "id": "0b03a62c",
   "metadata": {},
   "outputs": [],
   "source": [
    "model = MineNetBack()"
   ]
  },
  {
   "cell_type": "code",
   "execution_count": 3,
   "id": "09942c7f",
   "metadata": {},
   "outputs": [
    {
     "name": "stderr",
     "output_type": "stream",
     "text": [
      "100%|██████████████████████████████████████████████████████████████████████████| 20000/20000 [00:03<00:00, 5545.30it/s]\n"
     ]
    },
    {
     "name": "stdout",
     "output_type": "stream",
     "text": [
      "**************************************************\n",
      "        Predictions\n",
      "count  20000.000000\n",
      "mean     834.654814\n",
      "std       71.415129\n",
      "min      650.216985\n",
      "25%      782.727003\n",
      "50%      834.935354\n",
      "75%      885.708542\n",
      "max     1013.361181\n",
      "**************************************************\n"
     ]
    },
    {
     "data": {
      "image/png": "[encoded data removed]",
      "text/plain": [
       "<Figure size 432x288 with 1 Axes>"
      ]
     },
     "metadata": {},
     "output_type": "display_data"
    },
    {
     "name": "stdout",
     "output_type": "stream",
     "text": [
      "Max Density -->>> $838.7\n"
     ]
    },
    {
     "name": "stderr",
     "output_type": "stream",
     "text": [
      "100%|██████████████████████████████████████████████████████████████████████████| 20000/20000 [00:06<00:00, 3087.86it/s]\n"
     ]
    },
    {
     "name": "stdout",
     "output_type": "stream",
     "text": [
      "**************************************************\n",
      "        Predictions\n",
      "count  20000.000000\n",
      "mean    1093.707518\n",
      "std       67.130543\n",
      "min      896.671881\n",
      "25%     1046.660117\n",
      "50%     1093.866444\n",
      "75%     1140.948167\n",
      "max     1289.696178\n",
      "**************************************************\n"
     ]
    },
    {
     "data": {
      "image/png": "[encoded data removed]",
      "text/plain": [
       "<Figure size 432x288 with 1 Axes>"
      ]
     },
     "metadata": {},
     "output_type": "display_data"
    },
    {
     "name": "stdout",
     "output_type": "stream",
     "text": [
      "Max Density -->>> $1098.3\n"
     ]
    },
    {
     "name": "stderr",
     "output_type": "stream",
     "text": [
      "100%|█████████████████████████████████████████████████████████████████████████| 20000/20000 [00:00<00:00, 20120.73it/s]\n"
     ]
    },
    {
     "name": "stdout",
     "output_type": "stream",
     "text": [
      "**************************************************\n",
      "        Predictions\n",
      "count  20000.000000\n",
      "mean     778.244663\n",
      "std       44.570921\n",
      "min      642.982902\n",
      "25%      747.084237\n",
      "50%      778.167451\n",
      "75%      809.494865\n",
      "max      915.958531\n",
      "**************************************************\n"
     ]
    },
    {
     "data": {
      "image/png": "[encoded data removed]",
      "text/plain": [
       "<Figure size 432x288 with 1 Axes>"
      ]
     },
     "metadata": {},
     "output_type": "display_data"
    },
    {
     "name": "stdout",
     "output_type": "stream",
     "text": [
      "Max Density -->>> $775.37\n"
     ]
    },
    {
     "data": {
      "text/plain": [
       "775.37"
      ]
     },
     "execution_count": 3,
     "metadata": {},
     "output_type": "execute_result"
    }
   ],
   "source": [
    "model.predict()"
   ]
  },
  {
   "cell_type": "code",
   "execution_count": null,
   "id": "d35efc4c",
   "metadata": {},
   "outputs": [],
   "source": []
  }
 ],
 "metadata": {
  "kernelspec": {
   "display_name": "Python 3 (ipykernel)",
   "language": "python",
   "name": "python3"
  },
  "language_info": {
   "codemirror_mode": {
    "name": "ipython",
    "version": 3
   },
   "file_extension": ".py",
   "mimetype": "text/x-python",
   "name": "python",
   "nbconvert_exporter": "python",
   "pygments_lexer": "ipython3",
   "version": "3.10.5"
  }
 },
 "nbformat": 4,
 "nbformat_minor": 5
}
