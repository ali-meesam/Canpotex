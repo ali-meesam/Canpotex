{
 "cells": [
  {
   "cell_type": "code",
   "execution_count": 3,
   "id": "4adfd06e",
   "metadata": {},
   "outputs": [],
   "source": [
    "from models import MineNetBack\n",
    "from tqdm import tqdm\n",
    "import numpy as np\n",
    "import pandas as pd\n",
    "import matplotlib.pyplot as plt\n",
    "%matplotlib inline\n",
    "plt.style.use(\"dark_background\")"
   ]
  },
  {
   "cell_type": "code",
   "execution_count": 2,
   "id": "fca9c061",
   "metadata": {},
   "outputs": [],
   "source": [
    "simulations = 20000"
   ]
  },
  {
   "cell_type": "code",
   "execution_count": 4,
   "id": "a08987ce",
   "metadata": {},
   "outputs": [],
   "source": [
    "self = MineNetBack()"
   ]
  },
  {
   "cell_type": "code",
   "execution_count": 5,
   "id": "541a8e16",
   "metadata": {},
   "outputs": [],
   "source": [
    "from datapipeline import DataFeed"
   ]
  },
  {
   "cell_type": "code",
   "execution_count": 6,
   "id": "d4e02a4f",
   "metadata": {},
   "outputs": [],
   "source": [
    "self = DataFeed()"
   ]
  },
  {
   "cell_type": "code",
   "execution_count": null,
   "id": "afc97a30",
   "metadata": {},
   "outputs": [],
   "source": [
    "pd.read_excel()"
   ]
  }
 ],
 "metadata": {
  "kernelspec": {
   "display_name": "Python 3 (ipykernel)",
   "language": "python",
   "name": "python3"
  },
  "language_info": {
   "codemirror_mode": {
    "name": "ipython",
    "version": 3
   },
   "file_extension": ".py",
   "mimetype": "text/x-python",
   "name": "python",
   "nbconvert_exporter": "python",
   "pygments_lexer": "ipython3",
   "version": "3.9.12"
  }
 },
 "nbformat": 4,
 "nbformat_minor": 5
}
