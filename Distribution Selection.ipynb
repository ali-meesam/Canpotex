{
 "cells": [
  {
   "cell_type": "code",
   "execution_count": 1,
   "id": "c9086267",
   "metadata": {},
   "outputs": [],
   "source": [
    "import warnings\n",
    "import numpy as np\n",
    "import pandas as pd\n",
    "import scipy.stats as st\n",
    "import statsmodels.api as sm\n",
    "from scipy.stats._continuous_distns import _distn_names\n",
    "import matplotlib\n",
    "import matplotlib.pyplot as plt\n",
    "\n",
    "matplotlib.rcParams['figure.figsize'] = (16.0, 12.0)\n",
    "matplotlib.style.use('ggplot')\n",
    "\n",
    "# Create models from data\n",
    "def best_fit_distribution(data, bins=200, ax=None):\n",
    "    \"\"\"Model data by finding best fit distribution to data\"\"\"\n",
    "    # Get histogram of original data\n",
    "    y, x = np.histogram(data, bins=bins, density=True)\n",
    "    x = (x + np.roll(x, -1))[:-1] / 2.0\n",
    "\n",
    "    # Best holders\n",
    "    best_distributions = []\n",
    "\n",
    "    # Estimate distribution parameters from data\n",
    "    for ii, distribution in enumerate([d for d in _distn_names if not d in ['levy_stable', 'studentized_range']]):\n",
    "\n",
    "        print(\"{:>3} / {:<3}: {}\".format( ii+1, len(_distn_names), distribution ))\n",
    "\n",
    "        distribution = getattr(st, distribution)\n",
    "\n",
    "        # Try to fit the distribution\n",
    "        try:\n",
    "            # Ignore warnings from data that can't be fit\n",
    "            with warnings.catch_warnings():\n",
    "                warnings.filterwarnings('ignore')\n",
    "                \n",
    "                # fit dist to data\n",
    "                params = distribution.fit(data)\n",
    "\n",
    "                # Separate parts of parameters\n",
    "                arg = params[:-2]\n",
    "                loc = params[-2]\n",
    "                scale = params[-1]\n",
    "                \n",
    "                # Calculate fitted PDF and error with fit in distribution\n",
    "                pdf = distribution.pdf(x, loc=loc, scale=scale, *arg)\n",
    "                sse = np.sum(np.power(y - pdf, 2.0))\n",
    "                \n",
    "                # if axis pass in add to plot\n",
    "                try:\n",
    "                    if ax:\n",
    "                        pd.Series(pdf, x).plot(ax=ax)\n",
    "                except Exception:\n",
    "                    pass\n",
    "\n",
    "                # identify if this distribution is better\n",
    "                best_distributions.append((distribution, params, sse))\n",
    "        \n",
    "        except Exception:\n",
    "            pass\n",
    "\n",
    "    \n",
    "    return sorted(best_distributions, key=lambda x:x[2])\n",
    "\n",
    "def make_pdf(dist, params, size=10000):\n",
    "    \"\"\"Generate distributions's Probability Distribution Function \"\"\"\n",
    "\n",
    "    # Separate parts of parameters\n",
    "    arg = params[:-2]\n",
    "    loc = params[-2]\n",
    "    scale = params[-1]\n",
    "\n",
    "    # Get sane start and end points of distribution\n",
    "    start = dist.ppf(0.01, *arg, loc=loc, scale=scale) if arg else dist.ppf(0.01, loc=loc, scale=scale)\n",
    "    end = dist.ppf(0.99, *arg, loc=loc, scale=scale) if arg else dist.ppf(0.99, loc=loc, scale=scale)\n",
    "\n",
    "    # Build PDF and turn into pandas Series\n",
    "    x = np.linspace(start, end, size)\n",
    "    y = dist.pdf(x, loc=loc, scale=scale, *arg)\n",
    "    pdf = pd.Series(y, x)\n",
    "\n",
    "    return pdf"
   ]
  },
  {
   "cell_type": "code",
   "execution_count": 2,
   "id": "20ab1bd7",
   "metadata": {},
   "outputs": [],
   "source": [
    "# Load data from statsmodels datasets\n",
    "data = pd.Series(sm.datasets.elnino.load_pandas().data.set_index('YEAR').values.ravel())"
   ]
  },
  {
   "cell_type": "code",
   "execution_count": 3,
   "id": "83a8033f",
   "metadata": {},
   "outputs": [
    {
     "data": {
      "image/png": "[encoded data removed]",
      "text/plain": [
       "<Figure size 864x576 with 1 Axes>"
      ]
     },
     "metadata": {
      "needs_background": "light"
     },
     "output_type": "display_data"
    }
   ],
   "source": [
    "# Plot for comparison\n",
    "plt.figure(figsize=(12,8))\n",
    "ax = data.plot(kind='hist', bins=50, density=True, alpha=0.5, color=list(matplotlib.rcParams['axes.prop_cycle'])[1]['color'])"
   ]
  },
  {
   "cell_type": "code",
   "execution_count": 4,
   "id": "52948699",
   "metadata": {},
   "outputs": [
    {
     "name": "stdout",
     "output_type": "stream",
     "text": [
      "  1 / 104: ksone\n",
      "  2 / 104: kstwo\n",
      "  3 / 104: kstwobign\n",
      "  4 / 104: norm\n",
      "  5 / 104: alpha\n",
      "  6 / 104: anglit\n",
      "  7 / 104: arcsine\n",
      "  8 / 104: beta\n",
      "  9 / 104: betaprime\n",
      " 10 / 104: bradford\n",
      " 11 / 104: burr\n",
      " 12 / 104: burr12\n",
      " 13 / 104: fisk\n",
      " 14 / 104: cauchy\n",
      " 15 / 104: chi\n",
      " 16 / 104: chi2\n",
      " 17 / 104: cosine\n",
      " 18 / 104: dgamma\n",
      " 19 / 104: dweibull\n",
      " 20 / 104: expon\n",
      " 21 / 104: exponnorm\n",
      " 22 / 104: exponweib\n",
      " 23 / 104: exponpow\n",
      " 24 / 104: fatiguelife\n",
      " 25 / 104: foldcauchy\n",
      " 26 / 104: f\n",
      " 27 / 104: foldnorm\n",
      " 28 / 104: weibull_min\n",
      " 29 / 104: weibull_max\n",
      " 30 / 104: genlogistic\n",
      " 31 / 104: genpareto\n",
      " 32 / 104: genexpon\n",
      " 33 / 104: genextreme\n",
      " 34 / 104: gamma\n",
      " 35 / 104: erlang\n",
      " 36 / 104: gengamma\n",
      " 37 / 104: genhalflogistic\n",
      " 38 / 104: genhyperbolic\n",
      " 39 / 104: gompertz\n",
      " 40 / 104: gumbel_r\n",
      " 41 / 104: gumbel_l\n",
      " 42 / 104: halfcauchy\n",
      " 43 / 104: halflogistic\n",
      " 44 / 104: halfnorm\n",
      " 45 / 104: hypsecant\n",
      " 46 / 104: gausshyper\n",
      " 47 / 104: invgamma\n",
      " 48 / 104: invgauss\n",
      " 49 / 104: geninvgauss\n",
      " 50 / 104: norminvgauss\n",
      " 51 / 104: invweibull\n",
      " 52 / 104: johnsonsb\n",
      " 53 / 104: johnsonsu\n",
      " 54 / 104: laplace\n",
      " 55 / 104: laplace_asymmetric\n",
      " 56 / 104: levy\n",
      " 57 / 104: levy_l\n",
      " 58 / 104: logistic\n",
      " 59 / 104: loggamma\n",
      " 60 / 104: loglaplace\n",
      " 61 / 104: lognorm\n",
      " 62 / 104: gilbrat\n",
      " 63 / 104: maxwell\n",
      " 64 / 104: mielke\n",
      " 65 / 104: kappa4\n",
      " 66 / 104: kappa3\n",
      " 67 / 104: moyal\n",
      " 68 / 104: nakagami\n",
      " 69 / 104: ncx2\n",
      " 70 / 104: ncf\n",
      " 71 / 104: t\n",
      " 72 / 104: nct\n",
      " 73 / 104: pareto\n",
      " 74 / 104: lomax\n",
      " 75 / 104: pearson3\n",
      " 76 / 104: powerlaw\n",
      " 77 / 104: powerlognorm\n",
      " 78 / 104: powernorm\n",
      " 79 / 104: rdist\n",
      " 80 / 104: rayleigh\n",
      " 81 / 104: loguniform\n",
      " 82 / 104: reciprocal\n",
      " 83 / 104: rice\n",
      " 84 / 104: recipinvgauss\n",
      " 85 / 104: semicircular\n",
      " 86 / 104: skewcauchy\n",
      " 87 / 104: skewnorm\n",
      " 88 / 104: trapezoid\n",
      " 89 / 104: trapz\n",
      " 90 / 104: triang\n",
      " 91 / 104: truncexpon\n",
      " 92 / 104: truncnorm\n",
      " 93 / 104: tukeylambda\n",
      " 94 / 104: uniform\n",
      " 95 / 104: vonmises\n",
      " 96 / 104: vonmises_line\n",
      " 97 / 104: wald\n",
      " 98 / 104: wrapcauchy\n",
      " 99 / 104: gennorm\n",
      "100 / 104: halfgennorm\n",
      "101 / 104: crystalball\n",
      "102 / 104: argus\n"
     ]
    }
   ],
   "source": [
    "# Save plot limits\n",
    "dataYLim = ax.get_ylim()\n",
    "\n",
    "# Find best fit distribution\n",
    "best_distibutions = best_fit_distribution(data, 200, ax)\n",
    "best_dist = best_distibutions[0]"
   ]
  },
  {
   "cell_type": "code",
   "execution_count": 5,
   "id": "63ba767d",
   "metadata": {},
   "outputs": [
    {
     "data": {
      "text/plain": [
       "(<scipy.stats._continuous_distns.johnsonsb_gen at 0x1e376624190>,\n",
       " (0.48180802182650617,\n",
       "  0.9835826571292925,\n",
       "  18.689276660398363,\n",
       "  10.958573456318526),\n",
       " 0.5357835973697368)"
      ]
     },
     "execution_count": 5,
     "metadata": {},
     "output_type": "execute_result"
    }
   ],
   "source": [
    "best_dist"
   ]
  },
  {
   "cell_type": "code",
   "execution_count": 6,
   "id": "a2933bac",
   "metadata": {},
   "outputs": [
    {
     "data": {
      "text/plain": [
       "<AxesSubplot:ylabel='Frequency'>"
      ]
     },
     "execution_count": 6,
     "metadata": {},
     "output_type": "execute_result"
    },
    {
     "data": {
      "image/png": "[encoded data removed]",
      "text/plain": [
       "<Figure size 864x576 with 1 Axes>"
      ]
     },
     "metadata": {
      "needs_background": "light"
     },
     "output_type": "display_data"
    }
   ],
   "source": [
    "# Update plots\n",
    "ax.set_ylim(dataYLim)\n",
    "ax.set_title(u'El Niño sea temp.\\n All Fitted Distributions')\n",
    "ax.set_xlabel(u'Temp (°C)')\n",
    "ax.set_ylabel('Frequency')\n",
    "# Make PDF with best params \n",
    "pdf = make_pdf(best_dist[0], best_dist[1])\n",
    "\n",
    "# Display\n",
    "plt.figure(figsize=(12,8))\n",
    "ax = pdf.plot(lw=2, label='PDF', legend=True)\n",
    "data.plot(kind='hist', bins=50, density=True, alpha=0.5, label='Data', legend=True, ax=ax)"
   ]
  },
  {
   "cell_type": "code",
   "execution_count": null,
   "id": "744a6554",
   "metadata": {},
   "outputs": [],
   "source": []
  }
 ],
 "metadata": {
  "kernelspec": {
   "display_name": "Python 3 (ipykernel)",
   "language": "python",
   "name": "python3"
  },
  "language_info": {
   "codemirror_mode": {
    "name": "ipython",
    "version": 3
   },
   "file_extension": ".py",
   "mimetype": "text/x-python",
   "name": "python",
   "nbconvert_exporter": "python",
   "pygments_lexer": "ipython3",
   "version": "3.10.5"
  }
 },
 "nbformat": 4,
 "nbformat_minor": 5
}
