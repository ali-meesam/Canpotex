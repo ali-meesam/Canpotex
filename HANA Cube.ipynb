{
 "cells": [
  {
   "cell_type": "code",
   "execution_count": null,
   "id": "f628843d",
   "metadata": {},
   "outputs": [],
   "source": [
    "PROD: \n",
    "    server: unify.nutrien.com\n",
    "    username: tmpmeesam\n",
    "    instance: 04\n",
    "    name: HP1\n",
    "    PORT: 30415"
   ]
  },
  {
   "cell_type": "code",
   "execution_count": 19,
   "id": "de2a9db1",
   "metadata": {},
   "outputs": [],
   "source": [
    "import configparser\n",
    "config = configparser.ConfigParser()"
   ]
  },
  {
   "cell_type": "code",
   "execution_count": 20,
   "id": "a66eafb7",
   "metadata": {},
   "outputs": [],
   "source": [
    "def read_hana_creds():\n",
    "    \"\"\"Read username and passworf from HANA section\"\"\"\n",
    "    config.read('creds.cfg')\n",
    "    username, password = config['HANA']['username'], config['HANA']['password']\n",
    "    return username, password"
   ]
  },
  {
   "cell_type": "code",
   "execution_count": 21,
   "id": "e863878e",
   "metadata": {},
   "outputs": [
    {
     "name": "stdout",
     "output_type": "stream",
     "text": [
      "Requirement already satisfied: hdbcli in /home/linux2/miniconda3/envs/dev/lib/python3.8/site-packages (2.15.17)\r\n"
     ]
    }
   ],
   "source": [
    "!pip install hdbcli\n",
    "from hdbcli import dbapi"
   ]
  },
  {
   "cell_type": "code",
   "execution_count": 22,
   "id": "750400c2",
   "metadata": {},
   "outputs": [],
   "source": [
    "username, password = read_hana_creds()"
   ]
  },
  {
   "cell_type": "code",
   "execution_count": 23,
   "id": "e4441506",
   "metadata": {},
   "outputs": [
    {
     "ename": "Error",
     "evalue": "(-10709, \"Connection failed (RTE:[89001] Cannot resolve host name 'unify.nutrien.com' rc=-2: Name or service not known (unify.nutrien.com:30415))\")",
     "output_type": "error",
     "traceback": [
      "\u001b[0;31m---------------------------------------------------------------------------\u001b[0m",
      "\u001b[0;31mError\u001b[0m                                     Traceback (most recent call last)",
      "Cell \u001b[0;32mIn [23], line 5\u001b[0m\n\u001b[1;32m      1\u001b[0m \u001b[38;5;66;03m## df5 is SHIPMENTS CUBE\u001b[39;00m\n\u001b[1;32m      2\u001b[0m \n\u001b[1;32m      3\u001b[0m \u001b[38;5;66;03m## Need to Optimize this Query for Pipeline\u001b[39;00m\n\u001b[0;32m----> 5\u001b[0m conn \u001b[38;5;241m=\u001b[39m \u001b[43mdbapi\u001b[49m\u001b[38;5;241;43m.\u001b[39;49m\u001b[43mconnect\u001b[49m\u001b[43m(\u001b[49m\n\u001b[1;32m      6\u001b[0m \u001b[43m   \u001b[49m\u001b[43maddress\u001b[49m\u001b[38;5;241;43m=\u001b[39;49m\u001b[38;5;124;43m\"\u001b[39;49m\u001b[38;5;124;43munify.nutrien.com\u001b[39;49m\u001b[38;5;124;43m\"\u001b[39;49m\u001b[43m,\u001b[49m\n\u001b[1;32m      7\u001b[0m \u001b[43m   \u001b[49m\u001b[43mport\u001b[49m\u001b[38;5;241;43m=\u001b[39;49m\u001b[38;5;241;43m30415\u001b[39;49m\u001b[43m,\u001b[49m\n\u001b[1;32m      8\u001b[0m \u001b[43m    \u001b[49m\u001b[43muser\u001b[49m\u001b[38;5;241;43m=\u001b[39;49m\u001b[43m \u001b[49m\u001b[43musername\u001b[49m\u001b[43m,\u001b[49m\n\u001b[1;32m      9\u001b[0m \u001b[43m    \u001b[49m\u001b[43mpassword\u001b[49m\u001b[38;5;241;43m=\u001b[39;49m\u001b[43m \u001b[49m\u001b[43mpassword\u001b[49m\n\u001b[1;32m     10\u001b[0m \u001b[43m)\u001b[49m\n",
      "\u001b[0;31mError\u001b[0m: (-10709, \"Connection failed (RTE:[89001] Cannot resolve host name 'unify.nutrien.com' rc=-2: Name or service not known (unify.nutrien.com:30415))\")"
     ]
    }
   ],
   "source": [
    "## df5 is SHIPMENTS CUBE\n",
    "\n",
    "## Need to Optimize this Query for Pipeline\n",
    "\n",
    "conn = dbapi.connect(\n",
    "   address=\"unify.nutrien.com\",\n",
    "   port=30415,\n",
    "    user= username,\n",
    "    password= password\n",
    ")"
   ]
  },
  {
   "cell_type": "code",
   "execution_count": 2,
   "id": "c203eaa4",
   "metadata": {},
   "outputs": [
    {
     "ename": "Error",
     "evalue": "(-10709, \"Connection failed (RTE:[89001] Cannot resolve host name 'unify.nutrien.com' rc=-2: Name or service not known (unify.nutrien.com:30415))\")",
     "output_type": "error",
     "traceback": [
      "\u001b[0;31m---------------------------------------------------------------------------\u001b[0m",
      "\u001b[0;31mError\u001b[0m                                     Traceback (most recent call last)",
      "Cell \u001b[0;32mIn [2], line 5\u001b[0m\n\u001b[1;32m      1\u001b[0m \u001b[38;5;66;03m## df5 is SHIPMENTS CUBE\u001b[39;00m\n\u001b[1;32m      2\u001b[0m \n\u001b[1;32m      3\u001b[0m \u001b[38;5;66;03m## Need to Optimize this Query for Pipeline\u001b[39;00m\n\u001b[0;32m----> 5\u001b[0m conn \u001b[38;5;241m=\u001b[39m \u001b[43mdbapi\u001b[49m\u001b[38;5;241;43m.\u001b[39;49m\u001b[43mconnect\u001b[49m\u001b[43m(\u001b[49m\n\u001b[1;32m      6\u001b[0m \u001b[43m   \u001b[49m\u001b[43maddress\u001b[49m\u001b[38;5;241;43m=\u001b[39;49m\u001b[38;5;124;43m\"\u001b[39;49m\u001b[38;5;124;43munify.nutrien.com\u001b[39;49m\u001b[38;5;124;43m\"\u001b[39;49m\u001b[43m,\u001b[49m\n\u001b[1;32m      7\u001b[0m \u001b[43m   \u001b[49m\u001b[43mport\u001b[49m\u001b[38;5;241;43m=\u001b[39;49m\u001b[38;5;241;43m30415\u001b[39;49m\u001b[43m,\u001b[49m\n\u001b[1;32m      8\u001b[0m \u001b[43m    \u001b[49m\u001b[43muser\u001b[49m\u001b[38;5;241;43m=\u001b[39;49m\u001b[43m \u001b[49m\u001b[38;5;124;43m'\u001b[39;49m\u001b[38;5;124;43mdi9814043\u001b[39;49m\u001b[38;5;124;43m'\u001b[39;49m\u001b[43m,\u001b[49m\n\u001b[1;32m      9\u001b[0m \u001b[43m    \u001b[49m\u001b[43mpassword\u001b[49m\u001b[38;5;241;43m=\u001b[39;49m\u001b[43m \u001b[49m\u001b[38;5;124;43m'\u001b[39;49m\u001b[38;5;124;43mWelcome@123\u001b[39;49m\u001b[38;5;124;43m'\u001b[39;49m\n\u001b[1;32m     10\u001b[0m \u001b[43m)\u001b[49m\n\u001b[1;32m     13\u001b[0m cursor \u001b[38;5;241m=\u001b[39m conn\u001b[38;5;241m.\u001b[39mcursor()\n\u001b[1;32m     14\u001b[0m sql \u001b[38;5;241m=\u001b[39m \u001b[38;5;124m'''\u001b[39m\u001b[38;5;124mSELECT * FROM \u001b[39m\u001b[38;5;124m\"\u001b[39m\u001b[38;5;124m_SYS_BIC\u001b[39m\u001b[38;5;124m\"\u001b[39m\u001b[38;5;124m.\u001b[39m\u001b[38;5;124m\"\u001b[39m\u001b[38;5;124mUNIFY.SALES/NTR_CA_CUBE_SHIPMENTS\u001b[39m\u001b[38;5;124m\"\u001b[39m\u001b[38;5;124m(\u001b[39m\u001b[38;5;124m'\u001b[39m\u001b[38;5;124mPLACEHOLDER\u001b[39m\u001b[38;5;124m'\u001b[39m\u001b[38;5;124m = (\u001b[39m\u001b[38;5;124m'\u001b[39m\u001b[38;5;124m$$IP_FROM_MONTH$$\u001b[39m\u001b[38;5;124m'\u001b[39m\u001b[38;5;124m, \u001b[39m\u001b[38;5;124m'\u001b[39m\u001b[38;5;124m201601\u001b[39m\u001b[38;5;124m'\u001b[39m\u001b[38;5;124m), \u001b[39m\u001b[38;5;124m'\u001b[39m\u001b[38;5;124mPLACEHOLDER\u001b[39m\u001b[38;5;124m'\u001b[39m\u001b[38;5;124m = (\u001b[39m\u001b[38;5;124m'\u001b[39m\u001b[38;5;124m$$IP_TO_MONTH$$\u001b[39m\u001b[38;5;124m'\u001b[39m\u001b[38;5;124m,\u001b[39m\u001b[38;5;124m'\u001b[39m\u001b[38;5;124m202210\u001b[39m\u001b[38;5;124m'\u001b[39m\u001b[38;5;124m))\u001b[39m\u001b[38;5;124m'''\u001b[39m\n",
      "\u001b[0;31mError\u001b[0m: (-10709, \"Connection failed (RTE:[89001] Cannot resolve host name 'unify.nutrien.com' rc=-2: Name or service not known (unify.nutrien.com:30415))\")"
     ]
    }
   ],
   "source": [
    "cursor = conn.cursor()\n",
    "sql = '''SELECT * FROM \"_SYS_BIC\".\"UNIFY.SALES/NTR_CA_CUBE_FORECAST\"('PLACEHOLDER' = ('$$IP_FROM_MONTH$$', '201601'), 'PLACEHOLDER' = ('$$IP_TO_MONTH$$','202210'))'''\n",
    "df5 = pd.read_sql(sql, conn)\n",
    "\n",
    "   # 'PLACEHOLDER' = ('$$COUNTRY_SHIP_TO$$', 'All'),\n",
    "    #'PLACEHOLDER' = ('$$IP_NTR_TY$$', 'All'),\n",
    "\t#'PLACEHOLDER' = ('$$CURRENCY_TYPE$$', 'USD'),\n",
    "\t#'PLACEHOLDER' = ('$$TRANSPORT_MODE_DESC$$', 'All'),\n",
    "\t#'PLACEHOLDER' = ('$$IP_NTR_LINE$$', 'All'),\n",
    "\t#'PLACEHOLDER' = ('$$IP_EXCLUDE_SHMT_TYPE$$', 'All'\n",
    "        \n",
    "        # conn = dbapi.connect(\n",
    "    #address=\"unify.nutrien.com\","
   ]
  },
  {
   "cell_type": "code",
   "execution_count": null,
   "id": "0b913ac0",
   "metadata": {},
   "outputs": [],
   "source": []
  }
 ],
 "metadata": {
  "kernelspec": {
   "display_name": "Python 3 (ipykernel)",
   "language": "python",
   "name": "python3"
  },
  "language_info": {
   "codemirror_mode": {
    "name": "ipython",
    "version": 3
   },
   "file_extension": ".py",
   "mimetype": "text/x-python",
   "name": "python",
   "nbconvert_exporter": "python",
   "pygments_lexer": "ipython3",
   "version": "3.8.15"
  }
 },
 "nbformat": 4,
 "nbformat_minor": 5
}
