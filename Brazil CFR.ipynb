{
 "cells": [
  {
   "cell_type": "code",
   "execution_count": 4,
   "id": "a47fa1cf",
   "metadata": {},
   "outputs": [],
   "source": [
    "import pandas as pd\n",
    "import numpy as np\n",
    "from datetime import datetime\n",
    "import os \n",
    "from datapipeline import DataFeed"
   ]
  },
  {
   "cell_type": "code",
   "execution_count": 5,
   "id": "4b5792ef",
   "metadata": {},
   "outputs": [],
   "source": [
    "from models import BrazilCFR"
   ]
  },
  {
   "cell_type": "code",
   "execution_count": 6,
   "id": "4b58ff2b",
   "metadata": {},
   "outputs": [],
   "source": [
    "self = BrazilCFR()"
   ]
  },
  {
   "cell_type": "code",
   "execution_count": 7,
   "id": "9b2e98c4",
   "metadata": {
    "scrolled": true
   },
   "outputs": [
    {
     "name": "stdout",
     "output_type": "stream",
     "text": [
      "Brazil: $888.36 ->> $1068.46 | 20.3% up\n"
     ]
    },
    {
     "data": {
      "text/plain": [
       "1068.462332725581"
      ]
     },
     "execution_count": 7,
     "metadata": {},
     "output_type": "execute_result"
    }
   ],
   "source": [
    "self.base_prediction"
   ]
  },
  {
   "cell_type": "code",
   "execution_count": null,
   "id": "dbe684b6",
   "metadata": {},
   "outputs": [],
   "source": [
    "def base_prediction(self):\n",
    "    \"\"\"\n",
    "    Predicts next months CFR pricing for brazil\n",
    "    \"\"\"\n",
    "    # Food Price Index with lags\n",
    "    fao_2 = self.FAOPriceIndex_2 * self.get_food_price_index['Food Price Index'].iloc[-1-2]\n",
    "    fao_3 = self.FAOPriceIndex_3 * self.get_food_price_index['Food Price Index'].iloc[-1-3]\n",
    "    fao_6 = self.FAOPriceIndex_6 * self.get_food_price_index['Food Price Index'].iloc[-1-6]\n",
    "    # Exchange rates\n",
    "    eurusd = self.USDEURO * (self.get_eurusd['Adj Close']).iloc[-1]\n",
    "    # Fertilizer production quadratic\n",
    "    fertprodquad = self.FertProdQuad * (self.get_total_fertilizer_production['Total Fertilizer Production']**2).iloc[-1]\n",
    "    # G20Inflation\n",
    "    g20inflation = self.G20Inflation * self.get_g20_cpi['G20CPI'].dropna().iloc[-1]\n",
    "    # DUMMY\n",
    "    dm2 = 1*self.dm2 if self.month == 2 else 0\n",
    "    dm3 = 1*self.dm3 if self.month == 3 else 0\n",
    "    dm4 = 1*self.dm4 if self.month == 4 else 0\n",
    "    dm5 = 1*self.dm5 if self.month == 5 else 0\n",
    "    dm6 = 1*self.dm6 if self.month == 6 else 0\n",
    "    dm7 = 1*self.dm7 if self.month == 7 else 0\n",
    "    dm8 = 1*self.dm8 if self.month == 8 else 0\n",
    "    dm9 = 1*self.dm9 if self.month == 9 else 0\n",
    "    dm10 =1*self.dm10 if self.month == 10 else 0\n",
    "    dm11 =1*self.dm11 if self.month == 11 else 0\n",
    "    dm12 =1*self.dm12 if self.month == 12 else 0\n",
    "    monthly_dummy = dm2+dm3+dm4+dm5+dm6+dm7+dm8+dm9+dm10+dm11+dm12\n",
    "    # GDP\n",
    "    g = self.get_gdp\n",
    "    gdp = self.USGDP * g[(g.index.month==self.month) & (g.index.year==self.year)]['GDPQXUS'].iloc[-1]\n",
    "    # Brazil CFR _Fertilizer Weeek\n",
    "    brazil_cfr_1 = self.BrazilCFR_1 * self.get_BrazilCFR['BrazilCFR'].iloc[-1]\n",
    "    # Poly. Eq.\n",
    "    brazil_cfr = fao_2+fao_3+fao_6+eurusd+fertprodquad+g20inflation+monthly_dummy+gdp+brazil_cfr_1+self.const\n",
    "    print(f\"Brazil: ${round(brazil_cfr_1,2)} ->> ${round(brazil_cfr,2)} | {round((brazil_cfr/brazil_cfr_1-1)*100,1)}% {'up' if brazil_cfr >= brazil_cfr_1 else 'down' }\")\n",
    "    return brazil_cfr"
   ]
  },
  {
   "cell_type": "code",
   "execution_count": 10,
   "id": "c82ef010",
   "metadata": {},
   "outputs": [],
   "source": [
    "fao = self.get_food_price_index\n",
    "fao['std_8'] = fao['Food Price Index'].rolling(window=8).std()\n",
    "fao['std_6'] = fao['Food Price Index'].rolling(window=6).std()\n",
    "fao['std_3'] = fao['Food Price Index'].rolling(window=3).std()"
   ]
  },
  {
   "cell_type": "code",
   "execution_count": 13,
   "id": "32fd7cac",
   "metadata": {},
   "outputs": [
    {
     "data": {
      "text/html": [
       "<div>\n",
       "<style scoped>\n",
       "    .dataframe tbody tr th:only-of-type {\n",
       "        vertical-align: middle;\n",
       "    }\n",
       "\n",
       "    .dataframe tbody tr th {\n",
       "        vertical-align: top;\n",
       "    }\n",
       "\n",
       "    .dataframe thead th {\n",
       "        text-align: right;\n",
       "    }\n",
       "</style>\n",
       "<table border=\"1\" class=\"dataframe\">\n",
       "  <thead>\n",
       "    <tr style=\"text-align: right;\">\n",
       "      <th></th>\n",
       "      <th>Food Price Index</th>\n",
       "      <th>std_8</th>\n",
       "      <th>std_6</th>\n",
       "      <th>std_3</th>\n",
       "    </tr>\n",
       "    <tr>\n",
       "      <th>Date</th>\n",
       "      <th></th>\n",
       "      <th></th>\n",
       "      <th></th>\n",
       "      <th></th>\n",
       "    </tr>\n",
       "  </thead>\n",
       "  <tbody>\n",
       "    <tr>\n",
       "      <th>1990-01-01</th>\n",
       "      <td>64.145081</td>\n",
       "      <td>NaN</td>\n",
       "      <td>NaN</td>\n",
       "      <td>NaN</td>\n",
       "    </tr>\n",
       "    <tr>\n",
       "      <th>1990-02-01</th>\n",
       "      <td>64.453560</td>\n",
       "      <td>NaN</td>\n",
       "      <td>NaN</td>\n",
       "      <td>NaN</td>\n",
       "    </tr>\n",
       "    <tr>\n",
       "      <th>1990-03-01</th>\n",
       "      <td>63.787064</td>\n",
       "      <td>NaN</td>\n",
       "      <td>NaN</td>\n",
       "      <td>0.333554</td>\n",
       "    </tr>\n",
       "    <tr>\n",
       "      <th>1990-04-01</th>\n",
       "      <td>65.766754</td>\n",
       "      <td>NaN</td>\n",
       "      <td>NaN</td>\n",
       "      <td>1.007296</td>\n",
       "    </tr>\n",
       "    <tr>\n",
       "      <th>1990-05-01</th>\n",
       "      <td>64.378874</td>\n",
       "      <td>NaN</td>\n",
       "      <td>NaN</td>\n",
       "      <td>1.016171</td>\n",
       "    </tr>\n",
       "    <tr>\n",
       "      <th>...</th>\n",
       "      <td>...</td>\n",
       "      <td>...</td>\n",
       "      <td>...</td>\n",
       "      <td>...</td>\n",
       "    </tr>\n",
       "    <tr>\n",
       "      <th>2022-03-01</th>\n",
       "      <td>159.713180</td>\n",
       "      <td>10.037283</td>\n",
       "      <td>10.163704</td>\n",
       "      <td>12.644389</td>\n",
       "    </tr>\n",
       "    <tr>\n",
       "      <th>2022-04-01</th>\n",
       "      <td>158.435720</td>\n",
       "      <td>11.763876</td>\n",
       "      <td>11.968605</td>\n",
       "      <td>10.414547</td>\n",
       "    </tr>\n",
       "    <tr>\n",
       "      <th>2022-05-01</th>\n",
       "      <td>157.885279</td>\n",
       "      <td>12.095372</td>\n",
       "      <td>12.247982</td>\n",
       "      <td>0.937738</td>\n",
       "    </tr>\n",
       "    <tr>\n",
       "      <th>2022-06-01</th>\n",
       "      <td>154.255871</td>\n",
       "      <td>11.603364</td>\n",
       "      <td>10.247076</td>\n",
       "      <td>2.271076</td>\n",
       "    </tr>\n",
       "    <tr>\n",
       "      <th>2022-07-01</th>\n",
       "      <td>140.935537</td>\n",
       "      <td>10.946680</td>\n",
       "      <td>8.746569</td>\n",
       "      <td>8.924663</td>\n",
       "    </tr>\n",
       "  </tbody>\n",
       "</table>\n",
       "<p>391 rows × 4 columns</p>\n",
       "</div>"
      ],
      "text/plain": [
       "            Food Price Index      std_8      std_6      std_3\n",
       "Date                                                         \n",
       "1990-01-01         64.145081        NaN        NaN        NaN\n",
       "1990-02-01         64.453560        NaN        NaN        NaN\n",
       "1990-03-01         63.787064        NaN        NaN   0.333554\n",
       "1990-04-01         65.766754        NaN        NaN   1.007296\n",
       "1990-05-01         64.378874        NaN        NaN   1.016171\n",
       "...                      ...        ...        ...        ...\n",
       "2022-03-01        159.713180  10.037283  10.163704  12.644389\n",
       "2022-04-01        158.435720  11.763876  11.968605  10.414547\n",
       "2022-05-01        157.885279  12.095372  12.247982   0.937738\n",
       "2022-06-01        154.255871  11.603364  10.247076   2.271076\n",
       "2022-07-01        140.935537  10.946680   8.746569   8.924663\n",
       "\n",
       "[391 rows x 4 columns]"
      ]
     },
     "execution_count": 13,
     "metadata": {},
     "output_type": "execute_result"
    }
   ],
   "source": [
    "fao"
   ]
  },
  {
   "cell_type": "code",
   "execution_count": null,
   "id": "9eac981b",
   "metadata": {},
   "outputs": [],
   "source": []
  }
 ],
 "metadata": {
  "kernelspec": {
   "display_name": "Python 3 (ipykernel)",
   "language": "python",
   "name": "python3"
  },
  "language_info": {
   "codemirror_mode": {
    "name": "ipython",
    "version": 3
   },
   "file_extension": ".py",
   "mimetype": "text/x-python",
   "name": "python",
   "nbconvert_exporter": "python",
   "pygments_lexer": "ipython3",
   "version": "3.10.5"
  }
 },
 "nbformat": 4,
 "nbformat_minor": 5
}
