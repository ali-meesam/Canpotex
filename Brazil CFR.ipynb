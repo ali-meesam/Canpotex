{
 "cells": [
  {
   "cell_type": "code",
   "execution_count": null,
   "id": "a47fa1cf",
   "metadata": {},
   "outputs": [],
   "source": [
    "import pandas as pd\n",
    "import numpy as np\n",
    "from datetime import datetime\n",
    "import os \n",
    "from datapipeline import DataFeed"
   ]
  },
  {
   "cell_type": "code",
   "execution_count": 1,
   "id": "4b5792ef",
   "metadata": {},
   "outputs": [],
   "source": [
    "from models import BrazilCFR"
   ]
  },
  {
   "cell_type": "code",
   "execution_count": 2,
   "id": "4b58ff2b",
   "metadata": {},
   "outputs": [],
   "source": [
    "self = BrazilCFR()"
   ]
  },
  {
   "cell_type": "code",
   "execution_count": 3,
   "id": "9b2e98c4",
   "metadata": {
    "scrolled": true
   },
   "outputs": [
    {
     "name": "stdout",
     "output_type": "stream",
     "text": [
      "Brazil: $888.36 ->> $1091.05 | 22.8% up\n"
     ]
    },
    {
     "data": {
      "text/plain": [
       "1091.0472842286488"
      ]
     },
     "execution_count": 3,
     "metadata": {},
     "output_type": "execute_result"
    }
   ],
   "source": [
    "self.base_prediction"
   ]
  },
  {
   "cell_type": "code",
   "execution_count": 4,
   "id": "c82ef010",
   "metadata": {},
   "outputs": [],
   "source": [
    "fao = self.get_food_price_index\n",
    "fao['std_8'] = fao['Food Price Index'].rolling(window=8).std()\n",
    "fao['std_6'] = fao['Food Price Index'].rolling(window=6).std()\n",
    "fao['std_3'] = fao['Food Price Index'].rolling(window=3).std()"
   ]
  },
  {
   "cell_type": "code",
   "execution_count": 6,
   "id": "32fd7cac",
   "metadata": {},
   "outputs": [
    {
     "data": {
      "text/html": [
       "<div>\n",
       "<style scoped>\n",
       "    .dataframe tbody tr th:only-of-type {\n",
       "        vertical-align: middle;\n",
       "    }\n",
       "\n",
       "    .dataframe tbody tr th {\n",
       "        vertical-align: top;\n",
       "    }\n",
       "\n",
       "    .dataframe thead th {\n",
       "        text-align: right;\n",
       "    }\n",
       "</style>\n",
       "<table border=\"1\" class=\"dataframe\">\n",
       "  <thead>\n",
       "    <tr style=\"text-align: right;\">\n",
       "      <th></th>\n",
       "      <th>Food Price Index</th>\n",
       "      <th>std_8</th>\n",
       "      <th>std_6</th>\n",
       "      <th>std_3</th>\n",
       "    </tr>\n",
       "    <tr>\n",
       "      <th>Date</th>\n",
       "      <th></th>\n",
       "      <th></th>\n",
       "      <th></th>\n",
       "      <th></th>\n",
       "    </tr>\n",
       "  </thead>\n",
       "  <tbody>\n",
       "    <tr>\n",
       "      <th>1990-01-01</th>\n",
       "      <td>64.145081</td>\n",
       "      <td>NaN</td>\n",
       "      <td>NaN</td>\n",
       "      <td>NaN</td>\n",
       "    </tr>\n",
       "    <tr>\n",
       "      <th>1990-02-01</th>\n",
       "      <td>64.453560</td>\n",
       "      <td>NaN</td>\n",
       "      <td>NaN</td>\n",
       "      <td>NaN</td>\n",
       "    </tr>\n",
       "    <tr>\n",
       "      <th>1990-03-01</th>\n",
       "      <td>63.787064</td>\n",
       "      <td>NaN</td>\n",
       "      <td>NaN</td>\n",
       "      <td>0.333554</td>\n",
       "    </tr>\n",
       "    <tr>\n",
       "      <th>1990-04-01</th>\n",
       "      <td>65.766754</td>\n",
       "      <td>NaN</td>\n",
       "      <td>NaN</td>\n",
       "      <td>1.007296</td>\n",
       "    </tr>\n",
       "    <tr>\n",
       "      <th>1990-05-01</th>\n",
       "      <td>64.378874</td>\n",
       "      <td>NaN</td>\n",
       "      <td>NaN</td>\n",
       "      <td>1.016171</td>\n",
       "    </tr>\n",
       "    <tr>\n",
       "      <th>...</th>\n",
       "      <td>...</td>\n",
       "      <td>...</td>\n",
       "      <td>...</td>\n",
       "      <td>...</td>\n",
       "    </tr>\n",
       "    <tr>\n",
       "      <th>2022-03-01</th>\n",
       "      <td>159.713180</td>\n",
       "      <td>10.037283</td>\n",
       "      <td>10.163704</td>\n",
       "      <td>12.644389</td>\n",
       "    </tr>\n",
       "    <tr>\n",
       "      <th>2022-04-01</th>\n",
       "      <td>158.435720</td>\n",
       "      <td>11.763876</td>\n",
       "      <td>11.968605</td>\n",
       "      <td>10.414547</td>\n",
       "    </tr>\n",
       "    <tr>\n",
       "      <th>2022-05-01</th>\n",
       "      <td>157.885279</td>\n",
       "      <td>12.095372</td>\n",
       "      <td>12.247982</td>\n",
       "      <td>0.937738</td>\n",
       "    </tr>\n",
       "    <tr>\n",
       "      <th>2022-06-01</th>\n",
       "      <td>154.255871</td>\n",
       "      <td>11.603364</td>\n",
       "      <td>10.247076</td>\n",
       "      <td>2.271076</td>\n",
       "    </tr>\n",
       "    <tr>\n",
       "      <th>2022-07-01</th>\n",
       "      <td>140.935537</td>\n",
       "      <td>10.946680</td>\n",
       "      <td>8.746569</td>\n",
       "      <td>8.924663</td>\n",
       "    </tr>\n",
       "  </tbody>\n",
       "</table>\n",
       "<p>391 rows × 4 columns</p>\n",
       "</div>"
      ],
      "text/plain": [
       "            Food Price Index      std_8      std_6      std_3\n",
       "Date                                                         \n",
       "1990-01-01         64.145081        NaN        NaN        NaN\n",
       "1990-02-01         64.453560        NaN        NaN        NaN\n",
       "1990-03-01         63.787064        NaN        NaN   0.333554\n",
       "1990-04-01         65.766754        NaN        NaN   1.007296\n",
       "1990-05-01         64.378874        NaN        NaN   1.016171\n",
       "...                      ...        ...        ...        ...\n",
       "2022-03-01        159.713180  10.037283  10.163704  12.644389\n",
       "2022-04-01        158.435720  11.763876  11.968605  10.414547\n",
       "2022-05-01        157.885279  12.095372  12.247982   0.937738\n",
       "2022-06-01        154.255871  11.603364  10.247076   2.271076\n",
       "2022-07-01        140.935537  10.946680   8.746569   8.924663\n",
       "\n",
       "[391 rows x 4 columns]"
      ]
     },
     "execution_count": 6,
     "metadata": {},
     "output_type": "execute_result"
    }
   ],
   "source": [
    "# FOR THE LATEST CASE - NOT BACKTESTING\n",
    "fao"
   ]
  },
  {
   "cell_type": "code",
   "execution_count": 13,
   "id": "9eac981b",
   "metadata": {},
   "outputs": [
    {
     "data": {
      "text/html": [
       "<div>\n",
       "<style scoped>\n",
       "    .dataframe tbody tr th:only-of-type {\n",
       "        vertical-align: middle;\n",
       "    }\n",
       "\n",
       "    .dataframe tbody tr th {\n",
       "        vertical-align: top;\n",
       "    }\n",
       "\n",
       "    .dataframe thead th {\n",
       "        text-align: right;\n",
       "    }\n",
       "</style>\n",
       "<table border=\"1\" class=\"dataframe\">\n",
       "  <thead>\n",
       "    <tr style=\"text-align: right;\">\n",
       "      <th></th>\n",
       "      <th>Total Fertilizer Production</th>\n",
       "    </tr>\n",
       "    <tr>\n",
       "      <th>Year</th>\n",
       "      <th></th>\n",
       "    </tr>\n",
       "  </thead>\n",
       "  <tbody>\n",
       "    <tr>\n",
       "      <th>2016-01-01</th>\n",
       "      <td>NaN</td>\n",
       "    </tr>\n",
       "    <tr>\n",
       "      <th>2016-02-01</th>\n",
       "      <td>NaN</td>\n",
       "    </tr>\n",
       "    <tr>\n",
       "      <th>2016-03-01</th>\n",
       "      <td>NaN</td>\n",
       "    </tr>\n",
       "    <tr>\n",
       "      <th>2016-04-01</th>\n",
       "      <td>NaN</td>\n",
       "    </tr>\n",
       "    <tr>\n",
       "      <th>2016-05-01</th>\n",
       "      <td>NaN</td>\n",
       "    </tr>\n",
       "    <tr>\n",
       "      <th>...</th>\n",
       "      <td>...</td>\n",
       "    </tr>\n",
       "    <tr>\n",
       "      <th>2022-03-01</th>\n",
       "      <td>3.235034e+09</td>\n",
       "    </tr>\n",
       "    <tr>\n",
       "      <th>2022-04-01</th>\n",
       "      <td>3.196077e+09</td>\n",
       "    </tr>\n",
       "    <tr>\n",
       "      <th>2022-05-01</th>\n",
       "      <td>3.146627e+09</td>\n",
       "    </tr>\n",
       "    <tr>\n",
       "      <th>2022-06-01</th>\n",
       "      <td>3.086179e+09</td>\n",
       "    </tr>\n",
       "    <tr>\n",
       "      <th>2022-07-01</th>\n",
       "      <td>3.014072e+09</td>\n",
       "    </tr>\n",
       "  </tbody>\n",
       "</table>\n",
       "<p>79 rows × 1 columns</p>\n",
       "</div>"
      ],
      "text/plain": [
       "            Total Fertilizer Production\n",
       "Year                                   \n",
       "2016-01-01                          NaN\n",
       "2016-02-01                          NaN\n",
       "2016-03-01                          NaN\n",
       "2016-04-01                          NaN\n",
       "2016-05-01                          NaN\n",
       "...                                 ...\n",
       "2022-03-01                 3.235034e+09\n",
       "2022-04-01                 3.196077e+09\n",
       "2022-05-01                 3.146627e+09\n",
       "2022-06-01                 3.086179e+09\n",
       "2022-07-01                 3.014072e+09\n",
       "\n",
       "[79 rows x 1 columns]"
      ]
     },
     "execution_count": 13,
     "metadata": {},
     "output_type": "execute_result"
    }
   ],
   "source": [
    "(self.get_total_fertilizer_production**2).rolling(window=60).std()"
   ]
  },
  {
   "cell_type": "code",
   "execution_count": null,
   "id": "c7c2b778",
   "metadata": {},
   "outputs": [],
   "source": []
  }
 ],
 "metadata": {
  "kernelspec": {
   "display_name": "Python 3 (ipykernel)",
   "language": "python",
   "name": "python3"
  },
  "language_info": {
   "codemirror_mode": {
    "name": "ipython",
    "version": 3
   },
   "file_extension": ".py",
   "mimetype": "text/x-python",
   "name": "python",
   "nbconvert_exporter": "python",
   "pygments_lexer": "ipython3",
   "version": "3.10.5"
  }
 },
 "nbformat": 4,
 "nbformat_minor": 5
}
