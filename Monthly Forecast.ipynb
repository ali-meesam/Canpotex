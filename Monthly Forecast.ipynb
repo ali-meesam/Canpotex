{
 "cells": [
  {
   "cell_type": "code",
   "execution_count": 1,
   "id": "1fa9ab8e",
   "metadata": {},
   "outputs": [],
   "source": [
    "from models import SEAsiaCFR, BrazilCFR, MineNetBack, ActualNetback\n",
    "from tqdm import tqdm\n",
    "import numpy as np\n",
    "import pandas as pd\n",
    "import matplotlib.pyplot as plt\n",
    "%matplotlib inline\n",
    "plt.style.use(\"dark_background\")"
   ]
  },
  {
   "cell_type": "code",
   "execution_count": 4,
   "id": "946db947",
   "metadata": {},
   "outputs": [],
   "source": [
    "month = 9\n",
    "year = 2022"
   ]
  },
  {
   "cell_type": "markdown",
   "id": "9b8bd6bd",
   "metadata": {},
   "source": [
    "# ACTUAL NETBACK"
   ]
  },
  {
   "cell_type": "code",
   "execution_count": 5,
   "id": "378bec80",
   "metadata": {},
   "outputs": [
    {
     "name": "stdout",
     "output_type": "stream",
     "text": [
      "Predicting Actual Netback >> 9 / 2022...\n",
      "Predicting MineNetback >> 9 / 2022...\n",
      "Predicting SE Asia >> 9 / 2022...\n"
     ]
    },
    {
     "name": "stderr",
     "output_type": "stream",
     "text": [
      "100%|█████████████████████████████████████████████████| 20000/20000 [00:05<00:00, 3515.63it/s]\n"
     ]
    },
    {
     "name": "stdout",
     "output_type": "stream",
     "text": [
      "**************************************************\n",
      "        Predictions\n",
      "count  20000.000000\n",
      "mean     911.563088\n",
      "std       62.232779\n",
      "min      756.205820\n",
      "25%      866.357172\n",
      "50%      912.009072\n",
      "75%      955.954999\n",
      "max     1067.646538\n",
      "**************************************************\n",
      "Max Density -->>> $911.61\n",
      "Predicting Brazil >> 9 / 2022...\n"
     ]
    },
    {
     "name": "stderr",
     "output_type": "stream",
     "text": [
      "100%|██████████████████████████████████████████████████| 20000/20000 [00:20<00:00, 979.77it/s]\n"
     ]
    },
    {
     "name": "stdout",
     "output_type": "stream",
     "text": [
      "**************************************************\n",
      "        Predictions\n",
      "count  20000.000000\n",
      "mean     796.574145\n",
      "std       61.139816\n",
      "min      598.682335\n",
      "25%      753.122183\n",
      "50%      796.433265\n",
      "75%      840.046002\n",
      "max      983.686314\n",
      "**************************************************\n",
      "Max Density -->>> $797.74\n"
     ]
    },
    {
     "name": "stderr",
     "output_type": "stream",
     "text": [
      "100%|█████████████████████████████████████████████████| 20000/20000 [00:06<00:00, 3114.49it/s]\n"
     ]
    },
    {
     "name": "stdout",
     "output_type": "stream",
     "text": [
      "**************************************************\n",
      "        Predictions\n",
      "count  20000.000000\n",
      "mean     673.361002\n",
      "std       39.469645\n",
      "min      552.643878\n",
      "25%      645.573745\n",
      "50%      673.323548\n",
      "75%      700.944335\n",
      "max      796.077532\n",
      "**************************************************\n",
      "Max Density -->>> $676.07\n"
     ]
    },
    {
     "name": "stderr",
     "output_type": "stream",
     "text": [
      "100%|█████████████████████████████████████████████████| 20000/20000 [00:09<00:00, 2130.42it/s]\n"
     ]
    },
    {
     "name": "stdout",
     "output_type": "stream",
     "text": [
      "**************************************************\n",
      "        Predictions\n",
      "count  20000.000000\n",
      "mean     631.779678\n",
      "std       51.039886\n",
      "min      476.797850\n",
      "25%      595.656778\n",
      "50%      631.647846\n",
      "75%      667.279944\n",
      "max      794.457161\n",
      "**************************************************\n",
      "Max Density -->>> $635.95\n"
     ]
    },
    {
     "data": {
      "text/plain": [
       "635.95"
      ]
     },
     "execution_count": 5,
     "metadata": {},
     "output_type": "execute_result"
    }
   ],
   "source": [
    "self = ActualNetback()\n",
    "\n",
    "self.predict(month,year)"
   ]
  },
  {
   "cell_type": "code",
   "execution_count": null,
   "id": "a8f71cb6",
   "metadata": {},
   "outputs": [],
   "source": []
  },
  {
   "cell_type": "markdown",
   "id": "13afa75a",
   "metadata": {},
   "source": [
    "# BRAZIL"
   ]
  },
  {
   "cell_type": "code",
   "execution_count": 3,
   "id": "347ef279",
   "metadata": {},
   "outputs": [],
   "source": [
    "self = BrazilCFR()"
   ]
  },
  {
   "cell_type": "code",
   "execution_count": 4,
   "id": "cee93f33",
   "metadata": {},
   "outputs": [
    {
     "name": "stdout",
     "output_type": "stream",
     "text": [
      "Predicting Brazil >> 9 / 2022...\n"
     ]
    },
    {
     "name": "stderr",
     "output_type": "stream",
     "text": [
      "100%|███████████████████████████████████████████████████| 20000/20000 [00:03<00:00, 6549.33it/s]\n"
     ]
    },
    {
     "name": "stdout",
     "output_type": "stream",
     "text": [
      "**************************************************\n",
      "        Predictions\n",
      "count  20000.000000\n",
      "mean     795.497978\n",
      "std       61.753122\n",
      "min      619.329908\n",
      "25%      751.828746\n",
      "50%      794.759826\n",
      "75%      839.526358\n",
      "max      988.891948\n",
      "**************************************************\n",
      "Max Density -->>> $792.64\n"
     ]
    },
    {
     "data": {
      "text/plain": [
       "792.64"
      ]
     },
     "execution_count": 4,
     "metadata": {},
     "output_type": "execute_result"
    }
   ],
   "source": [
    "self.predict(month, year)"
   ]
  },
  {
   "cell_type": "markdown",
   "id": "aed2956c",
   "metadata": {},
   "source": [
    "# SEASIA"
   ]
  },
  {
   "cell_type": "code",
   "execution_count": 5,
   "id": "3e63d687",
   "metadata": {},
   "outputs": [],
   "source": [
    "self = SEAsiaCFR()"
   ]
  },
  {
   "cell_type": "code",
   "execution_count": 6,
   "id": "36c92db0",
   "metadata": {},
   "outputs": [
    {
     "name": "stdout",
     "output_type": "stream",
     "text": [
      "Predicting SE Asia >> 9 / 2022...\n"
     ]
    },
    {
     "name": "stderr",
     "output_type": "stream",
     "text": [
      "100%|██████████████████████████████████████████████████| 20000/20000 [00:01<00:00, 10524.59it/s]\n"
     ]
    },
    {
     "name": "stdout",
     "output_type": "stream",
     "text": [
      "**************************************************\n",
      "        Predictions\n",
      "count  20000.000000\n",
      "mean     910.814554\n",
      "std       62.772203\n",
      "min      750.717235\n",
      "25%      865.709708\n",
      "50%      910.861924\n",
      "75%      956.299091\n",
      "max     1066.796579\n",
      "**************************************************\n",
      "Max Density -->>> $910.97\n"
     ]
    },
    {
     "data": {
      "text/plain": [
       "910.97"
      ]
     },
     "execution_count": 6,
     "metadata": {},
     "output_type": "execute_result"
    }
   ],
   "source": [
    "self.predict(month,year)"
   ]
  },
  {
   "cell_type": "markdown",
   "id": "ad61601d",
   "metadata": {},
   "source": [
    "# MINE NETBACK"
   ]
  },
  {
   "cell_type": "code",
   "execution_count": 7,
   "id": "19f0a0c9",
   "metadata": {},
   "outputs": [],
   "source": [
    "self = MineNetBack()"
   ]
  },
  {
   "cell_type": "code",
   "execution_count": 8,
   "id": "11b0762c",
   "metadata": {},
   "outputs": [
    {
     "name": "stdout",
     "output_type": "stream",
     "text": [
      "Predicting MineNetback >> 9 / 2022...\n",
      "Predicting SE Asia >> 9 / 2022...\n"
     ]
    },
    {
     "name": "stderr",
     "output_type": "stream",
     "text": [
      "100%|██████████████████████████████████████████████████| 20000/20000 [00:01<00:00, 10371.23it/s]\n"
     ]
    },
    {
     "name": "stdout",
     "output_type": "stream",
     "text": [
      "**************************************************\n",
      "        Predictions\n",
      "count  20000.000000\n",
      "mean     910.984691\n",
      "std       63.046778\n",
      "min      755.475646\n",
      "25%      865.618156\n",
      "50%      911.059036\n",
      "75%      956.196935\n",
      "max     1070.660375\n",
      "**************************************************\n",
      "Max Density -->>> $913.38\n",
      "Predicting Brazil >> 9 / 2022...\n"
     ]
    },
    {
     "name": "stderr",
     "output_type": "stream",
     "text": [
      "100%|███████████████████████████████████████████████████| 20000/20000 [00:03<00:00, 6184.83it/s]\n"
     ]
    },
    {
     "name": "stdout",
     "output_type": "stream",
     "text": [
      "**************************************************\n",
      "        Predictions\n",
      "count  20000.000000\n",
      "mean     795.822264\n",
      "std       60.941748\n",
      "min      613.234370\n",
      "25%      752.801404\n",
      "50%      795.896933\n",
      "75%      838.731817\n",
      "max      982.088184\n",
      "**************************************************\n",
      "Max Density -->>> $800.25\n"
     ]
    },
    {
     "name": "stderr",
     "output_type": "stream",
     "text": [
      "100%|██████████████████████████████████████████████████| 20000/20000 [00:00<00:00, 21474.18it/s]\n"
     ]
    },
    {
     "name": "stdout",
     "output_type": "stream",
     "text": [
      "**************************************************\n",
      "        Predictions\n",
      "count  20000.000000\n",
      "mean     675.032537\n",
      "std       39.528860\n",
      "min      555.282846\n",
      "25%      647.211594\n",
      "50%      674.835118\n",
      "75%      702.664520\n",
      "max      805.807767\n",
      "**************************************************\n",
      "Max Density -->>> $677.79\n"
     ]
    },
    {
     "data": {
      "text/plain": [
       "677.79"
      ]
     },
     "execution_count": 8,
     "metadata": {},
     "output_type": "execute_result"
    }
   ],
   "source": [
    "self.predict(month, year)"
   ]
  },
  {
   "cell_type": "markdown",
   "id": "b50b45b7",
   "metadata": {},
   "source": [
    "# ACTUAL NETBACK"
   ]
  },
  {
   "cell_type": "code",
   "execution_count": 11,
   "id": "a2c371d3",
   "metadata": {},
   "outputs": [],
   "source": [
    "self = ActualNetback()\n",
    "\n",
    "self.predict(month,year)"
   ]
  },
  {
   "cell_type": "code",
   "execution_count": null,
   "id": "ffed895c",
   "metadata": {},
   "outputs": [],
   "source": []
  }
 ],
 "metadata": {
  "kernelspec": {
   "display_name": "Python 3 (ipykernel)",
   "language": "python",
   "name": "python3"
  },
  "language_info": {
   "codemirror_mode": {
    "name": "ipython",
    "version": 3
   },
   "file_extension": ".py",
   "mimetype": "text/x-python",
   "name": "python",
   "nbconvert_exporter": "python",
   "pygments_lexer": "ipython3",
   "version": "3.10.5"
  }
 },
 "nbformat": 4,
 "nbformat_minor": 5
}
