{
 "cells": [
  {
   "cell_type": "code",
   "execution_count": 3,
   "id": "3e29a9da",
   "metadata": {},
   "outputs": [],
   "source": [
    "import awswrangler as wr\n",
    "import boto3"
   ]
  },
  {
   "cell_type": "code",
   "execution_count": null,
   "id": "e3dbb85b",
   "metadata": {},
   "outputs": [],
   "source": [
    "boto_session = boto3.client()"
   ]
  },
  {
   "cell_type": "code",
   "execution_count": 2,
   "id": "1efc63dd",
   "metadata": {},
   "outputs": [],
   "source": [
    "glue_database = \"insights_canpotex-downloads_datalakeprod_rl\"\n",
    "\n",
    "athena_workgroup = \"insights-use1-sandboxlz-nroc-workgroup\"\n",
    "\n",
    "# boto_session = "
   ]
  },
  {
   "cell_type": "markdown",
   "id": "05d673a8",
   "metadata": {},
   "source": [
    "### QUERYING DATA FROM ATHENA"
   ]
  },
  {
   "cell_type": "code",
   "execution_count": null,
   "id": "3fd3977d",
   "metadata": {},
   "outputs": [],
   "source": [
    "table_name = \"netback_usecase_totalfertilizationproductionhist\"\n",
    "\n",
    "query = f\"\"\"SELECT * FROM \"{glue_database}\".\"{table_name}\";\"\"\""
   ]
  },
  {
   "cell_type": "code",
   "execution_count": null,
   "id": "74823c4b",
   "metadata": {},
   "outputs": [],
   "source": [
    "data = wr.athena.read_sql_query(\n",
    "\n",
    "        sql=query,\n",
    "\n",
    "        database=glue_database,\n",
    "\n",
    "        workgroup=athena_workgroup,\n",
    "\n",
    "        ctas_approach=False,\n",
    "\n",
    "        boto3_session=boto_session,\n",
    "\n",
    "    )"
   ]
  },
  {
   "cell_type": "code",
   "execution_count": null,
   "id": "4b743426",
   "metadata": {},
   "outputs": [],
   "source": []
  },
  {
   "cell_type": "code",
   "execution_count": 4,
   "id": "dc89b1e5",
   "metadata": {},
   "outputs": [],
   "source": [
    "import pandas as pd"
   ]
  },
  {
   "cell_type": "code",
   "execution_count": 10,
   "id": "632f79a6",
   "metadata": {},
   "outputs": [],
   "source": [
    "df = pd.read_parquet(\"s3://insights-shared-non-prod-data-lake/CLEANED/EXTERNAL/system=fao/usecase=totalFertilizationProductionHist/totalFertilizerProduction.parquet\")"
   ]
  },
  {
   "cell_type": "code",
   "execution_count": null,
   "id": "f9a123e4",
   "metadata": {},
   "outputs": [],
   "source": []
  }
 ],
 "metadata": {
  "kernelspec": {
   "display_name": "Python 3 (ipykernel)",
   "language": "python",
   "name": "python3"
  },
  "language_info": {
   "codemirror_mode": {
    "name": "ipython",
    "version": 3
   },
   "file_extension": ".py",
   "mimetype": "text/x-python",
   "name": "python",
   "nbconvert_exporter": "python",
   "pygments_lexer": "ipython3",
   "version": "3.10.5"
  }
 },
 "nbformat": 4,
 "nbformat_minor": 5
}
