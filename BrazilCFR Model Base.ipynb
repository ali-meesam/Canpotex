{
 "cells": [
  {
   "cell_type": "code",
   "execution_count": 1,
   "id": "1fa9ab8e",
   "metadata": {},
   "outputs": [],
   "source": [
    "from models import BrazilCFR\n",
    "from tqdm import tqdm\n",
    "import numpy as np\n",
    "import pandas as pd\n",
    "import matplotlib.pyplot as plt\n",
    "%matplotlib inline\n",
    "plt.style.use(\"dark_background\")"
   ]
  },
  {
   "cell_type": "code",
   "execution_count": 2,
   "id": "8e4d33ec",
   "metadata": {},
   "outputs": [],
   "source": [
    "self = BrazilCFR()"
   ]
  },
  {
   "cell_type": "code",
   "execution_count": null,
   "id": "aa199aaa",
   "metadata": {},
   "outputs": [],
   "source": [
    "from DataPipes.model_datapipeline import DataPipes"
   ]
  },
  {
   "cell_type": "code",
   "execution_count": null,
   "id": "950eff75",
   "metadata": {},
   "outputs": [],
   "source": [
    "data = DataPipes()"
   ]
  },
  {
   "cell_type": "code",
   "execution_count": null,
   "id": "11166349",
   "metadata": {},
   "outputs": [],
   "source": [
    "data.get_fpi[data.get_fpi.index.year==self.year]"
   ]
  },
  {
   "cell_type": "code",
   "execution_count": null,
   "id": "03950df8",
   "metadata": {},
   "outputs": [],
   "source": [
    "self.get_eurusd[self.get_eurusd.index==self.year]"
   ]
  },
  {
   "cell_type": "code",
   "execution_count": 3,
   "id": "b4f5be42",
   "metadata": {},
   "outputs": [],
   "source": [
    "import os"
   ]
  },
  {
   "cell_type": "code",
   "execution_count": 4,
   "id": "fbbd0703",
   "metadata": {},
   "outputs": [],
   "source": [
    "month = self.month\n",
    "year = self.year"
   ]
  },
  {
   "cell_type": "code",
   "execution_count": 5,
   "id": "0ccb1ddd",
   "metadata": {},
   "outputs": [
    {
     "name": "stderr",
     "output_type": "stream",
     "text": [
      "100%|████████████████████████████████████████████████████████████████████████████████████████████████████████████████████████████████████████| 20000/20000 [00:01<00:00, 13510.49it/s]\n"
     ]
    }
   ],
   "source": [
    "# print(f\"Predicting Brazil >> {self.month} / {self.year}...\")\n",
    "# get DATA\n",
    "fao = self.get_food_price_index\n",
    "eurusd = self.get_eurusd\n",
    "fertprod = self.get_total_fertilizer_production\n",
    "inflation = self.get_g20_cpi\n",
    "gdp = self.get_gdp\n",
    "brazil_cfr = self.get_BrazilCFR\n",
    "\n",
    "dm = self.monthly_dummy(month)\n",
    "const = self.const\n",
    "\n",
    "# LATEST ENTRY ONLY\n",
    "# FAO\n",
    "f = fao[(fao.index.month==self.month) & (fao.index.year==self.year)].iloc[-1]\n",
    "# EURUSD\n",
    "e = eurusd[(eurusd.index.month==self.month) & (eurusd.index.year==self.year)].iloc[-1]\n",
    "# FERTILIZER PRODUCTION\n",
    "fert = fertprod[(fertprod.index.month==self.month) & (fertprod.index.year==self.year)].iloc[-1]\n",
    "# INFLATION\n",
    "ig20 = inflation[(inflation.index.month==self.month) & (inflation.index.year==self.year)].iloc[-1]\n",
    "# GDP\n",
    "g = gdp[(gdp.index.month==self.month) & (gdp.index.year==self.year)].iloc[-1]\n",
    "# BRAZIL CFR\n",
    "b = brazil_cfr[(brazil_cfr.index.month==self.month) & (brazil_cfr.index.year==self.year)].iloc[-1]\n",
    "\n",
    "brazil_latest_cfr = []\n",
    "for _ in tqdm(range(self.simulations)):\n",
    "    fao2m = self.tri_distribute(f.lag1,f.std1)\n",
    "    fao3m = self.tri_distribute(f.lag2,f.std2)\n",
    "    fao6m = self.tri_distribute(f.lag3,f.std3)\n",
    "    e0m = self.tri_distribute(e['DEXUSEU'],e.std_1)\n",
    "    fert0m = self.tri_distribute(fert.FertProdQuad,fert.std_quad)\n",
    "    ig200m = self.tri_distribute(ig20.G20CPI,ig20.std_1)\n",
    "    g0m = self.tri_distribute(g.GDPQXUS,g.std_1)\n",
    "    b0m = self.tri_distribute(b.BrazilCFR,b.std_1)\n",
    "    brazil_latest_cfr.append(dm + const + self.FAOPriceIndex_2*fao2m + self.FAOPriceIndex_3*fao3m + self.FAOPriceIndex_6*fao6m + self.USDEURO*e0m + self.FertProdQuad*fert0m + self.G20Inflation*ig200m + self.USGDP*g0m + self.BrazilCFR_1*b0m)\n",
    "\n"
   ]
  },
  {
   "cell_type": "code",
   "execution_count": 11,
   "id": "59f53723",
   "metadata": {},
   "outputs": [],
   "source": [
    "pred_df = pd.DataFrame(brazil_latest_cfr,columns=['Predictions'])"
   ]
  },
  {
   "cell_type": "code",
   "execution_count": 20,
   "id": "d0069f80",
   "metadata": {},
   "outputs": [],
   "source": [
    "p25,p75 = pred_df.quantile(q=[0.25,0.75]).Predictions.tolist()"
   ]
  },
  {
   "cell_type": "code",
   "execution_count": 14,
   "id": "3fd36809",
   "metadata": {},
   "outputs": [
    {
     "data": {
      "image/png": "[encoded data removed]",
      "text/plain": [
       "<Figure size 640x480 with 1 Axes>"
      ]
     },
     "metadata": {},
     "output_type": "display_data"
    }
   ],
   "source": [
    "pred_df.plot(kind='hist',bins=100,title=f'Brazil CFR - {self.simulations} Iterations');"
   ]
  },
  {
   "cell_type": "code",
   "execution_count": 15,
   "id": "a16d07f7",
   "metadata": {},
   "outputs": [],
   "source": [
    "prediction = round(self.kde_max_density(pred_df)['Predictions'],2)"
   ]
  },
  {
   "cell_type": "code",
   "execution_count": 16,
   "id": "6eda54bd",
   "metadata": {},
   "outputs": [
    {
     "data": {
      "text/plain": [
       "560.78"
      ]
     },
     "execution_count": 16,
     "metadata": {},
     "output_type": "execute_result"
    }
   ],
   "source": [
    "prediction"
   ]
  },
  {
   "cell_type": "code",
   "execution_count": 29,
   "id": "aca058a8",
   "metadata": {},
   "outputs": [],
   "source": [
    "self.report.loc[len(self.report)+1] = [self.year, self.month, \"Brazil\", p25,prediction,p75]"
   ]
  },
  {
   "cell_type": "code",
   "execution_count": 31,
   "id": "10d3725e",
   "metadata": {},
   "outputs": [
    {
     "data": {
      "text/html": [
       "<div>\n",
       "<style scoped>\n",
       "    .dataframe tbody tr th:only-of-type {\n",
       "        vertical-align: middle;\n",
       "    }\n",
       "\n",
       "    .dataframe tbody tr th {\n",
       "        vertical-align: top;\n",
       "    }\n",
       "\n",
       "    .dataframe thead th {\n",
       "        text-align: right;\n",
       "    }\n",
       "</style>\n",
       "<table border=\"1\" class=\"dataframe\">\n",
       "  <thead>\n",
       "    <tr style=\"text-align: right;\">\n",
       "      <th></th>\n",
       "      <th>Year</th>\n",
       "      <th>Month</th>\n",
       "      <th>Model</th>\n",
       "      <th>P25</th>\n",
       "      <th>EV</th>\n",
       "      <th>P75</th>\n",
       "    </tr>\n",
       "  </thead>\n",
       "  <tbody>\n",
       "    <tr>\n",
       "      <th>1</th>\n",
       "      <td>2023</td>\n",
       "      <td>1</td>\n",
       "      <td>Brazil</td>\n",
       "      <td>502.201172</td>\n",
       "      <td>560.78</td>\n",
       "      <td>635.146623</td>\n",
       "    </tr>\n",
       "  </tbody>\n",
       "</table>\n",
       "</div>"
      ],
      "text/plain": [
       "   Year  Month   Model         P25      EV         P75\n",
       "1  2023      1  Brazil  502.201172  560.78  635.146623"
      ]
     },
     "execution_count": 31,
     "metadata": {},
     "output_type": "execute_result"
    }
   ],
   "source": [
    "self.report"
   ]
  },
  {
   "cell_type": "code",
   "execution_count": 23,
   "id": "4fbbab8f",
   "metadata": {},
   "outputs": [],
   "source": [
    "self.report = pd.DataFrame(columns=[\"Year\",'Month','Model','P25','EV','P75'])"
   ]
  },
  {
   "cell_type": "code",
   "execution_count": 24,
   "id": "741f1eb5",
   "metadata": {},
   "outputs": [
    {
     "ename": "AttributeError",
     "evalue": "'DataFrame' object has no attribute 'concat'",
     "output_type": "error",
     "traceback": [
      "\u001b[0;31m---------------------------------------------------------------------------\u001b[0m",
      "\u001b[0;31mAttributeError\u001b[0m                            Traceback (most recent call last)",
      "Cell \u001b[0;32mIn[24], line 1\u001b[0m\n\u001b[0;32m----> 1\u001b[0m \u001b[38;5;28;43mself\u001b[39;49m\u001b[38;5;241;43m.\u001b[39;49m\u001b[43mreport\u001b[49m\u001b[38;5;241;43m.\u001b[39;49m\u001b[43mconcat\u001b[49m([\u001b[38;5;28mself\u001b[39m\u001b[38;5;241m.\u001b[39myear, \u001b[38;5;28mself\u001b[39m\u001b[38;5;241m.\u001b[39mmonth, \u001b[38;5;124m\"\u001b[39m\u001b[38;5;124mBrazil\u001b[39m\u001b[38;5;124m\"\u001b[39m, p25,prediction,p75])\n",
      "File \u001b[0;32m/opt/anaconda3/envs/cptx/lib/python3.8/site-packages/pandas/core/generic.py:5902\u001b[0m, in \u001b[0;36mNDFrame.__getattr__\u001b[0;34m(self, name)\u001b[0m\n\u001b[1;32m   5895\u001b[0m \u001b[38;5;28;01mif\u001b[39;00m (\n\u001b[1;32m   5896\u001b[0m     name \u001b[38;5;129;01mnot\u001b[39;00m \u001b[38;5;129;01min\u001b[39;00m \u001b[38;5;28mself\u001b[39m\u001b[38;5;241m.\u001b[39m_internal_names_set\n\u001b[1;32m   5897\u001b[0m     \u001b[38;5;129;01mand\u001b[39;00m name \u001b[38;5;129;01mnot\u001b[39;00m \u001b[38;5;129;01min\u001b[39;00m \u001b[38;5;28mself\u001b[39m\u001b[38;5;241m.\u001b[39m_metadata\n\u001b[1;32m   5898\u001b[0m     \u001b[38;5;129;01mand\u001b[39;00m name \u001b[38;5;129;01mnot\u001b[39;00m \u001b[38;5;129;01min\u001b[39;00m \u001b[38;5;28mself\u001b[39m\u001b[38;5;241m.\u001b[39m_accessors\n\u001b[1;32m   5899\u001b[0m     \u001b[38;5;129;01mand\u001b[39;00m \u001b[38;5;28mself\u001b[39m\u001b[38;5;241m.\u001b[39m_info_axis\u001b[38;5;241m.\u001b[39m_can_hold_identifiers_and_holds_name(name)\n\u001b[1;32m   5900\u001b[0m ):\n\u001b[1;32m   5901\u001b[0m     \u001b[38;5;28;01mreturn\u001b[39;00m \u001b[38;5;28mself\u001b[39m[name]\n\u001b[0;32m-> 5902\u001b[0m \u001b[38;5;28;01mreturn\u001b[39;00m \u001b[38;5;28;43mobject\u001b[39;49m\u001b[38;5;241;43m.\u001b[39;49m\u001b[38;5;21;43m__getattribute__\u001b[39;49m\u001b[43m(\u001b[49m\u001b[38;5;28;43mself\u001b[39;49m\u001b[43m,\u001b[49m\u001b[43m \u001b[49m\u001b[43mname\u001b[49m\u001b[43m)\u001b[49m\n",
      "\u001b[0;31mAttributeError\u001b[0m: 'DataFrame' object has no attribute 'concat'"
     ]
    }
   ],
   "source": [
    "pd.concat([self.report])"
   ]
  },
  {
   "cell_type": "code",
   "execution_count": null,
   "id": "097b4274",
   "metadata": {},
   "outputs": [],
   "source": [
    "data.get_usdeur.to_csv('aws_usdeur.csv')"
   ]
  },
  {
   "cell_type": "code",
   "execution_count": null,
   "id": "94c9ab56",
   "metadata": {},
   "outputs": [],
   "source": [
    "self.get_eurusd.index==self.year"
   ]
  },
  {
   "cell_type": "code",
   "execution_count": null,
   "id": "8bccbf5c",
   "metadata": {},
   "outputs": [],
   "source": [
    "fao = self.get_food_price_index"
   ]
  },
  {
   "cell_type": "code",
   "execution_count": null,
   "id": "6568857e",
   "metadata": {},
   "outputs": [],
   "source": [
    "self.month"
   ]
  },
  {
   "cell_type": "code",
   "execution_count": null,
   "id": "83015316",
   "metadata": {},
   "outputs": [],
   "source": [
    "self.year"
   ]
  },
  {
   "cell_type": "code",
   "execution_count": null,
   "id": "e4fbebd5",
   "metadata": {},
   "outputs": [],
   "source": [
    "fao[fao.index.year==self.year]"
   ]
  },
  {
   "cell_type": "code",
   "execution_count": null,
   "id": "4bc2a760",
   "metadata": {},
   "outputs": [],
   "source": [
    "fao[(fao.index.month==self.month) & (fao.index.year==self.year)]"
   ]
  },
  {
   "cell_type": "code",
   "execution_count": null,
   "id": "53170925",
   "metadata": {},
   "outputs": [],
   "source": [
    "fao[(fao.index.month==self.month) & (fao.index.year==self.year)].iloc[-1]"
   ]
  },
  {
   "cell_type": "code",
   "execution_count": null,
   "id": "282b8989",
   "metadata": {},
   "outputs": [],
   "source": [
    "# @property\n",
    "# def base_prediction(self):\n",
    "#     \"\"\"\n",
    "#     Predicts next months CFR pricing for brazil\n",
    "#     \"\"\"\n",
    "#     # Food Price Index with lags\n",
    "#     fao_2 = self.FAOPriceIndex_2 * self.get_food_price_index['Food Price Index'].iloc[-1-2]\n",
    "#     fao_3 = self.FAOPriceIndex_3 * self.get_food_price_index['Food Price Index'].iloc[-1-3]\n",
    "#     fao_6 = self.FAOPriceIndex_6 * self.get_food_price_index['Food Price Index'].iloc[-1-6]\n",
    "#     # Exchange rates\n",
    "#     eurusd = self.USDEURO * (self.get_eurusd['Adj Close']).iloc[-1]\n",
    "#     # Fertilizer production quadratic\n",
    "#     fertprodquad = self.FertProdQuad * (self.get_total_fertilizer_production['Total Fertilizer Production']**2).iloc[-1]\n",
    "#     # G20Inflation\n",
    "#     g20inflation = self.G20Inflation * self.get_g20_cpi['G20CPI'].dropna().iloc[-1]\n",
    "#     # DUMMY\n",
    "#     monthly_dummy = self.monthly_dummy()\n",
    "#     # GDP\n",
    "#     g = self.get_gdp\n",
    "#     gdp = self.USGDP * g[(g.index.month==self.month) & (g.index.year==self.year)]['GDPQXUS'].iloc[-1]\n",
    "#     # Brazil CFR _Fertilizer Weeek\n",
    "#     brazil_cfr_1 = self.BrazilCFR_1 * self.get_BrazilCFR['BrazilCFR'].iloc[-1]\n",
    "#     # Poly. Eq.\n",
    "#     brazil_cfr = fao_2+fao_3+fao_6+eurusd+fertprodquad+g20inflation+monthly_dummy+gdp+brazil_cfr_1+self.const\n",
    "#     print(f\"Brazil: ${round(brazil_cfr_1,2)} ->> ${round(brazil_cfr,2)} | {round((brazil_cfr/brazil_cfr_1-1)*100,1)}% {'up' if brazil_cfr >= brazil_cfr_1 else 'down' }\")\n",
    "#     return brazil_cfr"
   ]
  },
  {
   "cell_type": "code",
   "execution_count": null,
   "id": "78ab3adc",
   "metadata": {},
   "outputs": [],
   "source": [
    "simulations = 20000"
   ]
  },
  {
   "cell_type": "code",
   "execution_count": null,
   "id": "347ef279",
   "metadata": {},
   "outputs": [],
   "source": [
    "self = BrazilCFR()"
   ]
  },
  {
   "cell_type": "code",
   "execution_count": null,
   "id": "4efc257b",
   "metadata": {},
   "outputs": [],
   "source": []
  },
  {
   "cell_type": "code",
   "execution_count": null,
   "id": "8e404522",
   "metadata": {},
   "outputs": [],
   "source": [
    "# get DATA\n",
    "fao = self.get_food_price_index\n",
    "eurusd = self.get_eurusd\n",
    "fertprod = self.get_total_fertilizer_production\n",
    "inflation = self.get_g20_cpi\n",
    "gdp = self.get_gdp\n",
    "brazil_cfr = self.get_BrazilCFR\n",
    "\n",
    "dm = self.monthly_dummy()\n",
    "const = self.const"
   ]
  },
  {
   "cell_type": "code",
   "execution_count": null,
   "id": "8605170e",
   "metadata": {},
   "outputs": [],
   "source": [
    "gdp.tail()"
   ]
  },
  {
   "cell_type": "code",
   "execution_count": null,
   "id": "868794a0",
   "metadata": {},
   "outputs": [],
   "source": [
    "# len(fao.dropna())\n",
    "# len(eurusd.dropna())\n",
    "# len(fertprod.dropna())\n",
    "# len(inflation.dropna())\n",
    "# len(gdp.dropna())\n",
    "# len(brazil_cfr.dropna())"
   ]
  },
  {
   "cell_type": "markdown",
   "id": "f573b732",
   "metadata": {},
   "source": [
    "# LATEST ENTRY ONLY"
   ]
  },
  {
   "cell_type": "code",
   "execution_count": null,
   "id": "d9709f62",
   "metadata": {},
   "outputs": [],
   "source": [
    "# FAO\n",
    "f = fao[(fao.index.month==self.month) & (fao.index.year==self.year)].iloc[-1]\n",
    "# EURUSD\n",
    "e = eurusd[(eurusd.index.month==self.month) & (eurusd.index.year==self.year)].iloc[-1]\n",
    "# FERTILIZER PRODUCTION\n",
    "fert = fertprod[(fertprod.index.month==self.month) & (fertprod.index.year==self.year)].iloc[-1]\n",
    "# INFLATION\n",
    "ig20 = inflation[(inflation.index.month==self.month) & (inflation.index.year==self.year)].iloc[-1]\n",
    "# GDP\n",
    "g = gdp[(gdp.index.month==self.month) & (gdp.index.year==self.year)].iloc[-1]\n",
    "# BRAZIL CFR\n",
    "b = brazil_cfr[(brazil_cfr.index.month==self.month) & (brazil_cfr.index.year==self.year)].iloc[-1]"
   ]
  },
  {
   "cell_type": "code",
   "execution_count": null,
   "id": "a31a4edb",
   "metadata": {},
   "outputs": [],
   "source": [
    "brazil_latest_cfr = []\n",
    "for i in tqdm(range(simulations)):\n",
    "    fao2m = np.random.triangular(f.fao_2m-f.std_2m_8,f.fao_2m,f.fao_2m+f.std_2m_8)\n",
    "    fao3m = np.random.triangular(f.fao_3m-f.std_3m_6,f.fao_3m,f.fao_3m+f.std_3m_6)\n",
    "    fao6m = np.random.triangular(f.fao_6m-f.std_6m_3,f.fao_6m,f.fao_6m+f.std_6m_3)\n",
    "    e0m = np.random.triangular(e['Adj Close']-e.std_3,e['Adj Close'],e['Adj Close']+e.std_3)\n",
    "    fert0m = np.random.triangular(fert.FertProdQuad-fert.std_quad_60,fert.FertProdQuad,fert.FertProdQuad+fert.std_quad_60)\n",
    "    ig200m = np.random.triangular(ig20.G20CPI-ig20.std_6,ig20.G20CPI,ig20.G20CPI+ig20.std_6)\n",
    "    g0m = np.random.triangular(g.GDPQXUS-g.std_48,g.GDPQXUS,g.GDPQXUS+g.std_48)\n",
    "    b0m = np.random.triangular(b.BrazilCFR-b.std_12,b.BrazilCFR,b.BrazilCFR+b.std_12)\n",
    "\n",
    "    brazil_latest_cfr.append(dm + const + self.FAOPriceIndex_2*fao2m + self.FAOPriceIndex_3*fao3m + self.FAOPriceIndex_6*fao6m + self.USDEURO*e0m + self.FertProdQuad*fert0m + self.G20Inflation*ig200m + self.USGDP*g0m + self.BrazilCFR_1*b0m)"
   ]
  },
  {
   "cell_type": "code",
   "execution_count": null,
   "id": "51e71b61",
   "metadata": {},
   "outputs": [],
   "source": [
    "pred_df = pd.DataFrame(brazil_latest_cfr,columns=['Predictions'])"
   ]
  },
  {
   "cell_type": "code",
   "execution_count": null,
   "id": "84b8a8db",
   "metadata": {},
   "outputs": [],
   "source": [
    "pred_df.describe()"
   ]
  },
  {
   "cell_type": "code",
   "execution_count": null,
   "id": "53067177",
   "metadata": {},
   "outputs": [],
   "source": [
    "pred_df.plot(kind='hist',bins=100,title=f'Brazil CFR - {simulations} Iterations');"
   ]
  },
  {
   "cell_type": "code",
   "execution_count": null,
   "id": "b5078458",
   "metadata": {},
   "outputs": [],
   "source": [
    "self.kde_max_density(pred_df)"
   ]
  },
  {
   "cell_type": "code",
   "execution_count": null,
   "id": "6c5fc407",
   "metadata": {},
   "outputs": [],
   "source": [
    "from models import BrazilCFR"
   ]
  },
  {
   "cell_type": "code",
   "execution_count": null,
   "id": "878d1735",
   "metadata": {},
   "outputs": [],
   "source": [
    "self = BrazilCFR()"
   ]
  },
  {
   "cell_type": "code",
   "execution_count": null,
   "id": "260ae59d",
   "metadata": {},
   "outputs": [],
   "source": [
    "month = 10\n",
    "year = 2021"
   ]
  },
  {
   "cell_type": "code",
   "execution_count": null,
   "id": "c97efc5d",
   "metadata": {},
   "outputs": [],
   "source": [
    "if month:\n",
    "    self.month=month\n",
    "if year:\n",
    "    self.year = year\n",
    "\n",
    "print(f\"Predicting Brazil >> {self.month} / {self.year}...\")"
   ]
  },
  {
   "cell_type": "code",
   "execution_count": null,
   "id": "a7005182",
   "metadata": {},
   "outputs": [],
   "source": [
    "# get DATA\n",
    "fao = self.get_food_price_index\n",
    "eurusd = self.get_eurusd\n",
    "fertprod = self.get_total_fertilizer_production\n",
    "inflation = self.get_g20_cpi\n",
    "gdp = self.get_gdp\n",
    "brazil_cfr = self.get_BrazilCFR\n",
    "\n",
    "dm = self.monthly_dummy(month)\n",
    "const = self.const"
   ]
  },
  {
   "cell_type": "code",
   "execution_count": null,
   "id": "2beece45",
   "metadata": {},
   "outputs": [],
   "source": [
    "# LATEST ENTRY ONLY\n",
    "# FAO\n",
    "f = fao[(fao.index.month==self.month) & (fao.index.year==self.year)].iloc[-1]\n",
    "# EURUSD\n",
    "e = eurusd[(eurusd.index.month==self.month) & (eurusd.index.year==self.year)].iloc[-1]\n",
    "# FERTILIZER PRODUCTION\n",
    "fert = fertprod[(fertprod.index.month==self.month) & (fertprod.index.year==self.year)].iloc[-1]\n",
    "# INFLATION\n",
    "ig20 = inflation[(inflation.index.month==self.month) & (inflation.index.year==self.year)].iloc[-1]\n",
    "# GDP\n",
    "g = gdp[(gdp.index.month==self.month) & (gdp.index.year==self.year)].iloc[-1]\n",
    "# BRAZIL CFR\n",
    "b = brazil_cfr[(brazil_cfr.index.month==self.month) & (brazil_cfr.index.year==self.year)].iloc[-1]"
   ]
  },
  {
   "cell_type": "code",
   "execution_count": null,
   "id": "22f193d3",
   "metadata": {},
   "outputs": [],
   "source": [
    "gdp.dropna()"
   ]
  },
  {
   "cell_type": "code",
   "execution_count": null,
   "id": "aff48709",
   "metadata": {},
   "outputs": [],
   "source": []
  }
 ],
 "metadata": {
  "kernelspec": {
   "display_name": "Python 3 (ipykernel)",
   "language": "python",
   "name": "python3"
  },
  "language_info": {
   "codemirror_mode": {
    "name": "ipython",
    "version": 3
   },
   "file_extension": ".py",
   "mimetype": "text/x-python",
   "name": "python",
   "nbconvert_exporter": "python",
   "pygments_lexer": "ipython3",
   "version": "3.8.15"
  }
 },
 "nbformat": 4,
 "nbformat_minor": 5
}
