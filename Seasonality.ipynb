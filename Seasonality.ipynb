{
 "cells": [
  {
   "cell_type": "code",
   "execution_count": 4,
   "id": "10256548",
   "metadata": {},
   "outputs": [],
   "source": [
    "# GIVEN PARAMS\n",
    "\n",
    "averages = {\n",
    "    2022:140,\n",
    "    2023:135,\n",
    "    2024:160\n",
    "}"
   ]
  },
  {
   "cell_type": "code",
   "execution_count": 85,
   "id": "defedec8",
   "metadata": {},
   "outputs": [],
   "source": [
    "import matplotlib.pyplot as plt"
   ]
  },
  {
   "cell_type": "code",
   "execution_count": 86,
   "id": "989fbdd0",
   "metadata": {},
   "outputs": [],
   "source": [
    "plt.style.use('dark_background')"
   ]
  },
  {
   "cell_type": "code",
   "execution_count": 108,
   "id": "2b70d25a",
   "metadata": {},
   "outputs": [],
   "source": [
    "from statsmodels.tsa.seasonal import seasonal_decompose\n",
    "import matplotlib as plt\n",
    "import pandas as pd\n",
    "from datetime import datetime, timedelta\n",
    "from datapipeline import DataFeed\n",
    "from datapipelineAWS import DataFeed as DataF\n",
    "from dateutil.relativedelta import relativedelta\n",
    "from datetime import timedelta, datetime\n",
    "\n",
    "%matplotlib inline"
   ]
  },
  {
   "cell_type": "code",
   "execution_count": 109,
   "id": "2f8b569f",
   "metadata": {},
   "outputs": [],
   "source": [
    "current_month = datetime.now().month\n",
    "current_year = datetime.now().year"
   ]
  },
  {
   "cell_type": "code",
   "execution_count": 110,
   "id": "2eb26182",
   "metadata": {},
   "outputs": [],
   "source": [
    "self = DataFeed()"
   ]
  },
  {
   "cell_type": "code",
   "execution_count": 111,
   "id": "3c1b5049",
   "metadata": {},
   "outputs": [],
   "source": [
    "df = self.get_food_price_index\n",
    "ser = df['Food Price Index']"
   ]
  },
  {
   "cell_type": "code",
   "execution_count": 112,
   "id": "0ea6684d",
   "metadata": {},
   "outputs": [],
   "source": [
    "# cleanup for dummy forecasts added to the real data\n",
    "ser = ser[:-5]"
   ]
  },
  {
   "cell_type": "code",
   "execution_count": 114,
   "id": "efbebf4f",
   "metadata": {},
   "outputs": [],
   "source": [
    "seasonal = DataF().get_seasonality(ser,frequency_type='m')"
   ]
  },
  {
   "cell_type": "code",
   "execution_count": 115,
   "id": "4eb5fc5c",
   "metadata": {},
   "outputs": [
    {
     "data": {
      "text/plain": [
       "{1: 0.41134655049888985,\n",
       " 2: 0.8480161224970932,\n",
       " 3: 3.3452983943318477,\n",
       " 4: 2.0956002897486163,\n",
       " 5: 1.9889957092852701,\n",
       " 6: -0.10832352344323615,\n",
       " 7: -4.3017294260398655,\n",
       " 8: -0.9741571538000056,\n",
       " 9: -1.4775785707165492,\n",
       " 10: -0.9313321811428561,\n",
       " 11: -0.13003194835890602,\n",
       " 12: -0.7661042628602994}"
      ]
     },
     "execution_count": 115,
     "metadata": {},
     "output_type": "execute_result"
    }
   ],
   "source": [
    "seasonal"
   ]
  },
  {
   "cell_type": "code",
   "execution_count": 107,
   "id": "581b8288",
   "metadata": {},
   "outputs": [],
   "source": [
    "def yearly_average_interpolator(ser, seasonal:dict,averages):\n",
    "    \"\"\"\n",
    "    ser: timeseries data (1D timeseries)\n",
    "    \n",
    "    seasonal dict : \n",
    "    {1: 0.41134655049888985,\n",
    "     2: 0.8480161224970932,\n",
    "     3: 3.3452983943318477,\n",
    "     4: 2.0956002897486163,\n",
    "     5: 1.9889957092852701,\n",
    "     6: -0.10832352344323615,\n",
    "     7: -4.3017294260398655,\n",
    "     8: -0.9741571538000056,\n",
    "     9: -1.4775785707165492,\n",
    "     10: -0.9313321811428561,\n",
    "     11: -0.13003194835890602,\n",
    "     12: -0.7661042628602994}\n",
    "     \n",
    "    averages = {\n",
    "        2022:140,\n",
    "        2023:135,\n",
    "        2024:160\n",
    "    }\n",
    "    \"\"\"\n",
    "    \n",
    "    years = list(averages.keys())\n",
    "    years.sort()\n",
    "\n",
    "    for year in years:\n",
    "        # DEPARTURE POINT\n",
    "        last = ser.index[-1]\n",
    "        last_month = last.month if last.month <12 else 0\n",
    "        last_price = ser[-1]\n",
    "        # year = last.year\n",
    "        interpolate = []\n",
    "        prices = [] # DATE , PRICE\n",
    "\n",
    "        for i in range(last_month+1,13):\n",
    "            price = last_price+seasonal[i]\n",
    "            prices.append(price)\n",
    "            interpolate.append([datetime(year,i,1),price])\n",
    "            last_price = price\n",
    "\n",
    "\n",
    "        if max(ser.index).year>=year:\n",
    "            A = sum(ser.loc[f'{year}'])\n",
    "        else:\n",
    "            A = 0\n",
    "\n",
    "        c = (12*averages[year] - A)/(sum(prices))\n",
    "\n",
    "        new_prices = [i*c for i in prices]\n",
    "\n",
    "        # SANITY CHECK \n",
    "        # (sum(new_prices)+sum(ser.loc[f'{year}']))/12\n",
    "\n",
    "        interpolate = [[interpolate[i][0],new_prices[i]] for i in range(len(interpolate))]\n",
    "\n",
    "        # interpolate\n",
    "\n",
    "        ser = ser.append(pd.DataFrame(interpolate,columns =['Date','Prices']).set_index(\"Date\")['Prices'])\n",
    "\n",
    "    return ser"
   ]
  },
  {
   "cell_type": "code",
   "execution_count": 118,
   "id": "d52c9b6e",
   "metadata": {},
   "outputs": [
    {
     "data": {
      "text/plain": [
       "<AxesSubplot:xlabel='Date'>"
      ]
     },
     "execution_count": 118,
     "metadata": {},
     "output_type": "execute_result"
    },
    {
     "data": {
      "image/png": "[encoded data removed]",
      "text/plain": [
       "<Figure size 432x288 with 1 Axes>"
      ]
     },
     "metadata": {
      "needs_background": "dark"
     },
     "output_type": "display_data"
    }
   ],
   "source": [
    "yearly_average_interpolator(ser,seasonal,averages).plot()"
   ]
  },
  {
   "cell_type": "code",
   "execution_count": null,
   "id": "42f5e7df",
   "metadata": {},
   "outputs": [],
   "source": []
  }
 ],
 "metadata": {
  "kernelspec": {
   "display_name": "Python 3 (ipykernel)",
   "language": "python",
   "name": "python3"
  },
  "language_info": {
   "codemirror_mode": {
    "name": "ipython",
    "version": 3
   },
   "file_extension": ".py",
   "mimetype": "text/x-python",
   "name": "python",
   "nbconvert_exporter": "python",
   "pygments_lexer": "ipython3",
   "version": "3.10.5"
  }
 },
 "nbformat": 4,
 "nbformat_minor": 5
}
