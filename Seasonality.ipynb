{
 "cells": [
  {
   "cell_type": "code",
   "execution_count": 79,
   "id": "10256548",
   "metadata": {},
   "outputs": [],
   "source": [
    "# GIVEN PARAMS\n",
    "\n",
    "averages = {\n",
    "    2022:140,\n",
    "    2023:135\n",
    "}"
   ]
  },
  {
   "cell_type": "code",
   "execution_count": 2,
   "id": "defedec8",
   "metadata": {},
   "outputs": [],
   "source": [
    "import matplotlib.pyplot as plt"
   ]
  },
  {
   "cell_type": "code",
   "execution_count": 3,
   "id": "989fbdd0",
   "metadata": {},
   "outputs": [],
   "source": [
    "plt.style.use('dark_background')"
   ]
  },
  {
   "cell_type": "code",
   "execution_count": 40,
   "id": "2b70d25a",
   "metadata": {},
   "outputs": [],
   "source": [
    "from statsmodels.tsa.seasonal import seasonal_decompose\n",
    "import matplotlib as plt\n",
    "import pandas as pd\n",
    "from datetime import datetime, timedelta\n",
    "from datapipeline import DataFeed\n",
    "from dateutil.relativedelta import relativedelta\n",
    "from datetime import timedelta, datetime\n",
    "\n",
    "%matplotlib inline"
   ]
  },
  {
   "cell_type": "code",
   "execution_count": null,
   "id": "2f8b569f",
   "metadata": {},
   "outputs": [],
   "source": [
    "current_month = datetime.now().month\n",
    "current_year = datetime.now().year"
   ]
  },
  {
   "cell_type": "code",
   "execution_count": 3,
   "id": "2eb26182",
   "metadata": {},
   "outputs": [],
   "source": [
    "self = DataFeed()"
   ]
  },
  {
   "cell_type": "code",
   "execution_count": 27,
   "id": "3c1b5049",
   "metadata": {},
   "outputs": [],
   "source": [
    "df = self.get_food_price_index\n",
    "ser = df['Food Price Index']"
   ]
  },
  {
   "cell_type": "code",
   "execution_count": 28,
   "id": "0ea6684d",
   "metadata": {},
   "outputs": [],
   "source": [
    "# cleanup for dummy forecasts added to the real data\n",
    "ser = ser[:-5]"
   ]
  },
  {
   "cell_type": "code",
   "execution_count": 53,
   "id": "382a8545",
   "metadata": {},
   "outputs": [],
   "source": [
    "def get_seasonality_monthly(ser, periods_back = 60):\n",
    "    \n",
    "    if len(ser)>periods_back:\n",
    "        ser = ser[-periods_back:]\n",
    "    \n",
    "    model = seasonal_decompose(x=ser,extrapolate_trend='freq',period=12)\n",
    "    seasonal = model.seasonal\n",
    "    seasonal = seasonal.loc[ser.loc[f'{self.year-1}'].index]\n",
    "    return {i.month:seasonal.loc[i] for i in seasonal.index}"
   ]
  },
  {
   "cell_type": "code",
   "execution_count": 56,
   "id": "23a7449c",
   "metadata": {},
   "outputs": [],
   "source": [
    "seasonal = get_seasonality_monthly(ser)"
   ]
  },
  {
   "cell_type": "code",
   "execution_count": 57,
   "id": "413264d1",
   "metadata": {},
   "outputs": [
    {
     "data": {
      "text/plain": [
       "{1: 0.41134655049888985,\n",
       " 2: 0.8480161224970932,\n",
       " 3: 3.3452983943318477,\n",
       " 4: 2.0956002897486163,\n",
       " 5: 1.9889957092852701,\n",
       " 6: -0.10832352344323615,\n",
       " 7: -4.3017294260398655,\n",
       " 8: -0.9741571538000056,\n",
       " 9: -1.4775785707165492,\n",
       " 10: -0.9313321811428561,\n",
       " 11: -0.13003194835890602,\n",
       " 12: -0.7661042628602994}"
      ]
     },
     "execution_count": 57,
     "metadata": {},
     "output_type": "execute_result"
    }
   ],
   "source": [
    "seasonal"
   ]
  },
  {
   "cell_type": "code",
   "execution_count": 8,
   "id": "91bae78b",
   "metadata": {},
   "outputs": [],
   "source": [
    "# READ THE DATA << CLEANUP >>"
   ]
  },
  {
   "cell_type": "code",
   "execution_count": 35,
   "id": "039033ee",
   "metadata": {},
   "outputs": [],
   "source": []
  },
  {
   "cell_type": "code",
   "execution_count": 46,
   "id": "0fb5189b",
   "metadata": {},
   "outputs": [],
   "source": [
    "last = ser.index[-1]"
   ]
  },
  {
   "cell_type": "code",
   "execution_count": 49,
   "id": "ab90c28c",
   "metadata": {},
   "outputs": [],
   "source": [
    "last_price = ser[-1]"
   ]
  },
  {
   "cell_type": "code",
   "execution_count": 50,
   "id": "7ef7c221",
   "metadata": {},
   "outputs": [
    {
     "data": {
      "text/plain": [
       "140.93553653255782"
      ]
     },
     "execution_count": 50,
     "metadata": {},
     "output_type": "execute_result"
    }
   ],
   "source": [
    "last_price"
   ]
  },
  {
   "cell_type": "code",
   "execution_count": 47,
   "id": "d2170198",
   "metadata": {},
   "outputs": [
    {
     "data": {
      "text/plain": [
       "7"
      ]
     },
     "execution_count": 47,
     "metadata": {},
     "output_type": "execute_result"
    }
   ],
   "source": [
    "last.month"
   ]
  },
  {
   "cell_type": "code",
   "execution_count": 48,
   "id": "80459397",
   "metadata": {},
   "outputs": [
    {
     "data": {
      "text/plain": [
       "2022"
      ]
     },
     "execution_count": 48,
     "metadata": {},
     "output_type": "execute_result"
    }
   ],
   "source": [
    "last.year"
   ]
  },
  {
   "cell_type": "code",
   "execution_count": 74,
   "id": "581b8288",
   "metadata": {},
   "outputs": [
    {
     "data": {
      "text/plain": [
       "1047.8896246660051"
      ]
     },
     "execution_count": 74,
     "metadata": {},
     "output_type": "execute_result"
    }
   ],
   "source": []
  },
  {
   "cell_type": "code",
   "execution_count": 107,
   "id": "864f1ebb",
   "metadata": {},
   "outputs": [],
   "source": [
    "year = last.year\n",
    "interpolate = []\n",
    "prices = [] # DATE , PRICE\n",
    "for i in range(last.month+1,13):\n",
    "    price = last_price+seasonal[i]\n",
    "    prices.append(price)\n",
    "    interpolate.append([datetime(year,i,1),price])\n",
    "    last_price = price\n",
    "    \n"
   ]
  },
  {
   "cell_type": "code",
   "execution_count": 108,
   "id": "fe75cc66",
   "metadata": {},
   "outputs": [],
   "source": [
    "A = sum(ser.loc[f'{year}'])/len(ser.loc[f'{year}'])\n",
    "A = sum(ser.loc[f'{year}'])"
   ]
  },
  {
   "cell_type": "code",
   "execution_count": 109,
   "id": "30ba0252",
   "metadata": {},
   "outputs": [],
   "source": [
    "c = (12*averages[year] - A)/(sum(prices))"
   ]
  },
  {
   "cell_type": "code",
   "execution_count": 110,
   "id": "a7fe633c",
   "metadata": {},
   "outputs": [],
   "source": [
    "new_prices = [i*c for i in prices]"
   ]
  },
  {
   "cell_type": "code",
   "execution_count": 111,
   "id": "55c8ad02",
   "metadata": {},
   "outputs": [
    {
     "data": {
      "text/plain": [
       "140.0"
      ]
     },
     "execution_count": 111,
     "metadata": {},
     "output_type": "execute_result"
    }
   ],
   "source": [
    "(sum(new_prices)+sum(ser.loc[f'{year}']))/12"
   ]
  },
  {
   "cell_type": "code",
   "execution_count": 115,
   "id": "6827a8c3",
   "metadata": {},
   "outputs": [],
   "source": [
    "interpolate = [[interpolate[i][0],new_prices[i]] for i in range(len(interpolate))]"
   ]
  },
  {
   "cell_type": "code",
   "execution_count": 120,
   "id": "cd38153f",
   "metadata": {},
   "outputs": [
    {
     "data": {
      "text/plain": [
       "[[datetime.datetime(2022, 8, 1, 0, 0), 128.32254940079287],\n",
       " [datetime.datetime(2022, 9, 1, 0, 0), 126.87960905110243],\n",
       " [datetime.datetime(2022, 10, 1, 0, 0), 125.97010967843318],\n",
       " [datetime.datetime(2022, 11, 1, 0, 0), 125.84312601153758],\n",
       " [datetime.datetime(2022, 12, 1, 0, 0), 125.09498119212884]]"
      ]
     },
     "execution_count": 120,
     "metadata": {},
     "output_type": "execute_result"
    }
   ],
   "source": [
    "interpolate"
   ]
  },
  {
   "cell_type": "code",
   "execution_count": 128,
   "id": "42e60340",
   "metadata": {},
   "outputs": [],
   "source": [
    "ser = ser.append(pd.DataFrame(interpolate,columns =['Date','Prices']).set_index(\"Date\")['Prices'])"
   ]
  },
  {
   "cell_type": "code",
   "execution_count": 129,
   "id": "fe8b1ca2",
   "metadata": {},
   "outputs": [
    {
     "data": {
      "text/plain": [
       "Date\n",
       "1990-01-01     64.145081\n",
       "1990-02-01     64.453560\n",
       "1990-03-01     63.787064\n",
       "1990-04-01     65.766754\n",
       "1990-05-01     64.378874\n",
       "                 ...    \n",
       "2022-08-01    128.322549\n",
       "2022-09-01    126.879609\n",
       "2022-10-01    125.970110\n",
       "2022-11-01    125.843126\n",
       "2022-12-01    125.094981\n",
       "Length: 396, dtype: float64"
      ]
     },
     "execution_count": 129,
     "metadata": {},
     "output_type": "execute_result"
    }
   ],
   "source": [
    "ser"
   ]
  },
  {
   "cell_type": "code",
   "execution_count": 99,
   "id": "edb3c1b6",
   "metadata": {},
   "outputs": [
    {
     "data": {
      "text/plain": [
       "140"
      ]
     },
     "execution_count": 99,
     "metadata": {},
     "output_type": "execute_result"
    }
   ],
   "source": [
    "averages[year]"
   ]
  },
  {
   "cell_type": "code",
   "execution_count": 45,
   "id": "64be5010",
   "metadata": {},
   "outputs": [
    {
     "data": {
      "text/plain": [
       "Timestamp('2022-08-01 00:00:00')"
      ]
     },
     "execution_count": 45,
     "metadata": {},
     "output_type": "execute_result"
    }
   ],
   "source": [
    "ser.index[-1]+relativedelta(months=+1)"
   ]
  },
  {
   "cell_type": "code",
   "execution_count": 43,
   "id": "f6c2a44a",
   "metadata": {},
   "outputs": [
    {
     "data": {
      "text/plain": [
       "Timestamp('2021-12-01 00:00:00')"
      ]
     },
     "execution_count": 43,
     "metadata": {},
     "output_type": "execute_result"
    }
   ],
   "source": [
    "seasonal.index[-1]"
   ]
  },
  {
   "cell_type": "code",
   "execution_count": null,
   "id": "d52c9b6e",
   "metadata": {},
   "outputs": [],
   "source": []
  },
  {
   "cell_type": "code",
   "execution_count": 11,
   "id": "1994419d",
   "metadata": {},
   "outputs": [],
   "source": [
    "_df = _df.iloc[-months_back:-3]"
   ]
  },
  {
   "cell_type": "code",
   "execution_count": 12,
   "id": "7866b592",
   "metadata": {},
   "outputs": [],
   "source": [
    "ser = _df['Food Price Index']"
   ]
  },
  {
   "cell_type": "code",
   "execution_count": 13,
   "id": "b48acda3",
   "metadata": {},
   "outputs": [],
   "source": []
  },
  {
   "cell_type": "code",
   "execution_count": 23,
   "id": "32369612",
   "metadata": {},
   "outputs": [
    {
     "data": {
      "image/png": "[encoded data removed]",
      "text/plain": [
       "<Figure size 432x288 with 4 Axes>"
      ]
     },
     "metadata": {},
     "output_type": "display_data"
    }
   ],
   "source": [
    "model.plot();"
   ]
  },
  {
   "cell_type": "code",
   "execution_count": 24,
   "id": "6f699017",
   "metadata": {},
   "outputs": [],
   "source": []
  },
  {
   "cell_type": "code",
   "execution_count": 18,
   "id": "faaf0cf0",
   "metadata": {},
   "outputs": [],
   "source": [
    "idx = seasonal.index\n",
    "vals = seasonal.values"
   ]
  },
  {
   "cell_type": "code",
   "execution_count": 19,
   "id": "367b7930",
   "metadata": {},
   "outputs": [],
   "source": [
    "seasonal = pd.DataFrame([[idx[i],vals[i]]for i in range(len(idx))],columns=['Date','Seasonality'])"
   ]
  },
  {
   "cell_type": "code",
   "execution_count": 20,
   "id": "47fdf571",
   "metadata": {},
   "outputs": [],
   "source": [
    "seasonal['Month'] = seasonal.Date.apply(lambda x: x.month)"
   ]
  },
  {
   "cell_type": "code",
   "execution_count": 22,
   "id": "f4fd219a",
   "metadata": {},
   "outputs": [],
   "source": [
    "seasonal['SeasonalAvg'] = seasonal.Date.apply(lambda x: averages[x.year] if x.year in list(averages.keys()) else 0)"
   ]
  },
  {
   "cell_type": "code",
   "execution_count": 23,
   "id": "cef04a02",
   "metadata": {},
   "outputs": [
    {
     "data": {
      "text/html": [
       "<div>\n",
       "<style scoped>\n",
       "    .dataframe tbody tr th:only-of-type {\n",
       "        vertical-align: middle;\n",
       "    }\n",
       "\n",
       "    .dataframe tbody tr th {\n",
       "        vertical-align: top;\n",
       "    }\n",
       "\n",
       "    .dataframe thead th {\n",
       "        text-align: right;\n",
       "    }\n",
       "</style>\n",
       "<table border=\"1\" class=\"dataframe\">\n",
       "  <thead>\n",
       "    <tr style=\"text-align: right;\">\n",
       "      <th></th>\n",
       "      <th>Date</th>\n",
       "      <th>Seasonality</th>\n",
       "      <th>Month</th>\n",
       "      <th>SeasonalAvg</th>\n",
       "    </tr>\n",
       "  </thead>\n",
       "  <tbody>\n",
       "    <tr>\n",
       "      <th>0</th>\n",
       "      <td>2017-12-31</td>\n",
       "      <td>-0.201825</td>\n",
       "      <td>12</td>\n",
       "      <td>0</td>\n",
       "    </tr>\n",
       "    <tr>\n",
       "      <th>1</th>\n",
       "      <td>2018-01-31</td>\n",
       "      <td>0.941903</td>\n",
       "      <td>1</td>\n",
       "      <td>0</td>\n",
       "    </tr>\n",
       "    <tr>\n",
       "      <th>2</th>\n",
       "      <td>2018-02-28</td>\n",
       "      <td>1.690781</td>\n",
       "      <td>2</td>\n",
       "      <td>0</td>\n",
       "    </tr>\n",
       "    <tr>\n",
       "      <th>3</th>\n",
       "      <td>2018-03-31</td>\n",
       "      <td>3.859341</td>\n",
       "      <td>3</td>\n",
       "      <td>0</td>\n",
       "    </tr>\n",
       "    <tr>\n",
       "      <th>4</th>\n",
       "      <td>2018-04-30</td>\n",
       "      <td>2.561307</td>\n",
       "      <td>4</td>\n",
       "      <td>0</td>\n",
       "    </tr>\n",
       "    <tr>\n",
       "      <th>5</th>\n",
       "      <td>2018-05-31</td>\n",
       "      <td>2.397274</td>\n",
       "      <td>5</td>\n",
       "      <td>0</td>\n",
       "    </tr>\n",
       "    <tr>\n",
       "      <th>6</th>\n",
       "      <td>2018-06-30</td>\n",
       "      <td>0.178308</td>\n",
       "      <td>6</td>\n",
       "      <td>0</td>\n",
       "    </tr>\n",
       "    <tr>\n",
       "      <th>7</th>\n",
       "      <td>2018-07-31</td>\n",
       "      <td>-4.012134</td>\n",
       "      <td>7</td>\n",
       "      <td>0</td>\n",
       "    </tr>\n",
       "    <tr>\n",
       "      <th>8</th>\n",
       "      <td>2018-08-31</td>\n",
       "      <td>-4.766804</td>\n",
       "      <td>8</td>\n",
       "      <td>0</td>\n",
       "    </tr>\n",
       "    <tr>\n",
       "      <th>9</th>\n",
       "      <td>2018-09-30</td>\n",
       "      <td>-1.737232</td>\n",
       "      <td>9</td>\n",
       "      <td>0</td>\n",
       "    </tr>\n",
       "    <tr>\n",
       "      <th>10</th>\n",
       "      <td>2018-10-31</td>\n",
       "      <td>-0.905900</td>\n",
       "      <td>10</td>\n",
       "      <td>0</td>\n",
       "    </tr>\n",
       "    <tr>\n",
       "      <th>11</th>\n",
       "      <td>2018-11-30</td>\n",
       "      <td>-0.005020</td>\n",
       "      <td>11</td>\n",
       "      <td>0</td>\n",
       "    </tr>\n",
       "    <tr>\n",
       "      <th>12</th>\n",
       "      <td>2018-12-31</td>\n",
       "      <td>-0.201825</td>\n",
       "      <td>12</td>\n",
       "      <td>0</td>\n",
       "    </tr>\n",
       "    <tr>\n",
       "      <th>13</th>\n",
       "      <td>2019-01-31</td>\n",
       "      <td>0.941903</td>\n",
       "      <td>1</td>\n",
       "      <td>0</td>\n",
       "    </tr>\n",
       "    <tr>\n",
       "      <th>14</th>\n",
       "      <td>2019-02-28</td>\n",
       "      <td>1.690781</td>\n",
       "      <td>2</td>\n",
       "      <td>0</td>\n",
       "    </tr>\n",
       "    <tr>\n",
       "      <th>15</th>\n",
       "      <td>2019-03-31</td>\n",
       "      <td>3.859341</td>\n",
       "      <td>3</td>\n",
       "      <td>0</td>\n",
       "    </tr>\n",
       "    <tr>\n",
       "      <th>16</th>\n",
       "      <td>2019-04-30</td>\n",
       "      <td>2.561307</td>\n",
       "      <td>4</td>\n",
       "      <td>0</td>\n",
       "    </tr>\n",
       "    <tr>\n",
       "      <th>17</th>\n",
       "      <td>2019-05-31</td>\n",
       "      <td>2.397274</td>\n",
       "      <td>5</td>\n",
       "      <td>0</td>\n",
       "    </tr>\n",
       "    <tr>\n",
       "      <th>18</th>\n",
       "      <td>2019-06-30</td>\n",
       "      <td>0.178308</td>\n",
       "      <td>6</td>\n",
       "      <td>0</td>\n",
       "    </tr>\n",
       "    <tr>\n",
       "      <th>19</th>\n",
       "      <td>2019-07-31</td>\n",
       "      <td>-4.012134</td>\n",
       "      <td>7</td>\n",
       "      <td>0</td>\n",
       "    </tr>\n",
       "    <tr>\n",
       "      <th>20</th>\n",
       "      <td>2019-08-31</td>\n",
       "      <td>-4.766804</td>\n",
       "      <td>8</td>\n",
       "      <td>0</td>\n",
       "    </tr>\n",
       "    <tr>\n",
       "      <th>21</th>\n",
       "      <td>2019-09-30</td>\n",
       "      <td>-1.737232</td>\n",
       "      <td>9</td>\n",
       "      <td>0</td>\n",
       "    </tr>\n",
       "    <tr>\n",
       "      <th>22</th>\n",
       "      <td>2019-10-31</td>\n",
       "      <td>-0.905900</td>\n",
       "      <td>10</td>\n",
       "      <td>0</td>\n",
       "    </tr>\n",
       "    <tr>\n",
       "      <th>23</th>\n",
       "      <td>2019-11-30</td>\n",
       "      <td>-0.005020</td>\n",
       "      <td>11</td>\n",
       "      <td>0</td>\n",
       "    </tr>\n",
       "    <tr>\n",
       "      <th>24</th>\n",
       "      <td>2019-12-31</td>\n",
       "      <td>-0.201825</td>\n",
       "      <td>12</td>\n",
       "      <td>0</td>\n",
       "    </tr>\n",
       "    <tr>\n",
       "      <th>25</th>\n",
       "      <td>2020-01-31</td>\n",
       "      <td>0.941903</td>\n",
       "      <td>1</td>\n",
       "      <td>0</td>\n",
       "    </tr>\n",
       "    <tr>\n",
       "      <th>26</th>\n",
       "      <td>2020-02-29</td>\n",
       "      <td>1.690781</td>\n",
       "      <td>2</td>\n",
       "      <td>0</td>\n",
       "    </tr>\n",
       "    <tr>\n",
       "      <th>27</th>\n",
       "      <td>2020-03-31</td>\n",
       "      <td>3.859341</td>\n",
       "      <td>3</td>\n",
       "      <td>0</td>\n",
       "    </tr>\n",
       "    <tr>\n",
       "      <th>28</th>\n",
       "      <td>2020-04-30</td>\n",
       "      <td>2.561307</td>\n",
       "      <td>4</td>\n",
       "      <td>0</td>\n",
       "    </tr>\n",
       "    <tr>\n",
       "      <th>29</th>\n",
       "      <td>2020-05-31</td>\n",
       "      <td>2.397274</td>\n",
       "      <td>5</td>\n",
       "      <td>0</td>\n",
       "    </tr>\n",
       "    <tr>\n",
       "      <th>30</th>\n",
       "      <td>2020-06-30</td>\n",
       "      <td>0.178308</td>\n",
       "      <td>6</td>\n",
       "      <td>0</td>\n",
       "    </tr>\n",
       "    <tr>\n",
       "      <th>31</th>\n",
       "      <td>2020-07-31</td>\n",
       "      <td>-4.012134</td>\n",
       "      <td>7</td>\n",
       "      <td>0</td>\n",
       "    </tr>\n",
       "    <tr>\n",
       "      <th>32</th>\n",
       "      <td>2020-08-31</td>\n",
       "      <td>-4.766804</td>\n",
       "      <td>8</td>\n",
       "      <td>0</td>\n",
       "    </tr>\n",
       "    <tr>\n",
       "      <th>33</th>\n",
       "      <td>2020-09-30</td>\n",
       "      <td>-1.737232</td>\n",
       "      <td>9</td>\n",
       "      <td>0</td>\n",
       "    </tr>\n",
       "    <tr>\n",
       "      <th>34</th>\n",
       "      <td>2020-10-31</td>\n",
       "      <td>-0.905900</td>\n",
       "      <td>10</td>\n",
       "      <td>0</td>\n",
       "    </tr>\n",
       "    <tr>\n",
       "      <th>35</th>\n",
       "      <td>2020-11-30</td>\n",
       "      <td>-0.005020</td>\n",
       "      <td>11</td>\n",
       "      <td>0</td>\n",
       "    </tr>\n",
       "    <tr>\n",
       "      <th>36</th>\n",
       "      <td>2020-12-31</td>\n",
       "      <td>-0.201825</td>\n",
       "      <td>12</td>\n",
       "      <td>0</td>\n",
       "    </tr>\n",
       "    <tr>\n",
       "      <th>37</th>\n",
       "      <td>2021-01-31</td>\n",
       "      <td>0.941903</td>\n",
       "      <td>1</td>\n",
       "      <td>0</td>\n",
       "    </tr>\n",
       "    <tr>\n",
       "      <th>38</th>\n",
       "      <td>2021-02-28</td>\n",
       "      <td>1.690781</td>\n",
       "      <td>2</td>\n",
       "      <td>0</td>\n",
       "    </tr>\n",
       "    <tr>\n",
       "      <th>39</th>\n",
       "      <td>2021-03-31</td>\n",
       "      <td>3.859341</td>\n",
       "      <td>3</td>\n",
       "      <td>0</td>\n",
       "    </tr>\n",
       "    <tr>\n",
       "      <th>40</th>\n",
       "      <td>2021-04-30</td>\n",
       "      <td>2.561307</td>\n",
       "      <td>4</td>\n",
       "      <td>0</td>\n",
       "    </tr>\n",
       "    <tr>\n",
       "      <th>41</th>\n",
       "      <td>2021-05-31</td>\n",
       "      <td>2.397274</td>\n",
       "      <td>5</td>\n",
       "      <td>0</td>\n",
       "    </tr>\n",
       "    <tr>\n",
       "      <th>42</th>\n",
       "      <td>2021-06-30</td>\n",
       "      <td>0.178308</td>\n",
       "      <td>6</td>\n",
       "      <td>0</td>\n",
       "    </tr>\n",
       "    <tr>\n",
       "      <th>43</th>\n",
       "      <td>2021-07-31</td>\n",
       "      <td>-4.012134</td>\n",
       "      <td>7</td>\n",
       "      <td>0</td>\n",
       "    </tr>\n",
       "    <tr>\n",
       "      <th>44</th>\n",
       "      <td>2021-08-31</td>\n",
       "      <td>-4.766804</td>\n",
       "      <td>8</td>\n",
       "      <td>0</td>\n",
       "    </tr>\n",
       "    <tr>\n",
       "      <th>45</th>\n",
       "      <td>2021-09-30</td>\n",
       "      <td>-1.737232</td>\n",
       "      <td>9</td>\n",
       "      <td>0</td>\n",
       "    </tr>\n",
       "    <tr>\n",
       "      <th>46</th>\n",
       "      <td>2021-10-31</td>\n",
       "      <td>-0.905900</td>\n",
       "      <td>10</td>\n",
       "      <td>0</td>\n",
       "    </tr>\n",
       "    <tr>\n",
       "      <th>47</th>\n",
       "      <td>2021-11-30</td>\n",
       "      <td>-0.005020</td>\n",
       "      <td>11</td>\n",
       "      <td>0</td>\n",
       "    </tr>\n",
       "    <tr>\n",
       "      <th>48</th>\n",
       "      <td>2021-12-31</td>\n",
       "      <td>-0.201825</td>\n",
       "      <td>12</td>\n",
       "      <td>0</td>\n",
       "    </tr>\n",
       "    <tr>\n",
       "      <th>49</th>\n",
       "      <td>2022-01-31</td>\n",
       "      <td>0.941903</td>\n",
       "      <td>1</td>\n",
       "      <td>140</td>\n",
       "    </tr>\n",
       "    <tr>\n",
       "      <th>50</th>\n",
       "      <td>2022-02-28</td>\n",
       "      <td>1.690781</td>\n",
       "      <td>2</td>\n",
       "      <td>140</td>\n",
       "    </tr>\n",
       "    <tr>\n",
       "      <th>51</th>\n",
       "      <td>2022-03-31</td>\n",
       "      <td>3.859341</td>\n",
       "      <td>3</td>\n",
       "      <td>140</td>\n",
       "    </tr>\n",
       "    <tr>\n",
       "      <th>52</th>\n",
       "      <td>2022-04-30</td>\n",
       "      <td>2.561307</td>\n",
       "      <td>4</td>\n",
       "      <td>140</td>\n",
       "    </tr>\n",
       "    <tr>\n",
       "      <th>53</th>\n",
       "      <td>2022-05-31</td>\n",
       "      <td>2.397274</td>\n",
       "      <td>5</td>\n",
       "      <td>140</td>\n",
       "    </tr>\n",
       "    <tr>\n",
       "      <th>54</th>\n",
       "      <td>2022-06-30</td>\n",
       "      <td>0.178308</td>\n",
       "      <td>6</td>\n",
       "      <td>140</td>\n",
       "    </tr>\n",
       "    <tr>\n",
       "      <th>55</th>\n",
       "      <td>2022-07-31</td>\n",
       "      <td>-4.012134</td>\n",
       "      <td>7</td>\n",
       "      <td>140</td>\n",
       "    </tr>\n",
       "    <tr>\n",
       "      <th>56</th>\n",
       "      <td>2022-08-31</td>\n",
       "      <td>-4.766804</td>\n",
       "      <td>8</td>\n",
       "      <td>140</td>\n",
       "    </tr>\n",
       "  </tbody>\n",
       "</table>\n",
       "</div>"
      ],
      "text/plain": [
       "         Date  Seasonality  Month  SeasonalAvg\n",
       "0  2017-12-31    -0.201825     12            0\n",
       "1  2018-01-31     0.941903      1            0\n",
       "2  2018-02-28     1.690781      2            0\n",
       "3  2018-03-31     3.859341      3            0\n",
       "4  2018-04-30     2.561307      4            0\n",
       "5  2018-05-31     2.397274      5            0\n",
       "6  2018-06-30     0.178308      6            0\n",
       "7  2018-07-31    -4.012134      7            0\n",
       "8  2018-08-31    -4.766804      8            0\n",
       "9  2018-09-30    -1.737232      9            0\n",
       "10 2018-10-31    -0.905900     10            0\n",
       "11 2018-11-30    -0.005020     11            0\n",
       "12 2018-12-31    -0.201825     12            0\n",
       "13 2019-01-31     0.941903      1            0\n",
       "14 2019-02-28     1.690781      2            0\n",
       "15 2019-03-31     3.859341      3            0\n",
       "16 2019-04-30     2.561307      4            0\n",
       "17 2019-05-31     2.397274      5            0\n",
       "18 2019-06-30     0.178308      6            0\n",
       "19 2019-07-31    -4.012134      7            0\n",
       "20 2019-08-31    -4.766804      8            0\n",
       "21 2019-09-30    -1.737232      9            0\n",
       "22 2019-10-31    -0.905900     10            0\n",
       "23 2019-11-30    -0.005020     11            0\n",
       "24 2019-12-31    -0.201825     12            0\n",
       "25 2020-01-31     0.941903      1            0\n",
       "26 2020-02-29     1.690781      2            0\n",
       "27 2020-03-31     3.859341      3            0\n",
       "28 2020-04-30     2.561307      4            0\n",
       "29 2020-05-31     2.397274      5            0\n",
       "30 2020-06-30     0.178308      6            0\n",
       "31 2020-07-31    -4.012134      7            0\n",
       "32 2020-08-31    -4.766804      8            0\n",
       "33 2020-09-30    -1.737232      9            0\n",
       "34 2020-10-31    -0.905900     10            0\n",
       "35 2020-11-30    -0.005020     11            0\n",
       "36 2020-12-31    -0.201825     12            0\n",
       "37 2021-01-31     0.941903      1            0\n",
       "38 2021-02-28     1.690781      2            0\n",
       "39 2021-03-31     3.859341      3            0\n",
       "40 2021-04-30     2.561307      4            0\n",
       "41 2021-05-31     2.397274      5            0\n",
       "42 2021-06-30     0.178308      6            0\n",
       "43 2021-07-31    -4.012134      7            0\n",
       "44 2021-08-31    -4.766804      8            0\n",
       "45 2021-09-30    -1.737232      9            0\n",
       "46 2021-10-31    -0.905900     10            0\n",
       "47 2021-11-30    -0.005020     11            0\n",
       "48 2021-12-31    -0.201825     12            0\n",
       "49 2022-01-31     0.941903      1          140\n",
       "50 2022-02-28     1.690781      2          140\n",
       "51 2022-03-31     3.859341      3          140\n",
       "52 2022-04-30     2.561307      4          140\n",
       "53 2022-05-31     2.397274      5          140\n",
       "54 2022-06-30     0.178308      6          140\n",
       "55 2022-07-31    -4.012134      7          140\n",
       "56 2022-08-31    -4.766804      8          140"
      ]
     },
     "execution_count": 23,
     "metadata": {},
     "output_type": "execute_result"
    }
   ],
   "source": [
    "seasonal"
   ]
  },
  {
   "cell_type": "code",
   "execution_count": 36,
   "id": "b7f8460e",
   "metadata": {},
   "outputs": [],
   "source": [
    "prev_seasonal = seasonal.set_index(seasonal.Date)[f'{current_year-1}-01-01':f'{current_year-1}-12-31']"
   ]
  },
  {
   "cell_type": "code",
   "execution_count": 37,
   "id": "1b353396",
   "metadata": {},
   "outputs": [],
   "source": [
    "# remaining_months"
   ]
  },
  {
   "cell_type": "code",
   "execution_count": 47,
   "id": "aa3ba469",
   "metadata": {},
   "outputs": [],
   "source": [
    "last_month = _df.iloc[-1].name.month\n",
    "last_year = _df.iloc[-1].name.year"
   ]
  },
  {
   "cell_type": "code",
   "execution_count": 46,
   "id": "90c5bcdf",
   "metadata": {},
   "outputs": [],
   "source": [
    "i = 9"
   ]
  },
  {
   "cell_type": "code",
   "execution_count": 59,
   "id": "c01b8bc0",
   "metadata": {
    "scrolled": true
   },
   "outputs": [
    {
     "data": {
      "text/plain": [
       "0     False\n",
       "1     False\n",
       "2     False\n",
       "3     False\n",
       "4     False\n",
       "5     False\n",
       "6     False\n",
       "7     False\n",
       "8     False\n",
       "9     False\n",
       "10    False\n",
       "11    False\n",
       "12    False\n",
       "13    False\n",
       "14    False\n",
       "15    False\n",
       "16    False\n",
       "17    False\n",
       "18    False\n",
       "19    False\n",
       "20    False\n",
       "21    False\n",
       "22    False\n",
       "23    False\n",
       "24    False\n",
       "25    False\n",
       "26    False\n",
       "27    False\n",
       "28    False\n",
       "29    False\n",
       "30    False\n",
       "31    False\n",
       "32    False\n",
       "33    False\n",
       "34    False\n",
       "35    False\n",
       "36    False\n",
       "37    False\n",
       "38    False\n",
       "39    False\n",
       "40    False\n",
       "41    False\n",
       "42    False\n",
       "43    False\n",
       "44    False\n",
       "45    False\n",
       "46    False\n",
       "47    False\n",
       "48    False\n",
       "49     True\n",
       "50     True\n",
       "51     True\n",
       "52     True\n",
       "53     True\n",
       "54     True\n",
       "55     True\n",
       "56     True\n",
       "Name: Date, dtype: bool"
      ]
     },
     "execution_count": 59,
     "metadata": {},
     "output_type": "execute_result"
    }
   ],
   "source": [
    "seasonal.Date.apply(lambda x: x.year)==last_year"
   ]
  },
  {
   "cell_type": "code",
   "execution_count": 60,
   "id": "bad69121",
   "metadata": {},
   "outputs": [
    {
     "ename": "SyntaxError",
     "evalue": "invalid syntax (726397690.py, line 1)",
     "output_type": "error",
     "traceback": [
      "\u001b[1;36m  Input \u001b[1;32mIn [60]\u001b[1;36m\u001b[0m\n\u001b[1;33m    (seasonal.Date.lambda(x:x.year)==last_year) & (seasonal.Date.lambda(x:x.month)==last_month)\u001b[0m\n\u001b[1;37m                   ^\u001b[0m\n\u001b[1;31mSyntaxError\u001b[0m\u001b[1;31m:\u001b[0m invalid syntax\n"
     ]
    }
   ],
   "source": [
    "(seasonal.Date.lambda(x:x.year)==last_year) & (seasonal.Date.lambda(x:x.month)==last_month)"
   ]
  },
  {
   "cell_type": "code",
   "execution_count": null,
   "id": "8e327909",
   "metadata": {},
   "outputs": [],
   "source": [
    "departure_point = _df.iloc[-1]['Food Price Index']\n",
    "remaining_points = []\n",
    "for i in range(last_month+1,13):\n",
    "    \n",
    "    curr_point = departure_point\n",
    "    remaining_points.append()"
   ]
  },
  {
   "cell_type": "code",
   "execution_count": 26,
   "id": "14ce2ae6",
   "metadata": {},
   "outputs": [],
   "source": [
    "year_seasonal = model.seasonal['2021-01-01':'2021-12-31']"
   ]
  },
  {
   "cell_type": "code",
   "execution_count": 27,
   "id": "4d9f428f",
   "metadata": {},
   "outputs": [
    {
     "data": {
      "text/plain": [
       "Date\n",
       "2021-01-31    0.941903\n",
       "2021-02-28    1.690781\n",
       "2021-03-31    3.859341\n",
       "2021-04-30    2.561307\n",
       "2021-05-31    2.397274\n",
       "2021-06-30    0.178308\n",
       "2021-07-31   -4.012134\n",
       "2021-08-31   -4.766804\n",
       "2021-09-30   -1.737232\n",
       "2021-10-31   -0.905900\n",
       "2021-11-30   -0.005020\n",
       "2021-12-31   -0.201825\n",
       "Freq: M, Name: seasonal, dtype: float64"
      ]
     },
     "execution_count": 27,
     "metadata": {},
     "output_type": "execute_result"
    }
   ],
   "source": [
    "year_seasonal"
   ]
  },
  {
   "cell_type": "code",
   "execution_count": 60,
   "id": "6b8de450",
   "metadata": {},
   "outputs": [],
   "source": [
    "starting = _df.loc['2021-12-01'].iloc[0]\n",
    "\n",
    "monthly_pricing = []\n",
    "previous_month = starting\n",
    "for i in year_seasonal:\n",
    "    current_month = previous_month+i\n",
    "    monthly_pricing.append(current_month)\n",
    "    previous_month = current_month"
   ]
  },
  {
   "cell_type": "code",
   "execution_count": 64,
   "id": "4c5637da",
   "metadata": {},
   "outputs": [
    {
     "data": {
      "text/html": [
       "<div>\n",
       "<style scoped>\n",
       "    .dataframe tbody tr th:only-of-type {\n",
       "        vertical-align: middle;\n",
       "    }\n",
       "\n",
       "    .dataframe tbody tr th {\n",
       "        vertical-align: top;\n",
       "    }\n",
       "\n",
       "    .dataframe thead th {\n",
       "        text-align: right;\n",
       "    }\n",
       "</style>\n",
       "<table border=\"1\" class=\"dataframe\">\n",
       "  <thead>\n",
       "    <tr style=\"text-align: right;\">\n",
       "      <th></th>\n",
       "      <th>Food Price Index</th>\n",
       "    </tr>\n",
       "    <tr>\n",
       "      <th>Date</th>\n",
       "      <th></th>\n",
       "    </tr>\n",
       "  </thead>\n",
       "  <tbody>\n",
       "    <tr>\n",
       "      <th>2018-01-01</th>\n",
       "      <td>96.802947</td>\n",
       "    </tr>\n",
       "    <tr>\n",
       "      <th>2018-02-01</th>\n",
       "      <td>97.875309</td>\n",
       "    </tr>\n",
       "    <tr>\n",
       "      <th>2018-03-02</th>\n",
       "      <td>99.042066</td>\n",
       "    </tr>\n",
       "    <tr>\n",
       "      <th>2018-04-02</th>\n",
       "      <td>98.557992</td>\n",
       "    </tr>\n",
       "    <tr>\n",
       "      <th>2018-05-03</th>\n",
       "      <td>98.672772</td>\n",
       "    </tr>\n",
       "    <tr>\n",
       "      <th>2018-06-01</th>\n",
       "      <td>96.950992</td>\n",
       "    </tr>\n",
       "    <tr>\n",
       "      <th>2018-07-02</th>\n",
       "      <td>95.135179</td>\n",
       "    </tr>\n",
       "    <tr>\n",
       "      <th>2018-08-01</th>\n",
       "      <td>95.969576</td>\n",
       "    </tr>\n",
       "    <tr>\n",
       "      <th>2018-09-01</th>\n",
       "      <td>94.239430</td>\n",
       "    </tr>\n",
       "    <tr>\n",
       "      <th>2018-10-01</th>\n",
       "      <td>93.308852</td>\n",
       "    </tr>\n",
       "    <tr>\n",
       "      <th>2018-11-01</th>\n",
       "      <td>92.195534</td>\n",
       "    </tr>\n",
       "    <tr>\n",
       "      <th>2018-12-01</th>\n",
       "      <td>92.249603</td>\n",
       "    </tr>\n",
       "    <tr>\n",
       "      <th>2019-01-01</th>\n",
       "      <td>93.315060</td>\n",
       "    </tr>\n",
       "    <tr>\n",
       "      <th>2019-02-01</th>\n",
       "      <td>94.009827</td>\n",
       "    </tr>\n",
       "    <tr>\n",
       "      <th>2019-03-01</th>\n",
       "      <td>93.158415</td>\n",
       "    </tr>\n",
       "    <tr>\n",
       "      <th>2019-04-01</th>\n",
       "      <td>93.611370</td>\n",
       "    </tr>\n",
       "    <tr>\n",
       "      <th>2019-05-01</th>\n",
       "      <td>94.267664</td>\n",
       "    </tr>\n",
       "    <tr>\n",
       "      <th>2019-06-02</th>\n",
       "      <td>95.404993</td>\n",
       "    </tr>\n",
       "    <tr>\n",
       "      <th>2019-07-01</th>\n",
       "      <td>95.147015</td>\n",
       "    </tr>\n",
       "    <tr>\n",
       "      <th>2019-08-01</th>\n",
       "      <td>94.084177</td>\n",
       "    </tr>\n",
       "    <tr>\n",
       "      <th>2019-09-01</th>\n",
       "      <td>93.368635</td>\n",
       "    </tr>\n",
       "    <tr>\n",
       "      <th>2019-10-01</th>\n",
       "      <td>95.247350</td>\n",
       "    </tr>\n",
       "    <tr>\n",
       "      <th>2019-11-02</th>\n",
       "      <td>98.626176</td>\n",
       "    </tr>\n",
       "    <tr>\n",
       "      <th>2019-12-01</th>\n",
       "      <td>101.006785</td>\n",
       "    </tr>\n",
       "    <tr>\n",
       "      <th>2020-01-01</th>\n",
       "      <td>102.515102</td>\n",
       "    </tr>\n",
       "    <tr>\n",
       "      <th>2020-02-01</th>\n",
       "      <td>99.418985</td>\n",
       "    </tr>\n",
       "    <tr>\n",
       "      <th>2020-03-01</th>\n",
       "      <td>95.177239</td>\n",
       "    </tr>\n",
       "    <tr>\n",
       "      <th>2020-04-01</th>\n",
       "      <td>92.526876</td>\n",
       "    </tr>\n",
       "    <tr>\n",
       "      <th>2020-05-01</th>\n",
       "      <td>91.135361</td>\n",
       "    </tr>\n",
       "    <tr>\n",
       "      <th>2020-06-01</th>\n",
       "      <td>93.255843</td>\n",
       "    </tr>\n",
       "    <tr>\n",
       "      <th>2020-07-01</th>\n",
       "      <td>94.041452</td>\n",
       "    </tr>\n",
       "    <tr>\n",
       "      <th>2020-08-01</th>\n",
       "      <td>95.915944</td>\n",
       "    </tr>\n",
       "    <tr>\n",
       "      <th>2020-09-01</th>\n",
       "      <td>98.011498</td>\n",
       "    </tr>\n",
       "    <tr>\n",
       "      <th>2020-10-01</th>\n",
       "      <td>101.376381</td>\n",
       "    </tr>\n",
       "    <tr>\n",
       "      <th>2020-11-01</th>\n",
       "      <td>105.586001</td>\n",
       "    </tr>\n",
       "    <tr>\n",
       "      <th>2020-12-01</th>\n",
       "      <td>108.596840</td>\n",
       "    </tr>\n",
       "    <tr>\n",
       "      <th>2021-01-01</th>\n",
       "      <td>113.525533</td>\n",
       "    </tr>\n",
       "    <tr>\n",
       "      <th>2021-02-01</th>\n",
       "      <td>116.570511</td>\n",
       "    </tr>\n",
       "    <tr>\n",
       "      <th>2021-03-01</th>\n",
       "      <td>119.229330</td>\n",
       "    </tr>\n",
       "    <tr>\n",
       "      <th>2021-04-01</th>\n",
       "      <td>122.066269</td>\n",
       "    </tr>\n",
       "    <tr>\n",
       "      <th>2021-05-01</th>\n",
       "      <td>128.125559</td>\n",
       "    </tr>\n",
       "    <tr>\n",
       "      <th>2021-06-01</th>\n",
       "      <td>125.277635</td>\n",
       "    </tr>\n",
       "    <tr>\n",
       "      <th>2021-07-01</th>\n",
       "      <td>124.564858</td>\n",
       "    </tr>\n",
       "    <tr>\n",
       "      <th>2021-08-01</th>\n",
       "      <td>127.958136</td>\n",
       "    </tr>\n",
       "    <tr>\n",
       "      <th>2021-09-01</th>\n",
       "      <td>129.189192</td>\n",
       "    </tr>\n",
       "    <tr>\n",
       "      <th>2021-10-01</th>\n",
       "      <td>133.224369</td>\n",
       "    </tr>\n",
       "    <tr>\n",
       "      <th>2021-11-01</th>\n",
       "      <td>135.314853</td>\n",
       "    </tr>\n",
       "    <tr>\n",
       "      <th>2021-12-01</th>\n",
       "      <td>133.691103</td>\n",
       "    </tr>\n",
       "    <tr>\n",
       "      <th>2022-01-01</th>\n",
       "      <td>135.594155</td>\n",
       "    </tr>\n",
       "    <tr>\n",
       "      <th>2022-02-01</th>\n",
       "      <td>141.069883</td>\n",
       "    </tr>\n",
       "    <tr>\n",
       "      <th>2022-03-01</th>\n",
       "      <td>159.713180</td>\n",
       "    </tr>\n",
       "    <tr>\n",
       "      <th>2022-04-01</th>\n",
       "      <td>158.435720</td>\n",
       "    </tr>\n",
       "    <tr>\n",
       "      <th>2022-05-01</th>\n",
       "      <td>157.885279</td>\n",
       "    </tr>\n",
       "    <tr>\n",
       "      <th>2022-06-01</th>\n",
       "      <td>154.255871</td>\n",
       "    </tr>\n",
       "    <tr>\n",
       "      <th>2022-07-01</th>\n",
       "      <td>140.935537</td>\n",
       "    </tr>\n",
       "    <tr>\n",
       "      <th>2022-08-01</th>\n",
       "      <td>138.000000</td>\n",
       "    </tr>\n",
       "  </tbody>\n",
       "</table>\n",
       "</div>"
      ],
      "text/plain": [
       "            Food Price Index\n",
       "Date                        \n",
       "2018-01-01         96.802947\n",
       "2018-02-01         97.875309\n",
       "2018-03-02         99.042066\n",
       "2018-04-02         98.557992\n",
       "2018-05-03         98.672772\n",
       "2018-06-01         96.950992\n",
       "2018-07-02         95.135179\n",
       "2018-08-01         95.969576\n",
       "2018-09-01         94.239430\n",
       "2018-10-01         93.308852\n",
       "2018-11-01         92.195534\n",
       "2018-12-01         92.249603\n",
       "2019-01-01         93.315060\n",
       "2019-02-01         94.009827\n",
       "2019-03-01         93.158415\n",
       "2019-04-01         93.611370\n",
       "2019-05-01         94.267664\n",
       "2019-06-02         95.404993\n",
       "2019-07-01         95.147015\n",
       "2019-08-01         94.084177\n",
       "2019-09-01         93.368635\n",
       "2019-10-01         95.247350\n",
       "2019-11-02         98.626176\n",
       "2019-12-01        101.006785\n",
       "2020-01-01        102.515102\n",
       "2020-02-01         99.418985\n",
       "2020-03-01         95.177239\n",
       "2020-04-01         92.526876\n",
       "2020-05-01         91.135361\n",
       "2020-06-01         93.255843\n",
       "2020-07-01         94.041452\n",
       "2020-08-01         95.915944\n",
       "2020-09-01         98.011498\n",
       "2020-10-01        101.376381\n",
       "2020-11-01        105.586001\n",
       "2020-12-01        108.596840\n",
       "2021-01-01        113.525533\n",
       "2021-02-01        116.570511\n",
       "2021-03-01        119.229330\n",
       "2021-04-01        122.066269\n",
       "2021-05-01        128.125559\n",
       "2021-06-01        125.277635\n",
       "2021-07-01        124.564858\n",
       "2021-08-01        127.958136\n",
       "2021-09-01        129.189192\n",
       "2021-10-01        133.224369\n",
       "2021-11-01        135.314853\n",
       "2021-12-01        133.691103\n",
       "2022-01-01        135.594155\n",
       "2022-02-01        141.069883\n",
       "2022-03-01        159.713180\n",
       "2022-04-01        158.435720\n",
       "2022-05-01        157.885279\n",
       "2022-06-01        154.255871\n",
       "2022-07-01        140.935537\n",
       "2022-08-01        138.000000"
      ]
     },
     "execution_count": 64,
     "metadata": {},
     "output_type": "execute_result"
    }
   ],
   "source": [
    "_df"
   ]
  },
  {
   "cell_type": "code",
   "execution_count": 63,
   "id": "66c1125d",
   "metadata": {},
   "outputs": [
    {
     "data": {
      "text/plain": [
       "138.44161656266917"
      ]
     },
     "execution_count": 63,
     "metadata": {},
     "output_type": "execute_result"
    }
   ],
   "source": [
    "sum(monthly_pricing)/len(monthly_pricing)"
   ]
  },
  {
   "cell_type": "code",
   "execution_count": 19,
   "id": "0b9d7b5d",
   "metadata": {},
   "outputs": [
    {
     "data": {
      "text/plain": [
       "1.773211362633734"
      ]
     },
     "execution_count": 19,
     "metadata": {},
     "output_type": "execute_result"
    }
   ],
   "source": [
    "year_seasonal.iloc[1]"
   ]
  },
  {
   "cell_type": "code",
   "execution_count": 20,
   "id": "7894799c",
   "metadata": {},
   "outputs": [
    {
     "data": {
      "text/plain": [
       "2.7755575615628914e-17"
      ]
     },
     "execution_count": 20,
     "metadata": {},
     "output_type": "execute_result"
    }
   ],
   "source": [
    "year_seasonal.mean()"
   ]
  },
  {
   "cell_type": "code",
   "execution_count": 13,
   "id": "6d5a3576",
   "metadata": {},
   "outputs": [],
   "source": [
    "seasonal = model.seasonal"
   ]
  },
  {
   "cell_type": "code",
   "execution_count": 21,
   "id": "c752850c",
   "metadata": {},
   "outputs": [],
   "source": [
    "year_value = 134"
   ]
  },
  {
   "cell_type": "code",
   "execution_count": 24,
   "id": "9d13e300",
   "metadata": {},
   "outputs": [
    {
     "data": {
      "text/plain": [
       "269.3247629500764"
      ]
     },
     "execution_count": 24,
     "metadata": {},
     "output_type": "execute_result"
    }
   ],
   "source": [
    "abs(year_value*year_seasonal).mean()"
   ]
  },
  {
   "cell_type": "code",
   "execution_count": 37,
   "id": "c242b027",
   "metadata": {},
   "outputs": [],
   "source": []
  },
  {
   "cell_type": "code",
   "execution_count": null,
   "id": "9a3c611d",
   "metadata": {},
   "outputs": [],
   "source": []
  },
  {
   "cell_type": "code",
   "execution_count": 1,
   "id": "33413b79",
   "metadata": {},
   "outputs": [
    {
     "ename": "NameError",
     "evalue": "name '_df' is not defined",
     "output_type": "error",
     "traceback": [
      "\u001b[1;31m---------------------------------------------------------------------------\u001b[0m",
      "\u001b[1;31mNameError\u001b[0m                                 Traceback (most recent call last)",
      "Input \u001b[1;32mIn [1]\u001b[0m, in \u001b[0;36m<cell line: 1>\u001b[1;34m()\u001b[0m\n\u001b[1;32m----> 1\u001b[0m \u001b[43m_df\u001b[49m\u001b[38;5;241m.\u001b[39miloc[\u001b[38;5;241m0\u001b[39m][\u001b[38;5;124m'\u001b[39m\u001b[38;5;124mFood Price Index\u001b[39m\u001b[38;5;124m'\u001b[39m]\n",
      "\u001b[1;31mNameError\u001b[0m: name '_df' is not defined"
     ]
    }
   ],
   "source": [
    "_df.iloc[0]['Food Price Index']"
   ]
  },
  {
   "cell_type": "code",
   "execution_count": null,
   "id": "4f2ab1b1",
   "metadata": {},
   "outputs": [],
   "source": [
    "seasonal_years = {i:[] for i in range(1,13)}\n",
    "for i in range(len(seasonal)):\n",
    "    x = _df.iloc[i] \n",
    "    seasonal_years[x.name.month].append(seasonal.iloc[i])"
   ]
  },
  {
   "cell_type": "code",
   "execution_count": null,
   "id": "b280a1f6",
   "metadata": {},
   "outputs": [],
   "source": [
    "seasonal_years"
   ]
  },
  {
   "cell_type": "code",
   "execution_count": 49,
   "id": "1b59e9d0",
   "metadata": {},
   "outputs": [
    {
     "data": {
      "text/plain": [
       "Timestamp('2018-01-01 00:00:00')"
      ]
     },
     "execution_count": 49,
     "metadata": {},
     "output_type": "execute_result"
    }
   ],
   "source": [
    "seasonal.index[0]"
   ]
  },
  {
   "cell_type": "code",
   "execution_count": null,
   "id": "42f5e7df",
   "metadata": {},
   "outputs": [],
   "source": []
  }
 ],
 "metadata": {
  "kernelspec": {
   "display_name": "Python 3 (ipykernel)",
   "language": "python",
   "name": "python3"
  },
  "language_info": {
   "codemirror_mode": {
    "name": "ipython",
    "version": 3
   },
   "file_extension": ".py",
   "mimetype": "text/x-python",
   "name": "python",
   "nbconvert_exporter": "python",
   "pygments_lexer": "ipython3",
   "version": "3.10.5"
  }
 },
 "nbformat": 4,
 "nbformat_minor": 5
}
